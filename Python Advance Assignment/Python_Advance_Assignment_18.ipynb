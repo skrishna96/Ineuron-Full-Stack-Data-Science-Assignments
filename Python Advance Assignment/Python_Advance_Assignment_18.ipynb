{
 "cells": [
  {
   "cell_type": "markdown",
   "id": "41952335",
   "metadata": {},
   "source": [
    "### Q1. Describe the differences between text and binary files in a single paragraph."
   ]
  },
  {
   "cell_type": "markdown",
   "id": "41fbd218",
   "metadata": {},
   "source": [
    "A text file stores data in the form of alphabets, digits and other special symbols by storing their ASCII values and are in a  human-readable format. for example, any file with a .txt, .c,etc extension. whereas binary file contains a sequence or a collection of bytes which are not in a human-readable format. text files follow some simple rules whereas binary files do not. both are a stream of bytes. in binary files, they have no concept of \"records\" neither repeating fix-length data records nor a stream of data that follows agreed-upon rules/restrictions for data ranges/ values which then permit us to implement variable-sided records. Binary files are chock full of bytes that have values ranging from 0...255."
   ]
  },
  {
   "cell_type": "markdown",
   "id": "211241c9",
   "metadata": {},
   "source": [
    "### Q2. What are some scenarios where using text files will be the better option? When would you like to use binary files instead of text files?"
   ]
  },
  {
   "cell_type": "markdown",
   "id": "52d39b13",
   "metadata": {},
   "source": [
    "Text files are less prone to get corrupted as any undesired change may just show up once the file is opened and then can easily be removed. Whereas Use binary files instead of text files for image data."
   ]
  },
  {
   "cell_type": "markdown",
   "id": "f1bf9c83",
   "metadata": {},
   "source": [
    "### Q3. What are some of the issues with using binary operations to read and write a Python integer directly to disc?"
   ]
  },
  {
   "cell_type": "markdown",
   "id": "4826b000",
   "metadata": {},
   "source": [
    "- not readable by humans\n",
    "- fixed datastructure"
   ]
  },
  {
   "cell_type": "markdown",
   "id": "9cd8695b",
   "metadata": {},
   "source": [
    "### Q4. Describe a benefit of using the with keyword instead of explicitly opening a file."
   ]
  },
  {
   "cell_type": "markdown",
   "id": "093a1227",
   "metadata": {},
   "source": [
    "- No need to explicitly close the opened file, “with statement” takes care of that. When with the block ends, it will automatically close the file. So, it reduces the number of lines of code and reduces the chances of bug.\n",
    "- We can open multiple files in a single “with statement”."
   ]
  },
  {
   "cell_type": "markdown",
   "id": "a3747206",
   "metadata": {},
   "source": [
    "### Q5. Does Python have the trailing newline while reading a line of text? Does Python append a newline when you write a line of text?"
   ]
  },
  {
   "cell_type": "markdown",
   "id": "9833eca2",
   "metadata": {},
   "source": [
    "Yes, Python have the trailing newline while reading a line of text. When we write a newline has to be provided in python excpicitly."
   ]
  },
  {
   "cell_type": "markdown",
   "id": "b3357637",
   "metadata": {},
   "source": [
    "### Q6. What file operations enable for random-access operation?"
   ]
  },
  {
   "cell_type": "markdown",
   "id": "ebbaa0ea",
   "metadata": {},
   "source": [
    "seek() and tell() file operations enable for random-access operation."
   ]
  },
  {
   "cell_type": "markdown",
   "id": "1b9959c7",
   "metadata": {},
   "source": [
    "### Q7. When do you think you&#39;ll use the struct package the most?"
   ]
  },
  {
   "cell_type": "markdown",
   "id": "4bc3f438",
   "metadata": {},
   "source": [
    "The struct package is mostly used while converting a common python types into C language types."
   ]
  },
  {
   "cell_type": "markdown",
   "id": "2b895ad4",
   "metadata": {},
   "source": [
    "### Q8. When is pickling the best option?"
   ]
  },
  {
   "cell_type": "markdown",
   "id": "c9ec095f",
   "metadata": {},
   "source": [
    "Pickling is best option for creating a new binary file using python."
   ]
  },
  {
   "cell_type": "markdown",
   "id": "9db143c5",
   "metadata": {},
   "source": [
    "### Q9. When will it be best to use the shelve package?"
   ]
  },
  {
   "cell_type": "markdown",
   "id": "37be69e9",
   "metadata": {},
   "source": [
    "Shelve package is used to pickle data but treats the entire file as dictionary."
   ]
  },
  {
   "cell_type": "markdown",
   "id": "73261abd",
   "metadata": {},
   "source": [
    "### Q10. What is a special restriction when using the shelve package, as opposed to using other data dictionaries?"
   ]
  },
  {
   "cell_type": "markdown",
   "id": "befcc197",
   "metadata": {},
   "source": [
    "Only string data type can be used as key in this special dictionary object, whereas any picklable Python object can be used as value."
   ]
  },
  {
   "cell_type": "code",
   "execution_count": null,
   "id": "891a1783",
   "metadata": {},
   "outputs": [],
   "source": []
  }
 ],
 "metadata": {
  "kernelspec": {
   "display_name": "Python 3 (ipykernel)",
   "language": "python",
   "name": "python3"
  },
  "language_info": {
   "codemirror_mode": {
    "name": "ipython",
    "version": 3
   },
   "file_extension": ".py",
   "mimetype": "text/x-python",
   "name": "python",
   "nbconvert_exporter": "python",
   "pygments_lexer": "ipython3",
   "version": "3.9.7"
  }
 },
 "nbformat": 4,
 "nbformat_minor": 5
}
