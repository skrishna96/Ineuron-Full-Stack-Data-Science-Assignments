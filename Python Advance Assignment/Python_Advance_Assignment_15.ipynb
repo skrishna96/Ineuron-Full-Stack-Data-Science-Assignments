{
 "cells": [
  {
   "cell_type": "markdown",
   "id": "fe04bbf4",
   "metadata": {},
   "source": [
    "### 1. What are the new features added in Python 3.8 version?"
   ]
  },
  {
   "cell_type": "markdown",
   "id": "ffa2ad0e",
   "metadata": {},
   "source": [
    "- __The walrus operator:__ Assignment expressions have come to Python with the \"walrus\" operator :=. This will enable you to assign values to a variable as part of an expression. The major benefit of this is it saves you some lines of code when you \n",
    "want to use, say, the value of an expression in a subsequent condition.<br>\n",
    "- __f-strings now support \"=\":__ The = specifier, used as f'{expr=}' expands to the text of the expression, an equal sign, then the repr of the evaluated expression.\n",
    "- reversed() now works with dict\n",
    "- __No parentheses for return and yield statements:__ ‘yield’ and ‘return’ statements do not require parentheses to return multiple values."
   ]
  },
  {
   "cell_type": "markdown",
   "id": "c13e65b0",
   "metadata": {},
   "source": [
    "### 2. What is monkey patching in Python?"
   ]
  },
  {
   "cell_type": "markdown",
   "id": "26c87734",
   "metadata": {},
   "source": [
    "Monkey-patching is a term that refers to modifying a class or module at a run time. In simple words, a class or module's work can be changed at the runtime."
   ]
  },
  {
   "cell_type": "code",
   "execution_count": 2,
   "id": "58f3ad1a",
   "metadata": {},
   "outputs": [
    {
     "name": "stdout",
     "output_type": "stream",
     "text": [
      "my function\n",
      "patching on monkey\n"
     ]
    }
   ],
   "source": [
    "class monkey:\n",
    "    def monkeyFunc(self):\n",
    "        print(\"my function\")\n",
    "        \n",
    "def patchFunc():\n",
    "    print(\"patching on monkey\")\n",
    "    \n",
    "\n",
    "#normal class method call\n",
    "objMonkey= monkey()\n",
    "objMonkey.monkeyFunc()\n",
    "\n",
    "#calling class method after monkey patch\n",
    "objMonkey.monkeyFunc=patchFunc\n",
    "objMonkey.monkeyFunc()"
   ]
  },
  {
   "cell_type": "markdown",
   "id": "092d424d",
   "metadata": {},
   "source": [
    "### 3. What is the difference between a shallow copy and deep copy?"
   ]
  },
  {
   "cell_type": "markdown",
   "id": "be25e09b",
   "metadata": {},
   "source": [
    "- Shallow Copy stores the references of objects to the original memory address.Deep copy stores copies of the object’s value.\n",
    "- Shallow Copy reflects changes made to the new/copied object in the original object.Deep copy doesn’t reflect changes made to the new/copied object in the original object.\n",
    "- Shallow Copy stores the copy of the original object and points the references to the objects.Deep copy stores the copy of the original object and recursively copies the objects as well.\n",
    "- Shallow copy is faster. Deep copy is comparatively slower."
   ]
  },
  {
   "cell_type": "code",
   "execution_count": 3,
   "id": "684a690c",
   "metadata": {},
   "outputs": [
    {
     "name": "stdout",
     "output_type": "stream",
     "text": [
      "['Red', 'Blue', 'Green'] ['Red', 'Blue']\n",
      "['Red', 'Blue', 'Green'] ['Red', 'Blue', 'Green']\n"
     ]
    }
   ],
   "source": [
    "from copy import copy, deepcopy\n",
    "class Car:\n",
    "    def __init__(self, name, colors): \n",
    "        self.name = name\n",
    "        self.colors = colors\n",
    "honda = Car(\"Honda\", [\"Red\", \"Blue\"])\n",
    "deepcopy_honda = deepcopy(honda)\n",
    "deepcopy_honda.colors.append(\"Green\")\n",
    "print(deepcopy_honda.colors, \\\n",
    "      honda.colors)\n",
    " \n",
    "# Shallow Copy of Honda\n",
    "copy_honda = copy(honda)\n",
    " \n",
    "copy_honda.colors.append(\"Green\")\n",
    "print(copy_honda.colors, \\\n",
    "      honda.colors)"
   ]
  },
  {
   "cell_type": "markdown",
   "id": "4b4e44ea",
   "metadata": {},
   "source": [
    "### 4. What is the maximum possible length of an identifier?"
   ]
  },
  {
   "cell_type": "markdown",
   "id": "58ec6f24",
   "metadata": {},
   "source": [
    "An identifier can have a maximum length of 79 characters in Python."
   ]
  },
  {
   "cell_type": "markdown",
   "id": "c7352653",
   "metadata": {},
   "source": [
    "### 5. What is generator comprehension?"
   ]
  },
  {
   "cell_type": "markdown",
   "id": "ef349a56",
   "metadata": {},
   "source": [
    "- Generator Comprehension is a way to initialize a generator to access elements from a container object or a sequence of data.\n",
    "- Generator comprehension does not initialize any object unlike list comprehension or set comprehension. Thus, you can use generator comprehension instead of list comprehension or set comprehension to reduce the memory requirement of the program."
   ]
  },
  {
   "cell_type": "code",
   "execution_count": 7,
   "id": "edcf8323",
   "metadata": {},
   "outputs": [
    {
     "data": {
      "text/plain": [
       "generator"
      ]
     },
     "execution_count": 7,
     "metadata": {},
     "output_type": "execute_result"
    }
   ],
   "source": [
    "lst = [1,2,3,4,5]\n",
    "mygen = (element**2 for element in lst)\n",
    "type(mygen)"
   ]
  },
  {
   "cell_type": "code",
   "execution_count": 8,
   "id": "2006d6b4",
   "metadata": {},
   "outputs": [
    {
     "name": "stdout",
     "output_type": "stream",
     "text": [
      "Elements obtained from the generator are:\n",
      "1\n",
      "4\n",
      "9\n",
      "16\n",
      "25\n"
     ]
    }
   ],
   "source": [
    "print(\"Elements obtained from the generator are:\")\n",
    "for ele in mygen:\n",
    "    print(ele)"
   ]
  },
  {
   "cell_type": "code",
   "execution_count": null,
   "id": "3fcc1d6e",
   "metadata": {},
   "outputs": [],
   "source": []
  }
 ],
 "metadata": {
  "kernelspec": {
   "display_name": "Python 3 (ipykernel)",
   "language": "python",
   "name": "python3"
  },
  "language_info": {
   "codemirror_mode": {
    "name": "ipython",
    "version": 3
   },
   "file_extension": ".py",
   "mimetype": "text/x-python",
   "name": "python",
   "nbconvert_exporter": "python",
   "pygments_lexer": "ipython3",
   "version": "3.9.7"
  }
 },
 "nbformat": 4,
 "nbformat_minor": 5
}
