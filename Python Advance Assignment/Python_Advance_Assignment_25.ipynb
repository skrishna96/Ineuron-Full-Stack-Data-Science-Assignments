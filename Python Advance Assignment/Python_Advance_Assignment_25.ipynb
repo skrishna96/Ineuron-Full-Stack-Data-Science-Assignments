{
 "cells": [
  {
   "cell_type": "markdown",
   "id": "230e420f",
   "metadata": {},
   "source": [
    "### Q1. What is the distinction between a numpy array and a pandas data frame? Is there a way to convert between the two if there is?"
   ]
  },
  {
   "cell_type": "markdown",
   "id": "88304170",
   "metadata": {},
   "source": [
    "- When we have to work on Tabular data, we prefer the pandas module. When we have to work on Numerical data, we prefer the numpy module.\n",
    "- Pandas consume more memory. Numpy is memory efficient.\n",
    "- Pandas has a better performance when a number of rows is 500K or more. Numpy has a better performance when number of rows is 50K or less.\n",
    "- Indexing of the pandas series is very slow as compared to numpy arrays. Indexing of numpy Arrays is very fast.\n",
    "- We can convert a Pandas DataFrame to Numpy Array by using __DataFrame.to_numpy()__ method.\n",
    "- We can convert a Numpy Array to Pandas DataFrame by using __pandas.DataFrame(array)__ method."
   ]
  },
  {
   "cell_type": "markdown",
   "id": "13b39999",
   "metadata": {},
   "source": [
    "### Q2. What can go wrong when an user enters in a stock-ticker symbol, and how do you handle it?"
   ]
  },
  {
   "cell_type": "markdown",
   "id": "b03d3b76",
   "metadata": {},
   "source": [
    "A stock symbol is a unique series of letters assigned to a security for trading purposes."
   ]
  },
  {
   "cell_type": "markdown",
   "id": "2dfee90f",
   "metadata": {},
   "source": [
    "### Q3. Identify some of the plotting techniques that are used to produce a stock-market chart."
   ]
  },
  {
   "cell_type": "markdown",
   "id": "1eecbcb6",
   "metadata": {},
   "source": [
    "We can use line chart, bar chart, point and figure chart and candlestick chart."
   ]
  },
  {
   "cell_type": "markdown",
   "id": "f1f31fa3",
   "metadata": {},
   "source": [
    "### Q4. Why is it essential to print a legend on a stock market chart?"
   ]
  },
  {
   "cell_type": "markdown",
   "id": "fc89c064",
   "metadata": {},
   "source": [
    "Legend will help comparison between different stocks, so will be essential on a stock market chart"
   ]
  },
  {
   "cell_type": "markdown",
   "id": "0760ca00",
   "metadata": {},
   "source": [
    "### Q5. What is the best way to limit the length of a pandas data frame to less than a year?"
   ]
  },
  {
   "cell_type": "markdown",
   "id": "8473c346",
   "metadata": {},
   "source": [
    "We can use start and end parameters for that. In start we write the date from where we are starting and at the end we write the end date. SO within this span we can restric the duration.Also we can use the parameters like periods for how much times we need the duration and we can also use the frequency parameter."
   ]
  },
  {
   "cell_type": "markdown",
   "id": "3c65977b",
   "metadata": {},
   "source": [
    "### Q6. What is the definition of a 180-day moving average?"
   ]
  },
  {
   "cell_type": "markdown",
   "id": "e26aded8",
   "metadata": {},
   "source": [
    "A moving average is a technical indicator that market analysts and investors can use to predict the direction of a trend. "
   ]
  },
  {
   "cell_type": "markdown",
   "id": "0e3319be",
   "metadata": {},
   "source": [
    "### Q7. Did the chapter&#39;s final example use &quot;indirect&quot; importing? If so, how exactly do you do it?"
   ]
  },
  {
   "cell_type": "markdown",
   "id": "3702258d",
   "metadata": {},
   "source": []
  }
 ],
 "metadata": {
  "kernelspec": {
   "display_name": "Python 3 (ipykernel)",
   "language": "python",
   "name": "python3"
  },
  "language_info": {
   "codemirror_mode": {
    "name": "ipython",
    "version": 3
   },
   "file_extension": ".py",
   "mimetype": "text/x-python",
   "name": "python",
   "nbconvert_exporter": "python",
   "pygments_lexer": "ipython3",
   "version": "3.9.7"
  }
 },
 "nbformat": 4,
 "nbformat_minor": 5
}
