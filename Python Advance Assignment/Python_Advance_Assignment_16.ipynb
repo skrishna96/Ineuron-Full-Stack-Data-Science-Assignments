{
 "cells": [
  {
   "cell_type": "markdown",
   "id": "35ac34f8",
   "metadata": {},
   "source": [
    "### Q1. What is the benefit of regular expressions?"
   ]
  },
  {
   "cell_type": "markdown",
   "id": "548df324",
   "metadata": {},
   "source": [
    "A Regular Expression is used for identifying a search pattern in a text string. It also helps in finding out the correctness of the data and even operations such as finding, replacing and formatting the data is possible using Regular Expressions."
   ]
  },
  {
   "cell_type": "markdown",
   "id": "9e238a16",
   "metadata": {},
   "source": [
    "### Q2. Describe the difference between the effects of &quot;(ab)c+&quot; and &quot;a(bc)+.&quot; Which of these, if any, is the unqualified pattern &quot;abc+&quot;?"
   ]
  },
  {
   "cell_type": "markdown",
   "id": "45449a59",
   "metadata": {},
   "source": [
    "\"(ab)c+\", \"a(bc)+\" and \"abc+\" patterns search for the same result in string."
   ]
  },
  {
   "cell_type": "code",
   "execution_count": 11,
   "id": "804993e4",
   "metadata": {},
   "outputs": [
    {
     "name": "stdout",
     "output_type": "stream",
     "text": [
      "<re.Match object; span=(0, 3), match='abc'>\n"
     ]
    }
   ],
   "source": [
    "import re\n",
    "m = re.search(r'(ab)c+', 'abcdef')\n",
    "print(m)"
   ]
  },
  {
   "cell_type": "code",
   "execution_count": 12,
   "id": "872ff416",
   "metadata": {},
   "outputs": [
    {
     "name": "stdout",
     "output_type": "stream",
     "text": [
      "<re.Match object; span=(0, 3), match='abc'>\n"
     ]
    }
   ],
   "source": [
    "m1 = re.search(r'a(bc)+', 'abcdef')\n",
    "print(m1)"
   ]
  },
  {
   "cell_type": "code",
   "execution_count": 13,
   "id": "e69d53ef",
   "metadata": {},
   "outputs": [
    {
     "name": "stdout",
     "output_type": "stream",
     "text": [
      "<re.Match object; span=(0, 3), match='abc'>\n"
     ]
    }
   ],
   "source": [
    "m2 = re.search(r'abc+', 'abcdef')\n",
    "print(m2)"
   ]
  },
  {
   "cell_type": "markdown",
   "id": "318b0d2f",
   "metadata": {},
   "source": [
    "### Q3. How much do you need to use the following sentence while using regular expressions?\n",
    "#### import re"
   ]
  },
  {
   "cell_type": "markdown",
   "id": "9e1ce2c8",
   "metadata": {},
   "source": [
    "we always need to import __re__ module while using regular expressions."
   ]
  },
  {
   "cell_type": "markdown",
   "id": "fc5f7052",
   "metadata": {},
   "source": [
    "### Q4. Which characters have special significance in square brackets when expressing a range, and under what circumstances?"
   ]
  },
  {
   "cell_type": "markdown",
   "id": "f0fc2290",
   "metadata": {},
   "source": [
    "The Characters .,*,?,^,or,(), have a special signiface when used with square brackets. They need not be be explicitly escaped by \\ as in case of pattern texts in a raw string."
   ]
  },
  {
   "cell_type": "markdown",
   "id": "0b606847",
   "metadata": {},
   "source": [
    "### Q5. How does compiling a regular-expression object benefit you?"
   ]
  },
  {
   "cell_type": "markdown",
   "id": "d7dee799",
   "metadata": {},
   "source": [
    "We can combine a regular expression pattern into pattern objects, which can be used for pattern matching. It also helps to search a pattern again without rewriting it."
   ]
  },
  {
   "cell_type": "markdown",
   "id": "d9090c93",
   "metadata": {},
   "source": [
    "### Q6. What are some examples of how to use the match object returned by re.match and re.search?"
   ]
  },
  {
   "cell_type": "markdown",
   "id": "855dabfa",
   "metadata": {},
   "source": [
    "The re.search() and re.match() both are functions of re module in python. These functions are very efficient and fast for searching in strings. The function searches for some substring in a string and returns a match object if found, else it returns none.<br>\n",
    "Both return the first match of a substring found in the string, but re.match() searches only from the beginning of the string and return match object if found. But if a match of substring is found somewhere in the middle of the string, it returns none. \n",
    "While re.search() searches for the whole string even if the string contains multi-lines and tries to find a match of the substring in all the lines of string."
   ]
  },
  {
   "cell_type": "code",
   "execution_count": 15,
   "id": "4781eb60",
   "metadata": {},
   "outputs": [
    {
     "name": "stdout",
     "output_type": "stream",
     "text": [
      "<re.Match object; span=(75, 81), match='string'>\n",
      "None\n",
      "<re.Match object; span=(0, 6), match='string'>\n",
      "<re.Match object; span=(0, 6), match='string'>\n"
     ]
    }
   ],
   "source": [
    "import re\n",
    "Substring ='string'\n",
    "String1 ='''We are learning regex with geeksforgeeks\n",
    "         regex is very useful for string matching.\n",
    "          It is fast too.'''\n",
    "String2 ='''string We are learning regex with geeksforgeeks\n",
    "         regex is very useful for string matching.\n",
    "          It is fast too.'''\n",
    " \n",
    "print(re.search(Substring, String1, re.IGNORECASE))\n",
    "print(re.match(Substring, String1, re.IGNORECASE))\n",
    " \n",
    "print(re.search(Substring, String2, re.IGNORECASE))\n",
    "print(re.match(Substring, String2, re.IGNORECASE))"
   ]
  },
  {
   "cell_type": "markdown",
   "id": "ec32cc11",
   "metadata": {},
   "source": [
    "### Q7. What is the difference between using a vertical bar (|) as an alteration and using square brackets as a character set?"
   ]
  },
  {
   "cell_type": "markdown",
   "id": "9acb6940",
   "metadata": {},
   "source": [
    "The special character standing or vertical bar is used for alteration. The standing bar also works as ‘or’ operation.<br>\n",
    "Using Character set in square Brackets searches for all the character set in the square bracket and if match is found, it returns it."
   ]
  },
  {
   "cell_type": "markdown",
   "id": "28bfafcb",
   "metadata": {},
   "source": [
    "### Q8. In regular-expression search patterns, why is it necessary to use the raw-string indicator (r)? In  replacement strings?"
   ]
  },
  {
   "cell_type": "markdown",
   "id": "1d3d6c4d",
   "metadata": {},
   "source": [
    "the \"r\" in the beginning is making sure that the string is being treated as a \"raw string\".Raw Strings are used in the regular-expression search patterns, so that blackslashes donot have to be escaped."
   ]
  },
  {
   "cell_type": "code",
   "execution_count": null,
   "id": "726327ac",
   "metadata": {},
   "outputs": [],
   "source": []
  }
 ],
 "metadata": {
  "kernelspec": {
   "display_name": "Python 3 (ipykernel)",
   "language": "python",
   "name": "python3"
  },
  "language_info": {
   "codemirror_mode": {
    "name": "ipython",
    "version": 3
   },
   "file_extension": ".py",
   "mimetype": "text/x-python",
   "name": "python",
   "nbconvert_exporter": "python",
   "pygments_lexer": "ipython3",
   "version": "3.9.7"
  }
 },
 "nbformat": 4,
 "nbformat_minor": 5
}
