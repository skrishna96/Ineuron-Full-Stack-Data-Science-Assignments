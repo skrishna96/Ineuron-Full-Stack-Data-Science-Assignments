{
 "cells": [
  {
   "cell_type": "markdown",
   "id": "38c3e933",
   "metadata": {},
   "source": [
    "### Q1. What is the meaning of multiple inheritance?"
   ]
  },
  {
   "cell_type": "markdown",
   "id": "c204ae5e",
   "metadata": {},
   "source": [
    "Multiple inheritance is a feature of some object-oriented computer programming languages in which an object or class can inherit characteristics and features from more than one parent object or the parent class."
   ]
  },
  {
   "cell_type": "code",
   "execution_count": 1,
   "id": "074c6787",
   "metadata": {},
   "outputs": [],
   "source": [
    "class Parent1:\n",
    "    pass\n",
    "class Parent2:\n",
    "    pass\n",
    "class Child(Parent1,Parent2):\n",
    "    pass"
   ]
  },
  {
   "cell_type": "markdown",
   "id": "454f14e3",
   "metadata": {},
   "source": [
    "### Q2. What is the concept of delegation?"
   ]
  },
  {
   "cell_type": "markdown",
   "id": "87aa3072",
   "metadata": {},
   "source": [
    "the delegation pattern is an object-oriented design pattern that allows object composition to achieve the same code reuse as inheritance.<br>\n",
    "Let's say you have an object x and want to change the behaviour of just one of its methods. You can create a new class that provides a new implementation of the method you're interested in changing and delegates all other methods to the corresponding method of x."
   ]
  },
  {
   "cell_type": "code",
   "execution_count": 2,
   "id": "e6f8234a",
   "metadata": {},
   "outputs": [
    {
     "name": "stdout",
     "output_type": "stream",
     "text": [
      "Fido have 4 legs\n"
     ]
    }
   ],
   "source": [
    "class Animal:\n",
    "  def __init__(self, name, num_of_legs):\n",
    "    self.name = name\n",
    "    self.num_of_legs = num_of_legs\n",
    "  \n",
    "  def get_number_of_legs(self):\n",
    "    print(f\"{self.name} have {self.num_of_legs} legs\")\n",
    "\n",
    "class Dog(Animal):\n",
    "  def __init__(self, name, num_of_legs):\n",
    "    super().__init__(name, num_of_legs)\n",
    "\n",
    "dog = Dog('Fido', 4)\n",
    "dog.get_number_of_legs()"
   ]
  },
  {
   "cell_type": "markdown",
   "id": "a3fc6f7a",
   "metadata": {},
   "source": [
    "### Q3. What is the concept of composition?"
   ]
  },
  {
   "cell_type": "markdown",
   "id": "1bd4d7e9",
   "metadata": {},
   "source": [
    "In this concept, we will describe a class that references to one or more objects of other classes as an Instance variable. Here, by using the class name or by creating the object we can access the members of one class inside another class. It enables creating complex types by combining objects of different classes. It means that a class Composite can contain an object of another class Component. This type of relationship is known as Has-A Relation."
   ]
  },
  {
   "cell_type": "code",
   "execution_count": 6,
   "id": "8727339e",
   "metadata": {},
   "outputs": [],
   "source": [
    "class Component:\n",
    "    def __init__(self):\n",
    "         print(\"component class object created\")\n",
    "    def method1(self):\n",
    "        print(\"component class method1 executed\")\n",
    "class Composite:\n",
    "    def __init__(self):\n",
    "        self.c = Component()\n",
    "        print(\"composite class object created\")\n",
    "    def method1(self):\n",
    "        print(\"composite class method1 executed\")\n",
    "        self.c.method1()"
   ]
  },
  {
   "cell_type": "code",
   "execution_count": 7,
   "id": "54877b48",
   "metadata": {},
   "outputs": [
    {
     "name": "stdout",
     "output_type": "stream",
     "text": [
      "component class object created\n",
      "composite class object created\n"
     ]
    }
   ],
   "source": [
    "c1 = Composite() "
   ]
  },
  {
   "cell_type": "code",
   "execution_count": 8,
   "id": "fb04bae5",
   "metadata": {},
   "outputs": [
    {
     "name": "stdout",
     "output_type": "stream",
     "text": [
      "composite class method1 executed\n",
      "component class method1 executed\n"
     ]
    }
   ],
   "source": [
    "c1.method1()"
   ]
  },
  {
   "cell_type": "markdown",
   "id": "e7fa6e75",
   "metadata": {},
   "source": [
    "### Q4. What are bound methods and how do we use them?"
   ]
  },
  {
   "cell_type": "markdown",
   "id": "5db26b53",
   "metadata": {},
   "source": [
    "A bound method is the one which is dependent on the instance of the class as the first argument. It passes the instance as the first argument which is used to access the variables and functions."
   ]
  },
  {
   "cell_type": "code",
   "execution_count": 9,
   "id": "e517f9f2",
   "metadata": {},
   "outputs": [],
   "source": [
    "class MyClass:\n",
    "    def method1(self):\n",
    "        return \"bound method\""
   ]
  },
  {
   "cell_type": "code",
   "execution_count": 10,
   "id": "93c07e73",
   "metadata": {},
   "outputs": [
    {
     "name": "stdout",
     "output_type": "stream",
     "text": [
      "<bound method MyClass.method1 of <__main__.MyClass object at 0x00000188A92FE5C0>>\n"
     ]
    }
   ],
   "source": [
    "m = MyClass()\n",
    "print(m.method1)"
   ]
  },
  {
   "cell_type": "markdown",
   "id": "7bde4e9b",
   "metadata": {},
   "source": [
    "### Q5. What is the purpose of pseudoprivate attributes?"
   ]
  },
  {
   "cell_type": "markdown",
   "id": "32602539",
   "metadata": {},
   "source": [
    "Python has a private definition method is to add a double underline __ in front of the variable or method, but in fact this is the pseudo-private of python. It's just a kind of stipulation that programmers agree with the common name. If you add it, it means private variables, but if you want to call it externally, you can still call it."
   ]
  },
  {
   "cell_type": "code",
   "execution_count": 20,
   "id": "2050706e",
   "metadata": {},
   "outputs": [],
   "source": [
    "class Secretive:  \n",
    "    def __inaccessible(self):\n",
    "        print(\"Bet you can not See Me ...\" )  \n",
    "    def Accessible (self):  \n",
    "        print(\" at The Secret IS the Message: \" )\n",
    "        self.__inaccessible()  "
   ]
  },
  {
   "cell_type": "code",
   "execution_count": 21,
   "id": "b70879ca",
   "metadata": {},
   "outputs": [],
   "source": [
    "s =Secretive()"
   ]
  },
  {
   "cell_type": "code",
   "execution_count": 22,
   "id": "7df24460",
   "metadata": {},
   "outputs": [
    {
     "ename": "AttributeError",
     "evalue": "'Secretive' object has no attribute '__inaccessible'",
     "output_type": "error",
     "traceback": [
      "\u001b[1;31m---------------------------------------------------------------------------\u001b[0m",
      "\u001b[1;31mAttributeError\u001b[0m                            Traceback (most recent call last)",
      "Input \u001b[1;32mIn [22]\u001b[0m, in \u001b[0;36m<module>\u001b[1;34m\u001b[0m\n\u001b[1;32m----> 1\u001b[0m \u001b[43ms\u001b[49m\u001b[38;5;241;43m.\u001b[39;49m\u001b[43m__inaccessible\u001b[49m()\n",
      "\u001b[1;31mAttributeError\u001b[0m: 'Secretive' object has no attribute '__inaccessible'"
     ]
    }
   ],
   "source": [
    "s.__inaccessible()"
   ]
  },
  {
   "cell_type": "code",
   "execution_count": 23,
   "id": "b324f244",
   "metadata": {},
   "outputs": [
    {
     "name": "stdout",
     "output_type": "stream",
     "text": [
      " at The Secret IS the Message: \n",
      "Bet you can not See Me ...\n"
     ]
    }
   ],
   "source": [
    "s.Accessible()"
   ]
  },
  {
   "cell_type": "code",
   "execution_count": 24,
   "id": "70a540da",
   "metadata": {},
   "outputs": [
    {
     "name": "stdout",
     "output_type": "stream",
     "text": [
      "Bet you can not See Me ...\n"
     ]
    }
   ],
   "source": [
    "s._Secretive__inaccessible()"
   ]
  },
  {
   "cell_type": "code",
   "execution_count": null,
   "id": "5a015b3d",
   "metadata": {},
   "outputs": [],
   "source": []
  }
 ],
 "metadata": {
  "kernelspec": {
   "display_name": "Python 3 (ipykernel)",
   "language": "python",
   "name": "python3"
  },
  "language_info": {
   "codemirror_mode": {
    "name": "ipython",
    "version": 3
   },
   "file_extension": ".py",
   "mimetype": "text/x-python",
   "name": "python",
   "nbconvert_exporter": "python",
   "pygments_lexer": "ipython3",
   "version": "3.10.0"
  }
 },
 "nbformat": 4,
 "nbformat_minor": 5
}
