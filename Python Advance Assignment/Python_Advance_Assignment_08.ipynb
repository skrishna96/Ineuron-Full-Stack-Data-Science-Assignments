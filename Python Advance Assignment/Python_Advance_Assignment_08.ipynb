{
 "cells": [
  {
   "cell_type": "markdown",
   "id": "11d80019",
   "metadata": {},
   "source": [
    "### Q1. What are the two latest user-defined exception constraints in Python 3.X?"
   ]
  },
  {
   "cell_type": "markdown",
   "id": "ea2ba0ef",
   "metadata": {},
   "source": [
    "__raise__ and __assert__ statement are the two latest user-defined exception constraints in Python 3.X"
   ]
  },
  {
   "cell_type": "markdown",
   "id": "dbb9868e",
   "metadata": {},
   "source": [
    "### Q2. How are class-based exceptions that have been raised matched to handlers?"
   ]
  },
  {
   "cell_type": "markdown",
   "id": "e6eca919",
   "metadata": {},
   "source": [
    "In Python, all exceptions must be instances of a class that derives from BaseException. This exception class has to be derived, either directly or indirectly from built-in Exception class."
   ]
  },
  {
   "cell_type": "code",
   "execution_count": 1,
   "id": "0f414aea",
   "metadata": {},
   "outputs": [
    {
     "ename": "ageException",
     "evalue": "Age shold be greater than 18",
     "output_type": "error",
     "traceback": [
      "\u001b[1;31m---------------------------------------------------------------------------\u001b[0m",
      "\u001b[1;31mageException\u001b[0m                              Traceback (most recent call last)",
      "Input \u001b[1;32mIn [1]\u001b[0m, in \u001b[0;36m<module>\u001b[1;34m\u001b[0m\n\u001b[0;32m      3\u001b[0m age \u001b[38;5;241m=\u001b[39m \u001b[38;5;241m10\u001b[39m\n\u001b[0;32m      4\u001b[0m \u001b[38;5;28;01mif\u001b[39;00m age \u001b[38;5;241m<\u001b[39m\u001b[38;5;241m=\u001b[39m \u001b[38;5;241m18\u001b[39m:\n\u001b[1;32m----> 5\u001b[0m     \u001b[38;5;28;01mraise\u001b[39;00m ageException(\u001b[38;5;124m\"\u001b[39m\u001b[38;5;124mAge shold be greater than 18\u001b[39m\u001b[38;5;124m\"\u001b[39m)\n",
      "\u001b[1;31mageException\u001b[0m: Age shold be greater than 18"
     ]
    }
   ],
   "source": [
    "class ageException(Exception):\n",
    "    pass\n",
    "age = 10\n",
    "if age <= 18:\n",
    "    raise ageException(\"Age shold be greater than 18\")"
   ]
  },
  {
   "cell_type": "markdown",
   "id": "b0e0728b",
   "metadata": {},
   "source": [
    "### Q3. Describe two methods for attaching context information to exception artefacts."
   ]
  },
  {
   "cell_type": "markdown",
   "id": "9525f32e",
   "metadata": {},
   "source": [
    "The __process()__ method of LoggerAdapter is where the contextual information is added to the logging output.<br>\n",
    "Other method that can be used is __exception()__, Logs a messgae with level ERROR on this logger. "
   ]
  },
  {
   "cell_type": "markdown",
   "id": "81956ecd",
   "metadata": {},
   "source": [
    "### Q4. Describe two methods for specifying the text of an exception object's error message."
   ]
  },
  {
   "cell_type": "markdown",
   "id": "31af41b4",
   "metadata": {},
   "source": [
    "We can use __raise__ and __assert__ methods for specifying the text of an exception object's error message."
   ]
  },
  {
   "cell_type": "markdown",
   "id": "c02c3f77",
   "metadata": {},
   "source": [
    "### Q5. Why do you no longer use string-based exceptions?"
   ]
  },
  {
   "cell_type": "markdown",
   "id": "0e7d4d80",
   "metadata": {},
   "source": [
    "String based Exceptions doesn't inherit from Exceptions. so plain exceptions catch all exceptions and not only system."
   ]
  },
  {
   "cell_type": "code",
   "execution_count": null,
   "id": "eb7e78be",
   "metadata": {},
   "outputs": [],
   "source": []
  }
 ],
 "metadata": {
  "kernelspec": {
   "display_name": "Python 3 (ipykernel)",
   "language": "python",
   "name": "python3"
  },
  "language_info": {
   "codemirror_mode": {
    "name": "ipython",
    "version": 3
   },
   "file_extension": ".py",
   "mimetype": "text/x-python",
   "name": "python",
   "nbconvert_exporter": "python",
   "pygments_lexer": "ipython3",
   "version": "3.10.0"
  }
 },
 "nbformat": 4,
 "nbformat_minor": 5
}
