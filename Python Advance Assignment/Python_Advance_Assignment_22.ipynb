{
 "cells": [
  {
   "cell_type": "markdown",
   "id": "9278835d",
   "metadata": {},
   "source": [
    "### Q1. What are the benefits of the built-in array package, if any?"
   ]
  },
  {
   "cell_type": "markdown",
   "id": "c59668f7",
   "metadata": {},
   "source": [
    "- Arrays are similar to lists. The main difference is that arrays can store only one type of elements; whereas, lists can store different types of elements. When dealing with a huge number of elements, arrays use less memory than lists and they offer faster execution than lists.<br>\n",
    "- The size of the array is not fixed in Python. Hence, we need not specify how many elements we are going to store into an array in the beginning.<br>\n",
    "- Arrays can grow or shrink in memory dynamically (during runtime).<br>\n",
    "- Arrays are useful to handle a collection of elements like a group of numbers or characters.<br>\n",
    "- Methods that are useful to process the elements of any array are available in 'array' module.<br>"
   ]
  },
  {
   "cell_type": "markdown",
   "id": "eeea749a",
   "metadata": {},
   "source": [
    "### Q2. What are some of the array package&#39;s limitations?"
   ]
  },
  {
   "cell_type": "markdown",
   "id": "86014396",
   "metadata": {},
   "source": [
    "- An array has a fixed size which means you cannot add/delete elements after creation. You also cannot resize them dynamically.\n",
    "- Unlike lists in Python, cannot store values of different data types in a single array. \n",
    "- Another disadvantage of arrays is that they don't support random access. If you want to get some particular record from an array, you must know its exact index.\n",
    "- Deleting an item from an array involves copying every preceding element to fill up the gap left behind by the deleted element. Deleting items from an array is very expensive because of this reason."
   ]
  },
  {
   "cell_type": "markdown",
   "id": "c02cb7f4",
   "metadata": {},
   "source": [
    "### Q3. Describe the main differences between the array and numpy packages."
   ]
  },
  {
   "cell_type": "markdown",
   "id": "9bda38b9",
   "metadata": {},
   "source": [
    "- An array is a single dimensional entity which hold the numerical data, while numpy can have more than 1 dimension.\n",
    "- If all you're doing is creating arrays of simple data types and doing I/O, the array module will do just fine.on the other hand, if you want to do any kind of numerical calculations, the array module doesn't provide any help with that. NumPy (and SciPy) give you a wide variety of operations between arrays and special functions that are useful not only for scientific work but for things like advanced image manipulation or in general anything where you need to perform efficient calculations with large amounts of data."
   ]
  },
  {
   "cell_type": "markdown",
   "id": "14b2d1e6",
   "metadata": {},
   "source": [
    "### Q4. Explain the distinctions between the empty, ones, and zeros functions."
   ]
  },
  {
   "cell_type": "markdown",
   "id": "28d2f54e",
   "metadata": {},
   "source": [
    "__empty():__ This function is used to create an array without initializing the entries of given shape and type."
   ]
  },
  {
   "cell_type": "code",
   "execution_count": 1,
   "id": "861d7fd6",
   "metadata": {},
   "outputs": [
    {
     "name": "stdout",
     "output_type": "stream",
     "text": [
      "[[0. 0.]\n",
      " [0. 0.]\n",
      " [0. 0.]]\n"
     ]
    }
   ],
   "source": [
    "import numpy as np  \n",
    "x = np.empty([3, 2])  \n",
    "print(x)"
   ]
  },
  {
   "cell_type": "markdown",
   "id": "03f8fb64",
   "metadata": {},
   "source": [
    "__Zeros():__ The numpy.zeros() function is one of the most significant functions which is used in machine learning programs widely. This function is used to generate an array containing zeros."
   ]
  },
  {
   "cell_type": "code",
   "execution_count": 2,
   "id": "fae398eb",
   "metadata": {},
   "outputs": [
    {
     "name": "stdout",
     "output_type": "stream",
     "text": [
      "[0. 0. 0. 0. 0. 0.]\n"
     ]
    }
   ],
   "source": [
    "import numpy as np  \n",
    "a=np.zeros(6)  \n",
    "print(a)"
   ]
  },
  {
   "cell_type": "markdown",
   "id": "a0867387",
   "metadata": {},
   "source": [
    "__ones():__ The numpy.ones() function returns a new array of given shape and type, with ones."
   ]
  },
  {
   "cell_type": "code",
   "execution_count": 3,
   "id": "7719f121",
   "metadata": {},
   "outputs": [
    {
     "name": "stdout",
     "output_type": "stream",
     "text": [
      "[1. 1.]\n"
     ]
    }
   ],
   "source": [
    "import numpy as np\n",
    "b = np.ones(2)\n",
    "print(b)"
   ]
  },
  {
   "cell_type": "markdown",
   "id": "d4c5e70c",
   "metadata": {},
   "source": [
    "### Q5. In the fromfunction function, which is used to construct new arrays, what is the role of the callable argument?"
   ]
  },
  {
   "cell_type": "markdown",
   "id": "32e095fa",
   "metadata": {},
   "source": [
    "numpy.fromfunction() function construct an array by executing a function over each coordinate and the resulting array, therefore, has a value fn(x, y, z) at coordinate (x, y, z).<br>\n",
    "The function is called with N parameters, where N is the rank of shape. Each parameter represents the coordinates of the array varying along a specific axis."
   ]
  },
  {
   "cell_type": "code",
   "execution_count": 4,
   "id": "a5ceefac",
   "metadata": {},
   "outputs": [
    {
     "data": {
      "text/plain": [
       "array([[ True, False, False],\n",
       "       [False,  True, False]])"
      ]
     },
     "execution_count": 4,
     "metadata": {},
     "output_type": "execute_result"
    }
   ],
   "source": [
    "import numpy as np\n",
    "np.fromfunction(lambda i, j: i == j, (2, 3), dtype=int)"
   ]
  },
  {
   "cell_type": "markdown",
   "id": "fc8fe7ca",
   "metadata": {},
   "source": [
    "### Q6. What happens when a numpy array is combined with a single-value operand (a scalar, such as an int or a floating-point value) through addition, as in the expression A + n?"
   ]
  },
  {
   "cell_type": "markdown",
   "id": "e71c6091",
   "metadata": {},
   "source": [
    "If any scaler value such as integer is added to the numpy array then all the elements inside the array will add that value in it."
   ]
  },
  {
   "cell_type": "markdown",
   "id": "102eeef0",
   "metadata": {},
   "source": [
    "### Q7. Can array-to-scalar operations use combined operation-assign operators (such as += or *=)? What is the outcome?"
   ]
  },
  {
   "cell_type": "markdown",
   "id": "1fe6025f",
   "metadata": {},
   "source": [
    "It will carry out provided operation on all elements of array."
   ]
  },
  {
   "cell_type": "markdown",
   "id": "b001dd60",
   "metadata": {},
   "source": [
    "### Q8. Does a numpy array contain fixed-length strings? What happens if you allocate a longer string to one of these arrays?"
   ]
  },
  {
   "cell_type": "markdown",
   "id": "b18a3dd5",
   "metadata": {},
   "source": [
    "We can assign fixed-length strings to numpy arrays by changing array type to 'U256'. The maximum length of the string that we can assign in this case after changing the dtype is 256.  If we try to reassign some another string value having length greater than the maximum length of the existing elements, it simply discards all the values beyond the maximum length accept upto those values which are under the limit."
   ]
  },
  {
   "cell_type": "code",
   "execution_count": 17,
   "id": "2bed671a",
   "metadata": {},
   "outputs": [
    {
     "name": "stdout",
     "output_type": "stream",
     "text": [
      "['USA' 'Japan' 'UK' '' 'India' 'China']\n"
     ]
    }
   ],
   "source": [
    "import numpy as np\n",
    "country = np.array(['USA', 'Japan', 'UK', '', 'India', 'China'])\n",
    "print(country)"
   ]
  },
  {
   "cell_type": "code",
   "execution_count": 18,
   "id": "c75c14bf",
   "metadata": {},
   "outputs": [],
   "source": [
    "country = country.astype('U256')"
   ]
  },
  {
   "cell_type": "code",
   "execution_count": 19,
   "id": "2e353217",
   "metadata": {},
   "outputs": [],
   "source": [
    "country[country == ''] = 'asifjasdjfijadsifjasfcjsajjsaasjjcsjajclsjlcjklcjlksalcjaslkfklajfkljklaskklsklajklajskljklasjksklaklasjskdaksklasklsadklasdkaskldklklaskldlksakldakld'"
   ]
  },
  {
   "cell_type": "code",
   "execution_count": 22,
   "id": "6ccbbc82",
   "metadata": {},
   "outputs": [
    {
     "name": "stdout",
     "output_type": "stream",
     "text": [
      "150\n"
     ]
    }
   ],
   "source": [
    "print(len(country[3]))"
   ]
  },
  {
   "cell_type": "markdown",
   "id": "9b6aa1cc",
   "metadata": {},
   "source": [
    "### Q9. What happens when you combine two numpy arrays using an operation like addition (+) or multiplication (*)? What are the conditions for combining two numpy arrays?"
   ]
  },
  {
   "cell_type": "markdown",
   "id": "05e1aa2a",
   "metadata": {},
   "source": [
    "It will simply add or multiply element to element at same position."
   ]
  },
  {
   "cell_type": "markdown",
   "id": "f9f83133",
   "metadata": {},
   "source": [
    "### Q10. What is the best way to use a Boolean array to mask another array?"
   ]
  },
  {
   "cell_type": "markdown",
   "id": "0dfbb060",
   "metadata": {},
   "source": [
    "The best way to use a Boolean array to mask another array is by Using __masked_where__ of numpy package."
   ]
  },
  {
   "cell_type": "markdown",
   "id": "764b666c",
   "metadata": {},
   "source": [
    "### Q11. What are three different ways to get the standard deviation of a wide collection of data using both standard Python and its packages? Sort the three of them by how quickly they execute."
   ]
  },
  {
   "cell_type": "markdown",
   "id": "d9656a6b",
   "metadata": {},
   "source": [
    "We can use __statistics.stdev()__ and __numpy.std()__ functions to collect standard deviation."
   ]
  },
  {
   "cell_type": "markdown",
   "id": "f9023bb1",
   "metadata": {},
   "source": [
    "### 12. What is the dimensionality of a Boolean mask-generated array?"
   ]
  },
  {
   "cell_type": "markdown",
   "id": "edc47102",
   "metadata": {},
   "source": [
    "It will have same dimensionality as input array."
   ]
  },
  {
   "cell_type": "code",
   "execution_count": null,
   "id": "7b243dc0",
   "metadata": {},
   "outputs": [],
   "source": []
  }
 ],
 "metadata": {
  "kernelspec": {
   "display_name": "Python 3 (ipykernel)",
   "language": "python",
   "name": "python3"
  },
  "language_info": {
   "codemirror_mode": {
    "name": "ipython",
    "version": 3
   },
   "file_extension": ".py",
   "mimetype": "text/x-python",
   "name": "python",
   "nbconvert_exporter": "python",
   "pygments_lexer": "ipython3",
   "version": "3.9.7"
  }
 },
 "nbformat": 4,
 "nbformat_minor": 5
}
