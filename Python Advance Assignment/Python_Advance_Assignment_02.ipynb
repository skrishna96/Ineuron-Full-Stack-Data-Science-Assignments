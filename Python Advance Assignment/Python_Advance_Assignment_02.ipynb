{
 "cells": [
  {
   "cell_type": "markdown",
   "id": "8fd19506",
   "metadata": {},
   "source": [
    "### Q1. What is the relationship between classes and modules?"
   ]
  },
  {
   "cell_type": "markdown",
   "id": "3db05a0b",
   "metadata": {},
   "source": [
    "- a class is used to define a blueprint for a given object, whereas a module is used to reuse a given piece of code inside another program.\n",
    "- A class can have its own instance, but a module cannot be instantiated.\n",
    "- We use the ‘class’ keyword to define a class, whereas to use modules, we use the ‘import’ keyword. \n",
    "- Modules are files present inside a package, whereas a class is used to encapsulate data and functions together inside the same unit."
   ]
  },
  {
   "cell_type": "markdown",
   "id": "2c429d06",
   "metadata": {},
   "source": [
    "### Q2. How do you make instances and classes?"
   ]
  },
  {
   "cell_type": "markdown",
   "id": "fe18c4a5",
   "metadata": {},
   "source": [
    "- To create instances of a class, you call the class using class name and pass in whatever arguments its __init__ method accepts.<br>\n",
    "__obj1 = MyClass(arguments)__<br>\n",
    "- To create a class, use the keyword class followed by class name.<br>\n",
    "__class MyClass:__<br>\n",
    "    __pass__<br>"
   ]
  },
  {
   "cell_type": "markdown",
   "id": "eb957f88",
   "metadata": {},
   "source": [
    "### Q3. Where and how should be class attributes created?"
   ]
  },
  {
   "cell_type": "markdown",
   "id": "de882472",
   "metadata": {},
   "source": [
    "-  Class attributes are attributes which are owned by the class itself. \n",
    "- They will be shared by all the instances of the class. Therefore they have the same value for every instance. \n",
    "- We define class attributes outside all the methods, usually they are placed at the top, right below the class header."
   ]
  },
  {
   "cell_type": "code",
   "execution_count": 1,
   "id": "3a850fed",
   "metadata": {},
   "outputs": [],
   "source": [
    "#Example\n",
    "class MyClass:\n",
    "    class_variable = 0\n",
    "    def __init__(self):\n",
    "        pass"
   ]
  },
  {
   "cell_type": "markdown",
   "id": "654e0d87",
   "metadata": {},
   "source": [
    "### Q4. Where and how are instance attributes created?"
   ]
  },
  {
   "cell_type": "markdown",
   "id": "b9fc786e",
   "metadata": {},
   "source": [
    "Instance attributes are attributes or properties attached to an instance of a class. Instance attributes are defined in the constructor."
   ]
  },
  {
   "cell_type": "code",
   "execution_count": 2,
   "id": "109461b6",
   "metadata": {},
   "outputs": [],
   "source": [
    "#Example\n",
    "class MyClass:\n",
    "    def __init__(self,name,age):\n",
    "        self.name = name #Instance attribute 1\n",
    "        self.age = age   #Instance attribute 2"
   ]
  },
  {
   "cell_type": "markdown",
   "id": "021423ea",
   "metadata": {},
   "source": [
    "### Q5. What does the term \"self\" in a Python class mean?"
   ]
  },
  {
   "cell_type": "markdown",
   "id": "0d298182",
   "metadata": {},
   "source": [
    "The self is used to represent the instance of the class. With this keyword, you can access the attributes and methods of the class in python. It binds the attributes with the given arguments. "
   ]
  },
  {
   "cell_type": "code",
   "execution_count": 3,
   "id": "019dad05",
   "metadata": {},
   "outputs": [
    {
     "name": "stdout",
     "output_type": "stream",
     "text": [
      "Hello sai\n"
     ]
    }
   ],
   "source": [
    "class MyClass:\n",
    "    def __init__(self,name):\n",
    "        self.name = name\n",
    "    def show(self):\n",
    "        print(f\"Hello {self.name}\")\n",
    "c = MyClass(\"sai\")\n",
    "c.show()"
   ]
  },
  {
   "cell_type": "markdown",
   "id": "ee218567",
   "metadata": {},
   "source": [
    "### Q6. How does a Python class handle operator overloading?"
   ]
  },
  {
   "cell_type": "markdown",
   "id": "8397bb65",
   "metadata": {},
   "source": [
    "- Operator overloading in Python means giving another meaning to a common operator in a different context."
   ]
  },
  {
   "cell_type": "code",
   "execution_count": 9,
   "id": "a1c63862",
   "metadata": {},
   "outputs": [
    {
     "name": "stdout",
     "output_type": "stream",
     "text": [
      "5\n"
     ]
    }
   ],
   "source": [
    "class MyClass:\n",
    "    def __init__(self,num):\n",
    "        self.num = num\n",
    "    def __add__(self,other):\n",
    "        return self.num + other.num\n",
    "a1 = MyClass(2)\n",
    "a2 = MyClass(3)\n",
    "print(a1 + a2)"
   ]
  },
  {
   "cell_type": "markdown",
   "id": "f5d8c3fd",
   "metadata": {},
   "source": [
    "### Q7. When do you consider allowing operator overloading of your classes?"
   ]
  },
  {
   "cell_type": "markdown",
   "id": "ef7079bd",
   "metadata": {},
   "source": [
    "When we want to have different meaning for the same operator accroding to the context we use operator overloading."
   ]
  },
  {
   "cell_type": "markdown",
   "id": "a26349ee",
   "metadata": {},
   "source": [
    "### Q8. What is the most popular form of operator overloading?"
   ]
  },
  {
   "cell_type": "markdown",
   "id": "ee5f5b08",
   "metadata": {},
   "source": [
    "The most popular form of operator overloading in python is by special methods called Magic methods. Which usually beign and end with double underscore \\_\\_method name__."
   ]
  },
  {
   "cell_type": "markdown",
   "id": "197b23d0",
   "metadata": {},
   "source": [
    "### Q9. What are the two most important concepts to grasp in order to comprehend Python OOP code?"
   ]
  },
  {
   "cell_type": "markdown",
   "id": "34453550",
   "metadata": {},
   "source": [
    "inheritance and polymorphism are the two key ingredients for designing robust, flexible, and easy-to-maintain software."
   ]
  },
  {
   "cell_type": "code",
   "execution_count": null,
   "id": "402a7492",
   "metadata": {},
   "outputs": [],
   "source": []
  }
 ],
 "metadata": {
  "kernelspec": {
   "display_name": "Python 3 (ipykernel)",
   "language": "python",
   "name": "python3"
  },
  "language_info": {
   "codemirror_mode": {
    "name": "ipython",
    "version": 3
   },
   "file_extension": ".py",
   "mimetype": "text/x-python",
   "name": "python",
   "nbconvert_exporter": "python",
   "pygments_lexer": "ipython3",
   "version": "3.10.0"
  }
 },
 "nbformat": 4,
 "nbformat_minor": 5
}
