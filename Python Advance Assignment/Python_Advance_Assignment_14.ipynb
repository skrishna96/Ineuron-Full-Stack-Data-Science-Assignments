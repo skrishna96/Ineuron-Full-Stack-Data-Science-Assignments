{
 "cells": [
  {
   "cell_type": "markdown",
   "id": "67be3f64",
   "metadata": {},
   "source": [
    "### Q1. Is an assignment operator like += only for show? Is it possible that it would lead to faster results at the runtime?"
   ]
  },
  {
   "cell_type": "markdown",
   "id": "aa83c1e1",
   "metadata": {},
   "source": [
    "The operator += is used to add the right side operand with the left side operand and then assigning the result to the left operand. it would lead to faster results at the runtime compared to i = i + 1 because in i = i + 1 statement python need to check for variable \"i\" 2 times whereas in i += 1 statemet python need to check for variable \"i\" only once."
   ]
  },
  {
   "cell_type": "markdown",
   "id": "29cb63bb",
   "metadata": {},
   "source": [
    "### Q2. What is the smallest number of statements you&#39;d have to write in most programming languages to replace the Python expression a, b = a + b, a?"
   ]
  },
  {
   "cell_type": "markdown",
   "id": "14ffb984",
   "metadata": {},
   "source": [
    "Minimum number of lines required to write expression a,b = a+b ,a is 4.\n",
    "- First two lines for declaring and assigning variables a,b.\n",
    "- third and fourth lines will be a = a +b and b = a respectively."
   ]
  },
  {
   "cell_type": "markdown",
   "id": "0ae22279",
   "metadata": {},
   "source": [
    "### Q3. In Python, what is the most effective way to set a list of 100 integers to 0?"
   ]
  },
  {
   "cell_type": "code",
   "execution_count": 2,
   "id": "685c34ca",
   "metadata": {},
   "outputs": [
    {
     "name": "stdout",
     "output_type": "stream",
     "text": [
      "[0, 0, 0, 0, 0, 0, 0, 0, 0, 0, 0, 0, 0, 0, 0, 0, 0, 0, 0, 0, 0, 0, 0, 0, 0, 0, 0, 0, 0, 0, 0, 0, 0, 0, 0, 0, 0, 0, 0, 0, 0, 0, 0, 0, 0, 0, 0, 0, 0, 0, 0, 0, 0, 0, 0, 0, 0, 0, 0, 0, 0, 0, 0, 0, 0, 0, 0, 0, 0, 0, 0, 0, 0, 0, 0, 0, 0, 0, 0, 0, 0, 0, 0, 0, 0, 0, 0, 0, 0, 0, 0, 0, 0, 0, 0, 0, 0, 0, 0, 0]\n"
     ]
    }
   ],
   "source": [
    "lst = [0] * 100\n",
    "print(lst)"
   ]
  },
  {
   "cell_type": "markdown",
   "id": "7136e256",
   "metadata": {},
   "source": [
    "### Q4. What is the most effective way to initialise a list of 99 integers that repeats the sequence 1, 2, 3?S If necessary, show step-by-step instructions on how to accomplish this."
   ]
  },
  {
   "cell_type": "code",
   "execution_count": 3,
   "id": "fdcbe056",
   "metadata": {},
   "outputs": [
    {
     "name": "stdout",
     "output_type": "stream",
     "text": [
      "[1, 2, 3, 1, 2, 3, 1, 2, 3, 1, 2, 3, 1, 2, 3, 1, 2, 3, 1, 2, 3, 1, 2, 3, 1, 2, 3, 1, 2, 3, 1, 2, 3, 1, 2, 3, 1, 2, 3, 1, 2, 3, 1, 2, 3, 1, 2, 3, 1, 2, 3, 1, 2, 3, 1, 2, 3, 1, 2, 3, 1, 2, 3, 1, 2, 3, 1, 2, 3, 1, 2, 3, 1, 2, 3, 1, 2, 3, 1, 2, 3, 1, 2, 3, 1, 2, 3, 1, 2, 3, 1, 2, 3, 1, 2, 3, 1, 2, 3]\n"
     ]
    }
   ],
   "source": [
    "lst = [1,2,3]*33\n",
    "print(lst)"
   ]
  },
  {
   "cell_type": "markdown",
   "id": "52ede1ad",
   "metadata": {},
   "source": [
    "### Q5. If you&#39;re using IDLE to run a Python application, explain how to print a multidimensional list as efficiently?"
   ]
  },
  {
   "cell_type": "code",
   "execution_count": 4,
   "id": "e71cdb05",
   "metadata": {},
   "outputs": [
    {
     "name": "stdout",
     "output_type": "stream",
     "text": [
      "1\n",
      "2\n",
      "3\n",
      "4\n",
      "5\n",
      "6\n"
     ]
    }
   ],
   "source": [
    "lst = [[1,2,3],\n",
    "      [4,5,6]]\n",
    "for i in range(len(lst)):\n",
    "    for j in range(len(lst[i])):\n",
    "        print(lst[i][j])"
   ]
  },
  {
   "cell_type": "markdown",
   "id": "1db6af95",
   "metadata": {},
   "source": [
    "### Q6. Is it possible to use list comprehension with a string? If so, how can you go about doing it?"
   ]
  },
  {
   "cell_type": "code",
   "execution_count": 5,
   "id": "b9368fb6",
   "metadata": {},
   "outputs": [
    {
     "name": "stdout",
     "output_type": "stream",
     "text": [
      "['d', 'a', 't', 'a', 's', 'c', 'i', 'e', 'n', 'c', 'e']\n"
     ]
    }
   ],
   "source": [
    "lst = [i for i in 'datascience']\n",
    "print(lst)"
   ]
  },
  {
   "cell_type": "markdown",
   "id": "fc310179",
   "metadata": {},
   "source": [
    "### Q7. From the command line, how do you get support with a user-written Python programme? Is this possible from inside IDLE?"
   ]
  },
  {
   "cell_type": "markdown",
   "id": "3ec53dd8",
   "metadata": {},
   "source": [
    "__Get support with a user-written Python Programme:__ Open Command Prompt(cmd) and go to the python file location. type py filename.py and click enter\n",
    "\n",
    "__Get support with a User-written Python Program inside IDLE:__ Open Python IDLE. From the menu, select File → New File.It will open a coding window and write the required code. From the menu, select File → Save or File → Save As… and save the file to disk. Then select Run → Run Module. The output should appear back in the interpreter"
   ]
  },
  {
   "cell_type": "markdown",
   "id": "d0f88c8b",
   "metadata": {},
   "source": [
    "### Q8. Functions are said to be “first-class objects” in Python but not in most other languages, such as C++ or Java. What can you do in Python with a function (callable object) that you can&#39;t do in C or C++?"
   ]
  },
  {
   "cell_type": "markdown",
   "id": "23c0916c",
   "metadata": {},
   "source": [
    "In Python, a function may accept an argument of any type, and return a value of any type, without any kind of declaration beforehand."
   ]
  },
  {
   "cell_type": "markdown",
   "id": "d0ceba7f",
   "metadata": {},
   "source": [
    "### Q9. How do you distinguish between a wrapper, a wrapped feature, and a decorator?"
   ]
  },
  {
   "cell_type": "markdown",
   "id": "d08df8d6",
   "metadata": {},
   "source": [
    "Wrappers around the functions are also knows as decorators which are a very powerful and useful tool in Python since it allows programmers to modify the behavior of function or class. Decorators allow us to wrap another function in order to extend the behavior of the wrapped function, without permanently modifying it. "
   ]
  },
  {
   "cell_type": "markdown",
   "id": "adde8a9e",
   "metadata": {},
   "source": [
    "### Q10. If a function is a generator function, what does it return?"
   ]
  },
  {
   "cell_type": "markdown",
   "id": "580b836b",
   "metadata": {},
   "source": [
    "A generator is a special type of function which does not return a single value, instead, it returns an iterator object with a sequence of values. In a generator function, a yield statement is used rather than a return statement."
   ]
  },
  {
   "cell_type": "code",
   "execution_count": 6,
   "id": "53249383",
   "metadata": {},
   "outputs": [],
   "source": [
    "def gen():\n",
    "    yield 1\n",
    "    yield 2\n",
    "    yield 3"
   ]
  },
  {
   "cell_type": "code",
   "execution_count": 7,
   "id": "d7c7680c",
   "metadata": {},
   "outputs": [],
   "source": [
    "g = gen()"
   ]
  },
  {
   "cell_type": "code",
   "execution_count": 8,
   "id": "45ac592b",
   "metadata": {},
   "outputs": [
    {
     "data": {
      "text/plain": [
       "1"
      ]
     },
     "execution_count": 8,
     "metadata": {},
     "output_type": "execute_result"
    }
   ],
   "source": [
    "next(g)"
   ]
  },
  {
   "cell_type": "code",
   "execution_count": 9,
   "id": "67ade843",
   "metadata": {},
   "outputs": [
    {
     "data": {
      "text/plain": [
       "2"
      ]
     },
     "execution_count": 9,
     "metadata": {},
     "output_type": "execute_result"
    }
   ],
   "source": [
    "next(g)"
   ]
  },
  {
   "cell_type": "code",
   "execution_count": 10,
   "id": "60b54f96",
   "metadata": {},
   "outputs": [
    {
     "data": {
      "text/plain": [
       "generator"
      ]
     },
     "execution_count": 10,
     "metadata": {},
     "output_type": "execute_result"
    }
   ],
   "source": [
    "type(g)"
   ]
  },
  {
   "cell_type": "markdown",
   "id": "f0875c95",
   "metadata": {},
   "source": [
    "### Q11. What is the one improvement that must be made to a function in order for it to become a generator function in the Python language?"
   ]
  },
  {
   "cell_type": "markdown",
   "id": "1aa4d4b7",
   "metadata": {},
   "source": [
    "we must use __yield__ statement instead of __return__ to make normal function into generator function."
   ]
  },
  {
   "cell_type": "markdown",
   "id": "a5a47bed",
   "metadata": {},
   "source": [
    "### Q12. Identify at least one benefit of generators."
   ]
  },
  {
   "cell_type": "markdown",
   "id": "62133304",
   "metadata": {},
   "source": [
    "- Memory efficient method of generating sequence types in python.\n",
    "- Time-efficient when compared to list comparisons.\n",
    "- Adds further brevity and readability to written code."
   ]
  },
  {
   "cell_type": "code",
   "execution_count": null,
   "id": "60f98cd0",
   "metadata": {},
   "outputs": [],
   "source": []
  }
 ],
 "metadata": {
  "kernelspec": {
   "display_name": "Python 3 (ipykernel)",
   "language": "python",
   "name": "python3"
  },
  "language_info": {
   "codemirror_mode": {
    "name": "ipython",
    "version": 3
   },
   "file_extension": ".py",
   "mimetype": "text/x-python",
   "name": "python",
   "nbconvert_exporter": "python",
   "pygments_lexer": "ipython3",
   "version": "3.9.7"
  }
 },
 "nbformat": 4,
 "nbformat_minor": 5
}
