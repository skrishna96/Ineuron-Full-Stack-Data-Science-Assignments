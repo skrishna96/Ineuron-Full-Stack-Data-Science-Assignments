{
 "cells": [
  {
   "cell_type": "markdown",
   "id": "6c002786",
   "metadata": {},
   "source": [
    "### Q1. Does assigning a value to a string&#39;s indexed character violate Python&#39;s string immutability?"
   ]
  },
  {
   "cell_type": "markdown",
   "id": "75b96368",
   "metadata": {},
   "source": [
    "We cannot replace particular index position in string because strings are immutable."
   ]
  },
  {
   "cell_type": "code",
   "execution_count": 2,
   "id": "79d796ef",
   "metadata": {},
   "outputs": [
    {
     "ename": "TypeError",
     "evalue": "'str' object does not support item assignment",
     "output_type": "error",
     "traceback": [
      "\u001b[1;31m---------------------------------------------------------------------------\u001b[0m",
      "\u001b[1;31mTypeError\u001b[0m                                 Traceback (most recent call last)",
      "\u001b[1;32m~\\AppData\\Local\\Temp/ipykernel_6340/1388128091.py\u001b[0m in \u001b[0;36m<module>\u001b[1;34m\u001b[0m\n\u001b[0;32m      1\u001b[0m \u001b[0ms\u001b[0m \u001b[1;33m=\u001b[0m \u001b[1;34m\"sai\"\u001b[0m\u001b[1;33m\u001b[0m\u001b[1;33m\u001b[0m\u001b[0m\n\u001b[1;32m----> 2\u001b[1;33m \u001b[0ms\u001b[0m\u001b[1;33m[\u001b[0m\u001b[1;36m0\u001b[0m\u001b[1;33m]\u001b[0m \u001b[1;33m=\u001b[0m \u001b[1;34m'r'\u001b[0m\u001b[1;33m\u001b[0m\u001b[1;33m\u001b[0m\u001b[0m\n\u001b[0m",
      "\u001b[1;31mTypeError\u001b[0m: 'str' object does not support item assignment"
     ]
    }
   ],
   "source": [
    "s = \"sai\"\n",
    "s[0] = 'r'"
   ]
  },
  {
   "cell_type": "markdown",
   "id": "bcccfde1",
   "metadata": {},
   "source": [
    "### Q2. Does using the += operator to concatenate strings violate Python&#39;s string immutability? Why or why not?"
   ]
  },
  {
   "cell_type": "markdown",
   "id": "0d8ac9fe",
   "metadata": {},
   "source": [
    "Using the += operator to concatenate strings violate Python's string immutability. if we add/change any value it will store that value in new memory location."
   ]
  },
  {
   "cell_type": "code",
   "execution_count": 7,
   "id": "a13e3533",
   "metadata": {},
   "outputs": [
    {
     "data": {
      "text/plain": [
       "2932812507568"
      ]
     },
     "execution_count": 7,
     "metadata": {},
     "output_type": "execute_result"
    }
   ],
   "source": [
    "s = \"sai\"\n",
    "id(s)"
   ]
  },
  {
   "cell_type": "code",
   "execution_count": 8,
   "id": "cb5c36cb",
   "metadata": {},
   "outputs": [
    {
     "data": {
      "text/plain": [
       "2932811731120"
      ]
     },
     "execution_count": 8,
     "metadata": {},
     "output_type": "execute_result"
    }
   ],
   "source": [
    "s += \"s\"\n",
    "id(s)"
   ]
  },
  {
   "cell_type": "markdown",
   "id": "59b3da23",
   "metadata": {},
   "source": [
    "### Q3. In Python, how many different ways are there to index a character?"
   ]
  },
  {
   "cell_type": "markdown",
   "id": "ec7e65f8",
   "metadata": {},
   "source": [
    "We can access characters in a String in Two ways : \n",
    "- Accessing Characters by Positive Index Number. \n",
    "- Accessing Characters by Negative Index Number."
   ]
  },
  {
   "cell_type": "code",
   "execution_count": 9,
   "id": "91508716",
   "metadata": {},
   "outputs": [
    {
     "data": {
      "text/plain": [
       "'s'"
      ]
     },
     "execution_count": 9,
     "metadata": {},
     "output_type": "execute_result"
    }
   ],
   "source": [
    "s = \"sai\"\n",
    "s[0]"
   ]
  },
  {
   "cell_type": "code",
   "execution_count": 10,
   "id": "c3245b99",
   "metadata": {},
   "outputs": [
    {
     "data": {
      "text/plain": [
       "'a'"
      ]
     },
     "execution_count": 10,
     "metadata": {},
     "output_type": "execute_result"
    }
   ],
   "source": [
    "s[-2]"
   ]
  },
  {
   "cell_type": "markdown",
   "id": "c0700d4b",
   "metadata": {},
   "source": [
    "### Q4. What is the relationship between indexing and slicing?"
   ]
  },
  {
   "cell_type": "markdown",
   "id": "d7b5a834",
   "metadata": {},
   "source": [
    "“Indexing” means referring to an element of an iterable by its position within the iterable. <br>\n",
    "“Slicing” means getting a subset of elements from an iterable based on their indices."
   ]
  },
  {
   "cell_type": "code",
   "execution_count": 11,
   "id": "2369385b",
   "metadata": {},
   "outputs": [
    {
     "data": {
      "text/plain": [
       "'a'"
      ]
     },
     "execution_count": 11,
     "metadata": {},
     "output_type": "execute_result"
    }
   ],
   "source": [
    "s = \"data science\"\n",
    "s[1] #indexing"
   ]
  },
  {
   "cell_type": "code",
   "execution_count": 13,
   "id": "08407ef6",
   "metadata": {},
   "outputs": [
    {
     "data": {
      "text/plain": [
       "'ata '"
      ]
     },
     "execution_count": 13,
     "metadata": {},
     "output_type": "execute_result"
    }
   ],
   "source": [
    "s[1:5] #slicing"
   ]
  },
  {
   "cell_type": "markdown",
   "id": "d3fbf964",
   "metadata": {},
   "source": [
    "### Q5. What is an indexed character&#39;s exact data type? What is the data form of a slicing-generated substring?"
   ]
  },
  {
   "cell_type": "markdown",
   "id": "dfe14030",
   "metadata": {},
   "source": [
    "index character's and slicing-generated substring's datatypes are string."
   ]
  },
  {
   "cell_type": "code",
   "execution_count": 15,
   "id": "020177b3",
   "metadata": {},
   "outputs": [
    {
     "data": {
      "text/plain": [
       "str"
      ]
     },
     "execution_count": 15,
     "metadata": {},
     "output_type": "execute_result"
    }
   ],
   "source": [
    "s = \"datascience\"\n",
    "type(s[1:5])"
   ]
  },
  {
   "cell_type": "markdown",
   "id": "fde8237d",
   "metadata": {},
   "source": [
    "### Q6. What is the relationship between string and character &quot;types&quot; in Python?"
   ]
  },
  {
   "cell_type": "markdown",
   "id": "c1e6403c",
   "metadata": {},
   "source": [
    "In Python, strings are ordered sequences of character data."
   ]
  },
  {
   "cell_type": "markdown",
   "id": "377f860d",
   "metadata": {},
   "source": [
    "### Q7. Identify at least two operators and one method that allow you to combine one or more smaller strings to create a larger string."
   ]
  },
  {
   "cell_type": "markdown",
   "id": "8c43cf4e",
   "metadata": {},
   "source": [
    "we can use __+=__ and __*__ operators and __join__ method to combine one or more smaller strings to create a larger string."
   ]
  },
  {
   "cell_type": "code",
   "execution_count": 17,
   "id": "fbadb303",
   "metadata": {},
   "outputs": [
    {
     "name": "stdout",
     "output_type": "stream",
     "text": [
      "data\n"
     ]
    }
   ],
   "source": [
    "s = \"data\"\n",
    "print(s)"
   ]
  },
  {
   "cell_type": "code",
   "execution_count": 18,
   "id": "d1e5a053",
   "metadata": {},
   "outputs": [
    {
     "name": "stdout",
     "output_type": "stream",
     "text": [
      "data science\n"
     ]
    }
   ],
   "source": [
    "s += \" science\"\n",
    "print(s)"
   ]
  },
  {
   "cell_type": "code",
   "execution_count": 19,
   "id": "2accf443",
   "metadata": {},
   "outputs": [
    {
     "name": "stdout",
     "output_type": "stream",
     "text": [
      "data sciencedata science\n"
     ]
    }
   ],
   "source": [
    "s = s * 2\n",
    "print(s)"
   ]
  },
  {
   "cell_type": "code",
   "execution_count": 20,
   "id": "6dd3168b",
   "metadata": {},
   "outputs": [
    {
     "name": "stdout",
     "output_type": "stream",
     "text": [
      "data\n"
     ]
    }
   ],
   "source": [
    "s = \"\".join(['d','a','t','a'])\n",
    "print(s)"
   ]
  },
  {
   "cell_type": "markdown",
   "id": "d4db5925",
   "metadata": {},
   "source": [
    "### Q8. What is the benefit of first checking the target string with in or not in before using the index method to find a substring?"
   ]
  },
  {
   "cell_type": "markdown",
   "id": "3514537f",
   "metadata": {},
   "source": [
    "Checking the target string with in or not Operators before using the index method to find a substring just helps confirming availability of substring and thus avoid raising of ValueError."
   ]
  },
  {
   "cell_type": "code",
   "execution_count": 21,
   "id": "e18ad249",
   "metadata": {},
   "outputs": [
    {
     "name": "stdout",
     "output_type": "stream",
     "text": [
      "0\n"
     ]
    }
   ],
   "source": [
    "s = \"data\"\n",
    "if \"d\" in s:\n",
    "    print(s.index(\"d\"))"
   ]
  },
  {
   "cell_type": "markdown",
   "id": "1520ae3c",
   "metadata": {},
   "source": [
    "### Q9. Which operators and built-in string methods produce simple Boolean (true/false) results?"
   ]
  },
  {
   "cell_type": "markdown",
   "id": "a5d85a71",
   "metadata": {},
   "source": [
    "- in\n",
    "- not\n",
    "- str.isalpha()\n",
    "- str.isalnum()\n",
    "- str.isdecimal()\n",
    "- str.isdigit()\n",
    "- str.islower()\n",
    "- str.isnumeric()\n",
    "- str.isprintable()\n",
    "- str.isspace()\n",
    "- str.istitle()"
   ]
  },
  {
   "cell_type": "code",
   "execution_count": null,
   "id": "1d919e00",
   "metadata": {},
   "outputs": [],
   "source": []
  }
 ],
 "metadata": {
  "kernelspec": {
   "display_name": "Python 3 (ipykernel)",
   "language": "python",
   "name": "python3"
  },
  "language_info": {
   "codemirror_mode": {
    "name": "ipython",
    "version": 3
   },
   "file_extension": ".py",
   "mimetype": "text/x-python",
   "name": "python",
   "nbconvert_exporter": "python",
   "pygments_lexer": "ipython3",
   "version": "3.9.7"
  }
 },
 "nbformat": 4,
 "nbformat_minor": 5
}
