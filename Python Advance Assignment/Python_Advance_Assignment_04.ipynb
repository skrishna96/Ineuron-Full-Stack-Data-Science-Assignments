{
 "cells": [
  {
   "cell_type": "markdown",
   "id": "0bfbe78a",
   "metadata": {},
   "source": [
    "### Q1. Which two operator overloading methods can you use in your classes to support iteration?"
   ]
  },
  {
   "cell_type": "markdown",
   "id": "6a3c333d",
   "metadata": {},
   "source": [
    "\\_\\_iter__ and \\_\\_next__ are the two operator overloading methods can you use in your classes to support iteration.<br>\n",
    "The \\_\\_iter__() function returns an iterator for the given object (array, set, tuple, etc. or custom objects). It creates an object that can be accessed one element at a time using \\_\\_next__() function, which generally comes in handy when dealing with loops."
   ]
  },
  {
   "cell_type": "markdown",
   "id": "b3ecf070",
   "metadata": {},
   "source": [
    "### Q2. In what contexts do the two operator overloading methods manage printing?"
   ]
  },
  {
   "cell_type": "markdown",
   "id": "bcab62b8",
   "metadata": {},
   "source": [
    "The str() built-in is used to cast an instance of a class to a str object, or more appropriately, to obtain a user-friendly string representation of the object which can be read by a normal user rather than the programmer."
   ]
  },
  {
   "cell_type": "code",
   "execution_count": 7,
   "id": "bb011617",
   "metadata": {},
   "outputs": [
    {
     "data": {
      "text/plain": [
       "'Sai'"
      ]
     },
     "execution_count": 7,
     "metadata": {},
     "output_type": "execute_result"
    }
   ],
   "source": [
    "class MyClass:\n",
    "    def __init__(self,name):\n",
    "        self.name = name\n",
    "    def __str__(self):\n",
    "        return self.name\n",
    "c = MyClass(\"Sai\")\n",
    "str(c)"
   ]
  },
  {
   "cell_type": "code",
   "execution_count": 8,
   "id": "78e7e0e4",
   "metadata": {},
   "outputs": [
    {
     "name": "stdout",
     "output_type": "stream",
     "text": [
      "Sai\n"
     ]
    }
   ],
   "source": [
    "print(c)"
   ]
  },
  {
   "cell_type": "markdown",
   "id": "6d5c427c",
   "metadata": {},
   "source": [
    "The repr() built-in is used to obtain the parsable string representation of an object. If an object is parsable, that means that Python should be able to recreate the object from the representation when repr is used in conjunction with functions like eval(). To define the behavior of repr(), you can use the \\_\\_repr__() special method."
   ]
  },
  {
   "cell_type": "code",
   "execution_count": 9,
   "id": "64374a0b",
   "metadata": {},
   "outputs": [
    {
     "data": {
      "text/plain": [
       "'Sai'"
      ]
     },
     "execution_count": 9,
     "metadata": {},
     "output_type": "execute_result"
    }
   ],
   "source": [
    "class MyClass:\n",
    "    def __init__(self,name):\n",
    "        self.name = name\n",
    "    def __repr__(self):\n",
    "        return self.name\n",
    "c = MyClass(\"Sai\")\n",
    "repr(c)"
   ]
  },
  {
   "cell_type": "code",
   "execution_count": 10,
   "id": "2932fbe8",
   "metadata": {},
   "outputs": [
    {
     "name": "stdout",
     "output_type": "stream",
     "text": [
      "Sai\n"
     ]
    }
   ],
   "source": [
    "print(c)"
   ]
  },
  {
   "cell_type": "markdown",
   "id": "64a12021",
   "metadata": {},
   "source": [
    "### Q3. In a class, how do you intercept slice operations?"
   ]
  },
  {
   "cell_type": "markdown",
   "id": "0bae7580",
   "metadata": {},
   "source": [
    "slice is a constructor in Python that creates slice object to represent set of indices that the range(start, stop, step) specifies. \\_\\_getitem__ method can be implement in a class, and the behavior of slicing can be defined inside it."
   ]
  },
  {
   "cell_type": "code",
   "execution_count": 11,
   "id": "0015a5a0",
   "metadata": {},
   "outputs": [
    {
     "name": "stdout",
     "output_type": "stream",
     "text": [
      "ab\n"
     ]
    }
   ],
   "source": [
    "sliced ='abcde'.__getitem__(slice(0, 2, 1)) \n",
    "print(sliced)"
   ]
  },
  {
   "cell_type": "markdown",
   "id": "fd8695d4",
   "metadata": {},
   "source": [
    "### Q4. In a class, how do you capture in-place addition?"
   ]
  },
  {
   "cell_type": "markdown",
   "id": "6b8f9887",
   "metadata": {},
   "source": [
    "To implement += in-place augmented addition, code either an \\_\\_iadd__ or an \\_\\_add__.<br>\n",
    "The latter is used if the former is absent."
   ]
  },
  {
   "cell_type": "code",
   "execution_count": 15,
   "id": "7fd60aa2",
   "metadata": {},
   "outputs": [],
   "source": [
    "class MyClass:\n",
    "    def __init__(self,num):\n",
    "        self.num = num\n",
    "    def __iadd__(self, other):\n",
    "        return self.num + other.num"
   ]
  },
  {
   "cell_type": "code",
   "execution_count": 19,
   "id": "8b9df75e",
   "metadata": {},
   "outputs": [
    {
     "name": "stdout",
     "output_type": "stream",
     "text": [
      "5\n"
     ]
    }
   ],
   "source": [
    "m = MyClass(2)\n",
    "n = MyClass(3)\n",
    "m += n\n",
    "print(m)"
   ]
  },
  {
   "cell_type": "markdown",
   "id": "8a1f4329",
   "metadata": {},
   "source": [
    "### Q5. When is it appropriate to use operator overloading?"
   ]
  },
  {
   "cell_type": "markdown",
   "id": "2bc35172",
   "metadata": {},
   "source": [
    "Operator overloading provides the ability to override the functionality of a built-in operator in user-defined classes.<br>\n",
    "Operator overloading is mostly useful when you're making a new class that falls into an existing \"Abstract Base Class\" (ABC) -- indeed, many of the ABCs in standard library module collections rely on the presence of certain special methods (and special methods, one with names starting and ending with double underscores"
   ]
  },
  {
   "cell_type": "code",
   "execution_count": 21,
   "id": "ece865a4",
   "metadata": {},
   "outputs": [
    {
     "name": "stdout",
     "output_type": "stream",
     "text": [
      "3\n"
     ]
    }
   ],
   "source": [
    "class A:\n",
    "    def __init__(self, num):\n",
    "        self.num = num\n",
    "    def __add__(self, other):\n",
    "        return self.num + other.num\n",
    "ob1 = A(1)\n",
    "ob2 = A(2)\n",
    "print(ob1 + ob2)"
   ]
  },
  {
   "cell_type": "code",
   "execution_count": null,
   "id": "21f86846",
   "metadata": {},
   "outputs": [],
   "source": []
  }
 ],
 "metadata": {
  "kernelspec": {
   "display_name": "Python 3 (ipykernel)",
   "language": "python",
   "name": "python3"
  },
  "language_info": {
   "codemirror_mode": {
    "name": "ipython",
    "version": 3
   },
   "file_extension": ".py",
   "mimetype": "text/x-python",
   "name": "python",
   "nbconvert_exporter": "python",
   "pygments_lexer": "ipython3",
   "version": "3.10.0"
  }
 },
 "nbformat": 4,
 "nbformat_minor": 5
}
