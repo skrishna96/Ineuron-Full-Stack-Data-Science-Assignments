{
 "cells": [
  {
   "cell_type": "markdown",
   "id": "26c56f43",
   "metadata": {},
   "source": [
    "### Q1. What is the concept of a metaclass?"
   ]
  },
  {
   "cell_type": "markdown",
   "id": "25fb1a53",
   "metadata": {},
   "source": [
    "A metaclass in python is a way to describe a specific behaviour for its instances, which are python classes. A metaclass is the blueprint of the class itself, just like a class is the blueprint for instances of that class. The default metaclass is type, and all metaclasses must derive from type."
   ]
  },
  {
   "cell_type": "markdown",
   "id": "cf2f91de",
   "metadata": {},
   "source": [
    "### Q2. What is the best way to declare a class&#39;s metaclass?"
   ]
  },
  {
   "cell_type": "code",
   "execution_count": 1,
   "id": "5550c4bb",
   "metadata": {},
   "outputs": [],
   "source": [
    "class MyMeta(type):\n",
    "    pass\n",
    "\n",
    "class MyClass(metaclass=MyMeta):\n",
    "    pass\n",
    "\n",
    "class MySubclass(MyClass):\n",
    "    pass"
   ]
  },
  {
   "cell_type": "code",
   "execution_count": 2,
   "id": "eda56489",
   "metadata": {},
   "outputs": [
    {
     "name": "stdout",
     "output_type": "stream",
     "text": [
      "<class 'type'>\n",
      "<class '__main__.MyMeta'>\n",
      "<class '__main__.MyMeta'>\n"
     ]
    }
   ],
   "source": [
    "print(type(MyMeta))\n",
    "print(type(MyClass))\n",
    "print(type(MySubclass))"
   ]
  },
  {
   "cell_type": "markdown",
   "id": "32d02104",
   "metadata": {},
   "source": [
    "### Q3. How do class decorators overlap with metaclasses for handling classes?"
   ]
  },
  {
   "cell_type": "markdown",
   "id": "5b06a3c4",
   "metadata": {},
   "source": [
    "Decorators are much, much simpler and more limited -- and therefore should be preferred whenever the desired effect can be achieved with either a metaclass or a class decorator.<br>\n",
    "Anything you can do with a class decorator, you can of course do with a custom metaclass (just apply the functionality of the \"decorator function\", i.e., the one that takes a class object and modifies it, in the course of the metaclass's __new__ or __init__ that make the class object!-).<br>\n",
    "Combined with the normal __init__ and __new__ methods, metaclasses therefore allow you to do extra things when creating a class, like registering the new class with some registry or replace the class with something else entirely."
   ]
  },
  {
   "cell_type": "markdown",
   "id": "4de7320d",
   "metadata": {},
   "source": [
    "### Q4. How do class decorators overlap with metaclasses for handling instances?"
   ]
  },
  {
   "cell_type": "markdown",
   "id": "5799395e",
   "metadata": {},
   "source": [
    "Decorators can be used to manage both instances and classes, and they intersect with metaclasses in the second of these roles.<br>\n",
    "However, this really addresses only one operational mode of metaclasses. As we'll see, decorators correspond to metaclass__init_methods in this role, but metaclasses have additional customization hooks. As we'll also see, in addition to class initialization, metaclasses can perform arbitrary construction tasks that might be more difficult with decorators."
   ]
  },
  {
   "cell_type": "code",
   "execution_count": null,
   "id": "fb82bc72",
   "metadata": {},
   "outputs": [],
   "source": []
  }
 ],
 "metadata": {
  "kernelspec": {
   "display_name": "Python 3 (ipykernel)",
   "language": "python",
   "name": "python3"
  },
  "language_info": {
   "codemirror_mode": {
    "name": "ipython",
    "version": 3
   },
   "file_extension": ".py",
   "mimetype": "text/x-python",
   "name": "python",
   "nbconvert_exporter": "python",
   "pygments_lexer": "ipython3",
   "version": "3.9.7"
  }
 },
 "nbformat": 4,
 "nbformat_minor": 5
}
