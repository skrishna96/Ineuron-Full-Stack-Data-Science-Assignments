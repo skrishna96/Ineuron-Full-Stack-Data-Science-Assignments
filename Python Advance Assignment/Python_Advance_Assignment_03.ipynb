{
 "cells": [
  {
   "cell_type": "markdown",
   "id": "50935a6c",
   "metadata": {},
   "source": [
    "### 1. What is the concept of an abstract superclass?"
   ]
  },
  {
   "cell_type": "markdown",
   "id": "20de7d8e",
   "metadata": {},
   "source": [
    "- Abstraction is the concept in object-oriented programming that is used to hide the internal functionality of the classes from the users.\n",
    "- An abstract class in Python is typically created to declare a set of methods that must be created in any child class built on top of this abstract class. \n",
    "- Similarly, an abstract method is one that doesn't have any implementation."
   ]
  },
  {
   "cell_type": "markdown",
   "id": "9df41942",
   "metadata": {},
   "source": [
    "### 2. What happens when a class statement's top level contains a basic assignment statement?"
   ]
  },
  {
   "cell_type": "markdown",
   "id": "b5d479c9",
   "metadata": {},
   "source": [
    "- When a class statement's top level contains a basic assignment statement, then it will be treated as class variable.\n",
    "- Class variables are shared by all instances of a class. \n",
    "- Class variables are defined within a class but outside any of the class's methods."
   ]
  },
  {
   "cell_type": "markdown",
   "id": "3d59fe05",
   "metadata": {},
   "source": [
    "### 3. Why does a class need to manually call a superclass's __init__ method?"
   ]
  },
  {
   "cell_type": "markdown",
   "id": "e2d48cd7",
   "metadata": {},
   "source": [
    "if a child class has __init__ method, then it will not inherit the __init__ method of the parent class. in other words the __init__ method of the child class overrides the __init__ method of the parent class. so we have to manually call a parent superclass's __init__ using super() method"
   ]
  },
  {
   "cell_type": "markdown",
   "id": "4caf084f",
   "metadata": {},
   "source": [
    "### 4. How can you augment, instead of completely replacing, an inherited method?"
   ]
  },
  {
   "cell_type": "markdown",
   "id": "cc4e1890",
   "metadata": {},
   "source": [
    "To augment instead of completely replacing an inherited method, redefine it in a subclass, but call back to the superclass’s version of the method manually from the new version of the method in the subclass. "
   ]
  },
  {
   "cell_type": "code",
   "execution_count": 5,
   "id": "810c183a",
   "metadata": {},
   "outputs": [
    {
     "name": "stdout",
     "output_type": "stream",
     "text": [
      "{'name': 'sai', 'sal': 1000}\n"
     ]
    }
   ],
   "source": [
    "class SuperClass:\n",
    "    def __init__(self,name):\n",
    "        self.name= name\n",
    "class SubClass(SuperClass):\n",
    "    def __init__(self,name,sal):\n",
    "        super().__init__(name)\n",
    "        self.sal = sal\n",
    "sub = SubClass(\"sai\",1000)\n",
    "print(sub.__dict__)"
   ]
  },
  {
   "cell_type": "markdown",
   "id": "72df64e4",
   "metadata": {},
   "source": [
    "### 5. How is the local scope of a class different from that of a function?"
   ]
  },
  {
   "cell_type": "markdown",
   "id": "37c2996e",
   "metadata": {},
   "source": [
    "- A variable created inside a function belongs to the local scope of that function, and can only be used inside that function.\n",
    "- Similary a variable inside of a class also has a local variable scope. Variables which are defined in the class body (but outside all methods) are called as class level variables or class attributes."
   ]
  },
  {
   "cell_type": "code",
   "execution_count": null,
   "id": "0cb8f3f9",
   "metadata": {},
   "outputs": [],
   "source": []
  }
 ],
 "metadata": {
  "kernelspec": {
   "display_name": "Python 3 (ipykernel)",
   "language": "python",
   "name": "python3"
  },
  "language_info": {
   "codemirror_mode": {
    "name": "ipython",
    "version": 3
   },
   "file_extension": ".py",
   "mimetype": "text/x-python",
   "name": "python",
   "nbconvert_exporter": "python",
   "pygments_lexer": "ipython3",
   "version": "3.10.0"
  }
 },
 "nbformat": 4,
 "nbformat_minor": 5
}
