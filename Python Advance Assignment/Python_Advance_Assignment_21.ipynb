{
 "cells": [
  {
   "cell_type": "markdown",
   "id": "7770e734",
   "metadata": {},
   "source": [
    "### Q1. What is a probability distribution, exactly? If the values are meant to be random, how can you predict them at all?"
   ]
  },
  {
   "cell_type": "markdown",
   "id": "691a8ab1",
   "metadata": {},
   "source": [
    "A probability distribution is a statistical function that describes all the possible values and probabilities for a random variable within a given range. This range will be bound by the minimum and maximum possible values, but where the possible value would be plotted on the probability distribution will be determined by a number of factors. The mean (average), standard deviation, skewness, and kurtosis of the distribution are among these factors."
   ]
  },
  {
   "cell_type": "markdown",
   "id": "c68019db",
   "metadata": {},
   "source": [
    "### Q2. Is there a distinction between true random numbers and pseudo-random numbers, if there is one? Why are the latter considered “good enough”?"
   ]
  },
  {
   "cell_type": "markdown",
   "id": "8ac7c0b8",
   "metadata": {},
   "source": [
    "The difference between true random number generators(TRNGs) and pseudo-random number generators(PRNGs) is that TRNGs use an unpredictable physical means to generate numbers (like atmospheric noise), and PRNGs use mathematical algorithms (completely computer-generated).<br>\n",
    "efficiency of a Pseudo-RNG is that you can reproduce the same sequence of numbers in another time by simply knowing the starting point of the sequence (thus it is also periodic and the sequence will repeat itself in due time). This better facilitates inspections done by casino control boards. But you can be sure that the sequence of numbers produced by a Pseudo-RNG, though periodic, the time to reproduce the same sequence will eventually take a really long time that unless you acquire the actual algorithms, the correct sequence will be very difficult (almost impossible) to crack."
   ]
  },
  {
   "cell_type": "markdown",
   "id": "fb3c65a4",
   "metadata": {},
   "source": [
    "### Q3. What are the two main factors that influence the behaviour of a &quot;normal&quot; probability distribution?"
   ]
  },
  {
   "cell_type": "markdown",
   "id": "f2fdecd7",
   "metadata": {},
   "source": [
    "The two main factors that influence the behaviour of a \"normal\" probability distribution are __mean__ and the __standard deviation__. The mean of the distribution determines the location of the center of the graph, and the standard deviation determines the height and width of the graph."
   ]
  },
  {
   "cell_type": "markdown",
   "id": "fb23a896",
   "metadata": {},
   "source": [
    "### Q4. Provide a real-life example of a normal distribution."
   ]
  },
  {
   "cell_type": "markdown",
   "id": "00d5914f",
   "metadata": {},
   "source": [
    "- Height of the population\n",
    "- A fair rolling of dice\n",
    "- Flipping a coin"
   ]
  },
  {
   "cell_type": "markdown",
   "id": "e33d0232",
   "metadata": {},
   "source": [
    "### Q5. In the short term, how can you expect a probability distribution to behave? What do you think will happen as the number of trials grows?"
   ]
  },
  {
   "cell_type": "markdown",
   "id": "35aaeb72",
   "metadata": {},
   "source": [
    "In a probability distribution , the weighted average of possible values of a random variable, with weights given by their respective theoretical probabilities, is known as the expected value , usually represented by E(x) ."
   ]
  },
  {
   "cell_type": "markdown",
   "id": "0964fe07",
   "metadata": {},
   "source": [
    "### Q6. What kind of object can be shuffled by using random.shuffle?"
   ]
  },
  {
   "cell_type": "markdown",
   "id": "a1e94c6a",
   "metadata": {},
   "source": [
    "The __shuffle()__ method takes a sequence, like a list,tuple,str and reorganize the order of the items."
   ]
  },
  {
   "cell_type": "markdown",
   "id": "9acca155",
   "metadata": {},
   "source": [
    "### Q7. Describe the math package&#39;s general categories of functions."
   ]
  },
  {
   "cell_type": "markdown",
   "id": "136719d4",
   "metadata": {},
   "source": [
    "The Math package's general categories of functions are:\n",
    "- Trigonometric functions\n",
    "- Quadratic functions\n",
    "- Exponential functions\n",
    "- Hyperbolic functions\n",
    "- Periodic functions\n",
    "- Arithmetic functions\n",
    "- Logarithimic functions\n",
    "- Conversions to Integer"
   ]
  },
  {
   "cell_type": "markdown",
   "id": "bb58456a",
   "metadata": {},
   "source": [
    "### Q8. What is the relationship between exponentiation and logarithms?"
   ]
  },
  {
   "cell_type": "markdown",
   "id": "d8d66a15",
   "metadata": {},
   "source": [
    "Logarithmic and Exponential are inverse function to eachother.<br>\n",
    "Logarithmic function undo the thing done by exponential function.<br>\n",
    "Ex: exponential function 2^3 = 8<br>\n",
    "NOTE: Please read 2 when powered by 3 = 8<br>\n",
    "So Logarithmic function will tell the value by which when 2 is powered it gives output as 8<br>\n",
    "So it is shown as log2(8) = 3<br>\n",
    "NOTE: Please read log8 (Base as 2) = 3<br>\n",
    "So both Logarithmic and Exponential show inverse function to eachother.<br>"
   ]
  },
  {
   "cell_type": "markdown",
   "id": "a24fcfce",
   "metadata": {},
   "source": [
    "### Q9. What are the three logarithmic functions that Python supports?"
   ]
  },
  {
   "cell_type": "markdown",
   "id": "1acd80a2",
   "metadata": {},
   "source": [
    "Python offers many inbuild logarithmic functions under the module “math” which allows us to compute logs using a single line.<br>\n",
    "1.__log(a,(Base))__: This function is used to compute the natural logarithm (Base e) of a. If 2 arguments are passed, it computes the logarithm of the desired base of argument a, numerically value of log(a)/log(Base).<br>\n",
    "2.__log2(a)__: This function is used to compute the logarithm base 2 of a.<br>\n",
    "3.__log10(a)__: This function is used to compute the logarithm base 10 of a.<br>\n",
    "4.__log1p(a)__: This function is used to compute logarithm(1+a).<br> "
   ]
  },
  {
   "cell_type": "code",
   "execution_count": null,
   "id": "319d5c1e",
   "metadata": {},
   "outputs": [],
   "source": []
  }
 ],
 "metadata": {
  "kernelspec": {
   "display_name": "Python 3 (ipykernel)",
   "language": "python",
   "name": "python3"
  },
  "language_info": {
   "codemirror_mode": {
    "name": "ipython",
    "version": 3
   },
   "file_extension": ".py",
   "mimetype": "text/x-python",
   "name": "python",
   "nbconvert_exporter": "python",
   "pygments_lexer": "ipython3",
   "version": "3.9.7"
  }
 },
 "nbformat": 4,
 "nbformat_minor": 5
}
