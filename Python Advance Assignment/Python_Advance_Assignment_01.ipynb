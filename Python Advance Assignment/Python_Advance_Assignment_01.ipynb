{
 "cells": [
  {
   "cell_type": "markdown",
   "id": "6473fbee",
   "metadata": {},
   "source": [
    "### Q1. What is the purpose of Python's OOP?"
   ]
  },
  {
   "cell_type": "markdown",
   "id": "73dbfa8a",
   "metadata": {},
   "source": [
    "The concept of OOP in Python focuses on creating reusable code.  It aims to implement real-world entities like inheritance, polymorphisms, encapsulation, etc. in the programming.\n",
    "- Object-Oriented Programming makes the program easy to understand as well as efficient.\n",
    "- Since the class is sharable, the code can be reused.\n",
    "- Data is safe and secure with data abstraction.\n",
    "- Polymorphism allows the same interface for different objects, so programmers can write efficient code."
   ]
  },
  {
   "cell_type": "markdown",
   "id": "9a664174",
   "metadata": {},
   "source": [
    "### Q2. Where does an inheritance search look for an attribute?"
   ]
  },
  {
   "cell_type": "markdown",
   "id": "e3fc6e9a",
   "metadata": {},
   "source": [
    "The inheritance search look for an attribute in its own class, if not, then search in its parent classes in depth-first, left-right order. This is also called as Method Resolution Order(MRO)."
   ]
  },
  {
   "cell_type": "markdown",
   "id": "9c6daf54",
   "metadata": {},
   "source": [
    "### Q3. How do you distinguish between a class object and an instance object?"
   ]
  },
  {
   "cell_type": "markdown",
   "id": "44ea6e81",
   "metadata": {},
   "source": [
    "- when we create a class in python then a class object is created so whenever python finds a class statement in the whole program then it creates a class object and assigns a name to that object i.e. class name. <br>\n",
    "__class Myclass:<br>\n",
    "    pass__<br>\n",
    "- when we call a class, it creates an instance object of that class from which the object has been created.<br>\n",
    "__obj1 = Myclass()__<br>\n",
    "- class object inherits the attributes of its parent classes. instance object inherits the attributes of the class object from which it was created."
   ]
  },
  {
   "cell_type": "markdown",
   "id": "459efbce",
   "metadata": {},
   "source": [
    "### Q4. What makes the first argument in a class’s method function special?"
   ]
  },
  {
   "cell_type": "markdown",
   "id": "f3d91078",
   "metadata": {},
   "source": [
    "- A class method is similar to an instance method, but it has a class object passed as its first argument. this argument is always named self.\n",
    "- In the init method, self refers to the newly created object; in other class methods, it refers to the instance whose method was called."
   ]
  },
  {
   "cell_type": "markdown",
   "id": "0733b942",
   "metadata": {},
   "source": [
    "### Q5. What is the purpose of the __init__ method?"
   ]
  },
  {
   "cell_type": "markdown",
   "id": "bd0c9df3",
   "metadata": {},
   "source": [
    "- The __init__ is one of the reserved methods in Python. In object oriented programming, it is known as a constructor.\n",
    "- The __init__ method can be called when an object is created from the class, and access is required to initialize the attributes of the class."
   ]
  },
  {
   "cell_type": "markdown",
   "id": "6f49d46e",
   "metadata": {},
   "source": [
    "### Q6. What is the process for creating a class instance?"
   ]
  },
  {
   "cell_type": "markdown",
   "id": "4c7da12f",
   "metadata": {},
   "source": [
    "To create instances of a class, you call the class using class name and pass in whatever arguments its __init__ method accepts."
   ]
  },
  {
   "cell_type": "code",
   "execution_count": 2,
   "id": "73d46f3e",
   "metadata": {},
   "outputs": [],
   "source": [
    "#Example\n",
    "class Myclass:\n",
    "    def __init__(self,name):\n",
    "        self.name = name\n",
    "m = Myclass(\"Sai\") #class instance"
   ]
  },
  {
   "cell_type": "markdown",
   "id": "02fbe446",
   "metadata": {},
   "source": [
    "### Q7. What is the process for creating a class?"
   ]
  },
  {
   "cell_type": "markdown",
   "id": "9a54d171",
   "metadata": {},
   "source": [
    "In Python, a class can be created by using the keyword class, followed by the class name. <br>\n",
    "Syntax:<br>\n",
    "class className:<br>\n",
    "    pass<br>"
   ]
  },
  {
   "cell_type": "markdown",
   "id": "3398843b",
   "metadata": {},
   "source": [
    "### Q8. How would you define the superclasses of a class?"
   ]
  },
  {
   "cell_type": "markdown",
   "id": "312455dd",
   "metadata": {},
   "source": [
    "The class from which a class inherits is called the parent or superclass."
   ]
  },
  {
   "cell_type": "code",
   "execution_count": 4,
   "id": "e8d4a2ea",
   "metadata": {},
   "outputs": [],
   "source": [
    "#Example\n",
    "class SuperClass:   #Parent Class\n",
    "    pass\n",
    "class SubClass(SuperClass):  #Sub Class\n",
    "    pass"
   ]
  },
  {
   "cell_type": "code",
   "execution_count": null,
   "id": "3287b382",
   "metadata": {},
   "outputs": [],
   "source": []
  }
 ],
 "metadata": {
  "kernelspec": {
   "display_name": "Python 3 (ipykernel)",
   "language": "python",
   "name": "python3"
  },
  "language_info": {
   "codemirror_mode": {
    "name": "ipython",
    "version": 3
   },
   "file_extension": ".py",
   "mimetype": "text/x-python",
   "name": "python",
   "nbconvert_exporter": "python",
   "pygments_lexer": "ipython3",
   "version": "3.10.0"
  }
 },
 "nbformat": 4,
 "nbformat_minor": 5
}
