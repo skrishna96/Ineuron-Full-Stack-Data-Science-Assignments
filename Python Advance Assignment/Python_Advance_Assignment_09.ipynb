{
 "cells": [
  {
   "cell_type": "markdown",
   "id": "cbee5c57",
   "metadata": {},
   "source": [
    "### Q1. In Python 3.X, what are the names and functions of string object types?"
   ]
  },
  {
   "cell_type": "markdown",
   "id": "0af62609",
   "metadata": {},
   "source": [
    "<pre>\n",
    "str.isalnum()\t- return True if String consists of only alphanumeric characters (no symbols)\n",
    "str.isalpha()\t- return True if String consists of only alphabetic characters (no symbols)\n",
    "str.islower()\t- return True if String’s alphabetic characters are all lower case\n",
    "str.isnumeric()\t- return True if String consists of only numeric characters\n",
    "str.isspace()\t- return True if String consists of only whitespace characters\n",
    "str.istitle()\t- return True if String is in title case\n",
    "str.isupper()\t- return True if String’s alphabetic characters are all upper case.\n",
    "<pre>"
   ]
  },
  {
   "cell_type": "markdown",
   "id": "74e80ea7",
   "metadata": {},
   "source": [
    "### Q2. How do the string forms in Python 3.X vary in terms of operations?"
   ]
  },
  {
   "cell_type": "markdown",
   "id": "dea5b6ee",
   "metadata": {},
   "source": [
    "In Python 3, all strings are represented in Unicode.In Python 2 are stored internally as 8-bit ASCII, hence it is required to attach 'u' to make it Unicode. It is no longer necessary now."
   ]
  },
  {
   "cell_type": "markdown",
   "id": "2ea8fa9f",
   "metadata": {},
   "source": [
    "### Q3. In 3.X, how do you put non-ASCII Unicode characters in a string?"
   ]
  },
  {
   "cell_type": "markdown",
   "id": "fe954401",
   "metadata": {},
   "source": [
    "We can use unidecode library for Transliterating non-ASCII characters in Python. It provides an unidecode() method that takes Unicode data and tries to represent it in ASCII.  This method automatically determines scripting language and transliterates it accordingly. It accepts unicode string values and returns a transliteration in string format."
   ]
  },
  {
   "cell_type": "code",
   "execution_count": 1,
   "id": "775b9b6c",
   "metadata": {},
   "outputs": [
    {
     "name": "stdout",
     "output_type": "stream",
     "text": [
      "kozuscek\n"
     ]
    }
   ],
   "source": [
    "from unidecode import unidecode\n",
    "print(unidecode(u'ko\\u017eu\\u0161\\u010dek'))"
   ]
  },
  {
   "cell_type": "markdown",
   "id": "2701151e",
   "metadata": {},
   "source": [
    "### Q4. In Python 3.X, what are the key differences between text-mode and binary-mode files?"
   ]
  },
  {
   "cell_type": "markdown",
   "id": "aa46dcdf",
   "metadata": {},
   "source": [
    "A text file stores data in the form of alphabets, digits and other special symbols by storing their ASCII values and are in a  human-readable format. for example, any file with a .txt, .c,etc extension.<br>\n",
    "binary files are files which stores data in binary format.and the extension of binary files is .bin."
   ]
  },
  {
   "cell_type": "markdown",
   "id": "74908ed1",
   "metadata": {},
   "source": [
    "### Q5. How can you interpret a Unicode text file containing text encoded in a different encoding than your platform's default?"
   ]
  },
  {
   "cell_type": "markdown",
   "id": "03f8117b",
   "metadata": {},
   "source": [
    "We can use encode() and decode() method can be used to you interpret a Unicode text file containing text encoded in a different encoding than your platform's default, by default encoding parameter is UTF-8."
   ]
  },
  {
   "cell_type": "markdown",
   "id": "7f1f4255",
   "metadata": {},
   "source": [
    "### Q6. What is the best way to make a Unicode text file in a particular encoding format?"
   ]
  },
  {
   "cell_type": "markdown",
   "id": "30b3fdba",
   "metadata": {},
   "source": [
    "Call str.encode(encoding) with encoding set to \"utf8\" to encode str.<br>\n",
    "Call open(file, mode) to open a file with mode set to \"wb\" . \"wb\" writes to files in binary mode and preserves UTF-8 format.<br>\n",
    "Call file.write(data) to write data to the file."
   ]
  },
  {
   "cell_type": "code",
   "execution_count": 4,
   "id": "f48f8128",
   "metadata": {},
   "outputs": [
    {
     "name": "stdout",
     "output_type": "stream",
     "text": [
      "b'\\xca\\x91\\xca\\x92\\xca\\x93\\xca\\x94\\xca\\x95\\xca\\x97\\xca\\x98\\xca\\x99\\xca\\x9a\\xca\\x9b\\xca\\x9c\\xca\\x9d\\xca\\x9e'\n"
     ]
    }
   ],
   "source": [
    "unicode_text = u'ʑʒʓʔʕʗʘʙʚʛʜʝʞ'\n",
    "encoded_unicode = unicode_text.encode(\"utf8\")\n",
    "a_file = open(\"textfile.txt\", \"wb\")\n",
    "a_file.write(encoded_unicode)\n",
    "a_file = open(\"textfile.txt\", \"rb\")\n",
    "contents = a_file.read()\n",
    "print(contents)"
   ]
  },
  {
   "cell_type": "markdown",
   "id": "86b8f5d6",
   "metadata": {},
   "source": [
    "### Q7. What qualifies ASCII text as a form of Unicode text?"
   ]
  },
  {
   "cell_type": "markdown",
   "id": "bbf5c1c5",
   "metadata": {},
   "source": [
    "ASCII has its equivalent in Unicode. The difference between ASCII and Unicode is that ASCII represents lowercase letters (a-z), uppercase letters (A-Z), digits (0–9) and symbols such as punctuation marks while Unicode represents letters of English, Arabic, Greek etc. mathematical symbols, historical scripts, emoji covering a wide range of characters than ASCII."
   ]
  },
  {
   "cell_type": "markdown",
   "id": "cd2db8df",
   "metadata": {},
   "source": [
    "### Q8. How much of an effect does the change in string types in Python 3.X have on your code?"
   ]
  },
  {
   "cell_type": "markdown",
   "id": "9c47dc4f",
   "metadata": {},
   "source": [
    "One of the most noticeable changes in Python 3.0 is the mutation of string object types. In a nutshell, 2.X's str and unicode types have morphed into 3.X's bytes and str types, and a new mutable bytearray type has been added. Especially if you process data that is either Unicode or binary in nature, this can have substantial impacts on your code. "
   ]
  },
  {
   "cell_type": "code",
   "execution_count": null,
   "id": "79056a99",
   "metadata": {},
   "outputs": [],
   "source": []
  }
 ],
 "metadata": {
  "kernelspec": {
   "display_name": "Python 3 (ipykernel)",
   "language": "python",
   "name": "python3"
  },
  "language_info": {
   "codemirror_mode": {
    "name": "ipython",
    "version": 3
   },
   "file_extension": ".py",
   "mimetype": "text/x-python",
   "name": "python",
   "nbconvert_exporter": "python",
   "pygments_lexer": "ipython3",
   "version": "3.9.7"
  }
 },
 "nbformat": 4,
 "nbformat_minor": 5
}
