{
 "cells": [
  {
   "cell_type": "markdown",
   "id": "994fb9b3",
   "metadata": {},
   "source": [
    "### Q1. Is it permissible to use several import statements to import the same module? What would the goal be? Can you think of a situation where it would be beneficial?"
   ]
  },
  {
   "cell_type": "markdown",
   "id": "4485f4e7",
   "metadata": {},
   "source": [
    "the same module is evaluated only once, in other words, the module-level scope is executed just once. If the module, once evaluated, is imported again, it's second evaluation is skipped and the resolved already exports are used. It is used in case when we have to import multiple functions from same module."
   ]
  },
  {
   "cell_type": "markdown",
   "id": "7f37fd35",
   "metadata": {},
   "source": [
    "### Q2. What are some of a module&#39;s characteristics? (Name at least one.)"
   ]
  },
  {
   "cell_type": "markdown",
   "id": "06a4c933",
   "metadata": {},
   "source": [
    "- Modules contain instructions, processing logic, and data.\n",
    "- Modules can be separately compiled and stored in a library.\n",
    "- Modules can be included in a program.\n",
    "- Module segments can be used by invoking a name and some parameters.\n",
    "- Module segments can be used by other modules."
   ]
  },
  {
   "cell_type": "markdown",
   "id": "c8d6a669",
   "metadata": {},
   "source": [
    "### Q3. Circular importing, such as when two modules import each other, can lead to dependencies and bugs that aren&#39;t visible. How can you go about creating a program that avoids mutual importing?"
   ]
  },
  {
   "cell_type": "markdown",
   "id": "4f07ba36",
   "metadata": {},
   "source": [
    "A circular dependency occurs when two or more modules depend on each other. This is due to the fact that each module is defined in terms of the other."
   ]
  },
  {
   "cell_type": "markdown",
   "id": "45758c79",
   "metadata": {},
   "source": [
    "### Q4. Why is _ _all_ _ in Python?"
   ]
  },
  {
   "cell_type": "markdown",
   "id": "6411b266",
   "metadata": {},
   "source": [
    "The __all__ in Python is a list of strings defining what symbols in a module will be exported when from <module> import * is used on the module."
   ]
  },
  {
   "cell_type": "markdown",
   "id": "3620210f",
   "metadata": {},
   "source": [
    "### Q5. In what situation is it useful to refer to the _ _name_ _ attribute or the string &#39;_ _main_ _&#39;?"
   ]
  },
  {
   "cell_type": "markdown",
   "id": "a1cbec4e",
   "metadata": {},
   "source": [
    "During the time of execution of the code if we want to refer the module in which we are working on then we uses name attribute. In that case it will return the module in which we are working on. Suppose if that moudle is being imported from some other module then name will have the name of that moudle from where the current module has been imported. The current module in which we are working is refer to the string __main __."
   ]
  },
  {
   "cell_type": "markdown",
   "id": "441977d9",
   "metadata": {},
   "source": [
    "### Q6. What are some of the benefits of attaching a program counter to the RPN interpreter application, which interprets an RPN script line by line?"
   ]
  },
  {
   "cell_type": "markdown",
   "id": "ec7683a3",
   "metadata": {},
   "source": [
    "Reverse Polish notation (RPN) is a method for conveying mathematical expressions without the use of separators such as brackets and parentheses. In this notation, the operators follow their operands, hence removing the need for brackets to define evaluation priority. The operation is read from left to right but execution is done every time an operator is reached, and always using the last two numbers as the operands. This notation is suited for computers and calculators since there are fewer characters to track and fewer operations to execute."
   ]
  },
  {
   "cell_type": "markdown",
   "id": "07dd7059",
   "metadata": {},
   "source": [
    "### Q7. What are the minimum expressions or statements (or both) that you&#39;d need to render a basic programming language like RPN primitive but complete— that is, capable of carrying out any computerised task theoretically possible?"
   ]
  },
  {
   "cell_type": "code",
   "execution_count": null,
   "id": "e28676b7",
   "metadata": {},
   "outputs": [],
   "source": []
  }
 ],
 "metadata": {
  "kernelspec": {
   "display_name": "Python 3 (ipykernel)",
   "language": "python",
   "name": "python3"
  },
  "language_info": {
   "codemirror_mode": {
    "name": "ipython",
    "version": 3
   },
   "file_extension": ".py",
   "mimetype": "text/x-python",
   "name": "python",
   "nbconvert_exporter": "python",
   "pygments_lexer": "ipython3",
   "version": "3.9.7"
  }
 },
 "nbformat": 4,
 "nbformat_minor": 5
}
