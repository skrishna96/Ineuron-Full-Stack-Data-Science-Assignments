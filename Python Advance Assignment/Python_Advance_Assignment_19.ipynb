{
 "cells": [
  {
   "cell_type": "markdown",
   "id": "46bc97e8",
   "metadata": {},
   "source": [
    "### Q1. Define the relationship between a class and its instances. Is it a one-to-one or a one-to-many partnership, for example?"
   ]
  },
  {
   "cell_type": "markdown",
   "id": "e30cf07e",
   "metadata": {},
   "source": [
    "Relationship between a class and its instances is a one to many partnership."
   ]
  },
  {
   "cell_type": "markdown",
   "id": "6defa1ed",
   "metadata": {},
   "source": [
    "### Q2. What kind of data is held only in an instance?"
   ]
  },
  {
   "cell_type": "markdown",
   "id": "92580e48",
   "metadata": {},
   "source": [
    "Instance variables are owned by instances of the class. This means that for each object or instance of a class, the instance variables are different. Unlike class variables, instance variables are defined within methods."
   ]
  },
  {
   "cell_type": "markdown",
   "id": "96326de9",
   "metadata": {},
   "source": [
    "### Q3. What kind of knowledge is stored in a class?"
   ]
  },
  {
   "cell_type": "markdown",
   "id": "e1214ab7",
   "metadata": {},
   "source": [
    "Class variables are defined within the class construction. Because they are owned by the class itself, class variables are shared by all instances of the class. They therefore will generally have the same value for every instance unless you are using the class variable to initialize a variable."
   ]
  },
  {
   "cell_type": "markdown",
   "id": "14bc4e78",
   "metadata": {},
   "source": [
    "### Q4. What exactly is a method, and how is it different from a regular function?"
   ]
  },
  {
   "cell_type": "markdown",
   "id": "fae24dc2",
   "metadata": {},
   "source": [
    "A method in python is somewhat similar to a function, except it is associated with object/classes. Methods in python are very similar to functions except for two major differences.\n",
    "- The method is implicitly used for an object for which it is called.\n",
    "- The method is accessible to data that is contained within the class.\n",
    "- Functions can be called only by its name, as it is defined independently. But methods can’t be called by its name only, we need to invoke the class by a reference of that class in which it is defined, i.e. method is defined within a class and hence they are dependent on that class."
   ]
  },
  {
   "cell_type": "markdown",
   "id": "974b81a5",
   "metadata": {},
   "source": [
    "### Q5. Is inheritance supported in Python, and if so, what is the syntax?"
   ]
  },
  {
   "cell_type": "markdown",
   "id": "e3f5e48a",
   "metadata": {},
   "source": [
    "Inheritance is the capability of one class to derive or inherit the properties from another class.<br>\n",
    "Inheritance is supported in python.<br>\n",
    "Different types of Inheritance:\n",
    "- __Single inheritance:__ When a child class inherits from only one parent class, it is called single inheritance. We saw an example above.\n",
    "- __Multiple inheritances:__ When a child class inherits from multiple parent classes, it is called multiple inheritances. \n",
    "- __Hierarchical inheritance:__ More than one derived class are created from a single base.\n",
    "- __Hybrid inheritance:__ This form combines more than one form of inheritance. Basically, it is a blend of more than one type of inheritance."
   ]
  },
  {
   "cell_type": "markdown",
   "id": "d96b430b",
   "metadata": {},
   "source": [
    "#### Syntax<br>\n",
    "Class BaseClass:<br>\n",
    "    {Body}<br>\n",
    "Class DerivedClass(BaseClass):<br>\n",
    "    {Body}<br>"
   ]
  },
  {
   "cell_type": "markdown",
   "id": "05ae2192",
   "metadata": {},
   "source": [
    "### Q6. How much encapsulation (making instance or class variables private) does Python support?"
   ]
  },
  {
   "cell_type": "markdown",
   "id": "a84b6265",
   "metadata": {},
   "source": [
    "Encapsulation describes the idea of wrapping data and the methods that work on data within one unit. This puts restrictions on accessing variables and methods directly and can prevent the accidental modification of data. To prevent accidental change, an object’s variable can only be changed by an object’s method. Those types of variables are known as private variables."
   ]
  },
  {
   "cell_type": "markdown",
   "id": "a7c38160",
   "metadata": {},
   "source": [
    "### Q7. How do you distinguish between a class variable and an instance variable?"
   ]
  },
  {
   "cell_type": "markdown",
   "id": "dffe4d53",
   "metadata": {},
   "source": [
    "Instance variables are declared in a class, but outside a method, constructor or any block.Class variables also known as static variables are declared with the static keyword in a class, but outside a method, constructor or a block.<br>\n",
    "Instance variables are created when an object is created with the use of the keyword 'new' and destroyed when the object is destroyed. Static variables are created when the program starts and destroyed when the program stops."
   ]
  },
  {
   "cell_type": "markdown",
   "id": "bae6a7a6",
   "metadata": {},
   "source": [
    "### Q8. When, if ever, can self be included in a class&#39;s method definitions?"
   ]
  },
  {
   "cell_type": "markdown",
   "id": "c65136f4",
   "metadata": {},
   "source": [
    "Yes, self can included in class method definations to access the instance variables inside class methods."
   ]
  },
  {
   "cell_type": "markdown",
   "id": "41673c0f",
   "metadata": {},
   "source": [
    "### Q9. What is the difference between the _ _add_ _ and the _ _radd_ _ methods?"
   ]
  },
  {
   "cell_type": "markdown",
   "id": "986e5401",
   "metadata": {},
   "source": [
    "__add__ stand for \"addition\". __radd__ stand for \"right addition\"<br>\n",
    "Entering __radd__ Python will first try __add__(), and if that returns Not Implemented Python will check if the right-hand operand implements __radd__, and if it does, it will call __radd__() rather than raising a TypeError."
   ]
  },
  {
   "cell_type": "markdown",
   "id": "bb104a72",
   "metadata": {},
   "source": [
    "### Q10. When is it necessary to use a reflection method? When do you not need it, even though you support the operation in question?"
   ]
  },
  {
   "cell_type": "markdown",
   "id": "0002dbe4",
   "metadata": {},
   "source": [
    "Reflection method we often encounter the requirement that a method in the executing object, or a variable in the calling object, or a field of the object should be assigned, while the method name or field name can not be determined when encoding the code, and need to be input in the form of passing strings through parameters."
   ]
  },
  {
   "cell_type": "markdown",
   "id": "81692ce6",
   "metadata": {},
   "source": [
    "### Q11. What is the _ _iadd_ _ method called?"
   ]
  },
  {
   "cell_type": "markdown",
   "id": "2ab907ed",
   "metadata": {},
   "source": [
    "\\_\\_iadd__ method is called when we use implementation like a+=b which is a.\\_\\_iadd__(b)"
   ]
  },
  {
   "cell_type": "markdown",
   "id": "affa2aa9",
   "metadata": {},
   "source": [
    "### Q12. Is the _ _init_ _ method inherited by subclasses? What do you do if you need to customize its behavior within a subclass?"
   ]
  },
  {
   "cell_type": "markdown",
   "id": "e172e460",
   "metadata": {},
   "source": [
    "Yes, \\_\\_init__ method will be inherited by subclasses. if we want to customize its behaviour within a subclass we can use super() method."
   ]
  },
  {
   "cell_type": "code",
   "execution_count": null,
   "id": "0d160048",
   "metadata": {},
   "outputs": [],
   "source": []
  }
 ],
 "metadata": {
  "kernelspec": {
   "display_name": "Python 3 (ipykernel)",
   "language": "python",
   "name": "python3"
  },
  "language_info": {
   "codemirror_mode": {
    "name": "ipython",
    "version": 3
   },
   "file_extension": ".py",
   "mimetype": "text/x-python",
   "name": "python",
   "nbconvert_exporter": "python",
   "pygments_lexer": "ipython3",
   "version": "3.9.7"
  }
 },
 "nbformat": 4,
 "nbformat_minor": 5
}
