{
 "cells": [
  {
   "cell_type": "markdown",
   "id": "23d2031b",
   "metadata": {},
   "source": [
    "### Q1. If you have any, what are your choices for increasing the comparison between different figures on the same graph?"
   ]
  },
  {
   "cell_type": "markdown",
   "id": "9925f0af",
   "metadata": {},
   "source": [
    "Matplotlib has the concept of subplots: groups of smaller axes that can exist together within a single figure. These subplots might be insets, grids of plots, or other more complicated layouts."
   ]
  },
  {
   "cell_type": "markdown",
   "id": "fe178b99",
   "metadata": {},
   "source": [
    "### Q2. Can you explain the benefit of compound interest over a higher rate of interest that does not compound after reading this chapter?"
   ]
  },
  {
   "cell_type": "markdown",
   "id": "14ecf259",
   "metadata": {},
   "source": [
    "Compound interest makes a sum of money grow at a faster rate than simple interest,because in addition to earning returns on the money you invest, you also earn returns on those returns at the end of every compounding period, which could be daily, monthly, quarterly or annually."
   ]
  },
  {
   "cell_type": "markdown",
   "id": "81cf8b9e",
   "metadata": {},
   "source": [
    "### Q3. What is a histogram, exactly? Name a numpy method for creating such a graph."
   ]
  },
  {
   "cell_type": "markdown",
   "id": "e375dec1",
   "metadata": {},
   "source": [
    "A histogram is a graph showing frequency distributions. It is a graph showing the number of observations within each given interval. We can use __numpy.histogram()__ function which represents the frequency of data distribution in the graphical form. "
   ]
  },
  {
   "cell_type": "code",
   "execution_count": 1,
   "id": "87ee42bf",
   "metadata": {},
   "outputs": [
    {
     "name": "stdout",
     "output_type": "stream",
     "text": [
      "[3 4 5 2 1]\n",
      "[  0  20  40  60  80 100]\n"
     ]
    }
   ],
   "source": [
    "import numpy as np \n",
    "a = np.array([22,87,5,43,56,73,55,54,11,20,51,5,79,31,27]) \n",
    "np.histogram(a,bins = [0,20,40,60,80,100]) \n",
    "hist,bins = np.histogram(a,bins = [0,20,40,60,80,100]) \n",
    "print(hist) \n",
    "print(bins)"
   ]
  },
  {
   "cell_type": "markdown",
   "id": "7109b295",
   "metadata": {},
   "source": [
    "### Q4. If necessary, how do you change the aspect ratios between the X and Y axes?"
   ]
  },
  {
   "cell_type": "markdown",
   "id": "7d053565",
   "metadata": {},
   "source": [
    "We can use figure(figsize=(10,8)) function inside the matplot.pyplot library which we scale down or up the graph."
   ]
  },
  {
   "cell_type": "markdown",
   "id": "55b4f38e",
   "metadata": {},
   "source": [
    "### Q5. Compare and contrast the three types of array multiplication between two numpy arrays: dot product, outer product, and regular multiplication of two numpy arrays."
   ]
  },
  {
   "cell_type": "markdown",
   "id": "0a3b112f",
   "metadata": {},
   "source": [
    "- np.matmul(array a, array b)\tReturns matrix product of two given arrays\n",
    "- np.multiply(array a, array b)\tReturns element-wise multiplication of two given arrays\n",
    "- np.dot(array a, array b)\tReturns scalar or dot product of two given arrays<br>\n",
    "The dot product of any two given matrices is basically their matrix product. The only difference is that in dot product we can have scalar values as well."
   ]
  },
  {
   "cell_type": "markdown",
   "id": "2a40eeab",
   "metadata": {},
   "source": [
    "### Q6. Before you buy a home, which numpy function will you use to measure your monthly mortgage payment?"
   ]
  },
  {
   "cell_type": "markdown",
   "id": "1ea0497a",
   "metadata": {},
   "source": [
    "The pmt() function is used to compute the payment against loan principal plus interest.\n",
    "<pre>\n",
    "numpy.pmt(rate, nper, pv, fv=0, when='end')\n",
    "</pre>\n",
    "__rate:__ Rate of interest (per period)<br>\n",
    "__nper:__ Number of compounding periods<br>\n",
    "__pv:__ Present value<br>\n",
    "__fv:__\tFuture value (default = 0)<br>\n",
    "__when:__ When payments are due ('begin' (1) or 'end' (0))<br>"
   ]
  },
  {
   "cell_type": "markdown",
   "id": "219d3fff",
   "metadata": {},
   "source": [
    "### Q7. Can string data be stored in numpy arrays? If so, list at least one restriction that applies to this data."
   ]
  },
  {
   "cell_type": "markdown",
   "id": "94956202",
   "metadata": {},
   "source": [
    "Yes, an array can store the string. The limitation which imposed on the string data is, whenever we store the data of string dtype then it should should keep in mind that the string which is having the maximum length is the limit."
   ]
  },
  {
   "cell_type": "code",
   "execution_count": null,
   "id": "a7439ea0",
   "metadata": {},
   "outputs": [],
   "source": []
  }
 ],
 "metadata": {
  "kernelspec": {
   "display_name": "Python 3 (ipykernel)",
   "language": "python",
   "name": "python3"
  },
  "language_info": {
   "codemirror_mode": {
    "name": "ipython",
    "version": 3
   },
   "file_extension": ".py",
   "mimetype": "text/x-python",
   "name": "python",
   "nbconvert_exporter": "python",
   "pygments_lexer": "ipython3",
   "version": "3.9.7"
  }
 },
 "nbformat": 4,
 "nbformat_minor": 5
}
