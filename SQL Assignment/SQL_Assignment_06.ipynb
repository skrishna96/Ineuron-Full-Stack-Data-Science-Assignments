{
 "cells": [
  {
   "cell_type": "markdown",
   "id": "be403dc7",
   "metadata": {},
   "source": [
    "### Q-1. Write an SQL query to print details of the Workers who have joined in Feb’2014."
   ]
  },
  {
   "cell_type": "markdown",
   "id": "9aee8815",
   "metadata": {},
   "source": [
    "SELECT * FROM WORKER WHERE YEAR(JOINING_DATE)='2014' AND MONTH(JOINING_DATE)='02';"
   ]
  },
  {
   "cell_type": "markdown",
   "id": "061025e4",
   "metadata": {},
   "source": [
    "### Q-2. Write an SQL query to fetch duplicate records having matching data in some fields of a table."
   ]
  },
  {
   "cell_type": "markdown",
   "id": "6c84dbd0",
   "metadata": {},
   "source": [
    "SELECT FIRST_NAME,COUNT(\\*) FROM WORKER GROUP BY FIRST_NAME HAVING COUNT(\\*)>1;"
   ]
  },
  {
   "cell_type": "markdown",
   "id": "c3fd07b6",
   "metadata": {},
   "source": [
    "### Q-3. How to remove duplicate rows from Employees table."
   ]
  },
  {
   "cell_type": "markdown",
   "id": "ebaab3f4",
   "metadata": {},
   "source": [
    "DELETE FROM WORKER W1 INNER JOIN WORKER W2 WHERE W1.ID < W2.ID AND W1.FIRST_NAME = W2.FIRST_NAME AND W1.LAST_NAME = W2.LAST_NAME;"
   ]
  },
  {
   "cell_type": "code",
   "execution_count": null,
   "id": "02cc13f0",
   "metadata": {},
   "outputs": [],
   "source": []
  }
 ],
 "metadata": {
  "kernelspec": {
   "display_name": "Python 3 (ipykernel)",
   "language": "python",
   "name": "python3"
  },
  "language_info": {
   "codemirror_mode": {
    "name": "ipython",
    "version": 3
   },
   "file_extension": ".py",
   "mimetype": "text/x-python",
   "name": "python",
   "nbconvert_exporter": "python",
   "pygments_lexer": "ipython3",
   "version": "3.9.7"
  }
 },
 "nbformat": 4,
 "nbformat_minor": 5
}
