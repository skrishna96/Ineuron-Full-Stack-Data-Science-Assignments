{
 "cells": [
  {
   "cell_type": "markdown",
   "id": "2b8bada2",
   "metadata": {},
   "source": [
    "### Q-15. Write an SQL query to fetch intersecting records of two tables."
   ]
  },
  {
   "cell_type": "markdown",
   "id": "9b233f41",
   "metadata": {},
   "source": [
    "<PRE>\n",
    "SELECT * FROM TABLE1\n",
    "INTERSECT\n",
    "SELECT * FROM TABLE2;\n",
    "</PRE>"
   ]
  },
  {
   "cell_type": "markdown",
   "id": "675f45be",
   "metadata": {},
   "source": [
    "### Q-16. Write an SQL query to show records from one table that another table does not have."
   ]
  },
  {
   "cell_type": "markdown",
   "id": "ed73d22f",
   "metadata": {},
   "source": [
    "<pre>\n",
    "SELECT * FROM TABLE1\n",
    "MINUS\n",
    "SELECT * FROM TABLE2;\n",
    "</pre>"
   ]
  },
  {
   "cell_type": "code",
   "execution_count": null,
   "id": "19977f65",
   "metadata": {},
   "outputs": [],
   "source": []
  }
 ],
 "metadata": {
  "kernelspec": {
   "display_name": "Python 3 (ipykernel)",
   "language": "python",
   "name": "python3"
  },
  "language_info": {
   "codemirror_mode": {
    "name": "ipython",
    "version": 3
   },
   "file_extension": ".py",
   "mimetype": "text/x-python",
   "name": "python",
   "nbconvert_exporter": "python",
   "pygments_lexer": "ipython3",
   "version": "3.9.7"
  }
 },
 "nbformat": 4,
 "nbformat_minor": 5
}
