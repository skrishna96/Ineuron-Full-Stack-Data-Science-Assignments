{
 "cells": [
  {
   "cell_type": "markdown",
   "id": "c66f3e9c",
   "metadata": {},
   "source": [
    "### Q-1. Write an SQL query to print the first three characters of  FIRST_NAME from Worker table."
   ]
  },
  {
   "cell_type": "markdown",
   "id": "61bf7a91",
   "metadata": {},
   "source": [
    "SELECT SUBSTR(FIRST_NAME,1,3) FROM WORKER;"
   ]
  },
  {
   "cell_type": "markdown",
   "id": "5fd631d0",
   "metadata": {},
   "source": [
    "### Q-2. Write an SQL query to find the position of the alphabet (‘a’) in the first name column ‘Amitabh’ from Worker table."
   ]
  },
  {
   "cell_type": "markdown",
   "id": "196af0c4",
   "metadata": {},
   "source": [
    "SELECT POSITION('a' IN 'Amitabh') FROM WORKER;"
   ]
  },
  {
   "cell_type": "markdown",
   "id": "696a4ec7",
   "metadata": {},
   "source": [
    "### Q-3. Write an SQL query to print the name of employees having the highest salary in each department."
   ]
  },
  {
   "cell_type": "markdown",
   "id": "fdbfe383",
   "metadata": {},
   "source": [
    "SELECT EMPLOYEE_NAME,MAX(SALARY) FROM EMPLOYEE GROUP BY DEPARTMENT;"
   ]
  },
  {
   "cell_type": "code",
   "execution_count": null,
   "id": "e8aafdc0",
   "metadata": {},
   "outputs": [],
   "source": []
  }
 ],
 "metadata": {
  "kernelspec": {
   "display_name": "Python 3 (ipykernel)",
   "language": "python",
   "name": "python3"
  },
  "language_info": {
   "codemirror_mode": {
    "name": "ipython",
    "version": 3
   },
   "file_extension": ".py",
   "mimetype": "text/x-python",
   "name": "python",
   "nbconvert_exporter": "python",
   "pygments_lexer": "ipython3",
   "version": "3.9.7"
  }
 },
 "nbformat": 4,
 "nbformat_minor": 5
}
