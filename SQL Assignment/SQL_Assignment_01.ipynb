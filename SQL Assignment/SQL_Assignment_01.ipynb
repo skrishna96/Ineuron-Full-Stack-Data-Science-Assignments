{
 "cells": [
  {
   "cell_type": "markdown",
   "id": "b930e0a9",
   "metadata": {},
   "source": [
    "### Q1. Write an SQL query to fetch “FIRST_NAME” from Worker table using the alias name as &lt;WORKER_NAME&gt;."
   ]
  },
  {
   "cell_type": "markdown",
   "id": "0ac90770",
   "metadata": {},
   "source": [
    "SELECT FIRST_NAME AS WORKER_NAME FROM WORKER;"
   ]
  },
  {
   "cell_type": "markdown",
   "id": "9e65dbe4",
   "metadata": {},
   "source": [
    "### Q2. Write an SQL query to fetch unique values of DEPARTMENT from Worker table."
   ]
  },
  {
   "cell_type": "markdown",
   "id": "69f44e94",
   "metadata": {},
   "source": [
    "SELECT DISTINCT DEPARTMENT FROM WORKER;"
   ]
  },
  {
   "cell_type": "markdown",
   "id": "d34ff504",
   "metadata": {},
   "source": [
    "### Q3. Write an SQL query to show the last 5 record from a table."
   ]
  },
  {
   "cell_type": "markdown",
   "id": "15b3c9b3",
   "metadata": {},
   "source": [
    "SELECT * FROM WORKER ORDER BY FIRST_NAME DESC LIMIT 5;"
   ]
  },
  {
   "cell_type": "code",
   "execution_count": null,
   "id": "5276e226",
   "metadata": {},
   "outputs": [],
   "source": []
  }
 ],
 "metadata": {
  "kernelspec": {
   "display_name": "Python 3 (ipykernel)",
   "language": "python",
   "name": "python3"
  },
  "language_info": {
   "codemirror_mode": {
    "name": "ipython",
    "version": 3
   },
   "file_extension": ".py",
   "mimetype": "text/x-python",
   "name": "python",
   "nbconvert_exporter": "python",
   "pygments_lexer": "ipython3",
   "version": "3.9.7"
  }
 },
 "nbformat": 4,
 "nbformat_minor": 5
}
