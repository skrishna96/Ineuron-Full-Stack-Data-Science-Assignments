{
 "cells": [
  {
   "cell_type": "markdown",
   "id": "4336bbbd",
   "metadata": {},
   "source": [
    "### Q-1. Write an SQL query to print the FIRST_NAME from Worker table after removing white spaces from the right side."
   ]
  },
  {
   "cell_type": "markdown",
   "id": "7397e140",
   "metadata": {},
   "source": [
    "SELECT RTRIM(FIRST_NAME) FROM WORKER;"
   ]
  },
  {
   "cell_type": "markdown",
   "id": "30ffd182",
   "metadata": {},
   "source": [
    "### Q-2. Write an SQL query that fetches the unique values of DEPARTMENT from Worker table and prints its length."
   ]
  },
  {
   "cell_type": "markdown",
   "id": "6eb49b92",
   "metadata": {},
   "source": [
    "SELECT DISTINCT DEPARTMENT,LENGTH(DEPARTMENT) FROM WORKER;"
   ]
  },
  {
   "cell_type": "markdown",
   "id": "45afa961",
   "metadata": {},
   "source": [
    "### Q-3. Write an SQL query to fetch nth max salaries from a table."
   ]
  },
  {
   "cell_type": "markdown",
   "id": "bf87b342",
   "metadata": {},
   "source": [
    "SELECT DISTINCT SALARY FROM WORKER ORDER BY SALARY DESC LIMIT N-1,1;"
   ]
  },
  {
   "cell_type": "code",
   "execution_count": null,
   "id": "4e14dc46",
   "metadata": {},
   "outputs": [],
   "source": []
  }
 ],
 "metadata": {
  "kernelspec": {
   "display_name": "Python 3 (ipykernel)",
   "language": "python",
   "name": "python3"
  },
  "language_info": {
   "codemirror_mode": {
    "name": "ipython",
    "version": 3
   },
   "file_extension": ".py",
   "mimetype": "text/x-python",
   "name": "python",
   "nbconvert_exporter": "python",
   "pygments_lexer": "ipython3",
   "version": "3.9.7"
  }
 },
 "nbformat": 4,
 "nbformat_minor": 5
}
