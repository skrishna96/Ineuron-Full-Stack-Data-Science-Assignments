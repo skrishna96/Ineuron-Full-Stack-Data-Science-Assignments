{
 "cells": [
  {
   "cell_type": "markdown",
   "id": "a64ec703",
   "metadata": {},
   "source": [
    "### Q-1. Write an SQL query to print details of workers excluding first names, “Vipul” and “Satish” from Worker table."
   ]
  },
  {
   "cell_type": "markdown",
   "id": "21deb98f",
   "metadata": {},
   "source": [
    "SELECT * FROM WORKER WHERE FIRST_NAME NOT IN ('Vipul','Satish');"
   ]
  },
  {
   "cell_type": "markdown",
   "id": "c8ed1521",
   "metadata": {},
   "source": [
    "### Q-2. Write an SQL query to print details of the Workers whose FIRST_NAME ends with ‘h’ and contains six alphabets."
   ]
  },
  {
   "cell_type": "markdown",
   "id": "0de40524",
   "metadata": {},
   "source": [
    "SELECT * FROM WORKER WHERE FIRST_NAME LIKE '_\\_\\_\\_\\_h';"
   ]
  },
  {
   "cell_type": "markdown",
   "id": "95f01540",
   "metadata": {},
   "source": [
    "### Q-3. Write a query to validate Email of Employee."
   ]
  },
  {
   "cell_type": "markdown",
   "id": "804712d2",
   "metadata": {},
   "source": [
    "SELECT * FROM WORKER WHERE EMAIL LIKE '\\_%@\\_%._%';"
   ]
  },
  {
   "cell_type": "code",
   "execution_count": null,
   "id": "f03ffae6",
   "metadata": {},
   "outputs": [],
   "source": []
  }
 ],
 "metadata": {
  "kernelspec": {
   "display_name": "Python 3 (ipykernel)",
   "language": "python",
   "name": "python3"
  },
  "language_info": {
   "codemirror_mode": {
    "name": "ipython",
    "version": 3
   },
   "file_extension": ".py",
   "mimetype": "text/x-python",
   "name": "python",
   "nbconvert_exporter": "python",
   "pygments_lexer": "ipython3",
   "version": "3.9.7"
  }
 },
 "nbformat": 4,
 "nbformat_minor": 5
}
