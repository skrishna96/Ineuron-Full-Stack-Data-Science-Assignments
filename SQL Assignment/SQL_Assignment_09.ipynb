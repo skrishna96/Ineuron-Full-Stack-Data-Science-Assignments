{
 "cells": [
  {
   "cell_type": "markdown",
   "id": "e21974c4",
   "metadata": {},
   "source": [
    "### Q-17. Write an SQL query to show the top n (say 10) records of a table."
   ]
  },
  {
   "cell_type": "markdown",
   "id": "38315ad1",
   "metadata": {},
   "source": [
    "SELECT * FROM WORKER LIMIT 10;"
   ]
  },
  {
   "cell_type": "markdown",
   "id": "fa116840",
   "metadata": {},
   "source": [
    "### Q-18. Write an SQL query to determine the nth (say n=5) highest salary from a table."
   ]
  },
  {
   "cell_type": "markdown",
   "id": "62315ef3",
   "metadata": {},
   "source": [
    "SELECT DISTINCT SALARY FROM WORKER ORDER BY SALARY DESC LIMIT 5,1;"
   ]
  },
  {
   "cell_type": "code",
   "execution_count": null,
   "id": "39aa780a",
   "metadata": {},
   "outputs": [],
   "source": []
  }
 ],
 "metadata": {
  "kernelspec": {
   "display_name": "Python 3 (ipykernel)",
   "language": "python",
   "name": "python3"
  },
  "language_info": {
   "codemirror_mode": {
    "name": "ipython",
    "version": 3
   },
   "file_extension": ".py",
   "mimetype": "text/x-python",
   "name": "python",
   "nbconvert_exporter": "python",
   "pygments_lexer": "ipython3",
   "version": "3.9.7"
  }
 },
 "nbformat": 4,
 "nbformat_minor": 5
}
