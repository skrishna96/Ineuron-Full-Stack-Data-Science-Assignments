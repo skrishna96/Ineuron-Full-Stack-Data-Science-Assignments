{
 "cells": [
  {
   "cell_type": "markdown",
   "id": "c384b7ff",
   "metadata": {},
   "source": [
    "### Q-1. Write an SQL query to print the FIRST_NAME from Worker table after replacing ‘a’ with ‘A’."
   ]
  },
  {
   "cell_type": "markdown",
   "id": "2ae8138d",
   "metadata": {},
   "source": [
    "SELECT REPLACE(FIRST_NAME,'a','A') FROM WORKER;"
   ]
  },
  {
   "cell_type": "markdown",
   "id": "633fb20f",
   "metadata": {},
   "source": [
    "### Q-2. Write an SQL query to print all Worker details from the Worker table order by FIRST_NAME Ascending and DEPARTMENT Descending."
   ]
  },
  {
   "cell_type": "markdown",
   "id": "08900455",
   "metadata": {},
   "source": [
    "SELECT * FROM WORKER ORDER BY FIRST_NAME,DEPARTMENT DESC;"
   ]
  },
  {
   "cell_type": "markdown",
   "id": "ec1d9502",
   "metadata": {},
   "source": [
    "### Q-3. Write an SQL query to fetch the names of workers who earn the highest salary."
   ]
  },
  {
   "cell_type": "markdown",
   "id": "9012218e",
   "metadata": {},
   "source": [
    "SELECT EMPLOYEE_NAME FROM WORKER WHERE SALARY = (SELECT MAX(SALALRY) FROM WORKER);"
   ]
  },
  {
   "cell_type": "code",
   "execution_count": null,
   "id": "6680a716",
   "metadata": {},
   "outputs": [],
   "source": []
  }
 ],
 "metadata": {
  "kernelspec": {
   "display_name": "Python 3 (ipykernel)",
   "language": "python",
   "name": "python3"
  },
  "language_info": {
   "codemirror_mode": {
    "name": "ipython",
    "version": 3
   },
   "file_extension": ".py",
   "mimetype": "text/x-python",
   "name": "python",
   "nbconvert_exporter": "python",
   "pygments_lexer": "ipython3",
   "version": "3.9.7"
  }
 },
 "nbformat": 4,
 "nbformat_minor": 5
}
