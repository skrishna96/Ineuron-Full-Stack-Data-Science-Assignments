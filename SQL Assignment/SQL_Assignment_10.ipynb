{
 "cells": [
  {
   "cell_type": "markdown",
   "id": "2710d388",
   "metadata": {},
   "source": [
    "### Q-19. Write an SQL query to determine the 5th highest salary without using TOP or limit method."
   ]
  },
  {
   "cell_type": "markdown",
   "id": "108dd9b8",
   "metadata": {},
   "source": [
    "<PRE>\n",
    "SELECT * FROM (SELECT ROW_NUMBER()\n",
    "        OVER (ORDER BY SALARY DESC) AS ROWNUM\n",
    "    FROM WORKER) WHERE ROWNUM=5;\n",
    "<PRE>"
   ]
  },
  {
   "cell_type": "markdown",
   "id": "463c1415",
   "metadata": {},
   "source": [
    "### Q-20. Write an SQL query to fetch the list of employees with the same salary."
   ]
  },
  {
   "cell_type": "markdown",
   "id": "40884072",
   "metadata": {},
   "source": [
    "SELECT \\* FROM WORKER WHERE SALARY IN (SELECT SALARY FROM WORKER GROUP BY SALARY HAVING COUNT(\\*)>1);"
   ]
  },
  {
   "cell_type": "code",
   "execution_count": null,
   "id": "c758183f",
   "metadata": {},
   "outputs": [],
   "source": []
  }
 ],
 "metadata": {
  "kernelspec": {
   "display_name": "Python 3 (ipykernel)",
   "language": "python",
   "name": "python3"
  },
  "language_info": {
   "codemirror_mode": {
    "name": "ipython",
    "version": 3
   },
   "file_extension": ".py",
   "mimetype": "text/x-python",
   "name": "python",
   "nbconvert_exporter": "python",
   "pygments_lexer": "ipython3",
   "version": "3.9.7"
  }
 },
 "nbformat": 4,
 "nbformat_minor": 5
}
