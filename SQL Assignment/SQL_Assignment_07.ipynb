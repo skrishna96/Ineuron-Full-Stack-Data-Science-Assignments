{
 "cells": [
  {
   "cell_type": "markdown",
   "id": "b0940f5b",
   "metadata": {},
   "source": [
    "### Q-13. Write an SQL query to show only odd rows from a table."
   ]
  },
  {
   "cell_type": "markdown",
   "id": "58fc7834",
   "metadata": {},
   "source": [
    "SELECT * FROM WORKER WHERE MOD(EMPLOYEE_ID,2)=1;"
   ]
  },
  {
   "cell_type": "markdown",
   "id": "56d553fa",
   "metadata": {},
   "source": [
    "### Q-14. Write an SQL query to clone a new table from another table."
   ]
  },
  {
   "cell_type": "markdown",
   "id": "4d4ed3b2",
   "metadata": {},
   "source": [
    "CREATE TABLE WORKERNEW AS SELECT * FROM WORKER;"
   ]
  },
  {
   "cell_type": "code",
   "execution_count": null,
   "id": "c3ed84eb",
   "metadata": {},
   "outputs": [],
   "source": []
  }
 ],
 "metadata": {
  "kernelspec": {
   "display_name": "Python 3 (ipykernel)",
   "language": "python",
   "name": "python3"
  },
  "language_info": {
   "codemirror_mode": {
    "name": "ipython",
    "version": 3
   },
   "file_extension": ".py",
   "mimetype": "text/x-python",
   "name": "python",
   "nbconvert_exporter": "python",
   "pygments_lexer": "ipython3",
   "version": "3.9.7"
  }
 },
 "nbformat": 4,
 "nbformat_minor": 5
}
