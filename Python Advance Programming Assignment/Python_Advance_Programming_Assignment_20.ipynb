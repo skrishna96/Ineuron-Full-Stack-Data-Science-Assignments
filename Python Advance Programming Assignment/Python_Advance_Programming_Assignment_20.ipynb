{
 "cells": [
  {
   "cell_type": "markdown",
   "id": "d39eadd3",
   "metadata": {},
   "source": [
    "### 1. Create a function based on the input and output. Look at the examples, there is a pattern.\n",
    "\n",
    "#### Examples\n",
    "\n",
    "__secret(\"p.one.two.three\") ➞ \"\\<p class='one two three'>\\</p>\"__\n",
    "\n",
    "__secret(\"p.one\") ➞ \"\\<p class='one'>\\</p>\"__\n",
    "\n",
    "__secret(\"p.four.five\") ➞ \"\\<p class='four five'>\\</p>\"__"
   ]
  },
  {
   "cell_type": "code",
   "execution_count": 7,
   "id": "b52260d8",
   "metadata": {},
   "outputs": [],
   "source": [
    "def secret(sentence):\n",
    "    words = sentence.split(\".\")\n",
    "    return \"<\" + words[0] + \" class='\" + \" \".join(words[1:])+\"'></\" + words[0] + \">\""
   ]
  },
  {
   "cell_type": "code",
   "execution_count": 8,
   "id": "b7c382f9",
   "metadata": {},
   "outputs": [
    {
     "data": {
      "text/plain": [
       "\"<p class='one two three'></p>\""
      ]
     },
     "execution_count": 8,
     "metadata": {},
     "output_type": "execute_result"
    }
   ],
   "source": [
    "secret(\"p.one.two.three\") "
   ]
  },
  {
   "cell_type": "code",
   "execution_count": 9,
   "id": "2f316851",
   "metadata": {},
   "outputs": [
    {
     "data": {
      "text/plain": [
       "\"<p class='one'></p>\""
      ]
     },
     "execution_count": 9,
     "metadata": {},
     "output_type": "execute_result"
    }
   ],
   "source": [
    "secret(\"p.one\") "
   ]
  },
  {
   "cell_type": "code",
   "execution_count": 10,
   "id": "4c7c259c",
   "metadata": {},
   "outputs": [
    {
     "data": {
      "text/plain": [
       "\"<p class='four five'></p>\""
      ]
     },
     "execution_count": 10,
     "metadata": {},
     "output_type": "execute_result"
    }
   ],
   "source": [
    "secret(\"p.four.five\")"
   ]
  },
  {
   "cell_type": "markdown",
   "id": "cbc89434",
   "metadata": {},
   "source": [
    "### 2. Create a function which counts how many lone 1s appear in a given number. Lone means the number doesn't appear twice or more in a row.\n",
    "\n",
    "#### Examples\n",
    "#### count_lone_ones(101) ➞ 2\n",
    "#### count_lone_ones(1191) ➞ 1\n",
    "#### count_lone_ones(1111) ➞ 0\n",
    "#### count_lone_ones(462) ➞ 0"
   ]
  },
  {
   "cell_type": "code",
   "execution_count": 21,
   "id": "00c430e2",
   "metadata": {},
   "outputs": [],
   "source": [
    "def count_lone_ones(num):\n",
    "    num1 = str(num)\n",
    "    count = 0\n",
    "    if '1' in num1:\n",
    "        for i in range(len(str(num))-1):\n",
    "            if num1[i:i+1] != num1[i+1:i+2] and num1[i-1:i] != num1[i:i+1]:\n",
    "                count += 1\n",
    "    else:\n",
    "        return 0\n",
    "    return count"
   ]
  },
  {
   "cell_type": "code",
   "execution_count": 22,
   "id": "43abf6f7",
   "metadata": {},
   "outputs": [
    {
     "data": {
      "text/plain": [
       "2"
      ]
     },
     "execution_count": 22,
     "metadata": {},
     "output_type": "execute_result"
    }
   ],
   "source": [
    "count_lone_ones(101)"
   ]
  },
  {
   "cell_type": "code",
   "execution_count": 23,
   "id": "359a31e9",
   "metadata": {},
   "outputs": [
    {
     "data": {
      "text/plain": [
       "1"
      ]
     },
     "execution_count": 23,
     "metadata": {},
     "output_type": "execute_result"
    }
   ],
   "source": [
    "count_lone_ones(1191) "
   ]
  },
  {
   "cell_type": "code",
   "execution_count": 24,
   "id": "858fa4a6",
   "metadata": {},
   "outputs": [
    {
     "data": {
      "text/plain": [
       "0"
      ]
     },
     "execution_count": 24,
     "metadata": {},
     "output_type": "execute_result"
    }
   ],
   "source": [
    "count_lone_ones(1111)"
   ]
  },
  {
   "cell_type": "code",
   "execution_count": 25,
   "id": "fa9d5547",
   "metadata": {},
   "outputs": [
    {
     "data": {
      "text/plain": [
       "0"
      ]
     },
     "execution_count": 25,
     "metadata": {},
     "output_type": "execute_result"
    }
   ],
   "source": [
    "count_lone_ones(462)"
   ]
  },
  {
   "cell_type": "markdown",
   "id": "70f47192",
   "metadata": {},
   "source": [
    "### 3. Write a method that accepts two integer parameters rows and cols. The output is a 2d array of numbers displayed in column-major order, meaning the numbers shown increase sequentially down each column and wrap to the top of the next column to the right once the bottom of the current column is reached.\n",
    "\n",
    "#### Examples\n",
    "<pre>\n",
    "printGrid(3, 6) ➞ [\n",
    "  [1, 4, 7, 10, 13, 16],\n",
    "  [2, 5, 8, 11, 14, 17],\n",
    "  [3, 6, 9, 12, 15, 18]\n",
    "]\n",
    "\n",
    "printGrid(5, 3) ➞ [\n",
    "  [1, 6, 11],\n",
    "  [2, 7, 12],\n",
    "  [3, 8, 13],\n",
    "  [4, 9, 14],\n",
    "  [5, 10, 15]\n",
    "]\n",
    "\n",
    "printGrid(4, 1) ➞ [\n",
    "  [1],\n",
    "  [2],\n",
    "  [3],\n",
    "  [4]\n",
    "]\n",
    "<pre>"
   ]
  },
  {
   "cell_type": "code",
   "execution_count": 28,
   "id": "08d78f25",
   "metadata": {},
   "outputs": [],
   "source": [
    "def printGrid(rows,cols):\n",
    "    lst = []\n",
    "    for i in range(rows):\n",
    "        new_lst = []\n",
    "        for j in range(cols):\n",
    "            new_lst.append(i+((rows*j)+1))\n",
    "        lst.append(new_lst)\n",
    "    return lst"
   ]
  },
  {
   "cell_type": "code",
   "execution_count": 29,
   "id": "c281f52e",
   "metadata": {},
   "outputs": [
    {
     "data": {
      "text/plain": [
       "[[1, 4, 7, 10, 13, 16], [2, 5, 8, 11, 14, 17], [3, 6, 9, 12, 15, 18]]"
      ]
     },
     "execution_count": 29,
     "metadata": {},
     "output_type": "execute_result"
    }
   ],
   "source": [
    "printGrid(3, 6)"
   ]
  },
  {
   "cell_type": "code",
   "execution_count": 30,
   "id": "e6ed3dd4",
   "metadata": {},
   "outputs": [
    {
     "data": {
      "text/plain": [
       "[[1, 6, 11], [2, 7, 12], [3, 8, 13], [4, 9, 14], [5, 10, 15]]"
      ]
     },
     "execution_count": 30,
     "metadata": {},
     "output_type": "execute_result"
    }
   ],
   "source": [
    "printGrid(5, 3)"
   ]
  },
  {
   "cell_type": "code",
   "execution_count": 31,
   "id": "516e27c4",
   "metadata": {},
   "outputs": [
    {
     "data": {
      "text/plain": [
       "[[1], [2], [3], [4]]"
      ]
     },
     "execution_count": 31,
     "metadata": {},
     "output_type": "execute_result"
    }
   ],
   "source": [
    "printGrid(4, 1) "
   ]
  },
  {
   "cell_type": "markdown",
   "id": "a0b54ab5",
   "metadata": {},
   "source": [
    "### 4. Given a list of integers, return the smallest positive integer not present in the list.\n",
    "\n",
    "#### Here is a representative example. Consider the list:\n",
    "#### [-2, 6, 4, 5, 7, -1, 7, 1, 3, 6, 6, -2, 9, 10, 2, 2]\n",
    "#### After reordering, the list becomes:\n",
    "#### [-2, -2, -1, 1, 2, 2, 3, 4, 5, 6, 6, 6, 7, 7, 9, 10]\n",
    "#### from which we see that the smallest missing positive integer is 8.\n",
    "#### Examples\n",
    "#### min_miss_pos([-2, 6, 4, 5, 7, -1, 1, 3, 6, -2, 9, 10, 2, 2]) ➞ 8\n",
    "#### # After sorting, list becomes [-2, -2, -1, 1, 2, 2, 3, 4, 5, 6, 6, 7, 9, 10]\n",
    "#### # So the smallest missing positive integer is 8\n",
    "\n",
    "#### min_miss_pos([5, 9, -2, 0, 1, 3, 9, 3, 8, 9]) ➞ 2\n",
    "#### # After sorting, list becomes [-2, 0, 1, 3, 3, 5, 8, 9, 9, 9]\n",
    "#### # So the smallest missing positive integer is 2\n",
    "\n",
    "#### min_miss_pos([0, 4, 4, -1, 9, 4, 5, 2, 10, 7, 6, 3, 10, 9]) ➞ 1\n",
    "#### # After sorting, list becomes [-1, 0, 2, 3, 4, 4, 4, 5, 6, 7, 9, 9, 10, 10]\n",
    "#### # So the smallest missing positive integer is 1\n"
   ]
  },
  {
   "cell_type": "code",
   "execution_count": 32,
   "id": "9d5b5afe",
   "metadata": {},
   "outputs": [],
   "source": [
    "def min_miss_pos(lst):\n",
    "    for i in range(min(lst),max(lst)):\n",
    "        if i > 0 and i not in lst:\n",
    "            return i"
   ]
  },
  {
   "cell_type": "code",
   "execution_count": 33,
   "id": "ed26b89c",
   "metadata": {},
   "outputs": [
    {
     "data": {
      "text/plain": [
       "8"
      ]
     },
     "execution_count": 33,
     "metadata": {},
     "output_type": "execute_result"
    }
   ],
   "source": [
    "min_miss_pos([-2, 6, 4, 5, 7, -1, 1, 3, 6, -2, 9, 10, 2, 2])"
   ]
  },
  {
   "cell_type": "code",
   "execution_count": 34,
   "id": "48a971bf",
   "metadata": {},
   "outputs": [
    {
     "data": {
      "text/plain": [
       "2"
      ]
     },
     "execution_count": 34,
     "metadata": {},
     "output_type": "execute_result"
    }
   ],
   "source": [
    "min_miss_pos([5, 9, -2, 0, 1, 3, 9, 3, 8, 9]) "
   ]
  },
  {
   "cell_type": "code",
   "execution_count": 35,
   "id": "aefe5eed",
   "metadata": {},
   "outputs": [
    {
     "data": {
      "text/plain": [
       "1"
      ]
     },
     "execution_count": 35,
     "metadata": {},
     "output_type": "execute_result"
    }
   ],
   "source": [
    "min_miss_pos([0, 4, 4, -1, 9, 4, 5, 2, 10, 7, 6, 3, 10, 9]) "
   ]
  },
  {
   "cell_type": "markdown",
   "id": "63fe6457",
   "metadata": {},
   "source": [
    "### 5. Google is launching a network of autonomous pizza delivery drones and wants you to create a flexible rewards system (Pizza Points™) that can be tweaked in the future. The rules are simple: if a customer has made at least N orders of at least Y price, they get a FREE pizza!\n",
    "#### Create a function that takes a dictionary of customers, a minimum number of orders and a minimum order price. Return a list of customers that are eligible for a free pizza.\n",
    "#### Examples\n",
    "#### customers = {\n",
    "####   \"Batman\": [22, 30, 11, 17, 15, 52, 27, 12],\n",
    "####   \"Spider-Man\": [5, 17, 30, 33, 40, 22, 26, 10, 11, 45]\n",
    "#### }\n",
    "#### pizza_points(customers, 5, 20) ➞ [\"Spider-Man\"]\n",
    "#### pizza_points(customers, 3, 10) ➞ [\"Batman\", \"Spider-Man\"]\n",
    "#### pizza_points(customers, 5, 100) ➞ []"
   ]
  },
  {
   "cell_type": "code",
   "execution_count": 53,
   "id": "a0c72f8b",
   "metadata": {},
   "outputs": [],
   "source": [
    "def pizza_points(customers,numoforders,minorderprice):\n",
    "    new_dict ={}\n",
    "    for i in customers.keys():\n",
    "        c = 0\n",
    "        for orderprice in customers[i]:\n",
    "            if orderprice>minorderprice:\n",
    "                c = c + 1\n",
    "        new_dict[i] = c\n",
    "    new_lst = []\n",
    "    for cust in new_dict.keys():\n",
    "        if new_dict[cust] > numoforders:\n",
    "            new_lst.append(cust)\n",
    "    return new_lst"
   ]
  },
  {
   "cell_type": "code",
   "execution_count": 54,
   "id": "c48779c1",
   "metadata": {},
   "outputs": [
    {
     "data": {
      "text/plain": [
       "['Spider-Man']"
      ]
     },
     "execution_count": 54,
     "metadata": {},
     "output_type": "execute_result"
    }
   ],
   "source": [
    "customers = {\n",
    "  \"Batman\": [22, 30, 11, 17, 15, 52, 27, 12],\n",
    "  \"Spider-Man\": [5, 17, 30, 33, 40, 22, 26, 10, 11, 45]\n",
    "}\n",
    "\n",
    "pizza_points(customers, 5, 20) "
   ]
  },
  {
   "cell_type": "code",
   "execution_count": 55,
   "id": "91e8cee4",
   "metadata": {},
   "outputs": [
    {
     "data": {
      "text/plain": [
       "['Batman', 'Spider-Man']"
      ]
     },
     "execution_count": 55,
     "metadata": {},
     "output_type": "execute_result"
    }
   ],
   "source": [
    "pizza_points(customers, 3, 10) "
   ]
  },
  {
   "cell_type": "code",
   "execution_count": 56,
   "id": "8f460322",
   "metadata": {},
   "outputs": [
    {
     "data": {
      "text/plain": [
       "[]"
      ]
     },
     "execution_count": 56,
     "metadata": {},
     "output_type": "execute_result"
    }
   ],
   "source": [
    "pizza_points(customers, 5, 100)"
   ]
  },
  {
   "cell_type": "code",
   "execution_count": null,
   "id": "b2b243e5",
   "metadata": {},
   "outputs": [],
   "source": []
  }
 ],
 "metadata": {
  "kernelspec": {
   "display_name": "Python 3 (ipykernel)",
   "language": "python",
   "name": "python3"
  },
  "language_info": {
   "codemirror_mode": {
    "name": "ipython",
    "version": 3
   },
   "file_extension": ".py",
   "mimetype": "text/x-python",
   "name": "python",
   "nbconvert_exporter": "python",
   "pygments_lexer": "ipython3",
   "version": "3.10.0"
  }
 },
 "nbformat": 4,
 "nbformat_minor": 5
}
