{
 "cells": [
  {
   "cell_type": "markdown",
   "id": "2ddedfad",
   "metadata": {},
   "source": [
    "### 1. Rondo Form is a type of musical structure, in which there is a recurring theme/refrain, notated as A. Here are the rules for valid rondo forms:\n",
    "####    - Rondo forms always start and end with an A section.\n",
    "####    - In between the A sections, there should be contrasting sections notated as B, then C, then D, etc... No letter should be skipped.\n",
    "####    - There shouldn't be any repeats in the sequence (such as ABBACCA).\n",
    "\n",
    "#### Create a function which validates whether a given string is a valid Rondo Form.\n",
    "#### Examples\n",
    "#### valid_rondo(\"ABACADAEAFAGAHAIAJA\") ➞ True\n",
    "#### valid_rondo(\"ABA\") ➞ True\n",
    "#### valid_rondo(\"ABBACCA\") ➞ False\n",
    "#### valid_rondo(\"ACAC\") ➞ False\n",
    "#### valid_rondo(\"A\") ➞ False"
   ]
  },
  {
   "cell_type": "code",
   "execution_count": 52,
   "id": "3ce96e96",
   "metadata": {},
   "outputs": [],
   "source": [
    "def valid_rondo(sentence):\n",
    "    output = False\n",
    "    for i in range(0,len(sentence)-2,2):\n",
    "        if sentence[i] == 'A':\n",
    "            if sentence[i+1] != 'A' and sentence[i+1:i+2] != sentence[i+3:i+4]:\n",
    "                output = True\n",
    "            else:\n",
    "                output = False\n",
    "                break\n",
    "        else:\n",
    "            output = False\n",
    "            break\n",
    "    return output"
   ]
  },
  {
   "cell_type": "code",
   "execution_count": 53,
   "id": "30344b60",
   "metadata": {},
   "outputs": [
    {
     "data": {
      "text/plain": [
       "True"
      ]
     },
     "execution_count": 53,
     "metadata": {},
     "output_type": "execute_result"
    }
   ],
   "source": [
    "valid_rondo(\"ABACADAEAFAGAHAIAJA\")"
   ]
  },
  {
   "cell_type": "code",
   "execution_count": 54,
   "id": "d67b46fb",
   "metadata": {},
   "outputs": [
    {
     "data": {
      "text/plain": [
       "True"
      ]
     },
     "execution_count": 54,
     "metadata": {},
     "output_type": "execute_result"
    }
   ],
   "source": [
    "valid_rondo(\"ABA\")"
   ]
  },
  {
   "cell_type": "code",
   "execution_count": 55,
   "id": "3bf975ac",
   "metadata": {},
   "outputs": [
    {
     "data": {
      "text/plain": [
       "False"
      ]
     },
     "execution_count": 55,
     "metadata": {},
     "output_type": "execute_result"
    }
   ],
   "source": [
    "valid_rondo(\"ABBACCA\")"
   ]
  },
  {
   "cell_type": "code",
   "execution_count": 56,
   "id": "3b0197fa",
   "metadata": {},
   "outputs": [
    {
     "data": {
      "text/plain": [
       "False"
      ]
     },
     "execution_count": 56,
     "metadata": {},
     "output_type": "execute_result"
    }
   ],
   "source": [
    "valid_rondo(\"ACAC\")"
   ]
  },
  {
   "cell_type": "code",
   "execution_count": 57,
   "id": "db85046c",
   "metadata": {},
   "outputs": [
    {
     "data": {
      "text/plain": [
       "False"
      ]
     },
     "execution_count": 57,
     "metadata": {},
     "output_type": "execute_result"
    }
   ],
   "source": [
    "valid_rondo(\"A\")"
   ]
  },
  {
   "cell_type": "markdown",
   "id": "ff506ada",
   "metadata": {},
   "source": [
    "### 2. Create a function that returns the whole of the first sentence which contains a specific word. Include the full stop at the end of the sentence.\n",
    "\n",
    "#### Examples\n",
    "#### txt = \"I have a cat. I have a mat. Things are going swell.\"\n",
    "#### sentence_searcher(txt, \"have\") ➞ \"I have a cat.\"\n",
    "#### sentence_searcher(txt, \"MAT\") ➞ \"I have a mat.\"\n",
    "#### sentence_searcher(txt, \"things\") ➞ \"Things are going swell.\"\n",
    "#### sentence_searcher(txt, \"flat\") ➞ \"\""
   ]
  },
  {
   "cell_type": "code",
   "execution_count": 58,
   "id": "d31e4d13",
   "metadata": {},
   "outputs": [],
   "source": [
    "def sentence_searcher(txt,word):\n",
    "    lst = txt.split('. ')\n",
    "    for line in lst:\n",
    "        if word.lower() in line.lower():\n",
    "            return line\n",
    "    return \"\""
   ]
  },
  {
   "cell_type": "code",
   "execution_count": 59,
   "id": "035b7bf6",
   "metadata": {},
   "outputs": [
    {
     "data": {
      "text/plain": [
       "'I have a cat'"
      ]
     },
     "execution_count": 59,
     "metadata": {},
     "output_type": "execute_result"
    }
   ],
   "source": [
    "txt = \"I have a cat. I have a mat. Things are going swell.\"\n",
    "sentence_searcher(txt, \"have\")"
   ]
  },
  {
   "cell_type": "code",
   "execution_count": 60,
   "id": "446242ac",
   "metadata": {},
   "outputs": [
    {
     "data": {
      "text/plain": [
       "'I have a mat'"
      ]
     },
     "execution_count": 60,
     "metadata": {},
     "output_type": "execute_result"
    }
   ],
   "source": [
    "sentence_searcher(txt, \"MAT\")"
   ]
  },
  {
   "cell_type": "code",
   "execution_count": 61,
   "id": "998935bb",
   "metadata": {},
   "outputs": [
    {
     "data": {
      "text/plain": [
       "'Things are going swell.'"
      ]
     },
     "execution_count": 61,
     "metadata": {},
     "output_type": "execute_result"
    }
   ],
   "source": [
    "sentence_searcher(txt, \"things\")"
   ]
  },
  {
   "cell_type": "code",
   "execution_count": 62,
   "id": "22aa7d6d",
   "metadata": {},
   "outputs": [
    {
     "data": {
      "text/plain": [
       "''"
      ]
     },
     "execution_count": 62,
     "metadata": {},
     "output_type": "execute_result"
    }
   ],
   "source": [
    "sentence_searcher(txt, \"flat\")"
   ]
  },
  {
   "cell_type": "markdown",
   "id": "f7b6ecca",
   "metadata": {},
   "source": [
    "### 3. Given a number, find the \"round \"of each digit of the number. An integer is called \"round\" if all its digits except the leftmost (most significant) are equal to zero.\n",
    "####     - Round numbers: 4000, 1, 9, 800, 90\n",
    "####     - Not round numbers: 110, 707, 222, 1001\n",
    "        \n",
    "#### Create a function that takes a number and returns the \"round\" of each digit (except if the digit is zero) as a string. Check out the following examples for more clarification.\n",
    "#### Examples\n",
    "#### sum_round(101) ➞ \"1 100\"\n",
    "#### sum_round(1234) ➞ \"4 30 200 1000\"\n",
    "#### sum_round(54210) ➞ \"10 200 4000 50000\""
   ]
  },
  {
   "cell_type": "code",
   "execution_count": 83,
   "id": "68de5fba",
   "metadata": {},
   "outputs": [],
   "source": [
    "def sum_round(num):\n",
    "    num = str(num)\n",
    "    lst = []\n",
    "    for i in range(len(num)):\n",
    "        if num[i] != '0':\n",
    "            lst.append(num[i] + len(num[i+1:])*'0')\n",
    "    return ' '.join(lst[::-1])"
   ]
  },
  {
   "cell_type": "code",
   "execution_count": 84,
   "id": "6191cc6a",
   "metadata": {},
   "outputs": [
    {
     "data": {
      "text/plain": [
       "'1 100'"
      ]
     },
     "execution_count": 84,
     "metadata": {},
     "output_type": "execute_result"
    }
   ],
   "source": [
    "sum_round(101)"
   ]
  },
  {
   "cell_type": "code",
   "execution_count": 85,
   "id": "6bfaec99",
   "metadata": {},
   "outputs": [
    {
     "data": {
      "text/plain": [
       "'4 30 200 1000'"
      ]
     },
     "execution_count": 85,
     "metadata": {},
     "output_type": "execute_result"
    }
   ],
   "source": [
    "sum_round(1234)"
   ]
  },
  {
   "cell_type": "code",
   "execution_count": 86,
   "id": "a1a89a9f",
   "metadata": {},
   "outputs": [
    {
     "data": {
      "text/plain": [
       "'10 200 4000 50000'"
      ]
     },
     "execution_count": 86,
     "metadata": {},
     "output_type": "execute_result"
    }
   ],
   "source": [
    "sum_round(54210)"
   ]
  },
  {
   "cell_type": "markdown",
   "id": "e1543691",
   "metadata": {},
   "source": [
    "### 4. Your task, is to create N x N multiplication table, of size n provided in parameter.\n",
    "#### For example, when n is 5, the multiplication table is:\n",
    "####    - 1, 2, 3, 4, 5\n",
    "####    - 2, 4, 6, 8, 10\n",
    "####    - 3, 6, 9, 12, 15\n",
    "####    - 4, 8, 12, 16, 20\n",
    "####    - 5, 10, 15, 20, 25\n",
    "\n",
    "#### This example will result in:\n",
    "#### [[1, 2, 3, 4, 5], [2, 4, 6, 8, 10], [3, 6, 9, 12, 15], [4, 8, 12, 16, 20], [5, 10, 15, 20, 25]]\n",
    "\n",
    "#### Examples\n",
    "#### multiplication_table(1) ➞ [[1]]\n",
    "#### multiplication_table(3) ➞ [[1, 2, 3], [2, 4, 6], [3, 6, 9]]"
   ]
  },
  {
   "cell_type": "code",
   "execution_count": 88,
   "id": "6eefcf20",
   "metadata": {},
   "outputs": [],
   "source": [
    "def multiplication_table(num):\n",
    "    lst = []\n",
    "    for i in range(1,num+1):\n",
    "        temp = []\n",
    "        for j in range(1,num+1):\n",
    "            temp.append(i * j)\n",
    "        lst.append(temp)\n",
    "    return lst"
   ]
  },
  {
   "cell_type": "code",
   "execution_count": 89,
   "id": "3cdae14e",
   "metadata": {},
   "outputs": [
    {
     "data": {
      "text/plain": [
       "[[1]]"
      ]
     },
     "execution_count": 89,
     "metadata": {},
     "output_type": "execute_result"
    }
   ],
   "source": [
    "multiplication_table(1)"
   ]
  },
  {
   "cell_type": "code",
   "execution_count": 90,
   "id": "3a8eb71c",
   "metadata": {},
   "outputs": [
    {
     "data": {
      "text/plain": [
       "[[1, 2, 3], [2, 4, 6], [3, 6, 9]]"
      ]
     },
     "execution_count": 90,
     "metadata": {},
     "output_type": "execute_result"
    }
   ],
   "source": [
    "multiplication_table(3)"
   ]
  },
  {
   "cell_type": "markdown",
   "id": "8024ece2",
   "metadata": {},
   "source": [
    "### 5. Create a function that returns True if two lines rhyme and False otherwise. For the purposes of this exercise, two lines rhyme if the last word from each sentence contains the same vowels.\n",
    "\n",
    "#### Examples\n",
    "#### does_rhyme(\"Sam I am!\", \"Green eggs and ham.\") ➞ True\n",
    "#### does_rhyme(\"Sam I am!\", \"Green eggs and HAM.\") ➞ True\n",
    "#### # Capitalization and punctuation should not matter.\n",
    "#### does_rhyme(\"You are off to the races\", \"a splendid day.\") ➞ False\n",
    "#### does_rhyme(\"and frequently do?\", \"you gotta move.\") ➞ False"
   ]
  },
  {
   "cell_type": "code",
   "execution_count": 104,
   "id": "7d198059",
   "metadata": {},
   "outputs": [],
   "source": [
    "def does_rhyme(rhyme1,rhyme2):\n",
    "    vowels = 'aeiou'\n",
    "    rhyme1_last = [i.lower() for i in rhyme1.split(' ')[-1] if i.lower() in vowels]\n",
    "    rhyme2_last = [i.lower() for i in rhyme2.split(' ')[-1] if i.lower() in vowels]\n",
    "    if rhyme1_last == rhyme2_last:\n",
    "        return True\n",
    "    else:\n",
    "        return False"
   ]
  },
  {
   "cell_type": "code",
   "execution_count": 105,
   "id": "9ec0803f",
   "metadata": {},
   "outputs": [
    {
     "data": {
      "text/plain": [
       "True"
      ]
     },
     "execution_count": 105,
     "metadata": {},
     "output_type": "execute_result"
    }
   ],
   "source": [
    "does_rhyme(\"Sam I am!\", \"Green eggs and ham.\")"
   ]
  },
  {
   "cell_type": "code",
   "execution_count": 106,
   "id": "33327ba7",
   "metadata": {},
   "outputs": [
    {
     "data": {
      "text/plain": [
       "True"
      ]
     },
     "execution_count": 106,
     "metadata": {},
     "output_type": "execute_result"
    }
   ],
   "source": [
    "does_rhyme(\"Sam I am!\", \"Green eggs and HAM.\")"
   ]
  },
  {
   "cell_type": "code",
   "execution_count": 107,
   "id": "a14c21da",
   "metadata": {},
   "outputs": [
    {
     "data": {
      "text/plain": [
       "False"
      ]
     },
     "execution_count": 107,
     "metadata": {},
     "output_type": "execute_result"
    }
   ],
   "source": [
    "does_rhyme(\"You are off to the races\", \"a splendid day.\")"
   ]
  },
  {
   "cell_type": "code",
   "execution_count": 108,
   "id": "d0533e3c",
   "metadata": {},
   "outputs": [
    {
     "data": {
      "text/plain": [
       "False"
      ]
     },
     "execution_count": 108,
     "metadata": {},
     "output_type": "execute_result"
    }
   ],
   "source": [
    "does_rhyme(\"and frequently do?\", \"you gotta move.\")"
   ]
  },
  {
   "cell_type": "code",
   "execution_count": null,
   "id": "8319a222",
   "metadata": {},
   "outputs": [],
   "source": []
  }
 ],
 "metadata": {
  "kernelspec": {
   "display_name": "Python 3 (ipykernel)",
   "language": "python",
   "name": "python3"
  },
  "language_info": {
   "codemirror_mode": {
    "name": "ipython",
    "version": 3
   },
   "file_extension": ".py",
   "mimetype": "text/x-python",
   "name": "python",
   "nbconvert_exporter": "python",
   "pygments_lexer": "ipython3",
   "version": "3.9.7"
  }
 },
 "nbformat": 4,
 "nbformat_minor": 5
}
