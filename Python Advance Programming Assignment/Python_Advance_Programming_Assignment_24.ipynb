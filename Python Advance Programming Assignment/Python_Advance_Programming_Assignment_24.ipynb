{
 "cells": [
  {
   "cell_type": "markdown",
   "id": "250b611a",
   "metadata": {},
   "source": [
    "### 1. Implement a class iterator to flatten a nested list of lists of integers. Each list element is either an integer or a list. There can be many levels of nested lists in lists.\n",
    "#### The class initializes with a nested list. It also has two methods:\n",
    "####   1. next() returns an integer in the order of appearance.\n",
    "####   2. hasNext() returns True / False regarding if all integers have been retrieved or not.\n",
    "#### Write the Class implementation for three required methods.\n",
    "#### Examples\n",
    "#### ni, actual = NestedIterator([[1, 1], 2, [1, 1]]), []\n",
    "#### while ni.hasNext():\n",
    "####     actual.append(ni.next())\n",
    "#### actual ➞ [1, 1, 2, 1, 1]\n",
    "\n",
    "#### ni, actual = NestedIterator([1, [4, [6]]]), []\n",
    "#### while ni.hasNext():\n",
    "####     actual.append(ni.next())\n",
    "#### actual ➞ [1, 4, 6]\n",
    "\n",
    "#### ni, actual = NestedIterator([[[]], []]), []\n",
    "#### while ni.hasNext():\n",
    "####     actual.append(ni.next())\n",
    "#### actual ➞ []"
   ]
  },
  {
   "cell_type": "code",
   "execution_count": 12,
   "id": "bd22b17c",
   "metadata": {},
   "outputs": [
    {
     "name": "stdout",
     "output_type": "stream",
     "text": [
      "[]\n"
     ]
    }
   ],
   "source": [
    "lst = [[[]], []]\n",
    "for i in range(len(lst)):\n",
    "    if type(lst[i]) == int:\n",
    "        print(lst[i])\n",
    "    else:\n",
    "        for j in range(len(lst[i])):\n",
    "            print(lst[i][j])"
   ]
  },
  {
   "cell_type": "code",
   "execution_count": 10,
   "id": "e345af41",
   "metadata": {},
   "outputs": [
    {
     "name": "stdout",
     "output_type": "stream",
     "text": [
      "<class 'int'>\n",
      "<class 'int'>\n",
      "<class 'int'>\n"
     ]
    }
   ],
   "source": [
    "for i in range(len(lst)):\n",
    "    print(type(i))"
   ]
  },
  {
   "cell_type": "code",
   "execution_count": 16,
   "id": "f1da0a12",
   "metadata": {},
   "outputs": [],
   "source": [
    "class NestedIterator:\n",
    "    def __init__(self,lst):\n",
    "        self.lst = lst\n",
    "        self.normal_list = []\n",
    "        self.split_sublist(self.lst)\n",
    "        \n",
    "    def split_sublist(self,lst):\n",
    "        for i in lst:\n",
    "            if type(i) == int:\n",
    "                self.normal_list.append(i)\n",
    "            else:\n",
    "                self.split_sublist(i)\n",
    "    def hasNext(self):\n",
    "        if len(self.normal_list) > 0:\n",
    "            return True\n",
    "        else:\n",
    "            return False\n",
    "    def next(self):\n",
    "        return self.normal_list.pop(0)"
   ]
  },
  {
   "cell_type": "code",
   "execution_count": 17,
   "id": "2fdfca15",
   "metadata": {},
   "outputs": [
    {
     "name": "stdout",
     "output_type": "stream",
     "text": [
      "[1, 1, 2, 1, 1]\n"
     ]
    }
   ],
   "source": [
    "ni, actual = NestedIterator([[1, 1], 2, [1, 1]]), []\n",
    "while ni.hasNext():\n",
    "    actual.append(ni.next())\n",
    "print(actual)"
   ]
  },
  {
   "cell_type": "code",
   "execution_count": 18,
   "id": "4cfb7ba3",
   "metadata": {},
   "outputs": [
    {
     "name": "stdout",
     "output_type": "stream",
     "text": [
      "[1, 4, 6]\n"
     ]
    }
   ],
   "source": [
    "ni, actual = NestedIterator([1, [4, [6]]]), []\n",
    "while ni.hasNext():\n",
    "    actual.append(ni.next())\n",
    "print(actual)"
   ]
  },
  {
   "cell_type": "code",
   "execution_count": 19,
   "id": "1ca67e0d",
   "metadata": {},
   "outputs": [
    {
     "name": "stdout",
     "output_type": "stream",
     "text": [
      "[]\n"
     ]
    }
   ],
   "source": [
    "ni, actual = NestedIterator([[[]], []]), []\n",
    "while ni.hasNext():\n",
    "    actual.append(ni.next())\n",
    "print(actual)"
   ]
  },
  {
   "attachments": {},
   "cell_type": "markdown",
   "id": "35ee7644",
   "metadata": {},
   "source": [
    "### 3. Given a 3x3 matrix of a completed tic-tac-toe game, create a function that returns whether the game is a win for \"X\", \"O\", or a \"Draw\", where \"X\" and \"O\" represent themselves on the matrix, and \"E\" represents an empty spot.\n",
    "\n",
    "#### Examples\n",
    "<pre>\n",
    "tic_tac_toe([\n",
    "  [\"X\", \"O\", \"X\"],\n",
    "  [\"O\", \"X\",  \"O\"],\n",
    "  [\"O\", \"X\",  \"X\"]\n",
    "]) ➞ \"X\"\n",
    "\n",
    "tic_tac_toe([\n",
    "  [\"O\", \"O\", \"O\"],\n",
    "  [\"O\", \"X\", \"X\"],\n",
    "  [\"E\", \"X\", \"X\"]\n",
    "]) ➞ \"O\"\n",
    "\n",
    "tic_tac_toe([\n",
    "  [\"X\", \"X\", \"O\"],\n",
    "  [\"O\", \"O\", \"X\"],\n",
    "  [\"X\", \"X\", \"O\"]\n",
    "]) ➞ \"Draw\""
   ]
  },
  {
   "cell_type": "code",
   "execution_count": 17,
   "id": "466c8b1c",
   "metadata": {},
   "outputs": [],
   "source": [
    "def tic_tac_toe(lst):\n",
    "    winner = None\n",
    "    for i in lst:\n",
    "        if len(set(i)) == 1:\n",
    "            winner = list(set(i))[0]\n",
    "            break\n",
    "            \n",
    "    if winner == None:\n",
    "        for i in range(len(lst)):\n",
    "            temp_lst = []\n",
    "            for j in range(len(lst)):\n",
    "                temp_lst.append(lst[j][i])\n",
    "            if len(set(temp_lst)) == 1:\n",
    "                winner = list(set(temp_lst))[0]\n",
    "    if winner == None:\n",
    "        temp_lst = []\n",
    "        for i in range(3):\n",
    "            temp_lst.append(lst[i][i])\n",
    "        if len(set(temp_lst)) == 1:\n",
    "            winner = list(set(temp_lst))[0]\n",
    "    if winner == None:\n",
    "        temp_lst = []\n",
    "        for i in range(3):\n",
    "            for j in range(3):\n",
    "                if sum([i,j]) == 2:\n",
    "                    temp_lst.append(lst[i][j])\n",
    "        if len(set(temp_lst)) == 1:\n",
    "            winner = list(set(temp_lst))[0]\n",
    "    if winner == None:\n",
    "        return \"Draw\"\n",
    "    else:\n",
    "        return winner"
   ]
  },
  {
   "cell_type": "code",
   "execution_count": 18,
   "id": "b925c29b",
   "metadata": {},
   "outputs": [
    {
     "data": {
      "text/plain": [
       "'X'"
      ]
     },
     "execution_count": 18,
     "metadata": {},
     "output_type": "execute_result"
    }
   ],
   "source": [
    "tic_tac_toe([\n",
    "  [\"X\", \"O\", \"X\"],\n",
    "  [\"O\", \"X\",  \"O\"],\n",
    "  [\"O\", \"X\",  \"X\"]\n",
    "]) "
   ]
  },
  {
   "cell_type": "code",
   "execution_count": 19,
   "id": "9705d9dc",
   "metadata": {},
   "outputs": [
    {
     "data": {
      "text/plain": [
       "'O'"
      ]
     },
     "execution_count": 19,
     "metadata": {},
     "output_type": "execute_result"
    }
   ],
   "source": [
    "tic_tac_toe([\n",
    "  [\"O\", \"O\", \"O\"],\n",
    "  [\"O\", \"X\", \"X\"],\n",
    "  [\"E\", \"X\", \"X\"]\n",
    "]) "
   ]
  },
  {
   "cell_type": "code",
   "execution_count": 20,
   "id": "379c9d60",
   "metadata": {},
   "outputs": [
    {
     "data": {
      "text/plain": [
       "'Draw'"
      ]
     },
     "execution_count": 20,
     "metadata": {},
     "output_type": "execute_result"
    }
   ],
   "source": [
    "tic_tac_toe([\n",
    "  [\"X\", \"X\", \"O\"],\n",
    "  [\"O\", \"O\", \"X\"],\n",
    "  [\"X\", \"X\", \"O\"]\n",
    "])"
   ]
  },
  {
   "cell_type": "markdown",
   "id": "4584787e",
   "metadata": {},
   "source": [
    "### 4. Your computer might have been infected by a virus! Create a function that finds the viruses in files and removes them from your computer.\n",
    "#### Examples\n",
    "#### remove_virus(\"PC Files: spotifysetup.exe, virus.exe, dog.jpg\") ➞ \"PC Files: spotifysetup.exe, dog.jpg\"\n",
    "#### remove_virus(\"PC Files: antivirus.exe, cat.pdf, lethalmalware.exe, dangerousvirus.exe \") ➞ \"PC Files: antivirus.exe, cat.pdf\"\n",
    "#### remove_virus(\"PC Files: notvirus.exe, funnycat.gif\") ➞ \"PC Files: notvirus.exe, funnycat.gif\")"
   ]
  },
  {
   "cell_type": "code",
   "execution_count": 27,
   "id": "a3c33596",
   "metadata": {},
   "outputs": [],
   "source": [
    "def remove_virus(sentence):\n",
    "    lst = []\n",
    "    for word in sentence.split(\",\"):\n",
    "        if word.strip() not in ['virus.exe','lethalmalware.exe','dangerousvirus.exe']:\n",
    "            lst.append(word.strip())\n",
    "    return \", \".join(lst)"
   ]
  },
  {
   "cell_type": "code",
   "execution_count": 28,
   "id": "1553e8a9",
   "metadata": {},
   "outputs": [
    {
     "data": {
      "text/plain": [
       "'PC Files: spotifysetup.exe, dog.jpg'"
      ]
     },
     "execution_count": 28,
     "metadata": {},
     "output_type": "execute_result"
    }
   ],
   "source": [
    "remove_virus(\"PC Files: spotifysetup.exe, virus.exe, dog.jpg\") "
   ]
  },
  {
   "cell_type": "code",
   "execution_count": 29,
   "id": "72fe7368",
   "metadata": {},
   "outputs": [
    {
     "data": {
      "text/plain": [
       "'PC Files: antivirus.exe, cat.pdf'"
      ]
     },
     "execution_count": 29,
     "metadata": {},
     "output_type": "execute_result"
    }
   ],
   "source": [
    "remove_virus(\"PC Files: antivirus.exe, cat.pdf, lethalmalware.exe, dangerousvirus.exe \")"
   ]
  },
  {
   "cell_type": "code",
   "execution_count": 30,
   "id": "5d8ccdfb",
   "metadata": {},
   "outputs": [
    {
     "data": {
      "text/plain": [
       "'PC Files: notvirus.exe, funnycat.gif'"
      ]
     },
     "execution_count": 30,
     "metadata": {},
     "output_type": "execute_result"
    }
   ],
   "source": [
    "remove_virus(\"PC Files: notvirus.exe, funnycat.gif\") "
   ]
  },
  {
   "cell_type": "markdown",
   "id": "919d0d46",
   "metadata": {},
   "source": [
    "### 5. In a video game, a meteor will fall toward the main character's home planet. Given the meteor's trajectory as a string in the form y = mx + b and the character's position as a tuple of (x, y), return True if the meteor will hit the character and False if it will not.\n",
    "#### Examples\n",
    "#### will_hit(\"y = 2x - 5\", (0, 0)) ➞ False\n",
    "#### will_hit(\"y = -4x + 6\", (1, 2)) ➞ True\n",
    "#### will_hit(\"y = 2x + 6\", (3, 2)) ➞ False"
   ]
  },
  {
   "cell_type": "code",
   "execution_count": 41,
   "id": "0895447a",
   "metadata": {},
   "outputs": [],
   "source": [
    "def will_hit(equation,values):\n",
    "    eq1 = equation.split()\n",
    "    val = list(values)\n",
    "    lst = []\n",
    "    for i in eq1:\n",
    "        if 'y' in i:\n",
    "            lst.append(i.replace('y',str(val[1])))\n",
    "        elif 'x' in i:\n",
    "            lst.append(i.replace('x','*' + str(val[0])))\n",
    "        elif '=' in i:\n",
    "            lst.append(i.replace('=','=='))\n",
    "        else:\n",
    "            lst.append(i)\n",
    "    return eval(''.join(lst))"
   ]
  },
  {
   "cell_type": "code",
   "execution_count": 42,
   "id": "d39f17b9",
   "metadata": {},
   "outputs": [
    {
     "data": {
      "text/plain": [
       "False"
      ]
     },
     "execution_count": 42,
     "metadata": {},
     "output_type": "execute_result"
    }
   ],
   "source": [
    "will_hit(\"y = 2x - 5\", (0, 0)) "
   ]
  },
  {
   "cell_type": "code",
   "execution_count": 43,
   "id": "789a425d",
   "metadata": {},
   "outputs": [
    {
     "data": {
      "text/plain": [
       "True"
      ]
     },
     "execution_count": 43,
     "metadata": {},
     "output_type": "execute_result"
    }
   ],
   "source": [
    "will_hit(\"y = -4x + 6\", (1, 2)) "
   ]
  },
  {
   "cell_type": "code",
   "execution_count": 44,
   "id": "13f159f5",
   "metadata": {},
   "outputs": [
    {
     "data": {
      "text/plain": [
       "False"
      ]
     },
     "execution_count": 44,
     "metadata": {},
     "output_type": "execute_result"
    }
   ],
   "source": [
    "will_hit(\"y = 2x + 6\", (3, 2)) "
   ]
  },
  {
   "cell_type": "code",
   "execution_count": null,
   "id": "c155b688",
   "metadata": {},
   "outputs": [],
   "source": []
  }
 ],
 "metadata": {
  "kernelspec": {
   "display_name": "Python 3 (ipykernel)",
   "language": "python",
   "name": "python3"
  },
  "language_info": {
   "codemirror_mode": {
    "name": "ipython",
    "version": 3
   },
   "file_extension": ".py",
   "mimetype": "text/x-python",
   "name": "python",
   "nbconvert_exporter": "python",
   "pygments_lexer": "ipython3",
   "version": "3.10.0"
  }
 },
 "nbformat": 4,
 "nbformat_minor": 5
}
