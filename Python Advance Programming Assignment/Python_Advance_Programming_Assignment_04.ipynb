{
 "cells": [
  {
   "attachments": {
    "image.png": {
     "image/png": "[encoded data removed]"
    }
   },
   "cell_type": "markdown",
   "id": "822e95da",
   "metadata": {},
   "source": [
    "### 1. In mathematics, the Fibonacci numbers, commonly denoted Fn, form a sequence, called the Fibonacci sequence, such that each number is the sum of the two preceding ones, starting from 0 and 1:\n",
    "![image.png](attachment:image.png)\n",
    "#### The beginning of the sequence is this:\n",
    "#### 0, 1, 1, 2, 3, 5, 8, 13, 21, 34, 55, 89, 144, ...\n",
    "#### The function fastFib(num) returns the fibonacci number Fn, of the given num as an argument.\n",
    "#### Examples\n",
    "#### fib_fast(5) ➞ 5\n",
    "#### fib_fast(10) ➞ 55\n",
    "#### fib_fast(20) ➞ 6765\n",
    "#### fib_fast(50) ➞ 12586269025"
   ]
  },
  {
   "cell_type": "code",
   "execution_count": 1,
   "id": "5084f6a3",
   "metadata": {},
   "outputs": [],
   "source": [
    "def fib_fast(num):\n",
    "    if num == 0:\n",
    "        return 0\n",
    "    elif num == 1:\n",
    "        return 1\n",
    "    else:\n",
    "        return fib_fast(num -1) + fib_fast(num-2)"
   ]
  },
  {
   "cell_type": "code",
   "execution_count": 2,
   "id": "c701ed8c",
   "metadata": {},
   "outputs": [
    {
     "data": {
      "text/plain": [
       "5"
      ]
     },
     "execution_count": 2,
     "metadata": {},
     "output_type": "execute_result"
    }
   ],
   "source": [
    "fib_fast(5) "
   ]
  },
  {
   "cell_type": "code",
   "execution_count": 3,
   "id": "e86f92e8",
   "metadata": {},
   "outputs": [
    {
     "data": {
      "text/plain": [
       "55"
      ]
     },
     "execution_count": 3,
     "metadata": {},
     "output_type": "execute_result"
    }
   ],
   "source": [
    "fib_fast(10)"
   ]
  },
  {
   "cell_type": "code",
   "execution_count": 4,
   "id": "6aa1959f",
   "metadata": {},
   "outputs": [
    {
     "data": {
      "text/plain": [
       "6765"
      ]
     },
     "execution_count": 4,
     "metadata": {},
     "output_type": "execute_result"
    }
   ],
   "source": [
    "fib_fast(20)"
   ]
  },
  {
   "cell_type": "markdown",
   "id": "cf3f3d7e",
   "metadata": {},
   "source": [
    "### 2. Create a function that takes a strings characters as ASCII and returns each characters hexadecimal value as a string.\n",
    "#### Examples\n",
    "#### convert_to_hex(\"hello world\") ➞ \"68 65 6c 6c 6f 20 77 6f 72 6c 64\"\n",
    "#### convert_to_hex(\"Big Boi\") ➞ \"42 69 67 20 42 6f 69\"\n",
    "#### convert_to_hex(\"Marty Poppinson\") ➞ \"4d 61 72 74 79 20 50 6f 70 70 69 6e 73 6f 6e\""
   ]
  },
  {
   "cell_type": "code",
   "execution_count": 9,
   "id": "b0e8c121",
   "metadata": {},
   "outputs": [],
   "source": [
    "def convert_to_hex(word):\n",
    "    new_word = ''\n",
    "    for char in word:\n",
    "        new_word += hex(ord(char))\n",
    "    return new_word.replace(\"0x\",\" \").strip()"
   ]
  },
  {
   "cell_type": "code",
   "execution_count": 10,
   "id": "7287e07b",
   "metadata": {},
   "outputs": [
    {
     "data": {
      "text/plain": [
       "'68 65 6c 6c 6f 20 77 6f 72 6c 64'"
      ]
     },
     "execution_count": 10,
     "metadata": {},
     "output_type": "execute_result"
    }
   ],
   "source": [
    "convert_to_hex(\"hello world\")"
   ]
  },
  {
   "cell_type": "code",
   "execution_count": 11,
   "id": "e9717159",
   "metadata": {},
   "outputs": [
    {
     "data": {
      "text/plain": [
       "'42 69 67 20 42 6f 69'"
      ]
     },
     "execution_count": 11,
     "metadata": {},
     "output_type": "execute_result"
    }
   ],
   "source": [
    "convert_to_hex(\"Big Boi\")"
   ]
  },
  {
   "cell_type": "code",
   "execution_count": 12,
   "id": "7177ec76",
   "metadata": {},
   "outputs": [
    {
     "data": {
      "text/plain": [
       "'4d 61 72 74 79 20 50 6f 70 70 69 6e 73 6f 6e'"
      ]
     },
     "execution_count": 12,
     "metadata": {},
     "output_type": "execute_result"
    }
   ],
   "source": [
    "convert_to_hex(\"Marty Poppinson\")"
   ]
  },
  {
   "cell_type": "markdown",
   "id": "0eee7742",
   "metadata": {},
   "source": [
    "### 3. Someone has attempted to censor my strings by replacing every vowel with a *, l*k* th*s. Luckily, I've been able to find the vowels that were removed.\n",
    "#### Given a censored string and a string of the censored vowels, return the original uncensored string.\n",
    "#### Example\n",
    "#### uncensor(\"Wh\\*r* d\\*d my v\\*w\\*ls g*?\", \"eeioeo\") ➞ \"Where did my vowels go?\"\n",
    "#### uncensor(\"abcd\", \"\") ➞ \"abcd\"\n",
    "#### uncensor(\"\\*PP\\*RC\\*S\\*\", \"UEAE\") ➞ \"UPPERCASE\""
   ]
  },
  {
   "cell_type": "code",
   "execution_count": 13,
   "id": "7c44134a",
   "metadata": {},
   "outputs": [],
   "source": [
    "def uncensor(word,rep_char):\n",
    "    new_word = ''\n",
    "    count = 0\n",
    "    for char in word:\n",
    "        if char == \"*\":\n",
    "            new_word += rep_char[count]\n",
    "            count += 1\n",
    "        else:\n",
    "            new_word += char\n",
    "    return new_word"
   ]
  },
  {
   "cell_type": "code",
   "execution_count": 14,
   "id": "978f2bda",
   "metadata": {},
   "outputs": [
    {
     "data": {
      "text/plain": [
       "'Where did my vowels go?'"
      ]
     },
     "execution_count": 14,
     "metadata": {},
     "output_type": "execute_result"
    }
   ],
   "source": [
    "uncensor(\"Wh*r* d*d my v*w*ls g*?\", \"eeioeo\")"
   ]
  },
  {
   "cell_type": "code",
   "execution_count": 15,
   "id": "ff9e041c",
   "metadata": {},
   "outputs": [
    {
     "data": {
      "text/plain": [
       "'abcd'"
      ]
     },
     "execution_count": 15,
     "metadata": {},
     "output_type": "execute_result"
    }
   ],
   "source": [
    "uncensor(\"abcd\", \"\")"
   ]
  },
  {
   "cell_type": "code",
   "execution_count": 16,
   "id": "52a7b58a",
   "metadata": {},
   "outputs": [
    {
     "data": {
      "text/plain": [
       "'UPPERCASE'"
      ]
     },
     "execution_count": 16,
     "metadata": {},
     "output_type": "execute_result"
    }
   ],
   "source": [
    "uncensor(\"*PP*RC*S*\", \"UEAE\") "
   ]
  },
  {
   "cell_type": "markdown",
   "id": "1009514d",
   "metadata": {},
   "source": [
    "### 4. Write a function that takes an IP address and returns the domain name using PTR DNS records.\n",
    "#### Example\n",
    "#### get_domain(\"8.8.8.8\") ➞ \"dns.google\"\n",
    "#### get_domain(\"8.8.4.4\") ➞ \"dns.google\""
   ]
  },
  {
   "cell_type": "code",
   "execution_count": 19,
   "id": "e5a1f747",
   "metadata": {},
   "outputs": [],
   "source": [
    "import socket\n",
    "def get_domain(ip):\n",
    "    return socket.gethostbyaddr(ip)[0]"
   ]
  },
  {
   "cell_type": "code",
   "execution_count": 20,
   "id": "2ebad507",
   "metadata": {},
   "outputs": [
    {
     "data": {
      "text/plain": [
       "'dns.google'"
      ]
     },
     "execution_count": 20,
     "metadata": {},
     "output_type": "execute_result"
    }
   ],
   "source": [
    "get_domain(\"8.8.8.8\")"
   ]
  },
  {
   "cell_type": "code",
   "execution_count": 21,
   "id": "057cf447",
   "metadata": {},
   "outputs": [
    {
     "data": {
      "text/plain": [
       "'dns.google'"
      ]
     },
     "execution_count": 21,
     "metadata": {},
     "output_type": "execute_result"
    }
   ],
   "source": [
    "get_domain(\"8.8.4.4\")"
   ]
  },
  {
   "cell_type": "markdown",
   "id": "33cae121",
   "metadata": {},
   "source": [
    "### 5. Create a function that takes an integer n and returns the factorial of factorials. See below examples for a better understanding:\n",
    "#### Examples\n",
    "#### fact_of_fact(4) ➞ 288\n",
    "#### # 4! * 3! * 2! * 1! = 288\n",
    "#### fact_of_fact(5) ➞ 34560\n",
    "#### fact_of_fact(6) ➞ 24883200"
   ]
  },
  {
   "cell_type": "code",
   "execution_count": 26,
   "id": "78e54ed8",
   "metadata": {},
   "outputs": [],
   "source": [
    "def fact_of_fact(num):\n",
    "    mul = 1\n",
    "    for i in range(1,num+1):\n",
    "        for j in range(1,i+1):\n",
    "            mul = mul * j\n",
    "    return mul"
   ]
  },
  {
   "cell_type": "code",
   "execution_count": 27,
   "id": "6c46de61",
   "metadata": {},
   "outputs": [
    {
     "data": {
      "text/plain": [
       "288"
      ]
     },
     "execution_count": 27,
     "metadata": {},
     "output_type": "execute_result"
    }
   ],
   "source": [
    "fact_of_fact(4)"
   ]
  },
  {
   "cell_type": "code",
   "execution_count": 28,
   "id": "d535205a",
   "metadata": {},
   "outputs": [
    {
     "data": {
      "text/plain": [
       "34560"
      ]
     },
     "execution_count": 28,
     "metadata": {},
     "output_type": "execute_result"
    }
   ],
   "source": [
    "fact_of_fact(5)"
   ]
  },
  {
   "cell_type": "code",
   "execution_count": 29,
   "id": "9bde1e34",
   "metadata": {},
   "outputs": [
    {
     "data": {
      "text/plain": [
       "24883200"
      ]
     },
     "execution_count": 29,
     "metadata": {},
     "output_type": "execute_result"
    }
   ],
   "source": [
    "fact_of_fact(6)"
   ]
  },
  {
   "cell_type": "code",
   "execution_count": null,
   "id": "23ac5244",
   "metadata": {},
   "outputs": [],
   "source": []
  }
 ],
 "metadata": {
  "kernelspec": {
   "display_name": "Python 3 (ipykernel)",
   "language": "python",
   "name": "python3"
  },
  "language_info": {
   "codemirror_mode": {
    "name": "ipython",
    "version": 3
   },
   "file_extension": ".py",
   "mimetype": "text/x-python",
   "name": "python",
   "nbconvert_exporter": "python",
   "pygments_lexer": "ipython3",
   "version": "3.9.7"
  }
 },
 "nbformat": 4,
 "nbformat_minor": 5
}
