{
 "cells": [
  {
   "cell_type": "markdown",
   "id": "946a33a1",
   "metadata": {},
   "source": [
    "### 1. Create a class Smoothie and do the following:\n",
    "\n",
    "####    - Create an instance attribute called ingredients.\n",
    "####    - Create a get_cost method which calculates the total cost of the ingredients used to make the smoothie.\n",
    "####    - Create a get_price method which returns the number from get_cost plus the number from get_cost multiplied by 1.5. Round to two decimal places.\n",
    "####    - Create a get_name method which gets the ingredients and puts them in alphabetical order into a nice descriptive sentence. If there are multiple ingredients, add the word \"Fusion\" to the end but otherwise, add \"Smoothie\". Remember to change \"-berries\" to \"-berry\". See the examples below.\n",
    "<pre>\n",
    "Ingredient\t   Price\n",
    "Strawberries   $1.50\n",
    "Banana\t       $0.50\n",
    "Mango\t       $2.50\n",
    "Blueberries\t   $1.00\n",
    "Raspberries\t   $1.00\n",
    "Apple\t       $1.75\n",
    "Pineapple\t   $3.50\n",
    "</pre>\n",
    "\n",
    "#### Examples\n",
    "#### s1 = Smoothie([\"Banana\"])\n",
    "#### s1.ingredients ➞ [\"Banana\"]\n",
    "#### s1.get_cost() ➞ \"\\$0.50\"\n",
    "#### s1.get_price() ➞ \"\\$1.25\"\n",
    "#### s1.get_name() ➞ \"Banana Smoothie\"\n",
    "#### s2 = Smoothie([\"Raspberries\", \"Strawberries\", \"Blueberries\"])\n",
    "#### s2.ingredients ➞ [\"Raspberries\", \"Strawberries\", \"Blueberries\"]\n",
    "#### s2.get_cost() ➞ \"\\$3.50\"\n",
    "#### s2.get_price() ➞ \"\\$8.75\"\n",
    "#### s2.get_name() ➞ \"Blueberry Raspberry Strawberry Fusion\""
   ]
  },
  {
   "cell_type": "code",
   "execution_count": 42,
   "id": "c043aabd",
   "metadata": {},
   "outputs": [],
   "source": [
    "import re\n",
    "class Smoothie:\n",
    "    ingredients_cost = {'Strawberries': 1.50, 'Banana':0.50,\n",
    "                       'Mango':2.50, 'Blueberries':1.00,\n",
    "                       'Raspberries': 1.00, 'Apple':1.75, 'Pineapple':3.50}\n",
    "    def __init__(self,ingredients):\n",
    "        self.ingredients = ingredients\n",
    "        self.cost = 0\n",
    "    def get_cost(self):\n",
    "        for ingredient in self.ingredients:\n",
    "            if ingredient in Smoothie.ingredients_cost:\n",
    "                self.cost += Smoothie.ingredients_cost.get(ingredient)\n",
    "        return '$' + str(self.cost)\n",
    "    def get_price(self):\n",
    "        return '$' + str(self.cost + (self.cost * 1.5))\n",
    "    def get_name(self):\n",
    "        self.name = re.sub('berries','berry',' '.join(sorted(self.ingredients)))\n",
    "        if len(self.ingredients) == 1:\n",
    "            return self.name + ' Smoothie'\n",
    "        else:\n",
    "            return self.name + ' Fusion'"
   ]
  },
  {
   "cell_type": "code",
   "execution_count": 43,
   "id": "16829ed5",
   "metadata": {},
   "outputs": [],
   "source": [
    "s1 = Smoothie([\"Banana\"])"
   ]
  },
  {
   "cell_type": "code",
   "execution_count": 44,
   "id": "20eb407f",
   "metadata": {},
   "outputs": [
    {
     "data": {
      "text/plain": [
       "['Banana']"
      ]
     },
     "execution_count": 44,
     "metadata": {},
     "output_type": "execute_result"
    }
   ],
   "source": [
    "s1.ingredients"
   ]
  },
  {
   "cell_type": "code",
   "execution_count": 45,
   "id": "46e7e63e",
   "metadata": {},
   "outputs": [
    {
     "data": {
      "text/plain": [
       "'$0.5'"
      ]
     },
     "execution_count": 45,
     "metadata": {},
     "output_type": "execute_result"
    }
   ],
   "source": [
    "s1.get_cost()"
   ]
  },
  {
   "cell_type": "code",
   "execution_count": 46,
   "id": "324ccadb",
   "metadata": {},
   "outputs": [
    {
     "data": {
      "text/plain": [
       "'$1.25'"
      ]
     },
     "execution_count": 46,
     "metadata": {},
     "output_type": "execute_result"
    }
   ],
   "source": [
    "s1.get_price()"
   ]
  },
  {
   "cell_type": "code",
   "execution_count": 47,
   "id": "e39c2063",
   "metadata": {},
   "outputs": [
    {
     "data": {
      "text/plain": [
       "'Banana Smoothie'"
      ]
     },
     "execution_count": 47,
     "metadata": {},
     "output_type": "execute_result"
    }
   ],
   "source": [
    "s1.get_name()"
   ]
  },
  {
   "cell_type": "code",
   "execution_count": 48,
   "id": "2826630e",
   "metadata": {},
   "outputs": [],
   "source": [
    "s2 = Smoothie([\"Raspberries\", \"Strawberries\", \"Blueberries\"])"
   ]
  },
  {
   "cell_type": "code",
   "execution_count": 49,
   "id": "5f62caaf",
   "metadata": {},
   "outputs": [
    {
     "data": {
      "text/plain": [
       "['Raspberries', 'Strawberries', 'Blueberries']"
      ]
     },
     "execution_count": 49,
     "metadata": {},
     "output_type": "execute_result"
    }
   ],
   "source": [
    "s2.ingredients"
   ]
  },
  {
   "cell_type": "code",
   "execution_count": 50,
   "id": "c91d49a4",
   "metadata": {},
   "outputs": [
    {
     "data": {
      "text/plain": [
       "'$3.5'"
      ]
     },
     "execution_count": 50,
     "metadata": {},
     "output_type": "execute_result"
    }
   ],
   "source": [
    "s2.get_cost()"
   ]
  },
  {
   "cell_type": "code",
   "execution_count": 51,
   "id": "7a6049af",
   "metadata": {},
   "outputs": [
    {
     "data": {
      "text/plain": [
       "'$8.75'"
      ]
     },
     "execution_count": 51,
     "metadata": {},
     "output_type": "execute_result"
    }
   ],
   "source": [
    "s2.get_price()"
   ]
  },
  {
   "cell_type": "code",
   "execution_count": 52,
   "id": "1334f647",
   "metadata": {},
   "outputs": [
    {
     "data": {
      "text/plain": [
       "'Blueberry Raspberry Strawberry Fusion'"
      ]
     },
     "execution_count": 52,
     "metadata": {},
     "output_type": "execute_result"
    }
   ],
   "source": [
    "s2.get_name()"
   ]
  },
  {
   "cell_type": "markdown",
   "id": "9727e3de",
   "metadata": {},
   "source": [
    "### 2. Your task is to write a program which allows teachers to create a multiple choice test in a class called Testpaper and to be also able to assign a minimum pass mark. The testpaper's subject should also be included. The attributes are in the following order:\n",
    "\n",
    "####  1. subject\n",
    "####  2. markscheme\n",
    "####  3. pass_mark\n",
    "\n",
    "#### As well as that, we need to create student objects to take the test itself! Create another class called Student and do the following:\n",
    "####   - Create an attribute called tests_taken and set the default as 'No tests taken'.\n",
    "####   - Make a method called take_test(), which takes in the testpaper object they are completing and the student's answers. Compare what they wrote to the mark scheme, and append to the/create a dictionary assigned to tests_taken in the way as shown in the point below.\n",
    "####   - Each key in the dictionary should be the testpaper subject and each value should be a string in the format seen in the examples below (whether or not the student has failed, and their percentage in brackets).\n",
    "\n",
    "#### Examples\n",
    "#### paper1 = Testpaper(\"Maths\", [\"1A\", \"2C\", \"3D\", \"4A\", \"5A\"], \"60%\")\n",
    "#### paper2 = Testpaper(\"Chemistry\", [\"1C\", \"2C\", \"3D\", \"4A\"], \"75%\")\n",
    "#### paper3 = Testpaper(\"Computing\", [\"1D\", \"2C\", \"3C\", \"4B\", \"5D\", \"6C\", \"7A\"], \"75%\")\n",
    "\n",
    "#### student1 = Student()\n",
    "#### student2 = Student()\n",
    "\n",
    "#### student1.tests_taken ➞ \"No tests taken\"\n",
    "#### student1.take_test(paper1, [\"1A\", \"2D\", \"3D\", \"4A\", \"5A\"])\n",
    "#### student1.tests_taken ➞ {\"Maths\" : \"Passed! (80%)\"}\n",
    "\n",
    "#### student2.take_test(paper2, [\"1C\", \"2D\", \"3A\", \"4C\"])\n",
    "#### student2.take_test(paper3, [\"1A\", \"2C\", \"3A\", \"4C\", \"5D\", \"6C\", \"7B\"])\n",
    "#### student2.tests_taken ➞ {\"Chemistry\" : \"Failed! (25%)\", \"Computing\" : \"Failed! (43%)\"}"
   ]
  },
  {
   "cell_type": "code",
   "execution_count": 69,
   "id": "3a0d3da6",
   "metadata": {},
   "outputs": [],
   "source": [
    "class Testpaper:\n",
    "    def __init__(self,subject,markscheme,passmark):\n",
    "        self.subject = subject\n",
    "        self.markscheme = markscheme\n",
    "        self.passmark = passmark\n",
    "class Student:\n",
    "    def __init__(self):\n",
    "        self.tests_taken = \"No tests taken\"\n",
    "    def take_test(self,papername,studentsubjects):\n",
    "        count = 0\n",
    "        for i in range(len(papername.markscheme)):\n",
    "            if papername.markscheme[i] == studentsubjects[i]:\n",
    "                count +=1\n",
    "        passmark = int(count/len(papername.markscheme)*100)\n",
    "        requiredpassmark = int(papername.passmark.split(\"%\")[0])\n",
    "        if self.tests_taken == 'No tests taken':\n",
    "            self.tests_taken = {}\n",
    "        if passmark > requiredpassmark:\n",
    "            self.tests_taken[papername.subject] = 'Passed! (' + str(passmark) + '%)'\n",
    "        elif passmark < requiredpassmark:\n",
    "            self.tests_taken[papername.subject] = 'Failed! (' + str(passmark) + '%)'"
   ]
  },
  {
   "cell_type": "code",
   "execution_count": 70,
   "id": "2ffd757f",
   "metadata": {},
   "outputs": [],
   "source": [
    "paper1 = Testpaper(\"Maths\", [\"1A\", \"2C\", \"3D\", \"4A\", \"5A\"], \"60%\")\n",
    "paper2 = Testpaper(\"Chemistry\", [\"1C\", \"2C\", \"3D\", \"4A\"], \"75%\")\n",
    "paper3 = Testpaper(\"Computing\", [\"1D\", \"2C\", \"3C\", \"4B\", \"5D\", \"6C\", \"7A\"], \"75%\")\n",
    "\n",
    "student1 = Student()\n",
    "student2 = Student()"
   ]
  },
  {
   "cell_type": "code",
   "execution_count": 71,
   "id": "24f27b35",
   "metadata": {},
   "outputs": [
    {
     "data": {
      "text/plain": [
       "'No tests taken'"
      ]
     },
     "execution_count": 71,
     "metadata": {},
     "output_type": "execute_result"
    }
   ],
   "source": [
    "student1.tests_taken "
   ]
  },
  {
   "cell_type": "code",
   "execution_count": 72,
   "id": "fc64a63d",
   "metadata": {},
   "outputs": [],
   "source": [
    "student1.take_test(paper1, [\"1A\", \"2D\", \"3D\", \"4A\", \"5A\"])"
   ]
  },
  {
   "cell_type": "code",
   "execution_count": 73,
   "id": "e0746a85",
   "metadata": {},
   "outputs": [
    {
     "data": {
      "text/plain": [
       "{'Maths': 'Passed! (80%)'}"
      ]
     },
     "execution_count": 73,
     "metadata": {},
     "output_type": "execute_result"
    }
   ],
   "source": [
    "student1.tests_taken "
   ]
  },
  {
   "cell_type": "code",
   "execution_count": 74,
   "id": "b8b74981",
   "metadata": {},
   "outputs": [],
   "source": [
    "student2.take_test(paper2, [\"1C\", \"2D\", \"3A\", \"4C\"])"
   ]
  },
  {
   "cell_type": "code",
   "execution_count": 75,
   "id": "7828870b",
   "metadata": {},
   "outputs": [],
   "source": [
    "student2.take_test(paper3, [\"1A\", \"2C\", \"3A\", \"4C\", \"5D\", \"6C\", \"7B\"])"
   ]
  },
  {
   "cell_type": "code",
   "execution_count": 76,
   "id": "412b1838",
   "metadata": {},
   "outputs": [
    {
     "data": {
      "text/plain": [
       "{'Chemistry': 'Failed! (25%)', 'Computing': 'Failed! (42%)'}"
      ]
     },
     "execution_count": 76,
     "metadata": {},
     "output_type": "execute_result"
    }
   ],
   "source": [
    "student2.tests_taken"
   ]
  },
  {
   "cell_type": "markdown",
   "id": "64a8c4ae",
   "metadata": {},
   "source": [
    "### 3. Due to unforseen circumstances in Suburbia, the trains will be delayed by a further 10 minutes.\n",
    "#### Create a function that will help to plan out and manage these delays! Create a function called manage_delays that does the following:\n",
    "####   - Parameters will be the train object, a destination and number of minutes the delay is.\n",
    "####   - Increment to the train object's expected_time by the delay, if the destination given is in the train object's destinations.\n",
    "\n",
    "#### Examples\n",
    "#### trains = [\n",
    "####   Train([\"Townsville\", \"Suburbia\", \"Urbantska\"], \"13:04\"),\n",
    "####   Train([\"Farmsdale\", \"Suburbia\", \"Lakeside Valley\"], \"13:20\"),\n",
    "####   Train([\"Suburbia\", \"Townsville\", \"Lakeside Valley\"], \"13:22\")\n",
    "#### ]\n",
    "\n",
    "#### for t in trains:\n",
    "####     manage_delays(t, \"Lakeside Valley\", 60)\n",
    "#### trains[0].expected_time ➞ \"13:04\"\n",
    "#### trains[1].expected_time ➞ \"14:20\"\n",
    "#### trains[2].expected_time ➞ \"14:22\""
   ]
  },
  {
   "cell_type": "code",
   "execution_count": 84,
   "id": "ff6cff49",
   "metadata": {},
   "outputs": [],
   "source": [
    "class Train:\n",
    "    def __init__(self,destinationlist,expected_time):\n",
    "        self.destinationlist = destinationlist\n",
    "        self.expected_time = expected_time\n",
    "def manage_delays(train,destination,delay):\n",
    "    if destination in train.destinationlist:\n",
    "        time = train.expected_time.split(\":\")\n",
    "        train.expected_time =  str((int(time[0])*60+int(time[1])+int(delay))//60)+':'+str((int(time[0])*60+int(time[1])+int(delay))%60)"
   ]
  },
  {
   "cell_type": "code",
   "execution_count": 85,
   "id": "a50a3f01",
   "metadata": {},
   "outputs": [],
   "source": [
    "trains = [\n",
    "  Train([\"Townsville\", \"Suburbia\", \"Urbantska\"], \"13:04\"),\n",
    "  Train([\"Farmsdale\", \"Suburbia\", \"Lakeside Valley\"], \"13:20\"),\n",
    "  Train([\"Suburbia\", \"Townsville\", \"Lakeside Valley\"], \"13:22\")\n",
    "]\n",
    "\n",
    "for t in trains:\n",
    "    manage_delays(t, \"Lakeside Valley\", 60)"
   ]
  },
  {
   "cell_type": "code",
   "execution_count": 86,
   "id": "0b3ca60c",
   "metadata": {},
   "outputs": [
    {
     "data": {
      "text/plain": [
       "'13:04'"
      ]
     },
     "execution_count": 86,
     "metadata": {},
     "output_type": "execute_result"
    }
   ],
   "source": [
    "trains[0].expected_time"
   ]
  },
  {
   "cell_type": "code",
   "execution_count": 87,
   "id": "ea3e983e",
   "metadata": {},
   "outputs": [
    {
     "data": {
      "text/plain": [
       "'14:20'"
      ]
     },
     "execution_count": 87,
     "metadata": {},
     "output_type": "execute_result"
    }
   ],
   "source": [
    "trains[1].expected_time "
   ]
  },
  {
   "cell_type": "code",
   "execution_count": 88,
   "id": "7000e314",
   "metadata": {},
   "outputs": [
    {
     "data": {
      "text/plain": [
       "'14:22'"
      ]
     },
     "execution_count": 88,
     "metadata": {},
     "output_type": "execute_result"
    }
   ],
   "source": [
    "trains[2].expected_time"
   ]
  },
  {
   "cell_type": "markdown",
   "id": "e1f12678",
   "metadata": {},
   "source": [
    "### 4. Ted works as a computer programmer at Minecraft Inc. His boss has just given him an important assignment to update the code for the minecart tracks by the end of April. However, he has recently had to self-isolate due to Corvid-19 and has left the code for the tracks BACK AT WORK!! He has the shorthand for the tracks he's supposed to look at, and where the carts are suppost to end up, but not the actual code.\n",
    "#### He knows that:\n",
    "####   1. \"-->\" = \"Speed-Up Track\" ⁠— If a minecart interacts with this track, it's velocity increases by 2.67 BPS unless it's at its maximum speed of 8 BPS.\n",
    "####   2. \"<-->\" = \"Powered Track\" ⁠— If a minecart interacts with this track, it's velocity remains the same.\n",
    "####   3. \"<--\" = \"Slow-Down Track\" ⁠— If a minecart interacts with this track, it's velocity decreases by 2.67 BPS unless it's velocity equals 0, at which point it stops.\n",
    "####   4. \"---\" = \"Unpowered Track\" ⁠— If a minecart interacts with this track, it's velocity decreases by 1 BPS unless it's velocity equals 0, at which point it stops.\n",
    "\n",
    "#### Help Ted by writing a class for the tracks that interact with the provided Minecart class as shown above. And then write a function that will take a list of the shorthand tracks and:\n",
    "####    - If the Minecart reaches the last peice of Track, return True.\n",
    "####    - Else return the index of the Track where the Minecart stops.\n",
    "\n",
    "#### Examples\n",
    "#### mine_run([\"-->\", \"-->\", \"-->\", \"<--\", \"<--\", \"<--\"]) ➞ True\n",
    "#### mine_run([\"-->\", \"<--\", \"-->\", \"-->\", \"<-->\", \"---\"]) ➞ 1"
   ]
  },
  {
   "cell_type": "code",
   "execution_count": 93,
   "id": "46663423",
   "metadata": {},
   "outputs": [],
   "source": [
    "class minecraft:\n",
    "    def __init__(self,tracks):\n",
    "        self.tracks = tracks\n",
    "def mine_run(tracks):\n",
    "    velocity = 0\n",
    "    count = 0\n",
    "    for i in range(len(tracks)):\n",
    "        if tracks[i] == '-->':\n",
    "            if velocity + 2.67 >= 8:\n",
    "                velocity = 8\n",
    "            else:\n",
    "                velocity += 2.67\n",
    "        elif tracks[i] == '<-->':\n",
    "            continue\n",
    "        elif tracks[i] == '<--':\n",
    "            if velocity - 2.67 <= 0:\n",
    "                if i == len(tracks) - 1:\n",
    "                    count = True\n",
    "                else:\n",
    "                    count = i\n",
    "                    break\n",
    "            else:\n",
    "                velocity -= 2.67\n",
    "        else:\n",
    "            if velocity <= 0:\n",
    "                if i == len(tracks) - 1:\n",
    "                    count = True\n",
    "                else:\n",
    "                    count = i\n",
    "                    break\n",
    "            else:\n",
    "                velocity -= 1\n",
    "    return count"
   ]
  },
  {
   "cell_type": "code",
   "execution_count": 94,
   "id": "4c5fc7e8",
   "metadata": {},
   "outputs": [
    {
     "data": {
      "text/plain": [
       "True"
      ]
     },
     "execution_count": 94,
     "metadata": {},
     "output_type": "execute_result"
    }
   ],
   "source": [
    "mine_run([\"-->\", \"-->\", \"-->\", \"<--\", \"<--\", \"<--\"]) "
   ]
  },
  {
   "cell_type": "code",
   "execution_count": 95,
   "id": "64de1150",
   "metadata": {},
   "outputs": [
    {
     "data": {
      "text/plain": [
       "1"
      ]
     },
     "execution_count": 95,
     "metadata": {},
     "output_type": "execute_result"
    }
   ],
   "source": [
    "mine_run([\"-->\", \"<--\", \"-->\", \"-->\", \"<-->\", \"---\"]) "
   ]
  },
  {
   "cell_type": "markdown",
   "id": "abe5851f",
   "metadata": {},
   "source": [
    "### 5. Make a Rectangle class with four parameters, an x, a y (representing the top-left corner of the rectangle), a width and a height exclusively in that order.\n",
    "#### Lastly, make a function intersecting that takes two Rectangle objects and returns True if those objects are intersecting (colliding), else return False.\n",
    "#### Examples\n",
    "#### a = Rectangle(10, 20, 100, 20)\n",
    "#### b = Rectangle(10, 40, 15, 20)\n",
    "#### c = Rectangle(50, 50, 20, 30)\n",
    "#### intersecting(a, b) ➞ True\n",
    "#### intersecting(a, c) ➞ False\n",
    "#### intersecting(b, c) ➞ True"
   ]
  },
  {
   "cell_type": "code",
   "execution_count": 101,
   "id": "fbc56420",
   "metadata": {},
   "outputs": [],
   "source": [
    "class Rectangle:\n",
    "    def __init__(self,x,y,width,height):\n",
    "        self.x = x\n",
    "        self.y = y\n",
    "        self.width = width\n",
    "        self.height = height\n",
    "def intersecting(rectangle1, rectangle2):\n",
    "    if (rectangle2.y-rectangle1.y == rectangle1.height) or (rectangle2.y-rectangle1.y + rectangle1.height == rectangle2.height):\n",
    "        return True\n",
    "    return False"
   ]
  },
  {
   "cell_type": "code",
   "execution_count": 102,
   "id": "97e9a6fa",
   "metadata": {},
   "outputs": [],
   "source": [
    "a = Rectangle(10, 20, 100, 20)\n",
    "b = Rectangle(10, 40, 15, 20)\n",
    "c = Rectangle(50, 50, 20, 30)"
   ]
  },
  {
   "cell_type": "code",
   "execution_count": 103,
   "id": "da8da39c",
   "metadata": {},
   "outputs": [
    {
     "data": {
      "text/plain": [
       "True"
      ]
     },
     "execution_count": 103,
     "metadata": {},
     "output_type": "execute_result"
    }
   ],
   "source": [
    "intersecting(a, b)"
   ]
  },
  {
   "cell_type": "code",
   "execution_count": 104,
   "id": "86810791",
   "metadata": {},
   "outputs": [
    {
     "data": {
      "text/plain": [
       "False"
      ]
     },
     "execution_count": 104,
     "metadata": {},
     "output_type": "execute_result"
    }
   ],
   "source": [
    "intersecting(a, c) "
   ]
  },
  {
   "cell_type": "code",
   "execution_count": 105,
   "id": "9f3a85c1",
   "metadata": {},
   "outputs": [
    {
     "data": {
      "text/plain": [
       "True"
      ]
     },
     "execution_count": 105,
     "metadata": {},
     "output_type": "execute_result"
    }
   ],
   "source": [
    "intersecting(b, c) "
   ]
  },
  {
   "cell_type": "code",
   "execution_count": null,
   "id": "e1662535",
   "metadata": {},
   "outputs": [],
   "source": []
  }
 ],
 "metadata": {
  "kernelspec": {
   "display_name": "Python 3 (ipykernel)",
   "language": "python",
   "name": "python3"
  },
  "language_info": {
   "codemirror_mode": {
    "name": "ipython",
    "version": 3
   },
   "file_extension": ".py",
   "mimetype": "text/x-python",
   "name": "python",
   "nbconvert_exporter": "python",
   "pygments_lexer": "ipython3",
   "version": "3.10.0"
  }
 },
 "nbformat": 4,
 "nbformat_minor": 5
}
