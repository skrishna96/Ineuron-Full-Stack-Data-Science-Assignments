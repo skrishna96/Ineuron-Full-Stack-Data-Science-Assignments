{
 "cells": [
  {
   "cell_type": "markdown",
   "id": "5f7284a1",
   "metadata": {},
   "source": [
    "### 1. A robot has been given a list of movement instructions. Each instruction is either left, right, up or down, followed by a distance to move. The robot starts at [0, 0]. You want to calculate where the robot will end up and return its final position as a list.\n",
    "\n",
    "#### To illustrate, if the robot is given the following instructions:\n",
    "#### [\"right 10\", \"up 50\", \"left 30\", \"down 10\"]\n",
    "#### It will end up 20 left and 40 up from where it started, so we return [-20, 40].\n",
    "#### Examples\n",
    "#### track_robot([\"right 10\", \"up 50\", \"left 30\", \"down 10\"]) ➞ [-20, 40]\n",
    "#### track_robot([]) ➞ [0, 0]\n",
    "#### // If there are no instructions, the robot doesn't move.\n",
    "#### track_robot([\"right 100\", \"right 100\", \"up 500\", \"up 10000\"]) ➞ [200, 10500]"
   ]
  },
  {
   "cell_type": "code",
   "execution_count": 1,
   "id": "ac910026",
   "metadata": {},
   "outputs": [],
   "source": [
    "def track_robot(lst):\n",
    "    new_lst = [0,0]\n",
    "    for direction in lst:\n",
    "        if direction.split(\" \")[0] == \"right\":\n",
    "            new_lst[0] += int(direction.split(\" \")[1])\n",
    "        elif direction.split(\" \")[0] == \"left\":\n",
    "            new_lst[0] -= int(direction.split(\" \")[1])\n",
    "        elif direction.split(\" \")[0] == \"up\":\n",
    "            new_lst[1] += int(direction.split(\" \")[1])\n",
    "        elif direction.split(\" \")[0] == \"down\":\n",
    "            new_lst[1] -= int(direction.split(\" \")[1])\n",
    "    return new_lst"
   ]
  },
  {
   "cell_type": "code",
   "execution_count": 2,
   "id": "25d43195",
   "metadata": {},
   "outputs": [
    {
     "data": {
      "text/plain": [
       "[-20, 40]"
      ]
     },
     "execution_count": 2,
     "metadata": {},
     "output_type": "execute_result"
    }
   ],
   "source": [
    "track_robot([\"right 10\", \"up 50\", \"left 30\", \"down 10\"])"
   ]
  },
  {
   "cell_type": "code",
   "execution_count": 3,
   "id": "7fb56101",
   "metadata": {},
   "outputs": [
    {
     "data": {
      "text/plain": [
       "[200, 10500]"
      ]
     },
     "execution_count": 3,
     "metadata": {},
     "output_type": "execute_result"
    }
   ],
   "source": [
    "track_robot([\"right 100\", \"right 100\", \"up 500\", \"up 10000\"])"
   ]
  },
  {
   "cell_type": "markdown",
   "id": "64690e54",
   "metadata": {},
   "source": [
    "### 2. Write a function that will return the longest word in a sentence. In cases where more than one word is found, return the first one.\n",
    "\n",
    "#### Examples\n",
    "#### find_longest(\"A thing of beauty is a joy forever.\") ➞ \"forever\"\n",
    "#### find_longest(\"Forgetfulness is by all means powerless!\") ➞ \"forgetfulness\"\n",
    "#### find_longest(\"\\\"Strengths\\\" is the longest and most commonly used word that contains only a single vowel.\") ➞ \"strengths\""
   ]
  },
  {
   "cell_type": "code",
   "execution_count": 18,
   "id": "fecf62b5",
   "metadata": {},
   "outputs": [],
   "source": [
    "def find_longest(sentence):\n",
    "    lst = []\n",
    "    for word in sentence.split(' '):\n",
    "        if len(lst)==0 or len(word) == len(lst[0]):\n",
    "            lst.append(word)\n",
    "        elif len(word) > len(lst[0]):\n",
    "            lst[0] = word\n",
    "    return lst[0]"
   ]
  },
  {
   "cell_type": "code",
   "execution_count": 19,
   "id": "b06fb643",
   "metadata": {},
   "outputs": [
    {
     "data": {
      "text/plain": [
       "'forever.'"
      ]
     },
     "execution_count": 19,
     "metadata": {},
     "output_type": "execute_result"
    }
   ],
   "source": [
    "find_longest(\"A thing of beauty is a joy forever.\")"
   ]
  },
  {
   "cell_type": "code",
   "execution_count": 20,
   "id": "38a99958",
   "metadata": {},
   "outputs": [
    {
     "data": {
      "text/plain": [
       "'Forgetfulness'"
      ]
     },
     "execution_count": 20,
     "metadata": {},
     "output_type": "execute_result"
    }
   ],
   "source": [
    "find_longest(\"Forgetfulness is by all means powerless!\")"
   ]
  },
  {
   "cell_type": "code",
   "execution_count": 21,
   "id": "63da5fbb",
   "metadata": {},
   "outputs": [
    {
     "data": {
      "text/plain": [
       "'\"Strengths\"'"
      ]
     },
     "execution_count": 21,
     "metadata": {},
     "output_type": "execute_result"
    }
   ],
   "source": [
    "find_longest(\"\\\"Strengths\\\" is the longest and most commonly used word that contains only a single vowel.\")"
   ]
  },
  {
   "cell_type": "markdown",
   "id": "c8532be2",
   "metadata": {},
   "source": [
    "### 3. Create a function to check if a candidate is qualified in an imaginary coding interview of an imaginary tech startup.\n",
    "#### The criteria for a candidate to be qualified in the coding interview is:\n",
    "####    1. The candidate should have complete all the questions.\n",
    "####    2. The maximum time given to complete the interview is 120 minutes.\n",
    "####    3. The maximum time given for very easy questions is 5 minutes each.\n",
    "####    4. The maximum time given for easy questions is 10 minutes each.\n",
    "####    5. The maximum time given for medium questions is 15 minutes each.\n",
    "####    6. The maximum time given for hard questions is 20 minutes each.\n",
    "#### If all the above conditions are satisfied, return \"qualified\", else return \"disqualified\".\n",
    "#### You will be given a list of time taken by a candidate to solve a particular question and the total time taken by the candidate to complete the interview.\n",
    "#### Given a list , in a true condition will always be in the format [very easy, very easy, easy, easy, medium, medium, hard, hard].\n",
    "#### The maximum time to complete the interview includes a buffer time of 20 minutes.\n",
    "#### Examples\n",
    "#### interview([5, 5, 10, 10, 15, 15, 20, 20], 120) ➞ \"qualified\"\n",
    "#### interview([2, 3, 8, 6, 5, 12, 10, 18], 64) ➞  \"qualified\"\n",
    "#### interview([5, 5, 10, 10, 25, 15, 20, 20], 120) ➞ \"disqualified\"\n",
    "#### # Exceeded the time limit for a medium question.\n",
    "#### interview([5, 5, 10, 10, 15, 15, 20], 120) ➞ \"disqualified\"\n",
    "#### # Did not complete all the questions.\n",
    "#### interview([5, 5, 10, 10, 15, 15, 20, 20], 130) ➞ \"disqualified\"\n",
    "#### # Solved all the questions in their respected time limits but exceeded the total time limit of the interview."
   ]
  },
  {
   "cell_type": "code",
   "execution_count": 22,
   "id": "a3c0d3d7",
   "metadata": {},
   "outputs": [],
   "source": [
    "def interview(lst,time):\n",
    "    if time > 120 or len(lst) != 8 or max(lst[:2]) > 5 or max(lst[2:4]) > 10 or max(lst[4:6])>15 or max(lst[6:8])>20:\n",
    "        return \"disqualified\"\n",
    "    return \"qualified\""
   ]
  },
  {
   "cell_type": "code",
   "execution_count": 23,
   "id": "0c5259b9",
   "metadata": {},
   "outputs": [
    {
     "data": {
      "text/plain": [
       "'qualified'"
      ]
     },
     "execution_count": 23,
     "metadata": {},
     "output_type": "execute_result"
    }
   ],
   "source": [
    "interview([5, 5, 10, 10, 15, 15, 20, 20], 120)"
   ]
  },
  {
   "cell_type": "code",
   "execution_count": 24,
   "id": "3cff99c6",
   "metadata": {},
   "outputs": [
    {
     "data": {
      "text/plain": [
       "'qualified'"
      ]
     },
     "execution_count": 24,
     "metadata": {},
     "output_type": "execute_result"
    }
   ],
   "source": [
    "interview([2, 3, 8, 6, 5, 12, 10, 18], 64)"
   ]
  },
  {
   "cell_type": "code",
   "execution_count": 25,
   "id": "481718bb",
   "metadata": {},
   "outputs": [
    {
     "data": {
      "text/plain": [
       "'disqualified'"
      ]
     },
     "execution_count": 25,
     "metadata": {},
     "output_type": "execute_result"
    }
   ],
   "source": [
    "interview([5, 5, 10, 10, 25, 15, 20, 20], 120)"
   ]
  },
  {
   "cell_type": "code",
   "execution_count": 26,
   "id": "2f8fd89b",
   "metadata": {},
   "outputs": [
    {
     "data": {
      "text/plain": [
       "'disqualified'"
      ]
     },
     "execution_count": 26,
     "metadata": {},
     "output_type": "execute_result"
    }
   ],
   "source": [
    "interview([5, 5, 10, 10, 15, 15, 20], 120)"
   ]
  },
  {
   "cell_type": "code",
   "execution_count": 27,
   "id": "3e4e7324",
   "metadata": {},
   "outputs": [
    {
     "data": {
      "text/plain": [
       "'disqualified'"
      ]
     },
     "execution_count": 27,
     "metadata": {},
     "output_type": "execute_result"
    }
   ],
   "source": [
    "interview([5, 5, 10, 10, 15, 15, 20, 20], 130)"
   ]
  },
  {
   "cell_type": "markdown",
   "id": "41c693b7",
   "metadata": {},
   "source": [
    "### 4. Write a function that divides a list into chunks of size n, where n is the length of each chunk.\n",
    "\n",
    "#### Examples\n",
    "#### chunkify([2, 3, 4, 5], 2) ➞ [[2, 3], [4, 5]]\n",
    "#### chunkify([2, 3, 4, 5, 6], 2) ➞ [[2, 3], [4, 5], [6]]\n",
    "#### chunkify([2, 3, 4, 5, 6, 7], 3) ➞ [[2, 3, 4], [5, 6, 7]]\n",
    "#### chunkify([2, 3, 4, 5, 6, 7], 1) ➞ [[2], [3], [4], [5], [6], [7]]\n",
    "#### chunkify([2, 3, 4, 5, 6, 7], 7) ➞ [[2, 3, 4, 5, 6, 7]]"
   ]
  },
  {
   "cell_type": "code",
   "execution_count": 30,
   "id": "39c20ff5",
   "metadata": {},
   "outputs": [],
   "source": [
    "def chunkify(lst,size):\n",
    "    new_lst = []\n",
    "    for i in range(0,len(lst),size):\n",
    "        new_lst.append(lst[i:i+size])\n",
    "    return new_lst"
   ]
  },
  {
   "cell_type": "code",
   "execution_count": 31,
   "id": "906392a4",
   "metadata": {},
   "outputs": [
    {
     "data": {
      "text/plain": [
       "[[2, 3], [4, 5]]"
      ]
     },
     "execution_count": 31,
     "metadata": {},
     "output_type": "execute_result"
    }
   ],
   "source": [
    "chunkify([2, 3, 4, 5], 2)"
   ]
  },
  {
   "cell_type": "code",
   "execution_count": 32,
   "id": "112addae",
   "metadata": {},
   "outputs": [
    {
     "data": {
      "text/plain": [
       "[[2, 3], [4, 5], [6]]"
      ]
     },
     "execution_count": 32,
     "metadata": {},
     "output_type": "execute_result"
    }
   ],
   "source": [
    "chunkify([2, 3, 4, 5, 6], 2)"
   ]
  },
  {
   "cell_type": "code",
   "execution_count": 33,
   "id": "0a0fb90f",
   "metadata": {},
   "outputs": [
    {
     "data": {
      "text/plain": [
       "[[2, 3, 4], [5, 6, 7]]"
      ]
     },
     "execution_count": 33,
     "metadata": {},
     "output_type": "execute_result"
    }
   ],
   "source": [
    "chunkify([2, 3, 4, 5, 6, 7], 3)"
   ]
  },
  {
   "cell_type": "code",
   "execution_count": 34,
   "id": "d8d73730",
   "metadata": {},
   "outputs": [
    {
     "data": {
      "text/plain": [
       "[[2], [3], [4], [5], [6], [7]]"
      ]
     },
     "execution_count": 34,
     "metadata": {},
     "output_type": "execute_result"
    }
   ],
   "source": [
    "chunkify([2, 3, 4, 5, 6, 7], 1)"
   ]
  },
  {
   "cell_type": "code",
   "execution_count": 35,
   "id": "20ee064b",
   "metadata": {},
   "outputs": [
    {
     "data": {
      "text/plain": [
       "[[2, 3, 4, 5, 6, 7]]"
      ]
     },
     "execution_count": 35,
     "metadata": {},
     "output_type": "execute_result"
    }
   ],
   "source": [
    "chunkify([2, 3, 4, 5, 6, 7], 7)"
   ]
  },
  {
   "cell_type": "markdown",
   "id": "f8800f88",
   "metadata": {},
   "source": [
    "### 5. You are given a list of strings consisting of grocery items, with prices in parentheses. Return a list of prices in float format.\n",
    "\n",
    "#### Examples\n",
    "<pre>\n",
    "get_prices([\"salad ($4.99)\"]) ➞ [4.99]\n",
    "\n",
    "get_prices([\n",
    "   \"artichokes ($1.99)\",\n",
    "   \"rotiserrie chicken ($5.99)\",\n",
    "   \"gum ($0.75)\"\n",
    " ]) ➞ [1.99, 5.99, 0.75]\n",
    "\n",
    " get_prices([\n",
    "   \"ice cream ($5.99)\",\n",
    "   \"banana ($0.20)\",\n",
    "   \"sandwich ($8.50)\",\n",
    "   \"soup ($1.99)\"\n",
    " ]) ➞ [5.99, 0.2, 8.50, 1.99]\n",
    "<pre>"
   ]
  },
  {
   "cell_type": "code",
   "execution_count": 40,
   "id": "2baa7b68",
   "metadata": {},
   "outputs": [],
   "source": [
    "def get_prices(lst):\n",
    "    new_lst = []\n",
    "    for item in lst:\n",
    "        new_lst.append(float(item.split(\"$\")[1][:4]))\n",
    "    return new_lst"
   ]
  },
  {
   "cell_type": "code",
   "execution_count": 41,
   "id": "4b42374f",
   "metadata": {},
   "outputs": [
    {
     "data": {
      "text/plain": [
       "[4.99]"
      ]
     },
     "execution_count": 41,
     "metadata": {},
     "output_type": "execute_result"
    }
   ],
   "source": [
    "get_prices([\"salad ($4.99)\"])"
   ]
  },
  {
   "cell_type": "code",
   "execution_count": 42,
   "id": "7ad58efe",
   "metadata": {},
   "outputs": [
    {
     "data": {
      "text/plain": [
       "[1.99, 5.99, 0.75]"
      ]
     },
     "execution_count": 42,
     "metadata": {},
     "output_type": "execute_result"
    }
   ],
   "source": [
    "get_prices([\n",
    "  \"artichokes ($1.99)\",\n",
    "  \"rotiserrie chicken ($5.99)\",\n",
    "  \"gum ($0.75)\"\n",
    "])"
   ]
  },
  {
   "cell_type": "code",
   "execution_count": 43,
   "id": "e292fbde",
   "metadata": {},
   "outputs": [
    {
     "data": {
      "text/plain": [
       "[5.99, 0.2, 8.5, 1.99]"
      ]
     },
     "execution_count": 43,
     "metadata": {},
     "output_type": "execute_result"
    }
   ],
   "source": [
    "get_prices([\n",
    "  \"ice cream ($5.99)\",\n",
    "  \"banana ($0.20)\",\n",
    "  \"sandwich ($8.50)\",\n",
    "  \"soup ($1.99)\"\n",
    "])"
   ]
  },
  {
   "cell_type": "code",
   "execution_count": null,
   "id": "74484f79",
   "metadata": {},
   "outputs": [],
   "source": []
  }
 ],
 "metadata": {
  "kernelspec": {
   "display_name": "Python 3 (ipykernel)",
   "language": "python",
   "name": "python3"
  },
  "language_info": {
   "codemirror_mode": {
    "name": "ipython",
    "version": 3
   },
   "file_extension": ".py",
   "mimetype": "text/x-python",
   "name": "python",
   "nbconvert_exporter": "python",
   "pygments_lexer": "ipython3",
   "version": "3.9.7"
  }
 },
 "nbformat": 4,
 "nbformat_minor": 5
}
