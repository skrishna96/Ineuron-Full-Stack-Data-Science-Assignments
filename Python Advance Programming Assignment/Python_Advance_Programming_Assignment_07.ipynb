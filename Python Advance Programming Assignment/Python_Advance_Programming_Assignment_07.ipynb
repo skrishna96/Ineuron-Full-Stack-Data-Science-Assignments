{
 "cells": [
  {
   "cell_type": "markdown",
   "id": "6692639e",
   "metadata": {},
   "source": [
    "### 1. Write a function that counts how many concentric layers a rug.\n",
    "#### Examples\n",
    "count_layers([\n",
    "  \"AAAA\",\n",
    "  \"ABBA\",\n",
    "  \"AAAA\"\n",
    "]) ➞ 2\n",
    "\n",
    "count_layers([\n",
    "  \"AAAAAAAAA\",\n",
    "  \"ABBBBBBBA\",\n",
    "  \"ABBAAABBA\",\n",
    "  \"ABBBBBBBA\",\n",
    "  \"AAAAAAAAA\"\n",
    "]) ➞ 3\n",
    "\n",
    "count_layers([\n",
    "  \"AAAAAAAAAAA\",\n",
    "  \"AABBBBBBBAA\",\n",
    "  \"AABCCCCCBAA\",\n",
    "  \"AABCAAACBAA\",\n",
    "  \"AABCADACBAA\",\n",
    "  \"AABCAAACBAA\",\n",
    "  \"AABCCCCCBAA\",\n",
    "  \"AABBBBBBBAA\",\n",
    "  \"AAAAAAAAAAA\"\n",
    "]) ➞ 5"
   ]
  },
  {
   "cell_type": "code",
   "execution_count": 1,
   "id": "a3029f58",
   "metadata": {},
   "outputs": [],
   "source": [
    "def count_layers(lst):\n",
    "    new_list = []\n",
    "    for item in lst:\n",
    "        if item not in new_list:\n",
    "            new_list.append(item)\n",
    "    return len(new_list)"
   ]
  },
  {
   "cell_type": "code",
   "execution_count": 2,
   "id": "4c9eba43",
   "metadata": {},
   "outputs": [
    {
     "data": {
      "text/plain": [
       "2"
      ]
     },
     "execution_count": 2,
     "metadata": {},
     "output_type": "execute_result"
    }
   ],
   "source": [
    "count_layers([\n",
    "  \"AAAA\",\n",
    "  \"ABBA\",\n",
    "  \"AAAA\"\n",
    "]) "
   ]
  },
  {
   "cell_type": "code",
   "execution_count": 3,
   "id": "2f3e1ee7",
   "metadata": {},
   "outputs": [
    {
     "data": {
      "text/plain": [
       "3"
      ]
     },
     "execution_count": 3,
     "metadata": {},
     "output_type": "execute_result"
    }
   ],
   "source": [
    "count_layers([\n",
    "  \"AAAAAAAAA\",\n",
    "  \"ABBBBBBBA\",\n",
    "  \"ABBAAABBA\",\n",
    "  \"ABBBBBBBA\",\n",
    "  \"AAAAAAAAA\"\n",
    "])"
   ]
  },
  {
   "cell_type": "code",
   "execution_count": 4,
   "id": "4e0eaf9e",
   "metadata": {},
   "outputs": [
    {
     "data": {
      "text/plain": [
       "5"
      ]
     },
     "execution_count": 4,
     "metadata": {},
     "output_type": "execute_result"
    }
   ],
   "source": [
    "count_layers([\n",
    "  \"AAAAAAAAAAA\",\n",
    "  \"AABBBBBBBAA\",\n",
    "  \"AABCCCCCBAA\",\n",
    "  \"AABCAAACBAA\",\n",
    "  \"AABCADACBAA\",\n",
    "  \"AABCAAACBAA\",\n",
    "  \"AABCCCCCBAA\",\n",
    "  \"AABBBBBBBAA\",\n",
    "  \"AAAAAAAAAAA\"\n",
    "])"
   ]
  },
  {
   "cell_type": "markdown",
   "id": "1e27ab2d",
   "metadata": {},
   "source": [
    "### 2. There are many different styles of music and many albums exhibit multiple styles. Create a function that takes a list of musical styles from albums and returns how many styles are unique.\n",
    "#### Examples\n",
    "unique_styles([\n",
    "  \"Dub,Dancehall\",\n",
    "  \"Industrial,Heavy Metal\",\n",
    "  \"Techno,Dubstep\",\n",
    "  \"Synth-pop,Euro-Disco\",\n",
    "  \"Industrial,Techno,Minimal\"\n",
    "]) ➞ 9\n",
    "\n",
    "unique_styles([\n",
    "  \"Soul\",\n",
    "  \"House,Folk\",\n",
    "  \"Trance,Downtempo,Big Beat,House\",\n",
    "  \"Deep House\",\n",
    "  \"Soul\"\n",
    "]) ➞ 7"
   ]
  },
  {
   "cell_type": "code",
   "execution_count": 9,
   "id": "947491cd",
   "metadata": {},
   "outputs": [],
   "source": [
    "def unique_styles(lst):\n",
    "    new_list = []\n",
    "    for item in lst:\n",
    "        new_list.extend(item.split(','))\n",
    "    return len(set(new_list))"
   ]
  },
  {
   "cell_type": "code",
   "execution_count": 10,
   "id": "f964f780",
   "metadata": {},
   "outputs": [
    {
     "data": {
      "text/plain": [
       "9"
      ]
     },
     "execution_count": 10,
     "metadata": {},
     "output_type": "execute_result"
    }
   ],
   "source": [
    "unique_styles([\n",
    "  \"Dub,Dancehall\",\n",
    "  \"Industrial,Heavy Metal\",\n",
    "  \"Techno,Dubstep\",\n",
    "  \"Synth-pop,Euro-Disco\",\n",
    "  \"Industrial,Techno,Minimal\"\n",
    "])"
   ]
  },
  {
   "cell_type": "code",
   "execution_count": 12,
   "id": "01ff2397",
   "metadata": {},
   "outputs": [
    {
     "data": {
      "text/plain": [
       "7"
      ]
     },
     "execution_count": 12,
     "metadata": {},
     "output_type": "execute_result"
    }
   ],
   "source": [
    "unique_styles([\n",
    "  \"Soul\",\n",
    "  \"House,Folk\",\n",
    "  \"Trance,Downtempo,Big Beat,House\",\n",
    "  \"Deep House\",\n",
    "  \"Soul\"\n",
    "])"
   ]
  },
  {
   "cell_type": "markdown",
   "id": "1a07f070",
   "metadata": {},
   "source": [
    "### 3. Create a function that finds a target number in a list of prime numbers. Implement a binary search algorithm in your function. The target number will be from 2 through 97. If the target is prime then return \"yes\" else return \"no\".\n",
    "#### Examples\n",
    "#### primes = [2, 3, 5, 7, 11, 13, 17, 19, 23, 29, 31, 37, 41, 43, 47, 53, 59, 61, 67, 71, 73, 79, 83, 89, 97]\n",
    "\n",
    "#### is_prime(primes, 3) ➞ \"yes\"\n",
    "#### is_prime(primes, 4) ➞ \"no\"\n",
    "#### is_prime(primes, 67) ➞ \"yes\"\n",
    "#### is_prime(primes, 36) ➞ \"no\""
   ]
  },
  {
   "cell_type": "code",
   "execution_count": 18,
   "id": "b0c3ff02",
   "metadata": {},
   "outputs": [],
   "source": [
    "def is_prime(primes,num):\n",
    "    low = 0\n",
    "    high = len(primes) - 1\n",
    "    mid = 0\n",
    "    while low <= high:\n",
    "        mid = (high + low) // 2\n",
    "        if primes[mid] < num:\n",
    "            low = mid + 1\n",
    "        elif primes[mid] > num:\n",
    "            high = mid - 1\n",
    "        else:\n",
    "            return \"yes\"\n",
    "    return \"no\""
   ]
  },
  {
   "cell_type": "code",
   "execution_count": 19,
   "id": "52fa88af",
   "metadata": {},
   "outputs": [
    {
     "data": {
      "text/plain": [
       "'yes'"
      ]
     },
     "execution_count": 19,
     "metadata": {},
     "output_type": "execute_result"
    }
   ],
   "source": [
    "primes = [2, 3, 5, 7, 11, 13, 17, 19, 23, 29, 31, 37, 41, 43, 47, 53, 59, 61, 67, 71, 73, 79, 83, 89, 97]\n",
    "is_prime(primes, 3)"
   ]
  },
  {
   "cell_type": "code",
   "execution_count": 21,
   "id": "da5da26c",
   "metadata": {},
   "outputs": [
    {
     "data": {
      "text/plain": [
       "'no'"
      ]
     },
     "execution_count": 21,
     "metadata": {},
     "output_type": "execute_result"
    }
   ],
   "source": [
    "is_prime(primes, 4)"
   ]
  },
  {
   "cell_type": "code",
   "execution_count": 22,
   "id": "630bf787",
   "metadata": {},
   "outputs": [
    {
     "data": {
      "text/plain": [
       "'yes'"
      ]
     },
     "execution_count": 22,
     "metadata": {},
     "output_type": "execute_result"
    }
   ],
   "source": [
    "is_prime(primes, 67)"
   ]
  },
  {
   "cell_type": "code",
   "execution_count": 23,
   "id": "cfb84d7c",
   "metadata": {},
   "outputs": [
    {
     "data": {
      "text/plain": [
       "'no'"
      ]
     },
     "execution_count": 23,
     "metadata": {},
     "output_type": "execute_result"
    }
   ],
   "source": [
    "is_prime(primes, 36)"
   ]
  },
  {
   "cell_type": "markdown",
   "id": "300e903b",
   "metadata": {},
   "source": [
    "### 4. Create a function that takes in n, a, b and returns the number of positive values raised to the nth power that lie in the range [a, b], inclusive.\n",
    "#### Examples\n",
    "#### power_ranger(2, 49, 65) ➞ 2\n",
    "#### # 2 squares (n^2) lie between 49 and 65, 49 (7^2) and 64 (8^2)\n",
    "#### power_ranger(3, 1, 27) ➞ 3\n",
    "#### # 3 cubes (n^3) lie between 1 and 27, 1 (1^3), 8 (2^3) and 27 (3^3)\n",
    "#### power_ranger(10, 1, 5) ➞ 1\n",
    "#### # 1 value raised to the 10th power lies between 1 and 5, 1 (1^10)\n",
    "#### power_ranger(5, 31, 33) ➞ 1\n",
    "#### power_ranger(4, 250, 1300) ➞ 3"
   ]
  },
  {
   "cell_type": "code",
   "execution_count": 24,
   "id": "4da3c873",
   "metadata": {},
   "outputs": [],
   "source": [
    "def power_ranger(n,a,b):\n",
    "    count = 0\n",
    "    for i in range(b):\n",
    "        if pow(i,n) >= a and pow(i,n) <= b:\n",
    "            count += 1\n",
    "    return count"
   ]
  },
  {
   "cell_type": "code",
   "execution_count": 25,
   "id": "6f184c0d",
   "metadata": {},
   "outputs": [
    {
     "data": {
      "text/plain": [
       "2"
      ]
     },
     "execution_count": 25,
     "metadata": {},
     "output_type": "execute_result"
    }
   ],
   "source": [
    "power_ranger(2, 49, 65)"
   ]
  },
  {
   "cell_type": "code",
   "execution_count": 26,
   "id": "931db31b",
   "metadata": {},
   "outputs": [
    {
     "data": {
      "text/plain": [
       "3"
      ]
     },
     "execution_count": 26,
     "metadata": {},
     "output_type": "execute_result"
    }
   ],
   "source": [
    "power_ranger(3, 1, 27)"
   ]
  },
  {
   "cell_type": "code",
   "execution_count": 27,
   "id": "ba3f0355",
   "metadata": {},
   "outputs": [
    {
     "data": {
      "text/plain": [
       "1"
      ]
     },
     "execution_count": 27,
     "metadata": {},
     "output_type": "execute_result"
    }
   ],
   "source": [
    "power_ranger(10, 1, 5)"
   ]
  },
  {
   "cell_type": "code",
   "execution_count": 28,
   "id": "fd28fb5e",
   "metadata": {},
   "outputs": [
    {
     "data": {
      "text/plain": [
       "1"
      ]
     },
     "execution_count": 28,
     "metadata": {},
     "output_type": "execute_result"
    }
   ],
   "source": [
    "power_ranger(5, 31, 33)"
   ]
  },
  {
   "cell_type": "code",
   "execution_count": 29,
   "id": "5e1e8185",
   "metadata": {},
   "outputs": [
    {
     "data": {
      "text/plain": [
       "3"
      ]
     },
     "execution_count": 29,
     "metadata": {},
     "output_type": "execute_result"
    }
   ],
   "source": [
    "power_ranger(4, 250, 1300)"
   ]
  },
  {
   "cell_type": "markdown",
   "id": "4f6546b5",
   "metadata": {},
   "source": [
    "### 5. Given a number, return the difference between the maximum and minimum numbers that can be formed when the digits are rearranged.\n",
    "#### Examples\n",
    "#### rearranged_difference(972882) ➞ 760833\n",
    "#### # 988722 - 227889 = 760833\n",
    "\n",
    "#### rearranged_difference(3320707) ➞ 7709823\n",
    "#### # 7733200 - 23377 = 7709823\n",
    "\n",
    "#### rearranged_difference(90010) ➞ 90981\n",
    "#### # 91000 - 19 = 90981"
   ]
  },
  {
   "cell_type": "code",
   "execution_count": 45,
   "id": "1baca9ba",
   "metadata": {},
   "outputs": [],
   "source": [
    "def rearranged_difference(num):\n",
    "    min = int(''.join(sorted(str(num))))\n",
    "    max = int(''.join(sorted(str(num),reverse=True)))\n",
    "    return max - min"
   ]
  },
  {
   "cell_type": "code",
   "execution_count": 46,
   "id": "5e221d79",
   "metadata": {},
   "outputs": [
    {
     "data": {
      "text/plain": [
       "760833"
      ]
     },
     "execution_count": 46,
     "metadata": {},
     "output_type": "execute_result"
    }
   ],
   "source": [
    "rearranged_difference(972882)"
   ]
  },
  {
   "cell_type": "code",
   "execution_count": 47,
   "id": "353392b3",
   "metadata": {},
   "outputs": [
    {
     "data": {
      "text/plain": [
       "7709823"
      ]
     },
     "execution_count": 47,
     "metadata": {},
     "output_type": "execute_result"
    }
   ],
   "source": [
    "rearranged_difference(3320707)"
   ]
  },
  {
   "cell_type": "code",
   "execution_count": 48,
   "id": "95ea246f",
   "metadata": {},
   "outputs": [
    {
     "data": {
      "text/plain": [
       "90981"
      ]
     },
     "execution_count": 48,
     "metadata": {},
     "output_type": "execute_result"
    }
   ],
   "source": [
    "rearranged_difference(90010)"
   ]
  },
  {
   "cell_type": "code",
   "execution_count": null,
   "id": "567f4152",
   "metadata": {},
   "outputs": [],
   "source": []
  }
 ],
 "metadata": {
  "kernelspec": {
   "display_name": "Python 3 (ipykernel)",
   "language": "python",
   "name": "python3"
  },
  "language_info": {
   "codemirror_mode": {
    "name": "ipython",
    "version": 3
   },
   "file_extension": ".py",
   "mimetype": "text/x-python",
   "name": "python",
   "nbconvert_exporter": "python",
   "pygments_lexer": "ipython3",
   "version": "3.9.7"
  }
 },
 "nbformat": 4,
 "nbformat_minor": 5
}
