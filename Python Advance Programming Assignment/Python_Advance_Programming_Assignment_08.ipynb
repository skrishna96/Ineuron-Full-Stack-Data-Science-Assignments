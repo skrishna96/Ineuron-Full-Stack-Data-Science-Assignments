{
 "cells": [
  {
   "cell_type": "markdown",
   "id": "b9b57fe6",
   "metadata": {},
   "source": [
    "### 1. Given a sentence as txt, return True if any two adjacent words have this property: One word ends with a vowel, while the word immediately after begins with a vowel (a e i o u).\n",
    "\n",
    "#### Examples\n",
    "#### vowel_links(\"a very large appliance\") ➞ True\n",
    "#### vowel_links(\"go to edabit\") ➞ True\n",
    "#### vowel_links(\"an open fire\") ➞ False\n",
    "#### vowel_links(\"a sudden applause\") ➞ False"
   ]
  },
  {
   "cell_type": "code",
   "execution_count": 1,
   "id": "cc4b18de",
   "metadata": {},
   "outputs": [],
   "source": [
    "def vowel_links(sentence):\n",
    "    lst = sentence.split(' ')\n",
    "    vowels = 'aeiou'\n",
    "    for i in range(len(lst)-1):\n",
    "        if lst[i][-1] in vowels and lst[i+1][0] in vowels:\n",
    "            return True\n",
    "    return False"
   ]
  },
  {
   "cell_type": "code",
   "execution_count": 2,
   "id": "a5253198",
   "metadata": {},
   "outputs": [
    {
     "data": {
      "text/plain": [
       "True"
      ]
     },
     "execution_count": 2,
     "metadata": {},
     "output_type": "execute_result"
    }
   ],
   "source": [
    "vowel_links(\"a very large appliance\")"
   ]
  },
  {
   "cell_type": "code",
   "execution_count": 3,
   "id": "4759a1dc",
   "metadata": {},
   "outputs": [
    {
     "data": {
      "text/plain": [
       "True"
      ]
     },
     "execution_count": 3,
     "metadata": {},
     "output_type": "execute_result"
    }
   ],
   "source": [
    "vowel_links(\"go to edabit\")"
   ]
  },
  {
   "cell_type": "code",
   "execution_count": 4,
   "id": "7a4c158d",
   "metadata": {},
   "outputs": [
    {
     "data": {
      "text/plain": [
       "False"
      ]
     },
     "execution_count": 4,
     "metadata": {},
     "output_type": "execute_result"
    }
   ],
   "source": [
    "vowel_links(\"an open fire\")"
   ]
  },
  {
   "cell_type": "code",
   "execution_count": 5,
   "id": "64ec0a2a",
   "metadata": {},
   "outputs": [
    {
     "data": {
      "text/plain": [
       "False"
      ]
     },
     "execution_count": 5,
     "metadata": {},
     "output_type": "execute_result"
    }
   ],
   "source": [
    "vowel_links(\"a sudden applause\")"
   ]
  },
  {
   "cell_type": "markdown",
   "id": "e3798398",
   "metadata": {},
   "source": [
    "### 2. You are given three inputs: a string, one letter, and a second letter.\n",
    "### Write a function that returns True if every instance of the first letter occurs before every instance of the second letter.\n",
    "\n",
    "#### Examples\n",
    "#### first_before_second(\"a rabbit jumps joyfully\", \"a\", \"j\") ➞ True\n",
    "#### # Every instance of \"a\" occurs before every instance of \"j\".\n",
    "\n",
    "#### first_before_second(\"knaves knew about waterfalls\", \"k\", \"w\") ➞  True\n",
    "\n",
    "#### first_before_second(\"happy birthday\", \"a\", \"y\") ➞ False\n",
    "#### # The \"a\" in \"birthday\" occurs after the \"y\" in \"happy\".\n",
    "\n",
    "#### first_before_second(\"precarious kangaroos\", \"k\", \"a\") ➞ False"
   ]
  },
  {
   "cell_type": "code",
   "execution_count": 6,
   "id": "4dc242d0",
   "metadata": {},
   "outputs": [],
   "source": [
    "def first_before_second(sentence,firstletter,secondletter):\n",
    "    firstlst = []\n",
    "    secondlst = []\n",
    "    for i in range(len(sentence)-1):\n",
    "        if sentence[i] == firstletter:\n",
    "            firstlst.append(i)\n",
    "        elif sentence[i] == secondletter:\n",
    "            secondlst.append(i)\n",
    "    if max(firstlst) < min(secondlst):\n",
    "        return True\n",
    "    else:\n",
    "        return False"
   ]
  },
  {
   "cell_type": "code",
   "execution_count": 7,
   "id": "a212a40d",
   "metadata": {},
   "outputs": [
    {
     "data": {
      "text/plain": [
       "True"
      ]
     },
     "execution_count": 7,
     "metadata": {},
     "output_type": "execute_result"
    }
   ],
   "source": [
    "first_before_second(\"a rabbit jumps joyfully\", \"a\", \"j\")"
   ]
  },
  {
   "cell_type": "code",
   "execution_count": 8,
   "id": "3b4f4cd3",
   "metadata": {},
   "outputs": [
    {
     "data": {
      "text/plain": [
       "True"
      ]
     },
     "execution_count": 8,
     "metadata": {},
     "output_type": "execute_result"
    }
   ],
   "source": [
    "first_before_second(\"knaves knew about waterfalls\", \"k\", \"w\")"
   ]
  },
  {
   "cell_type": "code",
   "execution_count": 9,
   "id": "a8c3bd4b",
   "metadata": {},
   "outputs": [
    {
     "data": {
      "text/plain": [
       "False"
      ]
     },
     "execution_count": 9,
     "metadata": {},
     "output_type": "execute_result"
    }
   ],
   "source": [
    "first_before_second(\"happy birthday\", \"a\", \"y\")"
   ]
  },
  {
   "cell_type": "code",
   "execution_count": 10,
   "id": "8e5753a9",
   "metadata": {},
   "outputs": [
    {
     "data": {
      "text/plain": [
       "False"
      ]
     },
     "execution_count": 10,
     "metadata": {},
     "output_type": "execute_result"
    }
   ],
   "source": [
    "first_before_second(\"precarious kangaroos\", \"k\", \"a\")"
   ]
  },
  {
   "cell_type": "markdown",
   "id": "cb8efe4d",
   "metadata": {},
   "source": [
    "### 3. Create a function that returns the characters from a list or string r on odd or even positions, depending on the specifier s. The specifier will be \"odd\" for items on odd positions (1, 3, 5, ...) and \"even\" for items on even positions (2, 4, 6, ...).\n",
    "\n",
    "#### Examples\n",
    "#### char_at_pos([2, 4, 6, 8, 10], \"even\") ➞ [4, 8]\n",
    "#### # 4 & 8 occupy the 2nd & 4th positions\n",
    "\n",
    "#### char_at_pos(\"EDABIT\", \"odd\") ➞ \"EAI\"\n",
    "#### # \"E\", \"A\" and \"I\" occupy the 1st, 3rd and 5th positions\n",
    "\n",
    "#### char_at_pos([\"A\", \"R\", \"B\", \"I\", \"T\", \"R\", \"A\", \"R\", \"I\", \"L\", \"Y\"], \"odd\") ➞ [\"A\", \"B\", \"T\", \"A\", \"I\", \"Y\"]"
   ]
  },
  {
   "cell_type": "code",
   "execution_count": 46,
   "id": "6abe64f3",
   "metadata": {},
   "outputs": [],
   "source": [
    "def char_at_pos(lststr,oddeven):\n",
    "    new_str = ''\n",
    "    new_lst = []\n",
    "    if type(lststr) == list:\n",
    "        for i in range(len(lststr)):\n",
    "            if oddeven == 'even' and (i+1)%2 == 0:\n",
    "                new_lst.append(lststr[i])\n",
    "            elif oddeven == 'odd' and (i+1)%2 != 0:\n",
    "                new_lst.append(lststr[i])\n",
    "        return new_lst\n",
    "    elif type(lststr) == str:\n",
    "        for i in range(len(lststr)):\n",
    "            if oddeven == 'even' and (i+1)%2 == 0:\n",
    "                new_str += lststr[i]\n",
    "            elif oddeven == 'odd' and (i+1)%2 != 0:\n",
    "                new_str += lststr[i]\n",
    "        return new_str"
   ]
  },
  {
   "cell_type": "code",
   "execution_count": 47,
   "id": "31bb7a74",
   "metadata": {},
   "outputs": [
    {
     "data": {
      "text/plain": [
       "[4, 8]"
      ]
     },
     "execution_count": 47,
     "metadata": {},
     "output_type": "execute_result"
    }
   ],
   "source": [
    "char_at_pos([2, 4, 6, 8, 10], \"even\")"
   ]
  },
  {
   "cell_type": "code",
   "execution_count": 48,
   "id": "0696741b",
   "metadata": {},
   "outputs": [
    {
     "data": {
      "text/plain": [
       "'EAI'"
      ]
     },
     "execution_count": 48,
     "metadata": {},
     "output_type": "execute_result"
    }
   ],
   "source": [
    "char_at_pos(\"EDABIT\", \"odd\")"
   ]
  },
  {
   "cell_type": "code",
   "execution_count": 49,
   "id": "cb302c0a",
   "metadata": {},
   "outputs": [
    {
     "data": {
      "text/plain": [
       "['A', 'B', 'T', 'A', 'I', 'Y']"
      ]
     },
     "execution_count": 49,
     "metadata": {},
     "output_type": "execute_result"
    }
   ],
   "source": [
    "char_at_pos([\"A\", \"R\", \"B\", \"I\", \"T\", \"R\", \"A\", \"R\", \"I\", \"L\", \"Y\"], \"odd\")"
   ]
  },
  {
   "cell_type": "markdown",
   "id": "ea650c36",
   "metadata": {},
   "source": [
    "### 4. Write a function that returns the greatest common divisor of all list elements. If the greatest common divisor is 1, return 1.\n",
    "\n",
    "#### Examples\n",
    "#### GCD([10, 20, 40]) ➞ 10\n",
    "#### GCD([1, 2, 3, 100]) ➞ 1\n",
    "#### GCD([1024, 192, 2048, 512]) ➞ 64"
   ]
  },
  {
   "cell_type": "code",
   "execution_count": 54,
   "id": "737aeeeb",
   "metadata": {},
   "outputs": [],
   "source": [
    "def GCD(lst):\n",
    "    gcd = 0\n",
    "    for i in range(1,min(lst)+1):\n",
    "        new_lst = []\n",
    "        for ele in lst:\n",
    "            new_lst.append(ele % i)\n",
    "        if len(set(new_lst)) == 1 and list(set(new_lst))[0] == 0:\n",
    "            gcd = i\n",
    "    return gcd"
   ]
  },
  {
   "cell_type": "code",
   "execution_count": 55,
   "id": "4c510284",
   "metadata": {},
   "outputs": [
    {
     "data": {
      "text/plain": [
       "10"
      ]
     },
     "execution_count": 55,
     "metadata": {},
     "output_type": "execute_result"
    }
   ],
   "source": [
    "GCD([10, 20, 40])"
   ]
  },
  {
   "cell_type": "code",
   "execution_count": 56,
   "id": "9e248dd8",
   "metadata": {},
   "outputs": [
    {
     "data": {
      "text/plain": [
       "1"
      ]
     },
     "execution_count": 56,
     "metadata": {},
     "output_type": "execute_result"
    }
   ],
   "source": [
    "GCD([1, 2, 3, 100]) "
   ]
  },
  {
   "cell_type": "code",
   "execution_count": 57,
   "id": "c1bd8a7e",
   "metadata": {},
   "outputs": [
    {
     "data": {
      "text/plain": [
       "64"
      ]
     },
     "execution_count": 57,
     "metadata": {},
     "output_type": "execute_result"
    }
   ],
   "source": [
    "GCD([1024, 192, 2048, 512])"
   ]
  },
  {
   "cell_type": "markdown",
   "id": "1fa724e6",
   "metadata": {},
   "source": [
    "### 5. A number/string is a palindrome if the digits/characters are the same when read both forward and backward. Examples include \"racecar\" and 12321. Given a positive number n, check if n or the binary representation of n is palindromic. Return the following:\n",
    "\n",
    "#### - \"Decimal only.\" if only n is a palindrome.\n",
    "#### - \"Binary only.\" if only the binary representation of n is a palindrome.\n",
    "#### - \"Decimal and binary.\" if both are palindromes.\n",
    "#### - \"Neither!\" if neither are palindromes.\n",
    "\n",
    "#### Examples\n",
    "#### palindrome_type(1306031) ➞ \"Decimal only.\"\n",
    "#### # decimal = 1306031\n",
    "#### # binary  = \"100111110110110101111\"\n",
    "\n",
    "#### palindrome_type(427787) ➞ \"Binary only.\"\n",
    "#### # decimal = 427787\n",
    "#### # binary  = \"1101000011100001011\"\n",
    "\n",
    "#### palindrome_type(313) ➞ \"Decimal and binary.\"\n",
    "#### # decimal = 313\n",
    "#### # binary  = 100111001\n",
    "\n",
    "#### palindrome_type(934) ➞ \"Neither!\"\n",
    "#### # decimal = 934\n",
    "#### # binary  = \"1110100110\""
   ]
  },
  {
   "cell_type": "code",
   "execution_count": 67,
   "id": "392bd06a",
   "metadata": {},
   "outputs": [],
   "source": [
    "def palindrome_type(num):\n",
    "    if str(num) == str(num)[::-1] and str(bin(num)[2:]) == str(bin(num)[2:])[::-1]:\n",
    "        return 'Decimal and binary.'\n",
    "    elif str(num) == str(num)[::-1] and str(bin(num)[2:]) != str(bin(num)[2:])[::-1]:\n",
    "        return 'Decimal only.'\n",
    "    elif str(bin(num)[2:]) == str(bin(num)[2:])[::-1] and str(num) != str(num)[::-1]:\n",
    "        return 'Binary only.'\n",
    "    else:\n",
    "        return 'Neither!'"
   ]
  },
  {
   "cell_type": "code",
   "execution_count": 68,
   "id": "bd0ca8e5",
   "metadata": {},
   "outputs": [
    {
     "data": {
      "text/plain": [
       "'Decimal only.'"
      ]
     },
     "execution_count": 68,
     "metadata": {},
     "output_type": "execute_result"
    }
   ],
   "source": [
    "palindrome_type(1306031)"
   ]
  },
  {
   "cell_type": "code",
   "execution_count": 69,
   "id": "09006a64",
   "metadata": {},
   "outputs": [
    {
     "data": {
      "text/plain": [
       "'Binary only.'"
      ]
     },
     "execution_count": 69,
     "metadata": {},
     "output_type": "execute_result"
    }
   ],
   "source": [
    "palindrome_type(427787)"
   ]
  },
  {
   "cell_type": "code",
   "execution_count": 70,
   "id": "6c96b22e",
   "metadata": {},
   "outputs": [
    {
     "data": {
      "text/plain": [
       "'Decimal and binary.'"
      ]
     },
     "execution_count": 70,
     "metadata": {},
     "output_type": "execute_result"
    }
   ],
   "source": [
    "palindrome_type(313)"
   ]
  },
  {
   "cell_type": "code",
   "execution_count": 71,
   "id": "f856fe3d",
   "metadata": {},
   "outputs": [
    {
     "data": {
      "text/plain": [
       "'Neither!'"
      ]
     },
     "execution_count": 71,
     "metadata": {},
     "output_type": "execute_result"
    }
   ],
   "source": [
    "palindrome_type(934)"
   ]
  },
  {
   "cell_type": "code",
   "execution_count": null,
   "id": "a0a7a854",
   "metadata": {},
   "outputs": [],
   "source": []
  }
 ],
 "metadata": {
  "kernelspec": {
   "display_name": "Python 3 (ipykernel)",
   "language": "python",
   "name": "python3"
  },
  "language_info": {
   "codemirror_mode": {
    "name": "ipython",
    "version": 3
   },
   "file_extension": ".py",
   "mimetype": "text/x-python",
   "name": "python",
   "nbconvert_exporter": "python",
   "pygments_lexer": "ipython3",
   "version": "3.9.7"
  }
 },
 "nbformat": 4,
 "nbformat_minor": 5
}
