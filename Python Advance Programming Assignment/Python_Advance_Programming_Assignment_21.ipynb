{
 "cells": [
  {
   "cell_type": "markdown",
   "id": "4cec88fa",
   "metadata": {},
   "source": [
    "### 1. Given a sentence, return the number of words which have the same first and last letter.\n",
    "\n",
    "#### Examples\n",
    "#### count_same_ends(\"Pop! goes the balloon\") ➞ 1\n",
    "#### count_same_ends(\"And the crowd goes wild!\") ➞ 0\n",
    "#### count_same_ends(\"No I am not in a gang.\") ➞ 1"
   ]
  },
  {
   "cell_type": "code",
   "execution_count": 7,
   "id": "ff5c4d15",
   "metadata": {},
   "outputs": [],
   "source": [
    "import re\n",
    "def count_same_ends(sentence):\n",
    "    s1 = re.sub(\"[!$@#&%.]\",\"\",sentence)\n",
    "    count = 0\n",
    "    for word in s1.split(\" \"):\n",
    "        if word[0].lower() == word[-1].lower():\n",
    "            count += 1\n",
    "    return count"
   ]
  },
  {
   "cell_type": "code",
   "execution_count": 8,
   "id": "f80ce1c9",
   "metadata": {},
   "outputs": [
    {
     "data": {
      "text/plain": [
       "1"
      ]
     },
     "execution_count": 8,
     "metadata": {},
     "output_type": "execute_result"
    }
   ],
   "source": [
    "count_same_ends(\"Pop! goes the balloon\") "
   ]
  },
  {
   "cell_type": "code",
   "execution_count": 9,
   "id": "da8f6143",
   "metadata": {},
   "outputs": [
    {
     "data": {
      "text/plain": [
       "0"
      ]
     },
     "execution_count": 9,
     "metadata": {},
     "output_type": "execute_result"
    }
   ],
   "source": [
    "count_same_ends(\"And the crowd goes wild!\") "
   ]
  },
  {
   "cell_type": "code",
   "execution_count": 10,
   "id": "4f30afdf",
   "metadata": {},
   "outputs": [
    {
     "data": {
      "text/plain": [
       "3"
      ]
     },
     "execution_count": 10,
     "metadata": {},
     "output_type": "execute_result"
    }
   ],
   "source": [
    "count_same_ends(\"No I am not in a gang.\") "
   ]
  },
  {
   "cell_type": "markdown",
   "id": "3afc0cb2",
   "metadata": {},
   "source": [
    "### 2. The Atbash cipher is an encryption method in which each letter of a word is replaced with its \"mirror\" letter in the alphabet: A <=> Z; B <=> Y; C <=> X; etc.\n",
    "#### Create a function that takes a string and applies the Atbash cipher to it.\n",
    "#### Examples\n",
    "#### atbash(\"apple\") ➞ \"zkkov\"\n",
    "#### atbash(\"Hello world!\") ➞ \"Svool dliow!\"\n",
    "#### atbash(\"Christmas is the 25th of December\") ➞ \"Xsirhgnzh rh gsv 25gs lu Wvxvnyvi\""
   ]
  },
  {
   "cell_type": "code",
   "execution_count": 29,
   "id": "e3d12a7a",
   "metadata": {},
   "outputs": [],
   "source": [
    "def atbash(word):\n",
    "    d = {'a':'z','b':'y','c':'x','d':'w','e':'v','f':'u',\n",
    "        'g':'t','h':'s','i':'r','j':'q','k':'p','l':'o',\n",
    "        'm':'n','n':'m','o':'l','p':'k','q':'j','r':'i',\n",
    "        's':'h','t':'g','u':'f','v':'e','w':'d','x':'c','y':'b','z':'a'}\n",
    "    s=''\n",
    "    for character in word:\n",
    "        if character.lower() in d.keys() and character.isupper():\n",
    "            s += d[character.lower()].upper()\n",
    "        elif character.lower() in d.keys():\n",
    "            s += d[character.lower()]\n",
    "        else:\n",
    "            s += character\n",
    "    return s"
   ]
  },
  {
   "cell_type": "code",
   "execution_count": 30,
   "id": "2386061a",
   "metadata": {},
   "outputs": [
    {
     "data": {
      "text/plain": [
       "'zkkov'"
      ]
     },
     "execution_count": 30,
     "metadata": {},
     "output_type": "execute_result"
    }
   ],
   "source": [
    "atbash(\"apple\") "
   ]
  },
  {
   "cell_type": "code",
   "execution_count": 31,
   "id": "aa1a15c2",
   "metadata": {},
   "outputs": [
    {
     "data": {
      "text/plain": [
       "'Svool dliow!'"
      ]
     },
     "execution_count": 31,
     "metadata": {},
     "output_type": "execute_result"
    }
   ],
   "source": [
    "atbash(\"Hello world!\")"
   ]
  },
  {
   "cell_type": "code",
   "execution_count": 32,
   "id": "82731d53",
   "metadata": {},
   "outputs": [
    {
     "data": {
      "text/plain": [
       "'Xsirhgnzh rh gsv 25gs lu Wvxvnyvi'"
      ]
     },
     "execution_count": 32,
     "metadata": {},
     "output_type": "execute_result"
    }
   ],
   "source": [
    "atbash(\"Christmas is the 25th of December\")"
   ]
  },
  {
   "cell_type": "markdown",
   "id": "6f544193",
   "metadata": {},
   "source": [
    "### 3. Create a class Employee that will take a full name as argument, as well as a set of none, one or more keywords. Each instance should have a name and a lastname attributes plus one more attribute for each of the keywords, if any.\n",
    "\n",
    "#### Examples\n",
    "#### john = Employee(\"John Doe\")\n",
    "#### mary = Employee(\"Mary Major\", salary=120000)\n",
    "#### richard = Employee(\"Richard Roe\", salary=110000, height=178)\n",
    "#### giancarlo = Employee(\"Giancarlo Rossi\", salary=115000, height=182, nationality=\"Italian\")\n",
    "\n",
    "#### john.name ➞ \"John\"\n",
    "#### mary.lastname ➞ \"Major\"\n",
    "#### richard.height ➞ 178\n",
    "#### giancarlo.nationality ➞ \"Italian\""
   ]
  },
  {
   "cell_type": "code",
   "execution_count": 37,
   "id": "397b2c34",
   "metadata": {},
   "outputs": [],
   "source": [
    "class Employee:\n",
    "    def __init__(self,name,**kwargs):\n",
    "        self.name = name.split(\" \")[0]\n",
    "        self.lastname = name.split(\" \")[-1]\n",
    "        self.salary = kwargs.get(\"salary\")\n",
    "        self.height = kwargs.get(\"height\")\n",
    "        self.nationality = kwargs.get(\"nationality\")"
   ]
  },
  {
   "cell_type": "code",
   "execution_count": 38,
   "id": "c4e26768",
   "metadata": {},
   "outputs": [],
   "source": [
    "john = Employee(\"John Doe\")\n",
    "mary = Employee(\"Mary Major\", salary=120000)\n",
    "richard = Employee(\"Richard Roe\", salary=110000, height=178)\n",
    "giancarlo = Employee(\"Giancarlo Rossi\", salary=115000, height=182, nationality=\"Italian\")"
   ]
  },
  {
   "cell_type": "code",
   "execution_count": 39,
   "id": "e1043798",
   "metadata": {},
   "outputs": [
    {
     "data": {
      "text/plain": [
       "'John'"
      ]
     },
     "execution_count": 39,
     "metadata": {},
     "output_type": "execute_result"
    }
   ],
   "source": [
    "john.name "
   ]
  },
  {
   "cell_type": "code",
   "execution_count": 40,
   "id": "679dcb55",
   "metadata": {},
   "outputs": [
    {
     "data": {
      "text/plain": [
       "'Major'"
      ]
     },
     "execution_count": 40,
     "metadata": {},
     "output_type": "execute_result"
    }
   ],
   "source": [
    "mary.lastname "
   ]
  },
  {
   "cell_type": "code",
   "execution_count": 41,
   "id": "eac0e65d",
   "metadata": {},
   "outputs": [
    {
     "data": {
      "text/plain": [
       "178"
      ]
     },
     "execution_count": 41,
     "metadata": {},
     "output_type": "execute_result"
    }
   ],
   "source": [
    "richard.height "
   ]
  },
  {
   "cell_type": "code",
   "execution_count": 42,
   "id": "be93d75e",
   "metadata": {},
   "outputs": [
    {
     "data": {
      "text/plain": [
       "'Italian'"
      ]
     },
     "execution_count": 42,
     "metadata": {},
     "output_type": "execute_result"
    }
   ],
   "source": [
    "giancarlo.nationality "
   ]
  },
  {
   "cell_type": "markdown",
   "id": "49211e72",
   "metadata": {},
   "source": [
    "### 4. Create a function that determines whether each seat can \"see\" the front-stage. A number can \"see\" the front-stage if it is strictly greater than the number before it.\n",
    "#### Everyone can see the front-stage in the example below:\n",
    "#### # FRONT STAGE\n",
    "<pre>\n",
    "[[1, 2, 3, 2, 1, 1],\n",
    "[2, 4, 4, 3, 2, 2],\n",
    "[5, 5, 5, 5, 4, 4],\n",
    "[6, 6, 7, 6, 5, 5]]\n",
    "</pre>\n",
    "\n",
    "#### # Starting from the left, the 6 > 5 > 2 > 1, so all numbers can see.\n",
    "#### # 6 > 5 > 4 > 2 - so all numbers can see, etc.\n",
    "#### Not everyone can see the front-stage in the example below:\n",
    "\n",
    "#### # FRONT STAGE\n",
    "<pre>\n",
    "[[1, 2, 3, 2, 1, 1], \n",
    "[2, 4, 4, 3, 2, 2], \n",
    "[5, 5, 5, 10, 4, 4], \n",
    "[6, 6, 7, 6, 5, 5]]\n",
    "</pre>\n",
    "\n",
    "#### # The 10 is directly in front of the 6 and blocking its view.\n",
    "#### The function should return True if every number can see the front-stage, and False if even a single number cannot.\n",
    "#### Examples\n",
    "<pre>\n",
    "can_see_stage([\n",
    "  [1, 2, 3],\n",
    "  [4, 5, 6],\n",
    "  [7, 8, 9]\n",
    "]) ➞ True\n",
    "\n",
    "can_see_stage([\n",
    "  [0, 0, 0],\n",
    "  [1, 1, 1],\n",
    "  [2, 2, 2]\n",
    "]) ➞ True\n",
    "\n",
    "can_see_stage([\n",
    "  [2, 0, 0], \n",
    "  [1, 1, 1], \n",
    "  [2, 2, 2]\n",
    "]) ➞ False\n",
    "\n",
    "can_see_stage([\n",
    "  [1, 0, 0],\n",
    "  [1, 1, 1],\n",
    "  [2, 2, 2]\n",
    "]) ➞ False\n",
    "</pre>\n",
    "#### # Number must be strictly smaller than \n",
    "#### # the number directly behind it."
   ]
  },
  {
   "cell_type": "code",
   "execution_count": 56,
   "id": "cb82d5cf",
   "metadata": {},
   "outputs": [],
   "source": [
    "def can_see_stage(lst):\n",
    "    for i in range(len(lst)):\n",
    "        for j in range(len(lst[0])-1):\n",
    "            if lst[j][i] >= lst[j+1][i]:\n",
    "                return False\n",
    "    return True"
   ]
  },
  {
   "cell_type": "code",
   "execution_count": 57,
   "id": "840c4614",
   "metadata": {},
   "outputs": [
    {
     "data": {
      "text/plain": [
       "True"
      ]
     },
     "execution_count": 57,
     "metadata": {},
     "output_type": "execute_result"
    }
   ],
   "source": [
    "can_see_stage([\n",
    "  [1, 2, 3],\n",
    "  [4, 5, 6],\n",
    "  [7, 8, 9]\n",
    "]) "
   ]
  },
  {
   "cell_type": "code",
   "execution_count": 58,
   "id": "47f964ed",
   "metadata": {},
   "outputs": [
    {
     "data": {
      "text/plain": [
       "True"
      ]
     },
     "execution_count": 58,
     "metadata": {},
     "output_type": "execute_result"
    }
   ],
   "source": [
    "can_see_stage([\n",
    "  [0, 0, 0],\n",
    "  [1, 1, 1],\n",
    "  [2, 2, 2]\n",
    "]) "
   ]
  },
  {
   "cell_type": "code",
   "execution_count": 59,
   "id": "6950ab1a",
   "metadata": {},
   "outputs": [
    {
     "data": {
      "text/plain": [
       "False"
      ]
     },
     "execution_count": 59,
     "metadata": {},
     "output_type": "execute_result"
    }
   ],
   "source": [
    "can_see_stage([\n",
    "  [2, 0, 0], \n",
    "  [1, 1, 1], \n",
    "  [2, 2, 2]\n",
    "])"
   ]
  },
  {
   "cell_type": "code",
   "execution_count": 60,
   "id": "337941e3",
   "metadata": {},
   "outputs": [
    {
     "data": {
      "text/plain": [
       "False"
      ]
     },
     "execution_count": 60,
     "metadata": {},
     "output_type": "execute_result"
    }
   ],
   "source": [
    "can_see_stage([\n",
    "  [1, 0, 0],\n",
    "  [1, 1, 1],\n",
    "  [2, 2, 2]\n",
    "]) "
   ]
  },
  {
   "cell_type": "markdown",
   "id": "946b4a6a",
   "metadata": {},
   "source": [
    "### 5. Create a Pizza class with the attributes order_number and ingredients (which is given as a list). Only the ingredients will be given as input.\n",
    "#### You should also make it so that its possible to choose a ready made pizza flavour rather than typing out the ingredients manually! As well as creating this Pizza class, hard-code the following pizza flavours.\n",
    "\n",
    "#### Name\t                    Ingredients\n",
    "#### hawaiian\t          ham, pineapple\n",
    "#### meat_festival\tbeef, meatball, bacon\n",
    "#### garden_feast\tspinach, olives, mushroom\n",
    "\n",
    "#### Examples\n",
    "#### p1 = Pizza([\"bacon\", \"parmesan\", \"ham\"])    # order 1\n",
    "#### p2 = Pizza.garden_feast()                  # order 2\n",
    "#### p1.ingredients ➞ [\"bacon\", \"parmesan\", \"ham\"]"
   ]
  },
  {
   "cell_type": "code",
   "execution_count": 69,
   "id": "2e20f670",
   "metadata": {},
   "outputs": [],
   "source": [
    "class Pizza:\n",
    "    count = 0\n",
    "    def __init__(self,ingredients = None):\n",
    "        self.ingredients = ingredients\n",
    "        self.order_number = Pizza.count + 1\n",
    "        Pizza.count = self.order_number\n",
    "    def hawaiian(self):\n",
    "        self.ingredients = ['ham', 'pineapple']\n",
    "    def meat_festival(self):\n",
    "        self.ingredients = ['beef', 'meatball', 'bacon']\n",
    "    def garden_feast(self):\n",
    "        self.ingredients = ['spinach', 'olives', 'mushroom']"
   ]
  },
  {
   "cell_type": "code",
   "execution_count": 70,
   "id": "7a33861f",
   "metadata": {},
   "outputs": [],
   "source": [
    "p1 = Pizza([\"bacon\", \"parmesan\", \"ham\"])"
   ]
  },
  {
   "cell_type": "code",
   "execution_count": 71,
   "id": "d0a247ac",
   "metadata": {},
   "outputs": [],
   "source": [
    "p2 = Pizza()\n",
    "p2.garden_feast()"
   ]
  },
  {
   "cell_type": "code",
   "execution_count": 72,
   "id": "2dbc1cb9",
   "metadata": {},
   "outputs": [
    {
     "data": {
      "text/plain": [
       "['bacon', 'parmesan', 'ham']"
      ]
     },
     "execution_count": 72,
     "metadata": {},
     "output_type": "execute_result"
    }
   ],
   "source": [
    "p1.ingredients"
   ]
  },
  {
   "cell_type": "code",
   "execution_count": 73,
   "id": "ee5abee7",
   "metadata": {},
   "outputs": [
    {
     "data": {
      "text/plain": [
       "['spinach', 'olives', 'mushroom']"
      ]
     },
     "execution_count": 73,
     "metadata": {},
     "output_type": "execute_result"
    }
   ],
   "source": [
    "p2.ingredients"
   ]
  },
  {
   "cell_type": "code",
   "execution_count": 74,
   "id": "302e9e60",
   "metadata": {},
   "outputs": [
    {
     "data": {
      "text/plain": [
       "1"
      ]
     },
     "execution_count": 74,
     "metadata": {},
     "output_type": "execute_result"
    }
   ],
   "source": [
    "p1.order_number"
   ]
  },
  {
   "cell_type": "code",
   "execution_count": 75,
   "id": "76ed8463",
   "metadata": {},
   "outputs": [
    {
     "data": {
      "text/plain": [
       "2"
      ]
     },
     "execution_count": 75,
     "metadata": {},
     "output_type": "execute_result"
    }
   ],
   "source": [
    "p2.order_number"
   ]
  },
  {
   "cell_type": "code",
   "execution_count": null,
   "id": "078d1708",
   "metadata": {},
   "outputs": [],
   "source": []
  }
 ],
 "metadata": {
  "kernelspec": {
   "display_name": "Python 3 (ipykernel)",
   "language": "python",
   "name": "python3"
  },
  "language_info": {
   "codemirror_mode": {
    "name": "ipython",
    "version": 3
   },
   "file_extension": ".py",
   "mimetype": "text/x-python",
   "name": "python",
   "nbconvert_exporter": "python",
   "pygments_lexer": "ipython3",
   "version": "3.10.0"
  }
 },
 "nbformat": 4,
 "nbformat_minor": 5
}
