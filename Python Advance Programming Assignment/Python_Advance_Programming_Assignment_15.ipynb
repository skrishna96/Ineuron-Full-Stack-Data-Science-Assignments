{
 "cells": [
  {
   "cell_type": "markdown",
   "id": "524f7dd9",
   "metadata": {},
   "source": [
    "### 1. Write a function that returns True if a given name can generate an array of words.\n",
    "\n",
    "#### Examples\n",
    "#### anagram(\"Justin Bieber\", [\"injures\", \"ebb\", \"it\"]) ➞ True\n",
    "#### anagram(\"Natalie Portman\", [\"ornamental\", \"pita\"]) ➞ True\n",
    "#### anagram(\"Chris Pratt\", [\"chirps\", \"rat\"]) ➞ False\n",
    "#### # Not all letters are used\n",
    "#### anagram(\"Jeff Goldblum\", [\"jog\", \"meld\", \"bluffs\"]) ➞ False\n",
    "#### # \"s\" does not exist in the original name"
   ]
  },
  {
   "cell_type": "code",
   "execution_count": 13,
   "id": "57d6c108",
   "metadata": {},
   "outputs": [],
   "source": [
    "def anagram(sentence,lst):\n",
    "    temp_lst = list(sentence.lower())\n",
    "    temp_lst.remove(' ')\n",
    "    not_used_list = []\n",
    "    for word in lst:\n",
    "        for character in word:\n",
    "            if character.lower() in temp_lst:\n",
    "                temp_lst.remove(character)\n",
    "            else:\n",
    "                not_used_list.append(character)\n",
    "    if len(temp_lst) == 0 and len(not_used_list) == 0:\n",
    "        return True\n",
    "    else:\n",
    "        return False"
   ]
  },
  {
   "cell_type": "code",
   "execution_count": 14,
   "id": "674e5b2a",
   "metadata": {},
   "outputs": [
    {
     "data": {
      "text/plain": [
       "True"
      ]
     },
     "execution_count": 14,
     "metadata": {},
     "output_type": "execute_result"
    }
   ],
   "source": [
    "anagram(\"Justin Bieber\", [\"injures\", \"ebb\", \"it\"])"
   ]
  },
  {
   "cell_type": "code",
   "execution_count": 15,
   "id": "227ae69c",
   "metadata": {},
   "outputs": [
    {
     "data": {
      "text/plain": [
       "True"
      ]
     },
     "execution_count": 15,
     "metadata": {},
     "output_type": "execute_result"
    }
   ],
   "source": [
    "anagram(\"Natalie Portman\", [\"ornamental\", \"pita\"])"
   ]
  },
  {
   "cell_type": "code",
   "execution_count": 16,
   "id": "97beb70a",
   "metadata": {},
   "outputs": [
    {
     "data": {
      "text/plain": [
       "False"
      ]
     },
     "execution_count": 16,
     "metadata": {},
     "output_type": "execute_result"
    }
   ],
   "source": [
    "anagram(\"Chris Pratt\", [\"chirps\", \"rat\"])"
   ]
  },
  {
   "cell_type": "code",
   "execution_count": 17,
   "id": "f7edf50d",
   "metadata": {},
   "outputs": [
    {
     "data": {
      "text/plain": [
       "False"
      ]
     },
     "execution_count": 17,
     "metadata": {},
     "output_type": "execute_result"
    }
   ],
   "source": [
    "anagram(\"Jeff Goldblum\", [\"jog\", \"meld\", \"bluffs\"])"
   ]
  },
  {
   "cell_type": "markdown",
   "id": "ac5450b1",
   "metadata": {},
   "source": [
    "### 2. Given an array of users, each defined by an object with the following properties: name, score, reputation create a function that sorts the array to form the correct leaderboard.\n",
    "#### The leaderboard takes into consideration the score of each user of course, but an emphasis is put on their reputation in the community, so to get the trueScore, you should add the reputation multiplied by 2 to the score.\n",
    "#### Once you know the trueScore of each user, sort the array according to it in descending order.\n",
    "\n",
    "#### Examples\n",
    "<pre>\n",
    "leaderboards([\n",
    "  { \"name\": \"a\", \"score\": 100, \"reputation\": 20 },\n",
    "  { \"name\": \"b\", \"score\": 90, \"reputation\": 40 },\n",
    "  { \"name\": \"c\", \"score\": 115, \"reputation\": 30 },\n",
    "]) ➞ [\n",
    "  { \"name\": \"c\", \"score\": 115, \"reputation\": 30 },  # trueScore = 175\n",
    "  { \"name\": \"b\", \"score\": 90, \"reputation\": 40 },   # trueScore = 170\n",
    "  { \"name\": \"a\", \"score\": 100, \"reputation\": 20 }   # trueScore = 140\n",
    "]\n",
    "<pre>"
   ]
  },
  {
   "cell_type": "code",
   "execution_count": 20,
   "id": "61e6cff5",
   "metadata": {},
   "outputs": [],
   "source": [
    "def leaderboards(lst):\n",
    "    d = {}\n",
    "    new_lst = []\n",
    "    for dictionary in lst:\n",
    "        d[dictionary['score'] + (dictionary['reputation'] * 2)] = dictionary\n",
    "    for i in sorted(d.keys(),reverse=True):\n",
    "        new_lst.append(d[i])\n",
    "    return new_lst"
   ]
  },
  {
   "cell_type": "code",
   "execution_count": 21,
   "id": "e30a0013",
   "metadata": {},
   "outputs": [
    {
     "data": {
      "text/plain": [
       "[{'name': 'c', 'score': 115, 'reputation': 30},\n",
       " {'name': 'b', 'score': 90, 'reputation': 40},\n",
       " {'name': 'a', 'score': 100, 'reputation': 20}]"
      ]
     },
     "execution_count": 21,
     "metadata": {},
     "output_type": "execute_result"
    }
   ],
   "source": [
    "leaderboards([\n",
    "  { \"name\": \"a\", \"score\": 100, \"reputation\": 20 },\n",
    "  { \"name\": \"b\", \"score\": 90, \"reputation\": 40 },\n",
    "  { \"name\": \"c\", \"score\": 115, \"reputation\": 30 },\n",
    "])"
   ]
  },
  {
   "cell_type": "markdown",
   "id": "57ae88c3",
   "metadata": {},
   "source": [
    "### 3. Create a function that, given a phrase and a number of letters guessed, returns a string with hyphens - for every letter of the phrase not guessed, and each letter guessed in place.\n",
    "\n",
    "#### Examples\n",
    "#### hangman(\"helicopter\", [\"o\", \"e\", \"s\"]) ➞ \"-e---o--e-\"\n",
    "#### hangman(\"tree\", [\"r\", \"t\", \"e\"]) ➞ \"tree\"\n",
    "#### hangman(\"Python rules\", [\"a\", \"n\", \"p\", \"r\", \"z\"]) ➞ \"P----n r----\"\n",
    "#### hangman(\"He\"s a very naughty boy!\", [\"e\", \"a\", \"y\"]) ➞ \"-e\"- a -e-y -a----y –y!\""
   ]
  },
  {
   "cell_type": "code",
   "execution_count": 29,
   "id": "cf0d07c9",
   "metadata": {},
   "outputs": [],
   "source": [
    "def hangman(phrase,guess_list):\n",
    "    special_char = ' !\"'\n",
    "    s = ''\n",
    "    for letter in phrase:\n",
    "        if letter in special_char or letter.lower() in guess_list:\n",
    "            s += letter\n",
    "        else:\n",
    "            s += '-'\n",
    "    return s"
   ]
  },
  {
   "cell_type": "code",
   "execution_count": 30,
   "id": "c767853e",
   "metadata": {},
   "outputs": [
    {
     "data": {
      "text/plain": [
       "'-e---o--e-'"
      ]
     },
     "execution_count": 30,
     "metadata": {},
     "output_type": "execute_result"
    }
   ],
   "source": [
    "hangman(\"helicopter\", [\"o\", \"e\", \"s\"])"
   ]
  },
  {
   "cell_type": "code",
   "execution_count": 31,
   "id": "52586715",
   "metadata": {},
   "outputs": [
    {
     "data": {
      "text/plain": [
       "'tree'"
      ]
     },
     "execution_count": 31,
     "metadata": {},
     "output_type": "execute_result"
    }
   ],
   "source": [
    "hangman(\"tree\", [\"r\", \"t\", \"e\"])"
   ]
  },
  {
   "cell_type": "code",
   "execution_count": 32,
   "id": "b883456a",
   "metadata": {},
   "outputs": [
    {
     "data": {
      "text/plain": [
       "'P----n r----'"
      ]
     },
     "execution_count": 32,
     "metadata": {},
     "output_type": "execute_result"
    }
   ],
   "source": [
    "hangman(\"Python rules\", [\"a\", \"n\", \"p\", \"r\", \"z\"])"
   ]
  },
  {
   "cell_type": "code",
   "execution_count": 34,
   "id": "427005a3",
   "metadata": {},
   "outputs": [
    {
     "data": {
      "text/plain": [
       "'-e\"- a -e-y -a----y --y!'"
      ]
     },
     "execution_count": 34,
     "metadata": {},
     "output_type": "execute_result"
    }
   ],
   "source": [
    "hangman(\"He\\\"s a very naughty boy!\", [\"e\", \"a\", \"y\"])"
   ]
  },
  {
   "cell_type": "markdown",
   "id": "1e292db5",
   "metadata": {},
   "source": [
    "### 4. The Collatz sequence is as follows:\n",
    "####   - Start with some given integer n.\n",
    "####   - If it is even, the next number will be n divided by 2.\n",
    "####   - If it is odd, multiply it by 3 and add 1 to make the next number.\n",
    "####   - The sequence stops when it reaches 1.\n",
    "#### According to the Collatz conjecture, it will always reach 1. If that's true, you can construct a finite sequence following the aforementioned method for any given integer.\n",
    "#### Write a function that takes in an integer n and returns the highest integer in the corresponding Collatz sequence.\n",
    "\n",
    "#### Examples\n",
    "#### max_collatz(10) ➞ 16\n",
    "#### # Collatz sequence: 10, 5, 16, 8, 4, 2, 1\n",
    "\n",
    "#### max_collatz(32) ➞ 32\n",
    "#### # Collatz sequence: 32, 16, 8, 4, 2, 1\n",
    "\n",
    "#### ax_collatz(85) ➞ 256\n",
    "####  Collatz sequence: 85, 256, 128, 64, 32, 16, 8, 4, 2, 1"
   ]
  },
  {
   "cell_type": "code",
   "execution_count": 45,
   "id": "19ada52c",
   "metadata": {},
   "outputs": [],
   "source": [
    "def max_collatz(num):\n",
    "    lst = []\n",
    "    lst.append(num)\n",
    "    while True:\n",
    "        if num == 1:\n",
    "            break\n",
    "        if num % 2 == 0:\n",
    "            num = num // 2\n",
    "        else:\n",
    "            num = (num * 3) + 1\n",
    "        lst.append(num)\n",
    "    return max(lst)"
   ]
  },
  {
   "cell_type": "code",
   "execution_count": 46,
   "id": "2d78d600",
   "metadata": {},
   "outputs": [
    {
     "data": {
      "text/plain": [
       "16"
      ]
     },
     "execution_count": 46,
     "metadata": {},
     "output_type": "execute_result"
    }
   ],
   "source": [
    "max_collatz(10)"
   ]
  },
  {
   "cell_type": "code",
   "execution_count": 47,
   "id": "a2d7ea55",
   "metadata": {},
   "outputs": [
    {
     "data": {
      "text/plain": [
       "32"
      ]
     },
     "execution_count": 47,
     "metadata": {},
     "output_type": "execute_result"
    }
   ],
   "source": [
    "max_collatz(32)"
   ]
  },
  {
   "cell_type": "code",
   "execution_count": 48,
   "id": "a0276654",
   "metadata": {},
   "outputs": [
    {
     "data": {
      "text/plain": [
       "256"
      ]
     },
     "execution_count": 48,
     "metadata": {},
     "output_type": "execute_result"
    }
   ],
   "source": [
    "max_collatz(85)"
   ]
  },
  {
   "cell_type": "markdown",
   "id": "7dc87512",
   "metadata": {},
   "source": [
    "### 5. Write a function that sorts a list of integers by their digit length in descending order, then settles ties by sorting numbers with the same digit length in ascending order.\n",
    "\n",
    "#### Examples\n",
    "#### digit_sort([77, 23, 5, 7, 101])\n",
    "#### ➞ [101, 23, 77, 5, 7]\n",
    "\n",
    "#### digit_sort([1, 5, 9, 2, 789, 563, 444])\n",
    "#### ➞ [444, 563, 789, 1, 2, 5, 9]\n",
    "\n",
    "#### digit_sort([53219, 3772, 564, 32, 1])\n",
    "#### ➞ [53219, 3772, 564, 32, 1]"
   ]
  },
  {
   "cell_type": "code",
   "execution_count": 49,
   "id": "16cf652e",
   "metadata": {},
   "outputs": [],
   "source": [
    "def digit_sort(lst):\n",
    "    new_lst = []\n",
    "    for i in range(len(str(max(lst))),0,-1):\n",
    "        temp = []\n",
    "        for j in lst:\n",
    "            if len(str(j)) == i:\n",
    "                temp.append(j)\n",
    "        new_lst.extend(sorted(temp))\n",
    "    return new_lst"
   ]
  },
  {
   "cell_type": "code",
   "execution_count": 50,
   "id": "e1b6b180",
   "metadata": {},
   "outputs": [
    {
     "data": {
      "text/plain": [
       "[101, 23, 77, 5, 7]"
      ]
     },
     "execution_count": 50,
     "metadata": {},
     "output_type": "execute_result"
    }
   ],
   "source": [
    "digit_sort([77, 23, 5, 7, 101])"
   ]
  },
  {
   "cell_type": "code",
   "execution_count": 51,
   "id": "3d04620c",
   "metadata": {},
   "outputs": [
    {
     "data": {
      "text/plain": [
       "[444, 563, 789, 1, 2, 5, 9]"
      ]
     },
     "execution_count": 51,
     "metadata": {},
     "output_type": "execute_result"
    }
   ],
   "source": [
    "digit_sort([1, 5, 9, 2, 789, 563, 444])"
   ]
  },
  {
   "cell_type": "code",
   "execution_count": 52,
   "id": "e8cc8e79",
   "metadata": {},
   "outputs": [
    {
     "data": {
      "text/plain": [
       "[53219, 3772, 564, 32, 1]"
      ]
     },
     "execution_count": 52,
     "metadata": {},
     "output_type": "execute_result"
    }
   ],
   "source": [
    "digit_sort([53219, 3772, 564, 32, 1])"
   ]
  },
  {
   "cell_type": "code",
   "execution_count": null,
   "id": "6bed1a6e",
   "metadata": {},
   "outputs": [],
   "source": []
  }
 ],
 "metadata": {
  "kernelspec": {
   "display_name": "Python 3 (ipykernel)",
   "language": "python",
   "name": "python3"
  },
  "language_info": {
   "codemirror_mode": {
    "name": "ipython",
    "version": 3
   },
   "file_extension": ".py",
   "mimetype": "text/x-python",
   "name": "python",
   "nbconvert_exporter": "python",
   "pygments_lexer": "ipython3",
   "version": "3.9.7"
  }
 },
 "nbformat": 4,
 "nbformat_minor": 5
}
