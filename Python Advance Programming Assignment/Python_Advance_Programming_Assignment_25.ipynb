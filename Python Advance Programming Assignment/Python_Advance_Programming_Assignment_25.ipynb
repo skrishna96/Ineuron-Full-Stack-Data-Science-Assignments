{
 "cells": [
  {
   "cell_type": "markdown",
   "id": "2328247f",
   "metadata": {},
   "source": [
    "### 1. Write four functions that directly mutate a list:\n",
    "####     1. repeat(lst, n): Repeat lst n times.\n",
    "####     2. add(lst, x): Adds x to the end of the lst.\n",
    "####     3. remove(lst, m, n): Removes all elements between indices m and n inclusive in lst.\n",
    "####     4. concat(lst, x): concatenates lst with x (another list).\n",
    "#### Examples\n",
    "#### lst = [1, 2, 3, 4]\n",
    "#### repeat(lst, 3) ➞ [1, 2, 3, 4, 1, 2, 3, 4, 1, 2, 3, 4] \n",
    "#### add(lst, 1) ➞ [1, 2, 3, 4, 1, 2, 3, 4, 1, 2, 3, 4, 1]\n",
    "#### remove(lst, 1, 12) ➞ [1]\n",
    "#### concat(lst, [3, 4]) ➞ [1, 3, 4]"
   ]
  },
  {
   "cell_type": "code",
   "execution_count": 16,
   "id": "ecb61e31",
   "metadata": {},
   "outputs": [],
   "source": [
    "lst = [1, 2, 3, 4]\n",
    "def repeat(num):\n",
    "    global lst\n",
    "    lst = lst * num\n",
    "    return lst\n",
    "def add(num):\n",
    "    global lst\n",
    "    lst.append(num)\n",
    "    return lst\n",
    "def remove(start,end):\n",
    "    global lst\n",
    "    for i in lst[start:end+1]:\n",
    "        lst.remove(i)\n",
    "    return lst\n",
    "def concat(elements):\n",
    "    global lst\n",
    "    lst = lst + elements\n",
    "    return lst"
   ]
  },
  {
   "cell_type": "code",
   "execution_count": 17,
   "id": "5521cd2c",
   "metadata": {},
   "outputs": [
    {
     "data": {
      "text/plain": [
       "[1, 2, 3, 4, 1, 2, 3, 4, 1, 2, 3, 4]"
      ]
     },
     "execution_count": 17,
     "metadata": {},
     "output_type": "execute_result"
    }
   ],
   "source": [
    "repeat(3)"
   ]
  },
  {
   "cell_type": "code",
   "execution_count": 18,
   "id": "24a9643c",
   "metadata": {},
   "outputs": [
    {
     "data": {
      "text/plain": [
       "[1, 2, 3, 4, 1, 2, 3, 4, 1, 2, 3, 4, 1]"
      ]
     },
     "execution_count": 18,
     "metadata": {},
     "output_type": "execute_result"
    }
   ],
   "source": [
    "add(1)"
   ]
  },
  {
   "cell_type": "code",
   "execution_count": 19,
   "id": "b7d418fa",
   "metadata": {},
   "outputs": [
    {
     "data": {
      "text/plain": [
       "[1]"
      ]
     },
     "execution_count": 19,
     "metadata": {},
     "output_type": "execute_result"
    }
   ],
   "source": [
    "remove(1, 12)"
   ]
  },
  {
   "cell_type": "code",
   "execution_count": 20,
   "id": "5a78db93",
   "metadata": {},
   "outputs": [
    {
     "data": {
      "text/plain": [
       "[1, 3, 4]"
      ]
     },
     "execution_count": 20,
     "metadata": {},
     "output_type": "execute_result"
    }
   ],
   "source": [
    "concat([3, 4])"
   ]
  },
  {
   "cell_type": "markdown",
   "id": "81807723",
   "metadata": {},
   "source": [
    "### 2. The classic game of Mastermind is played on a tray on which the Mastermind conceals a code and the Guesser has 10 tries to guess it. The code is a sequence of 4 (or 6, sometimes more) pegs of different colors. Each guess is a corresponding sequence of 4 (or more) pegs of different colors. A guess is \"correct\" when the color of every peg in the guess exactly matches the corresponding peg in the Mastermind's code.\n",
    "#### After each guess by the Guesser, the Mastermind will give a score comprising black & white pegs, not arranged in any order:\n",
    "####    - Black peg == guess peg matches the color of a code peg in the same position.\n",
    "####    - White peg == guess peg matches the color of a code peg in another position.\n",
    "#### Create a function that takes two strings, code and guess as arguments, and returns the score in a dictionary.\n",
    "####    - The code and guess are strings of numeric digits\n",
    "####    - The color of the pegs are represented by numeric digits\n",
    "####    - no \"peg\" may be double-scored\n",
    "#### Examples\n",
    "#### guess_score(\"1423\", \"5678\") ➞ {\"black\": 0, \"white\": 0}\n",
    "#### guess_score(\"1423\", \"2222\") ➞ {\"black\": 1, \"white\": 0}\n",
    "#### guess_score(\"1423\", \"1234\") ➞ {\"black\": 1, \"white\": 3}\n",
    "#### guess_score(\"1423\", \"2211\") ➞ {\"black\": 0, \"white\": 2}"
   ]
  },
  {
   "cell_type": "code",
   "execution_count": 34,
   "id": "96c0ead6",
   "metadata": {},
   "outputs": [],
   "source": [
    "def guess_score(code_to_guess,guessed_code):\n",
    "    d = {\"black\": 0, \"white\": 0}\n",
    "    for i in range(len(code_to_guess)):\n",
    "        if code_to_guess[i] == guessed_code[i]:\n",
    "            d[\"black\"] += 1\n",
    "        elif code_to_guess[i] in guessed_code:\n",
    "            d[\"white\"] += 1\n",
    "    return d"
   ]
  },
  {
   "cell_type": "code",
   "execution_count": 35,
   "id": "ad6cf0aa",
   "metadata": {},
   "outputs": [
    {
     "data": {
      "text/plain": [
       "{'black': 0, 'white': 0}"
      ]
     },
     "execution_count": 35,
     "metadata": {},
     "output_type": "execute_result"
    }
   ],
   "source": [
    "guess_score(\"1423\", \"5678\")"
   ]
  },
  {
   "cell_type": "code",
   "execution_count": 36,
   "id": "2d91797a",
   "metadata": {},
   "outputs": [
    {
     "data": {
      "text/plain": [
       "{'black': 1, 'white': 0}"
      ]
     },
     "execution_count": 36,
     "metadata": {},
     "output_type": "execute_result"
    }
   ],
   "source": [
    "guess_score(\"1423\", \"2222\")"
   ]
  },
  {
   "cell_type": "code",
   "execution_count": 37,
   "id": "b3960724",
   "metadata": {},
   "outputs": [
    {
     "data": {
      "text/plain": [
       "{'black': 1, 'white': 3}"
      ]
     },
     "execution_count": 37,
     "metadata": {},
     "output_type": "execute_result"
    }
   ],
   "source": [
    "guess_score(\"1423\", \"1234\")"
   ]
  },
  {
   "cell_type": "code",
   "execution_count": 38,
   "id": "e9845ab2",
   "metadata": {},
   "outputs": [
    {
     "data": {
      "text/plain": [
       "{'black': 0, 'white': 2}"
      ]
     },
     "execution_count": 38,
     "metadata": {},
     "output_type": "execute_result"
    }
   ],
   "source": [
    "guess_score(\"1423\", \"2211\")"
   ]
  },
  {
   "cell_type": "markdown",
   "id": "4b82165a",
   "metadata": {},
   "source": [
    "### 3. Create a function that takes a list lst and a number N and returns a list of two integers from lst whose product equals N.\n",
    "#### Examples\n",
    "#### two_product([1, 2, -1, 4, 5], 20) ➞ [4, 5]\n",
    "#### two_product([1, 2, 3, 4, 5], 10) ➞ [2, 5]\n",
    "#### two_product([100, 12, 4, 1, 2], 15) ➞ None"
   ]
  },
  {
   "cell_type": "code",
   "execution_count": 51,
   "id": "21535aed",
   "metadata": {},
   "outputs": [],
   "source": [
    "def two_product(lst,product):\n",
    "    new_list = []\n",
    "    for i in range(len(lst)):\n",
    "        for j in range(len(lst)):\n",
    "            if lst[i] * lst[j] == product:\n",
    "                new_list.extend([lst[i],lst[j]])\n",
    "    if len(new_list) > 1:\n",
    "        return sorted(list(set(new_list)))\n",
    "    else:\n",
    "        print(None)"
   ]
  },
  {
   "cell_type": "code",
   "execution_count": 52,
   "id": "8f2bbc95",
   "metadata": {},
   "outputs": [
    {
     "data": {
      "text/plain": [
       "[4, 5]"
      ]
     },
     "execution_count": 52,
     "metadata": {},
     "output_type": "execute_result"
    }
   ],
   "source": [
    "two_product([1, 2, -1, 4, 5], 20)"
   ]
  },
  {
   "cell_type": "code",
   "execution_count": 53,
   "id": "29f7d379",
   "metadata": {},
   "outputs": [
    {
     "data": {
      "text/plain": [
       "[2, 5]"
      ]
     },
     "execution_count": 53,
     "metadata": {},
     "output_type": "execute_result"
    }
   ],
   "source": [
    "two_product([1, 2, 3, 4, 5], 10)"
   ]
  },
  {
   "cell_type": "code",
   "execution_count": 54,
   "id": "aae0edf0",
   "metadata": {},
   "outputs": [
    {
     "name": "stdout",
     "output_type": "stream",
     "text": [
      "None\n"
     ]
    }
   ],
   "source": [
    "two_product([100, 12, 4, 1, 2], 15)"
   ]
  },
  {
   "cell_type": "markdown",
   "id": "a360e367",
   "metadata": {},
   "source": [
    "### 4. In this challenge, sort a list containing a series of dates given as strings. Each date is given in the format DD-MM-YYYY_HH:MM:\n",
    "#### \"12-02-2012_13:44\"\n",
    "#### The priority of criteria used for sorting will be:\n",
    "####   - Year\n",
    "####   - Month\n",
    "####   - Day\n",
    "####   - Hours\n",
    "####   - Minutes\n",
    "#### Given a list lst and a string mode, implement a function that returns:\n",
    "####    - if mode is equal to \"ASC\", the list lst sorted in ascending order.\n",
    "####    - if mode is equal to \"DSC\", the list lst sorted in descending order.\n",
    "#### Examples\n",
    "#### sort_dates([\"10-02-2018_12:30\", \"10-02-2016_12:30\", \"10-02-2018_12:15\"], \"ASC\") ➞ [\"10-02-2016_12:30\", \"10-02-2018_12:15\", \"10-02-2018_12:30\"]\n",
    "#### sort_dates([\"10-02-2018_12:30\", \"10-02-2016_12:30\", \"10-02-2018_12:15\"], \"DSC\") ➞ [\"10-02-2018_12:30\", \"10-02-2018_12:15\", \"10-02-2016_12:30\"]\n",
    "#### sort_dates([\"09-02-2000_10:03\", \"10-02-2000_18:29\", \"01-01-1999_00:55\"], \"ASC\") ➞ [\"01-01-1999_00:55\", \"09-02-2000_10:03\", \"10-02-2000_18:29\"]"
   ]
  },
  {
   "cell_type": "code",
   "execution_count": 59,
   "id": "ef92b9a9",
   "metadata": {},
   "outputs": [],
   "source": [
    "import datetime\n",
    "def sort_dates(lst,sorttype):\n",
    "    new_lst = []\n",
    "    for i in lst:\n",
    "        new_lst.append(datetime.datetime.strptime(i,\"%d-%m-%Y_%H:%M\").timestamp())\n",
    "    if sorttype == \"ASC\":\n",
    "        new_lst_sorted = sorted(new_lst)\n",
    "    else:\n",
    "        new_lst_sorted = sorted(new_lst,reverse=True)\n",
    "    temp_list = []\n",
    "    for date in new_lst_sorted:\n",
    "        temp_list.append(datetime.datetime.fromtimestamp(date).strftime(\"%d-%m-%Y_%H:%M\"))\n",
    "    return temp_list"
   ]
  },
  {
   "cell_type": "code",
   "execution_count": 60,
   "id": "8c02b167",
   "metadata": {},
   "outputs": [
    {
     "data": {
      "text/plain": [
       "['10-02-2016_12:30', '10-02-2018_12:15', '10-02-2018_12:30']"
      ]
     },
     "execution_count": 60,
     "metadata": {},
     "output_type": "execute_result"
    }
   ],
   "source": [
    "sort_dates([\"10-02-2018_12:30\", \"10-02-2016_12:30\", \"10-02-2018_12:15\"], \"ASC\")"
   ]
  },
  {
   "cell_type": "code",
   "execution_count": 61,
   "id": "c4dad839",
   "metadata": {},
   "outputs": [
    {
     "data": {
      "text/plain": [
       "['10-02-2018_12:30', '10-02-2018_12:15', '10-02-2016_12:30']"
      ]
     },
     "execution_count": 61,
     "metadata": {},
     "output_type": "execute_result"
    }
   ],
   "source": [
    "sort_dates([\"10-02-2018_12:30\", \"10-02-2016_12:30\", \"10-02-2018_12:15\"], \"DSC\") "
   ]
  },
  {
   "cell_type": "code",
   "execution_count": 62,
   "id": "02772e79",
   "metadata": {},
   "outputs": [
    {
     "data": {
      "text/plain": [
       "['01-01-1999_00:55', '09-02-2000_10:03', '10-02-2000_18:29']"
      ]
     },
     "execution_count": 62,
     "metadata": {},
     "output_type": "execute_result"
    }
   ],
   "source": [
    "sort_dates([\"09-02-2000_10:03\", \"10-02-2000_18:29\", \"01-01-1999_00:55\"], \"ASC\")"
   ]
  },
  {
   "cell_type": "markdown",
   "id": "42e6f44b",
   "metadata": {},
   "source": [
    "### 5. Write a function that selects all words that have all the same vowels (in any order and/or number) as the first word, including the first word.\n",
    "#### Examples\n",
    "#### same_vowel_group([\"toe\", \"ocelot\", \"maniac\"]) ➞ [\"toe\", \"ocelot\"]\n",
    "#### same_vowel_group([\"many\", \"carriage\", \"emit\", \"apricot\", \"animal\"]) ➞ [\"many\"]\n",
    "#### same_vowel_group([\"hoops\", \"chuff\", \"bot\", \"bottom\"]) ➞ [\"hoops\", \"bot\", \"bottom\"]"
   ]
  },
  {
   "cell_type": "code",
   "execution_count": 71,
   "id": "64816487",
   "metadata": {},
   "outputs": [],
   "source": [
    "def same_vowel_group(lst):\n",
    "    vowels = 'aeiou'\n",
    "    vowels_in_first_word = []\n",
    "    temp_lst = []\n",
    "    temp_lst.append(lst[0])\n",
    "    for i in lst[0]:\n",
    "        if i in vowels:\n",
    "            vowels_in_first_word.append(i)\n",
    "    for i in lst[1:]:\n",
    "        vowels_in_word = []\n",
    "        for j in i:\n",
    "            if j in vowels_in_first_word:\n",
    "                vowels_in_word.append(j)\n",
    "        if sorted(list(set(vowels_in_first_word))) == sorted(list(set(vowels_in_word))):\n",
    "            temp_lst.append(i)\n",
    "    return temp_lst"
   ]
  },
  {
   "cell_type": "code",
   "execution_count": 72,
   "id": "e88f0c47",
   "metadata": {},
   "outputs": [
    {
     "data": {
      "text/plain": [
       "['toe', 'ocelot']"
      ]
     },
     "execution_count": 72,
     "metadata": {},
     "output_type": "execute_result"
    }
   ],
   "source": [
    "same_vowel_group([\"toe\", \"ocelot\", \"maniac\"])"
   ]
  },
  {
   "cell_type": "code",
   "execution_count": 73,
   "id": "34b792f0",
   "metadata": {},
   "outputs": [
    {
     "data": {
      "text/plain": [
       "['many', 'carriage', 'apricot', 'animal']"
      ]
     },
     "execution_count": 73,
     "metadata": {},
     "output_type": "execute_result"
    }
   ],
   "source": [
    "same_vowel_group([\"many\", \"carriage\", \"emit\", \"apricot\", \"animal\"])"
   ]
  },
  {
   "cell_type": "code",
   "execution_count": 74,
   "id": "d3e90dda",
   "metadata": {},
   "outputs": [
    {
     "data": {
      "text/plain": [
       "['hoops', 'bot', 'bottom']"
      ]
     },
     "execution_count": 74,
     "metadata": {},
     "output_type": "execute_result"
    }
   ],
   "source": [
    "same_vowel_group([\"hoops\", \"chuff\", \"bot\", \"bottom\"])"
   ]
  },
  {
   "cell_type": "markdown",
   "id": "4d683201",
   "metadata": {},
   "source": [
    "### 6. Create a function that takes a list of more than three numbers and returns the Least Common Multiple (LCM).\n",
    "#### Examples\n",
    "#### lcm_of_list([1, 2, 3, 4, 5, 6, 7, 8, 9, 10]) ➞ 2520\n",
    "#### lcm_of_list([13, 6, 17, 18, 19, 20, 37]) ➞ 27965340\n",
    "#### lcm_of_list([44, 64, 12, 17, 65]) ➞ 2333760"
   ]
  },
  {
   "cell_type": "code",
   "execution_count": 79,
   "id": "6bc66259",
   "metadata": {},
   "outputs": [],
   "source": [
    "import math\n",
    "def lcm_of_list(lst):\n",
    "    lcm = lst[0]\n",
    "    for i in range(1,len(lst)):\n",
    "        lcm = lcm*lst[i]//math.gcd(lcm, lst[i])\n",
    "    return lcm"
   ]
  },
  {
   "cell_type": "code",
   "execution_count": 80,
   "id": "145b7480",
   "metadata": {},
   "outputs": [
    {
     "data": {
      "text/plain": [
       "2520"
      ]
     },
     "execution_count": 80,
     "metadata": {},
     "output_type": "execute_result"
    }
   ],
   "source": [
    "lcm_of_list([1, 2, 3, 4, 5, 6, 7, 8, 9, 10])"
   ]
  },
  {
   "cell_type": "code",
   "execution_count": 81,
   "id": "700a8e72",
   "metadata": {},
   "outputs": [
    {
     "data": {
      "text/plain": [
       "27965340"
      ]
     },
     "execution_count": 81,
     "metadata": {},
     "output_type": "execute_result"
    }
   ],
   "source": [
    "lcm_of_list([13, 6, 17, 18, 19, 20, 37])"
   ]
  },
  {
   "cell_type": "code",
   "execution_count": 82,
   "id": "5bfbc552",
   "metadata": {},
   "outputs": [
    {
     "data": {
      "text/plain": [
       "2333760"
      ]
     },
     "execution_count": 82,
     "metadata": {},
     "output_type": "execute_result"
    }
   ],
   "source": [
    "lcm_of_list([44, 64, 12, 17, 65])"
   ]
  },
  {
   "cell_type": "code",
   "execution_count": null,
   "id": "015f92ff",
   "metadata": {},
   "outputs": [],
   "source": []
  }
 ],
 "metadata": {
  "kernelspec": {
   "display_name": "Python 3 (ipykernel)",
   "language": "python",
   "name": "python3"
  },
  "language_info": {
   "codemirror_mode": {
    "name": "ipython",
    "version": 3
   },
   "file_extension": ".py",
   "mimetype": "text/x-python",
   "name": "python",
   "nbconvert_exporter": "python",
   "pygments_lexer": "ipython3",
   "version": "3.10.0"
  }
 },
 "nbformat": 4,
 "nbformat_minor": 5
}
