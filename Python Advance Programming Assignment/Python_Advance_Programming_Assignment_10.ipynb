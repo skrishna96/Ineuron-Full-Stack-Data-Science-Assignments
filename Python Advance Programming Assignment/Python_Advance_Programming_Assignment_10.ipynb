{
 "cells": [
  {
   "cell_type": "markdown",
   "id": "7a5dc408",
   "metadata": {},
   "source": [
    "### 1. Create a function that takes the width, height and character and returns a picture frame as a 2D list.\n",
    "\n",
    "#### Examples\n",
    "get_frame(4, 5, \"#\") ➞ [\n",
    "  [\"####\"],\n",
    "  [\"#  #\"],\n",
    "  [\"#  #\"],\n",
    "  [\"#  #\"],\n",
    "  [\"####\"]\n",
    "]\n",
    "#### # Frame is 4 characters wide and 5 characters tall.\n",
    "\n",
    "get_frame(10, 3, \"*\") ➞ [\n",
    "  [\"**********\"],\n",
    "  [\"*        *\"],\n",
    "  [\"**********\"]\n",
    "]\n",
    "#### # Frame is 10 characters and wide and 3 characters tall.\n",
    "\n",
    "get_frame(2, 5, \"0\") ➞ \"invalid\"\n",
    "#### # Frame's width is not more than 2."
   ]
  },
  {
   "cell_type": "code",
   "execution_count": 16,
   "id": "e0259109",
   "metadata": {},
   "outputs": [],
   "source": [
    "def get_frame(width,height,character):\n",
    "    framelst = []\n",
    "    if width <= 2:\n",
    "        return \"invalid\"\n",
    "    else:\n",
    "        framelst.append([character * width])\n",
    "        for i in range(height-2):\n",
    "            framelst.append([character + ' '*(width-2)+character])\n",
    "        framelst.append([character * width])\n",
    "    for lst in framelst:\n",
    "        print(lst)"
   ]
  },
  {
   "cell_type": "code",
   "execution_count": 17,
   "id": "fc0ae452",
   "metadata": {},
   "outputs": [
    {
     "name": "stdout",
     "output_type": "stream",
     "text": [
      "['####']\n",
      "['#  #']\n",
      "['#  #']\n",
      "['#  #']\n",
      "['####']\n"
     ]
    }
   ],
   "source": [
    "get_frame(4, 5, \"#\")"
   ]
  },
  {
   "cell_type": "code",
   "execution_count": 18,
   "id": "9ca44a77",
   "metadata": {},
   "outputs": [
    {
     "name": "stdout",
     "output_type": "stream",
     "text": [
      "['**********']\n",
      "['*        *']\n",
      "['**********']\n"
     ]
    }
   ],
   "source": [
    "get_frame(10, 3, \"*\")"
   ]
  },
  {
   "cell_type": "code",
   "execution_count": 19,
   "id": "cc0892c4",
   "metadata": {},
   "outputs": [
    {
     "data": {
      "text/plain": [
       "'invalid'"
      ]
     },
     "execution_count": 19,
     "metadata": {},
     "output_type": "execute_result"
    }
   ],
   "source": [
    "get_frame(2, 5, \"0\")"
   ]
  },
  {
   "cell_type": "markdown",
   "id": "d8968674",
   "metadata": {},
   "source": [
    "### 2. Write three functions:\n",
    "####  1. boolean_and\n",
    "####  2. boolean_or\n",
    "####  3. boolean_xor\n",
    "#### These functions should evaluate a list of True and False values, starting from the leftmost element and evaluating pairwise.\n",
    "\n",
    "#### Examples\n",
    "#### boolean_and([True, True, False, True]) ➞ False\n",
    "#### # [True, True, False, True] => [True, False, True] => [False, True] => False\n",
    "#### boolean_or([True, True, False, False]) ➞ True\n",
    "#### # [True, True, False, True] => [True, False, False] => [True, False] => True\n",
    "#### boolean_xor([True, True, False, False]) ➞ False\n",
    "#### # [True, True, False, False] => [False, False, False] => [False, False] => False"
   ]
  },
  {
   "cell_type": "code",
   "execution_count": 30,
   "id": "e2568baa",
   "metadata": {},
   "outputs": [],
   "source": [
    "def boolean_and(lst):\n",
    "    output = lst[0] and lst[1]\n",
    "    for i in range(2,len(lst)-1):\n",
    "        output = output and lst[i]\n",
    "    return output\n",
    "def boolean_or(lst):\n",
    "    output = lst[0] or lst[1]\n",
    "    for i in range(2,len(lst)-1):\n",
    "        output = output or lst[i]\n",
    "    return output\n",
    "def boolean_xor(lst):\n",
    "    output = lst[0] ^ lst[1]\n",
    "    for i in range(2,len(lst)-1):\n",
    "        output = output ^ lst[i]\n",
    "    return output"
   ]
  },
  {
   "cell_type": "code",
   "execution_count": 31,
   "id": "01f65438",
   "metadata": {},
   "outputs": [
    {
     "data": {
      "text/plain": [
       "False"
      ]
     },
     "execution_count": 31,
     "metadata": {},
     "output_type": "execute_result"
    }
   ],
   "source": [
    "boolean_and([True, True, False, True]) "
   ]
  },
  {
   "cell_type": "code",
   "execution_count": 32,
   "id": "8f58461d",
   "metadata": {},
   "outputs": [
    {
     "data": {
      "text/plain": [
       "True"
      ]
     },
     "execution_count": 32,
     "metadata": {},
     "output_type": "execute_result"
    }
   ],
   "source": [
    "boolean_or([True, True, False, False])"
   ]
  },
  {
   "cell_type": "code",
   "execution_count": 33,
   "id": "23b2a8d6",
   "metadata": {},
   "outputs": [
    {
     "data": {
      "text/plain": [
       "False"
      ]
     },
     "execution_count": 33,
     "metadata": {},
     "output_type": "execute_result"
    }
   ],
   "source": [
    "boolean_xor([True, True, False, False])"
   ]
  },
  {
   "cell_type": "markdown",
   "id": "d91d8bed",
   "metadata": {},
   "source": [
    "### 3. Create a function that creates a box based on dimension n.\n",
    "\n",
    "#### Examples\n",
    " make_box(5) ➞ [\n",
    "  \"#####\",\n",
    "  \"#   #\",\n",
    "  \"#   #\",\n",
    "  \"#   #\",\n",
    "  \"#####\"\n",
    " ]\n",
    "\n",
    " make_box(3) ➞ [\n",
    "   \"###\",\n",
    "   \"# #\",\n",
    "   \"###\"\n",
    " ]\n",
    "\n",
    " make_box(2) ➞ [\n",
    "   \"##\",\n",
    "   \"##\"\n",
    " ]\n",
    "\n",
    "make_box(1) ➞ [\n",
    " \"#\"\n",
    "]"
   ]
  },
  {
   "cell_type": "code",
   "execution_count": 38,
   "id": "119781cc",
   "metadata": {},
   "outputs": [],
   "source": [
    "def make_box(num):\n",
    "    lst = []\n",
    "    for i in range(num):\n",
    "        if i == 0 or i == num -1:\n",
    "            lst.append(\"#\"*num)\n",
    "        else:\n",
    "            lst.append(\"#\"+' '*(num-2)+\"#\")\n",
    "    for j in lst:\n",
    "        print(j)"
   ]
  },
  {
   "cell_type": "code",
   "execution_count": 39,
   "id": "45bababa",
   "metadata": {},
   "outputs": [
    {
     "name": "stdout",
     "output_type": "stream",
     "text": [
      "#####\n",
      "#   #\n",
      "#   #\n",
      "#   #\n",
      "#####\n"
     ]
    }
   ],
   "source": [
    "make_box(5)"
   ]
  },
  {
   "cell_type": "code",
   "execution_count": 40,
   "id": "33c354c8",
   "metadata": {},
   "outputs": [
    {
     "name": "stdout",
     "output_type": "stream",
     "text": [
      "###\n",
      "# #\n",
      "###\n"
     ]
    }
   ],
   "source": [
    "make_box(3)"
   ]
  },
  {
   "cell_type": "code",
   "execution_count": 41,
   "id": "4c51b5ff",
   "metadata": {},
   "outputs": [
    {
     "name": "stdout",
     "output_type": "stream",
     "text": [
      "##\n",
      "##\n"
     ]
    }
   ],
   "source": [
    "make_box(2)"
   ]
  },
  {
   "cell_type": "code",
   "execution_count": 42,
   "id": "47577c65",
   "metadata": {},
   "outputs": [
    {
     "name": "stdout",
     "output_type": "stream",
     "text": [
      "#\n"
     ]
    }
   ],
   "source": [
    "make_box(1)"
   ]
  },
  {
   "cell_type": "markdown",
   "id": "cee456d1",
   "metadata": {},
   "source": [
    "### 4. Given a common phrase, return False if any individual word in the phrase contains duplicate letters. Return True otherwise.\n",
    "\n",
    "#### Examples\n",
    "#### no_duplicate_letters(\"Fortune favours the bold.\") ➞ True\n",
    "#### no_duplicate_letters(\"You can lead a horse to water, but you can't make him drink.\") ➞ True\n",
    "#### no_duplicate_letters(\"Look before you leap.\") ➞ False\n",
    "#### # Duplicate letters in \"Look\" and \"before\".\n",
    "#### no_duplicate_letters(\"An apple a day keeps the doctor away.\") ➞ False\n",
    "#### # Duplicate letters in \"apple\", \"keeps\", \"doctor\", and \"away\"."
   ]
  },
  {
   "cell_type": "code",
   "execution_count": 49,
   "id": "70777106",
   "metadata": {},
   "outputs": [],
   "source": [
    "def no_duplicate_letters(phrase):\n",
    "    lst = phrase.split(\" \")\n",
    "    for word in lst:\n",
    "        for letter in word:\n",
    "            if word.count(letter)>1:\n",
    "                return False\n",
    "    return True"
   ]
  },
  {
   "cell_type": "code",
   "execution_count": 50,
   "id": "072b449c",
   "metadata": {},
   "outputs": [
    {
     "data": {
      "text/plain": [
       "True"
      ]
     },
     "execution_count": 50,
     "metadata": {},
     "output_type": "execute_result"
    }
   ],
   "source": [
    "no_duplicate_letters(\"Fortune favours the bold.\")"
   ]
  },
  {
   "cell_type": "code",
   "execution_count": 51,
   "id": "45e2fca0",
   "metadata": {},
   "outputs": [
    {
     "data": {
      "text/plain": [
       "True"
      ]
     },
     "execution_count": 51,
     "metadata": {},
     "output_type": "execute_result"
    }
   ],
   "source": [
    "no_duplicate_letters(\"You can lead a horse to water, but you can't make him drink.\")"
   ]
  },
  {
   "cell_type": "code",
   "execution_count": 52,
   "id": "5d4b1c29",
   "metadata": {},
   "outputs": [
    {
     "data": {
      "text/plain": [
       "False"
      ]
     },
     "execution_count": 52,
     "metadata": {},
     "output_type": "execute_result"
    }
   ],
   "source": [
    "no_duplicate_letters(\"Look before you leap.\")"
   ]
  },
  {
   "cell_type": "code",
   "execution_count": 53,
   "id": "ef71ea8d",
   "metadata": {},
   "outputs": [
    {
     "data": {
      "text/plain": [
       "False"
      ]
     },
     "execution_count": 53,
     "metadata": {},
     "output_type": "execute_result"
    }
   ],
   "source": [
    "no_duplicate_letters(\"An apple a day keeps the doctor away.\")"
   ]
  },
  {
   "cell_type": "markdown",
   "id": "d76f9edf",
   "metadata": {},
   "source": [
    "### 5. Write a regular expression that will match the states that voted yes to President Trump's impeachment. You must use RegEx positive lookahead.\n",
    "\n",
    "#### Example\n",
    "#### txt = \"Texas = no, California = yes, Florida = yes, Michigan = no\"\n",
    "#### pattern = \"yourregularexpressionhere\"\n",
    "#### re.findall(pattern, txt) ➞ [\"California\", \"Florida\"]"
   ]
  },
  {
   "cell_type": "code",
   "execution_count": 56,
   "id": "d10ce873",
   "metadata": {},
   "outputs": [
    {
     "data": {
      "text/plain": [
       "['California', 'Florida']"
      ]
     },
     "execution_count": 56,
     "metadata": {},
     "output_type": "execute_result"
    }
   ],
   "source": [
    "import re\n",
    "txt = \"Texas = no, California = yes, Florida = yes, Michigan = no\"\n",
    "pattern = r'\\w+(?=\\s=\\syes*)'\n",
    "re.findall(pattern, txt)"
   ]
  },
  {
   "cell_type": "code",
   "execution_count": null,
   "id": "fc4ce994",
   "metadata": {},
   "outputs": [],
   "source": []
  }
 ],
 "metadata": {
  "kernelspec": {
   "display_name": "Python 3 (ipykernel)",
   "language": "python",
   "name": "python3"
  },
  "language_info": {
   "codemirror_mode": {
    "name": "ipython",
    "version": 3
   },
   "file_extension": ".py",
   "mimetype": "text/x-python",
   "name": "python",
   "nbconvert_exporter": "python",
   "pygments_lexer": "ipython3",
   "version": "3.9.7"
  }
 },
 "nbformat": 4,
 "nbformat_minor": 5
}
