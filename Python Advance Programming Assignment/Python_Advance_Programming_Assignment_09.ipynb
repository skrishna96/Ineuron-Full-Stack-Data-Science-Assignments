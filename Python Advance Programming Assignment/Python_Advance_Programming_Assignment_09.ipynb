{
 "cells": [
  {
   "cell_type": "markdown",
   "id": "841ada2d",
   "metadata": {},
   "source": [
    "### 1. YouTube offers different playback speed options for users. This allows users to increase or decrease the speed of the video content. Given the actual duration and playback speed of the video, calculate the playback duration of the video.\n",
    "\n",
    "#### Examples\n",
    "#### playback_duration(\"00:30:00\", 2) ➞ \"00:15:00\"\n",
    "#### playback_duration(\"01:20:00\", 1.5) ➞ \"00:53:20\"\n",
    "#### playback_duration(\"51:20:09\", 0.5) ➞ \"102:40:18\""
   ]
  },
  {
   "cell_type": "code",
   "execution_count": 38,
   "id": "b11561a4",
   "metadata": {},
   "outputs": [],
   "source": [
    "def playback_duration(time,playbackspeed):\n",
    "    hours,minutes,seconds = str(time).split(\":\")\n",
    "    total_seconds = ((int(hours) * 3600) + int(minutes) * 60 + int(seconds)) / playbackspeed\n",
    "    total_hours_after_speed = \"{:02d}\".format(int(total_seconds / 3600))\n",
    "    total_minutes_after_speed = \"{:02d}\".format(int((total_seconds % 3600)/60))\n",
    "    total_seconds_after_speed = \"{:02d}\".format(int((total_seconds % 3600)%60))\n",
    "    return f\"{total_hours_after_speed}:{total_minutes_after_speed}:{total_seconds_after_speed}\""
   ]
  },
  {
   "cell_type": "code",
   "execution_count": 39,
   "id": "628547f7",
   "metadata": {},
   "outputs": [
    {
     "data": {
      "text/plain": [
       "'00:15:00'"
      ]
     },
     "execution_count": 39,
     "metadata": {},
     "output_type": "execute_result"
    }
   ],
   "source": [
    "playback_duration(\"00:30:00\", 2)"
   ]
  },
  {
   "cell_type": "code",
   "execution_count": 40,
   "id": "45a11bb7",
   "metadata": {},
   "outputs": [
    {
     "data": {
      "text/plain": [
       "'00:53:20'"
      ]
     },
     "execution_count": 40,
     "metadata": {},
     "output_type": "execute_result"
    }
   ],
   "source": [
    "playback_duration(\"01:20:00\", 1.5)"
   ]
  },
  {
   "cell_type": "code",
   "execution_count": 41,
   "id": "2af5fd43",
   "metadata": {},
   "outputs": [
    {
     "data": {
      "text/plain": [
       "'102:40:18'"
      ]
     },
     "execution_count": 41,
     "metadata": {},
     "output_type": "execute_result"
    }
   ],
   "source": [
    "playback_duration(\"51:20:09\", 0.5)"
   ]
  },
  {
   "cell_type": "markdown",
   "id": "af03e5ae",
   "metadata": {},
   "source": [
    "### 2. We needs your help to construct a building which will be a pile of n cubes. The cube at the bottom will have a volume of n^3, the cube above will have volume of (n-1)^3 and so on until the top which will have a volume of 1^3.\n",
    "\n",
    "#### Given the total volume m of the building, can you find the number of cubes n required for the building?\n",
    "#### In other words, you have to return an integer n such that:\n",
    "#### n^3 + (n-1)^3 + ... + 1^3 == m\n",
    "#### Return None if there is no such number.\n",
    "\n",
    "#### Examples\n",
    "#### pile_of_cubes(1071225) ➞ 45\n",
    "#### pile_of_cubes(4183059834009) ➞ 2022\n",
    "#### pile_of_cubes(16) ➞ None"
   ]
  },
  {
   "cell_type": "code",
   "execution_count": 52,
   "id": "dc102abc",
   "metadata": {},
   "outputs": [],
   "source": [
    "def pile_of_cubes(num):\n",
    "    count = 0\n",
    "    boolean = None\n",
    "    for i in range(num):\n",
    "        count += pow(i,3)\n",
    "        if count == num:\n",
    "            return i\n",
    "    print(boolean)"
   ]
  },
  {
   "cell_type": "code",
   "execution_count": 53,
   "id": "49088611",
   "metadata": {},
   "outputs": [
    {
     "data": {
      "text/plain": [
       "45"
      ]
     },
     "execution_count": 53,
     "metadata": {},
     "output_type": "execute_result"
    }
   ],
   "source": [
    "pile_of_cubes(1071225)"
   ]
  },
  {
   "cell_type": "code",
   "execution_count": 54,
   "id": "5ddb4ecf",
   "metadata": {},
   "outputs": [
    {
     "data": {
      "text/plain": [
       "2022"
      ]
     },
     "execution_count": 54,
     "metadata": {},
     "output_type": "execute_result"
    }
   ],
   "source": [
    "pile_of_cubes(4183059834009)"
   ]
  },
  {
   "cell_type": "code",
   "execution_count": 55,
   "id": "b0e7a92b",
   "metadata": {},
   "outputs": [
    {
     "name": "stdout",
     "output_type": "stream",
     "text": [
      "None\n"
     ]
    }
   ],
   "source": [
    "pile_of_cubes(16)"
   ]
  },
  {
   "cell_type": "markdown",
   "id": "05314f33",
   "metadata": {},
   "source": [
    "### 3. A fulcrum of a list is an integer such that all elements to the left of it and all elements to the right of it sum to the same value. Write a function that finds the fulcrum of a list.\n",
    "\n",
    "#### To illustrate:\n",
    "#### find_fulcrum([3, 1, 5, 2, 4, 6, -1]) ➞ 2\n",
    "#### // Since [3, 1, 5] and [4, 6, -1] both sum to 9\n",
    "\n",
    "#### Examples\n",
    "#### find_fulcrum([1, 2, 4, 9, 10, -10, -9, 3]) ➞ 4\n",
    "#### find_fulcrum([9, 1, 9]) ➞ 1\n",
    "#### find_fulcrum([7, -1, 0, -1, 1, 1, 2, 3]) ➞ 0\n",
    "#### find_fulcrum([8, 8, 8, 8]) ➞ -1"
   ]
  },
  {
   "cell_type": "code",
   "execution_count": 63,
   "id": "654e5346",
   "metadata": {},
   "outputs": [],
   "source": [
    "def find_fulcrum(lst):\n",
    "    for i in range(len(lst)-1):\n",
    "        if sum(lst[:i]) == sum(lst[i+1:]):\n",
    "            return lst[i]\n",
    "    return -1"
   ]
  },
  {
   "cell_type": "code",
   "execution_count": 64,
   "id": "b5a947a5",
   "metadata": {},
   "outputs": [
    {
     "data": {
      "text/plain": [
       "2"
      ]
     },
     "execution_count": 64,
     "metadata": {},
     "output_type": "execute_result"
    }
   ],
   "source": [
    "find_fulcrum([3, 1, 5, 2, 4, 6, -1])"
   ]
  },
  {
   "cell_type": "code",
   "execution_count": 65,
   "id": "9a66bd43",
   "metadata": {},
   "outputs": [
    {
     "data": {
      "text/plain": [
       "4"
      ]
     },
     "execution_count": 65,
     "metadata": {},
     "output_type": "execute_result"
    }
   ],
   "source": [
    "find_fulcrum([1, 2, 4, 9, 10, -10, -9, 3])"
   ]
  },
  {
   "cell_type": "code",
   "execution_count": 66,
   "id": "a47849a9",
   "metadata": {},
   "outputs": [
    {
     "data": {
      "text/plain": [
       "1"
      ]
     },
     "execution_count": 66,
     "metadata": {},
     "output_type": "execute_result"
    }
   ],
   "source": [
    "find_fulcrum([9, 1, 9])"
   ]
  },
  {
   "cell_type": "code",
   "execution_count": 67,
   "id": "4eb51c1f",
   "metadata": {},
   "outputs": [
    {
     "data": {
      "text/plain": [
       "0"
      ]
     },
     "execution_count": 67,
     "metadata": {},
     "output_type": "execute_result"
    }
   ],
   "source": [
    "find_fulcrum([7, -1, 0, -1, 1, 1, 2, 3])"
   ]
  },
  {
   "cell_type": "code",
   "execution_count": 68,
   "id": "a6e0a94d",
   "metadata": {},
   "outputs": [
    {
     "data": {
      "text/plain": [
       "-1"
      ]
     },
     "execution_count": 68,
     "metadata": {},
     "output_type": "execute_result"
    }
   ],
   "source": [
    "find_fulcrum([8, 8, 8, 8])"
   ]
  },
  {
   "cell_type": "markdown",
   "id": "09903b39",
   "metadata": {},
   "source": [
    "### 4. Given a list of integers representing the color of each sock, determine how many pairs of socks with matching colors there are. For example, there are 7 socks with colors [1, 2, 1, 2, 1, 3, 2]. There is one pair of color 1 and one of color 2. There are three odd socks left, one of each color. The number of pairs is 2.\n",
    "\n",
    "#### Create a function that returns an integer representing the number of matching pairs of socks that are available.\n",
    "\n",
    "#### Examples\n",
    "#### sock_merchant([10, 20, 20, 10, 10, 30, 50, 10, 20]) ➞ 3\n",
    "#### sock_merchant([50, 20, 30, 90, 30, 20, 50, 20, 90]) ➞ 4\n",
    "#### sock_merchant([]) ➞ 0"
   ]
  },
  {
   "cell_type": "code",
   "execution_count": 84,
   "id": "46c76b40",
   "metadata": {},
   "outputs": [],
   "source": [
    "def sock_merchant(lst):\n",
    "    d = {}\n",
    "    for i in lst:\n",
    "        if i not in d.keys():\n",
    "            d[i] = 1\n",
    "        else:\n",
    "            d[i] += 1\n",
    "    return sum([i//2 for i in d.values()])"
   ]
  },
  {
   "cell_type": "code",
   "execution_count": 85,
   "id": "038348b3",
   "metadata": {},
   "outputs": [
    {
     "data": {
      "text/plain": [
       "3"
      ]
     },
     "execution_count": 85,
     "metadata": {},
     "output_type": "execute_result"
    }
   ],
   "source": [
    "sock_merchant([10, 20, 20, 10, 10, 30, 50, 10, 20])"
   ]
  },
  {
   "cell_type": "code",
   "execution_count": 86,
   "id": "a8c56e93",
   "metadata": {},
   "outputs": [
    {
     "data": {
      "text/plain": [
       "4"
      ]
     },
     "execution_count": 86,
     "metadata": {},
     "output_type": "execute_result"
    }
   ],
   "source": [
    "sock_merchant([50, 20, 30, 90, 30, 20, 50, 20, 90])"
   ]
  },
  {
   "cell_type": "code",
   "execution_count": 87,
   "id": "f5c4b81d",
   "metadata": {},
   "outputs": [
    {
     "data": {
      "text/plain": [
       "0"
      ]
     },
     "execution_count": 87,
     "metadata": {},
     "output_type": "execute_result"
    }
   ],
   "source": [
    "sock_merchant([])"
   ]
  },
  {
   "cell_type": "markdown",
   "id": "626110cb",
   "metadata": {},
   "source": [
    "### 5. Create a function that takes a string containing integers as well as other characters and return the sum of the negative integers only.\n",
    "\n",
    "#### Examples\n",
    "#### negative_sum(\"-12 13%14&-11\") ➞ -23\n",
    "#### # -12 + -11 = -23\n",
    "\n",
    "#### negative_sum(\"22 13%14&-11-22 13 12\") ➞ -33\n",
    "#### # -11 + -22 = -33"
   ]
  },
  {
   "cell_type": "code",
   "execution_count": 94,
   "id": "6d4a1c3a",
   "metadata": {},
   "outputs": [],
   "source": [
    "import re\n",
    "def negative_sum(intstring):\n",
    "    pattern = '-\\d+'\n",
    "    return sum([int(i) for i in re.findall(pattern,intstring)])"
   ]
  },
  {
   "cell_type": "code",
   "execution_count": 95,
   "id": "089e4326",
   "metadata": {},
   "outputs": [
    {
     "data": {
      "text/plain": [
       "-23"
      ]
     },
     "execution_count": 95,
     "metadata": {},
     "output_type": "execute_result"
    }
   ],
   "source": [
    "negative_sum(\"-12 13%14&-11\")"
   ]
  },
  {
   "cell_type": "code",
   "execution_count": 96,
   "id": "71898ed5",
   "metadata": {},
   "outputs": [
    {
     "data": {
      "text/plain": [
       "-33"
      ]
     },
     "execution_count": 96,
     "metadata": {},
     "output_type": "execute_result"
    }
   ],
   "source": [
    "negative_sum(\"22 13%14&-11-22 13 12\")"
   ]
  },
  {
   "cell_type": "code",
   "execution_count": null,
   "id": "bb4b96be",
   "metadata": {},
   "outputs": [],
   "source": []
  }
 ],
 "metadata": {
  "kernelspec": {
   "display_name": "Python 3 (ipykernel)",
   "language": "python",
   "name": "python3"
  },
  "language_info": {
   "codemirror_mode": {
    "name": "ipython",
    "version": 3
   },
   "file_extension": ".py",
   "mimetype": "text/x-python",
   "name": "python",
   "nbconvert_exporter": "python",
   "pygments_lexer": "ipython3",
   "version": "3.9.7"
  }
 },
 "nbformat": 4,
 "nbformat_minor": 5
}
