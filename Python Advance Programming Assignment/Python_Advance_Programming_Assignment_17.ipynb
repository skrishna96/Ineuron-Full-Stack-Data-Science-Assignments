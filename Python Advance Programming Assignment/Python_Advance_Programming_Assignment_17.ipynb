{
 "cells": [
  {
   "cell_type": "markdown",
   "id": "66f6b26f",
   "metadata": {},
   "source": [
    "### 1. Create a function that transposes a 2D matrix.\n",
    "\n",
    "#### Examples\n",
    "#### transpose_matrix([\n",
    "####   [1, 1, 1],\n",
    "####   [2, 2, 2],\n",
    "####   [3, 3, 3]\n",
    "#### ]) ➞ [\n",
    "####   [1, 2, 3],\n",
    "####   [1, 2, 3],\n",
    "####   [1, 2, 3]\n",
    "#### ]\n",
    "#### \n",
    "#### transpose_matrix([\n",
    "####   [5, 5],\n",
    "####   [6, 7],\n",
    "####   [9, 1]\n",
    "#### ]) ➞ [\n",
    "####   [5, 6, 9],\n",
    "####   [5, 7, 1]\n",
    "#### ]"
   ]
  },
  {
   "cell_type": "code",
   "execution_count": 3,
   "id": "9ce77a51",
   "metadata": {},
   "outputs": [],
   "source": [
    "def transpose_matrix(lst):\n",
    "    new_lst = []\n",
    "    for i in range(len(lst[0])):\n",
    "        temp_lst = []\n",
    "        for j in range(len(lst)):\n",
    "            temp_lst.append(lst[j][i])\n",
    "        new_lst.append(temp_lst)\n",
    "    return new_lst"
   ]
  },
  {
   "cell_type": "code",
   "execution_count": 5,
   "id": "8bdc21b9",
   "metadata": {},
   "outputs": [
    {
     "data": {
      "text/plain": [
       "[[1, 2, 3], [1, 2, 3], [1, 2, 3]]"
      ]
     },
     "execution_count": 5,
     "metadata": {},
     "output_type": "execute_result"
    }
   ],
   "source": [
    "transpose_matrix([\n",
    "  [1, 1, 1],\n",
    "  [2, 2, 2],\n",
    "  [3, 3, 3]\n",
    "])"
   ]
  },
  {
   "cell_type": "code",
   "execution_count": 6,
   "id": "9932303e",
   "metadata": {},
   "outputs": [
    {
     "data": {
      "text/plain": [
       "[[5, 6, 9], [5, 7, 1]]"
      ]
     },
     "execution_count": 6,
     "metadata": {},
     "output_type": "execute_result"
    }
   ],
   "source": [
    "transpose_matrix([\n",
    "  [5, 5],\n",
    "  [6, 7],\n",
    "  [9, 1]\n",
    "])"
   ]
  },
  {
   "cell_type": "markdown",
   "id": "fc806027",
   "metadata": {},
   "source": [
    "### 2. Create a function that determines whether a string is a valid hex code.\n",
    "\n",
    "#### A hex code must begin with a pound key # and is exactly 6 characters in length. Each character must be a digit from 0-9 or an alphabetic character from A-F. All alphabetic characters may be uppercase or lowercase.\n",
    "#### Examples\n",
    "#### is_valid_hex_code(\"#CD5C5C\") ➞ True\n",
    " \n",
    "#### is_valid_hex_code(\"#EAECEE\") ➞ True\n",
    "\n",
    "#### is_valid_hex_code(\"#eaecee\") ➞ True\n",
    "\n",
    "#### is_valid_hex_code(\"#CD5C58C\") ➞ False\n",
    "#### # Length exceeds 6\n",
    "\n",
    "#### is_valid_hex_code(\"#CD5C5Z\") ➞ False\n",
    "#### # Not all alphabetic characters in A-F\n",
    "\n",
    "#### is_valid_hex_code(\"#CD5C&C\") ➞ False\n",
    "#### # Contains unacceptable character\n",
    " \n",
    "#### is_valid_hex_code(\"CD5C5C\") ➞ False\n",
    "#### # Missing #"
   ]
  },
  {
   "cell_type": "code",
   "execution_count": 7,
   "id": "0affede0",
   "metadata": {},
   "outputs": [],
   "source": [
    "def is_valid_hex_code(hexcode):\n",
    "    alphaneumeric = '0123456789abcdef#'\n",
    "    for i in hexcode:\n",
    "        if len(hexcode) != 7 or hexcode[0] != '#' or i.lower() not in alphaneumeric:\n",
    "            return False\n",
    "    return True"
   ]
  },
  {
   "cell_type": "code",
   "execution_count": 8,
   "id": "b080cf82",
   "metadata": {},
   "outputs": [
    {
     "data": {
      "text/plain": [
       "True"
      ]
     },
     "execution_count": 8,
     "metadata": {},
     "output_type": "execute_result"
    }
   ],
   "source": [
    "is_valid_hex_code(\"#CD5C5C\")"
   ]
  },
  {
   "cell_type": "code",
   "execution_count": 9,
   "id": "0b2dd717",
   "metadata": {},
   "outputs": [
    {
     "data": {
      "text/plain": [
       "True"
      ]
     },
     "execution_count": 9,
     "metadata": {},
     "output_type": "execute_result"
    }
   ],
   "source": [
    "is_valid_hex_code(\"#EAECEE\")"
   ]
  },
  {
   "cell_type": "code",
   "execution_count": 10,
   "id": "3b03ea14",
   "metadata": {},
   "outputs": [
    {
     "data": {
      "text/plain": [
       "True"
      ]
     },
     "execution_count": 10,
     "metadata": {},
     "output_type": "execute_result"
    }
   ],
   "source": [
    "is_valid_hex_code(\"#eaecee\")"
   ]
  },
  {
   "cell_type": "code",
   "execution_count": 11,
   "id": "983a0741",
   "metadata": {},
   "outputs": [
    {
     "data": {
      "text/plain": [
       "False"
      ]
     },
     "execution_count": 11,
     "metadata": {},
     "output_type": "execute_result"
    }
   ],
   "source": [
    "is_valid_hex_code(\"#CD5C58C\")"
   ]
  },
  {
   "cell_type": "code",
   "execution_count": 12,
   "id": "4621828a",
   "metadata": {},
   "outputs": [
    {
     "data": {
      "text/plain": [
       "False"
      ]
     },
     "execution_count": 12,
     "metadata": {},
     "output_type": "execute_result"
    }
   ],
   "source": [
    "is_valid_hex_code(\"#CD5C5Z\")"
   ]
  },
  {
   "cell_type": "code",
   "execution_count": 13,
   "id": "85ac7a74",
   "metadata": {},
   "outputs": [
    {
     "data": {
      "text/plain": [
       "False"
      ]
     },
     "execution_count": 13,
     "metadata": {},
     "output_type": "execute_result"
    }
   ],
   "source": [
    "is_valid_hex_code(\"#CD5C&C\")"
   ]
  },
  {
   "cell_type": "code",
   "execution_count": 14,
   "id": "cb0ac479",
   "metadata": {},
   "outputs": [
    {
     "data": {
      "text/plain": [
       "False"
      ]
     },
     "execution_count": 14,
     "metadata": {},
     "output_type": "execute_result"
    }
   ],
   "source": [
    "is_valid_hex_code(\"CD5C5C\")"
   ]
  },
  {
   "cell_type": "markdown",
   "id": "2d473382",
   "metadata": {},
   "source": [
    "### 3. Given a list of math equations (given as strings), return the percentage of correct answers as a string. Round to the nearest whole number.\n",
    "\n",
    "#### Examples\n",
    "#### mark_maths([\"2+2=4\", \"3+2=5\", \"10-3=3\", \"5+5=10\"]) ➞ \"75%\"\n",
    "#### mark_maths([\"1-2=-2\"]), \"0%\"\n",
    "#### mark_maths([\"2+3=5\", \"4+4=9\", \"3-1=2\"]) ➞ \"67%\""
   ]
  },
  {
   "cell_type": "code",
   "execution_count": 27,
   "id": "25dcf8f2",
   "metadata": {},
   "outputs": [],
   "source": [
    "from math import ceil\n",
    "def mark_maths(lst):\n",
    "    new_lst = []\n",
    "    for i in lst:\n",
    "        l = i.split('=')\n",
    "        new_lst.append(eval(l[0]) == eval(l[1]))\n",
    "    return str(ceil((sum(new_lst) / len(new_lst))*100))+'%'"
   ]
  },
  {
   "cell_type": "code",
   "execution_count": 28,
   "id": "f3f512da",
   "metadata": {},
   "outputs": [
    {
     "data": {
      "text/plain": [
       "'75%'"
      ]
     },
     "execution_count": 28,
     "metadata": {},
     "output_type": "execute_result"
    }
   ],
   "source": [
    "mark_maths([\"2+2=4\", \"3+2=5\", \"10-3=3\", \"5+5=10\"])"
   ]
  },
  {
   "cell_type": "code",
   "execution_count": 29,
   "id": "96039de4",
   "metadata": {},
   "outputs": [
    {
     "data": {
      "text/plain": [
       "'0%'"
      ]
     },
     "execution_count": 29,
     "metadata": {},
     "output_type": "execute_result"
    }
   ],
   "source": [
    "mark_maths([\"1-2=-2\"])"
   ]
  },
  {
   "cell_type": "code",
   "execution_count": 30,
   "id": "95ddcefa",
   "metadata": {},
   "outputs": [
    {
     "data": {
      "text/plain": [
       "'67%'"
      ]
     },
     "execution_count": 30,
     "metadata": {},
     "output_type": "execute_result"
    }
   ],
   "source": [
    "mark_maths([\"2+3=5\", \"4+4=9\", \"3-1=2\"])"
   ]
  },
  {
   "cell_type": "markdown",
   "id": "34e4b012",
   "metadata": {},
   "source": [
    "### 4. There are two players, Alice and Bob, each with a 3-by-3 grid. A referee tells Alice to fill out one particular row in the grid (say the second row) by putting either a 1 or a 0 in each box, such that the sum of the numbers in that row is odd. The referee tells Bob to fill out one column in the grid (say the first column) by putting either a 1 or a 0 in each box, such that the sum of the numbers in that column is even.\n",
    "\n",
    "#### Alice and Bob win the game if Alice’s numbers give an odd sum, Bob’s give an even sum, and (most important) they’ve each written down the same number in the one square where their row and column intersect.\n",
    "#### Examples\n",
    "#### magic_square_game([2, \"100\"], [1, \"101\"]) ➞ False\n",
    "#### magic_square_game([2, \"001\"], [1, \"101\"]) ➞ True\n",
    "#### magic_square_game([3, \"111\"], [2, \"011\"]) ➞ True\n",
    "#### magic_square_game([1, \"010\"], [3, \"101\"]) ➞ False\n",
    "#### # Two lists, Alice [row, \"her choice\"], Bob [column, \"his choice\"]"
   ]
  },
  {
   "cell_type": "code",
   "execution_count": 32,
   "id": "bb4515bc",
   "metadata": {},
   "outputs": [],
   "source": [
    "def magic_square_game(alice_lst,bob_lst):\n",
    "    if alice_lst[1][bob_lst[0]-1] == bob_lst[1][alice_lst[0]-1]:\n",
    "        return True\n",
    "    return False"
   ]
  },
  {
   "cell_type": "code",
   "execution_count": 33,
   "id": "729653cb",
   "metadata": {},
   "outputs": [
    {
     "data": {
      "text/plain": [
       "False"
      ]
     },
     "execution_count": 33,
     "metadata": {},
     "output_type": "execute_result"
    }
   ],
   "source": [
    "magic_square_game([2, \"100\"], [1, \"101\"])"
   ]
  },
  {
   "cell_type": "code",
   "execution_count": 34,
   "id": "96f0d6be",
   "metadata": {},
   "outputs": [
    {
     "data": {
      "text/plain": [
       "True"
      ]
     },
     "execution_count": 34,
     "metadata": {},
     "output_type": "execute_result"
    }
   ],
   "source": [
    "magic_square_game([2, \"001\"], [1, \"101\"])"
   ]
  },
  {
   "cell_type": "code",
   "execution_count": 35,
   "id": "2a8320d5",
   "metadata": {},
   "outputs": [
    {
     "data": {
      "text/plain": [
       "True"
      ]
     },
     "execution_count": 35,
     "metadata": {},
     "output_type": "execute_result"
    }
   ],
   "source": [
    "magic_square_game([3, \"111\"], [2, \"011\"])"
   ]
  },
  {
   "cell_type": "code",
   "execution_count": 36,
   "id": "cb8c9e02",
   "metadata": {},
   "outputs": [
    {
     "data": {
      "text/plain": [
       "False"
      ]
     },
     "execution_count": 36,
     "metadata": {},
     "output_type": "execute_result"
    }
   ],
   "source": [
    "magic_square_game([1, \"010\"], [3, \"101\"])"
   ]
  },
  {
   "cell_type": "markdown",
   "id": "6b5b60a6",
   "metadata": {},
   "source": [
    "### 5. From point A, an object is moving towards point B at constant velocity va (in km/hr). From point B, another object is moving towards point A at constant velocity vb (in km/hr). Knowing this and the distance between point A and B (in km), write a function that returns how much time passes until both objects meet.\n",
    "\n",
    "#### Format the output like this:\n",
    "#### \"2h 23min 34s\"\n",
    "#### Examples\n",
    "#### lets_meet(100, 10, 30) ➞ \"2h 30min 0s\"\n",
    "#### lets_meet(280, 70, 80) ➞ \"1h 52min 0s\"\n",
    "#### lets_meet(90, 75, 65) ➞ \"0h 38min 34s\""
   ]
  },
  {
   "cell_type": "code",
   "execution_count": 41,
   "id": "11a7ae0b",
   "metadata": {},
   "outputs": [],
   "source": [
    "from math import floor\n",
    "def lets_meet(km,va,vb):\n",
    "    time = km / (va + vb)\n",
    "    hours = floor(time)\n",
    "    minutes = floor((time-hours)*60)\n",
    "    seconds = floor(((((time)-hours)*60)-minutes)*60)\n",
    "    return f'{hours}h {minutes}min {seconds}s'"
   ]
  },
  {
   "cell_type": "code",
   "execution_count": 42,
   "id": "37e3c7d1",
   "metadata": {},
   "outputs": [
    {
     "data": {
      "text/plain": [
       "'2h 30min 0s'"
      ]
     },
     "execution_count": 42,
     "metadata": {},
     "output_type": "execute_result"
    }
   ],
   "source": [
    "lets_meet(100, 10, 30)"
   ]
  },
  {
   "cell_type": "code",
   "execution_count": 43,
   "id": "9e4637ff",
   "metadata": {},
   "outputs": [
    {
     "data": {
      "text/plain": [
       "'1h 52min 0s'"
      ]
     },
     "execution_count": 43,
     "metadata": {},
     "output_type": "execute_result"
    }
   ],
   "source": [
    "lets_meet(280, 70, 80)"
   ]
  },
  {
   "cell_type": "code",
   "execution_count": 44,
   "id": "e834adc0",
   "metadata": {},
   "outputs": [
    {
     "data": {
      "text/plain": [
       "'0h 38min 34s'"
      ]
     },
     "execution_count": 44,
     "metadata": {},
     "output_type": "execute_result"
    }
   ],
   "source": [
    "lets_meet(90, 75, 65)"
   ]
  },
  {
   "cell_type": "code",
   "execution_count": null,
   "id": "ca9e95ea",
   "metadata": {},
   "outputs": [],
   "source": []
  }
 ],
 "metadata": {
  "kernelspec": {
   "display_name": "Python 3 (ipykernel)",
   "language": "python",
   "name": "python3"
  },
  "language_info": {
   "codemirror_mode": {
    "name": "ipython",
    "version": 3
   },
   "file_extension": ".py",
   "mimetype": "text/x-python",
   "name": "python",
   "nbconvert_exporter": "python",
   "pygments_lexer": "ipython3",
   "version": "3.9.7"
  }
 },
 "nbformat": 4,
 "nbformat_minor": 5
}
