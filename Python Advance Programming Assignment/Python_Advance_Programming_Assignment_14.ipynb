{
 "cells": [
  {
   "cell_type": "markdown",
   "id": "142fd563",
   "metadata": {},
   "source": [
    "### 1. Given a list of numbers, create a function that removes 25% from every number in the list except the smallest number, and adds the total amount removed to the smallest number.\n",
    "\n",
    "#### Examples\n",
    "#### show_the_love([4, 1, 4]) ➞ [3, 3, 3]\n",
    "#### show_the_love([16, 10, 8]) ➞ [12, 7.5, 14.5]\n",
    "#### show_the_love([2, 100]) ➞ [27, 75]"
   ]
  },
  {
   "cell_type": "code",
   "execution_count": 12,
   "id": "03e959ba",
   "metadata": {},
   "outputs": [],
   "source": [
    "def show_the_love(lst):\n",
    "    temp_lst = lst.copy()\n",
    "    s = 0\n",
    "    for i in range(len(lst)):\n",
    "        if temp_lst[i] != min(temp_lst):\n",
    "            s = s + (temp_lst[i] * 0.25)\n",
    "            temp_lst[i] = temp_lst[i] * 0.75\n",
    "    temp_lst[temp_lst.index(min(temp_lst))] = s + min(lst)\n",
    "    return temp_lst"
   ]
  },
  {
   "cell_type": "code",
   "execution_count": 13,
   "id": "99fba55e",
   "metadata": {},
   "outputs": [
    {
     "data": {
      "text/plain": [
       "[3.0, 3.0, 3.0]"
      ]
     },
     "execution_count": 13,
     "metadata": {},
     "output_type": "execute_result"
    }
   ],
   "source": [
    "show_the_love([4, 1, 4])"
   ]
  },
  {
   "cell_type": "code",
   "execution_count": 14,
   "id": "89d11cd0",
   "metadata": {},
   "outputs": [
    {
     "data": {
      "text/plain": [
       "[12.0, 7.5, 16.5]"
      ]
     },
     "execution_count": 14,
     "metadata": {},
     "output_type": "execute_result"
    }
   ],
   "source": [
    "show_the_love([16, 10, 8])"
   ]
  },
  {
   "cell_type": "code",
   "execution_count": 15,
   "id": "ccf99970",
   "metadata": {},
   "outputs": [
    {
     "data": {
      "text/plain": [
       "[27.0, 75.0]"
      ]
     },
     "execution_count": 15,
     "metadata": {},
     "output_type": "execute_result"
    }
   ],
   "source": [
    "show_the_love([2, 100])"
   ]
  },
  {
   "cell_type": "markdown",
   "id": "db298832",
   "metadata": {},
   "source": [
    "### 2. Create a function that takes in two words as input and returns a list of three elements, in the following order:\n",
    "####    1.Shared letters between two words.\n",
    "####    2.Letters unique to word 1.\n",
    "####    3.Letters unique to word 2.\n",
    "\n",
    "#### Each element should have unique letters, and have each letter be alphabetically sorted.\n",
    "#### Examples\n",
    "#### letters(\"sharp\", \"soap\") ➞ [\"aps\", \"hr\", \"o\"]\n",
    "#### letters(\"board\", \"bored\") ➞ [\"bdor\", \"a\", \"e\"]\n",
    "#### letters(\"happiness\", \"envelope\") ➞ [\"enp\", \"ahis\", \"lov\"]\n",
    "\n",
    "#### letters(\"kerfuffle\", \"fluffy\") ➞ [\"flu\", \"ekr\", \"y\"]\n",
    "#### # Even with multiple matching letters (e.g. 3 f's), there should \n",
    "#### # only exist a single \"f\" in your first element.\n",
    "\n",
    "#### letters(\"match\", \"ham\") ➞ [\"ahm\", \"ct\", \"\"]\n",
    "#### # \"ham\" does not contain any letters that are not found already \n",
    "#### # in \"match\"."
   ]
  },
  {
   "cell_type": "code",
   "execution_count": 22,
   "id": "bedfacb1",
   "metadata": {},
   "outputs": [],
   "source": [
    "def letters(word1,word2):\n",
    "    w1 = set(word1)\n",
    "    w2 = set(word2)\n",
    "    lst = []\n",
    "    lst.append(''.join(sorted(w1.intersection(w2))))\n",
    "    lst.append(''.join(sorted(w1.difference(w2))))\n",
    "    lst.append(''.join(sorted(w2.difference(w1))))\n",
    "    return lst"
   ]
  },
  {
   "cell_type": "code",
   "execution_count": 23,
   "id": "d51c0146",
   "metadata": {},
   "outputs": [
    {
     "data": {
      "text/plain": [
       "['aps', 'hr', 'o']"
      ]
     },
     "execution_count": 23,
     "metadata": {},
     "output_type": "execute_result"
    }
   ],
   "source": [
    "letters(\"sharp\", \"soap\")"
   ]
  },
  {
   "cell_type": "code",
   "execution_count": 24,
   "id": "1e33b607",
   "metadata": {},
   "outputs": [
    {
     "data": {
      "text/plain": [
       "['bdor', 'a', 'e']"
      ]
     },
     "execution_count": 24,
     "metadata": {},
     "output_type": "execute_result"
    }
   ],
   "source": [
    "letters(\"board\", \"bored\")"
   ]
  },
  {
   "cell_type": "code",
   "execution_count": 25,
   "id": "013c8944",
   "metadata": {},
   "outputs": [
    {
     "data": {
      "text/plain": [
       "['enp', 'ahis', 'lov']"
      ]
     },
     "execution_count": 25,
     "metadata": {},
     "output_type": "execute_result"
    }
   ],
   "source": [
    "letters(\"happiness\", \"envelope\")"
   ]
  },
  {
   "cell_type": "code",
   "execution_count": 26,
   "id": "f143bb0e",
   "metadata": {},
   "outputs": [
    {
     "data": {
      "text/plain": [
       "['flu', 'ekr', 'y']"
      ]
     },
     "execution_count": 26,
     "metadata": {},
     "output_type": "execute_result"
    }
   ],
   "source": [
    "letters(\"kerfuffle\", \"fluffy\")"
   ]
  },
  {
   "cell_type": "code",
   "execution_count": 27,
   "id": "2308b233",
   "metadata": {},
   "outputs": [
    {
     "data": {
      "text/plain": [
       "['ahm', 'ct', '']"
      ]
     },
     "execution_count": 27,
     "metadata": {},
     "output_type": "execute_result"
    }
   ],
   "source": [
    "letters(\"match\", \"ham\")"
   ]
  },
  {
   "cell_type": "markdown",
   "id": "d42f3e90",
   "metadata": {},
   "source": [
    "### 3. Write a function that pairs the first number in an array with the last, the second number with the second to last, etc.\n",
    "\n",
    "#### Examples\n",
    "#### pairs([1, 2, 3, 4, 5, 6, 7]) ➞ [[1, 7], [2, 6], [3, 5], [4, 4]]\n",
    "#### pairs([1, 2, 3, 4, 5, 6]) ➞ [[1, 6], [2, 5], [3, 4]]\n",
    "#### pairs([5, 9, 8, 1, 2]) ➞ [[5, 2], [9, 1], [8, 8]]\n",
    "#### pairs([]) ➞ []"
   ]
  },
  {
   "cell_type": "code",
   "execution_count": 35,
   "id": "9b06e0fb",
   "metadata": {},
   "outputs": [],
   "source": [
    "def pairs(lst):\n",
    "    temp_lst = []\n",
    "    if len(lst)%2 != 0:\n",
    "        for i in range(int(len(lst)/2)+1):\n",
    "            temp_lst.append([lst[i],lst[-1-i]])\n",
    "    else:\n",
    "        for i in range(int(len(lst)/2)):\n",
    "            temp_lst.append([lst[i],lst[-1-i]])\n",
    "    return temp_lst"
   ]
  },
  {
   "cell_type": "code",
   "execution_count": 36,
   "id": "b2fba5b7",
   "metadata": {},
   "outputs": [
    {
     "data": {
      "text/plain": [
       "[[1, 7], [2, 6], [3, 5], [4, 4]]"
      ]
     },
     "execution_count": 36,
     "metadata": {},
     "output_type": "execute_result"
    }
   ],
   "source": [
    "pairs([1, 2, 3, 4, 5, 6, 7])"
   ]
  },
  {
   "cell_type": "code",
   "execution_count": 37,
   "id": "a80052d3",
   "metadata": {},
   "outputs": [
    {
     "data": {
      "text/plain": [
       "[[1, 6], [2, 5], [3, 4]]"
      ]
     },
     "execution_count": 37,
     "metadata": {},
     "output_type": "execute_result"
    }
   ],
   "source": [
    "pairs([1, 2, 3, 4, 5, 6])"
   ]
  },
  {
   "cell_type": "code",
   "execution_count": 38,
   "id": "2ca17106",
   "metadata": {},
   "outputs": [
    {
     "data": {
      "text/plain": [
       "[[5, 2], [9, 1], [8, 8]]"
      ]
     },
     "execution_count": 38,
     "metadata": {},
     "output_type": "execute_result"
    }
   ],
   "source": [
    "pairs([5, 9, 8, 1, 2])"
   ]
  },
  {
   "cell_type": "code",
   "execution_count": 39,
   "id": "57d55a15",
   "metadata": {},
   "outputs": [
    {
     "data": {
      "text/plain": [
       "[]"
      ]
     },
     "execution_count": 39,
     "metadata": {},
     "output_type": "execute_result"
    }
   ],
   "source": [
    "pairs([])"
   ]
  },
  {
   "cell_type": "markdown",
   "id": "0b5fcf26",
   "metadata": {},
   "source": [
    "### 4. Write a function that adds two numbers. The catch, however, is that the numbers will be strings.\n",
    "\n",
    "#### Examples\n",
    "#### add_str_nums(\"4\", \"5\") ➞ \"9\"\n",
    "#### add_str_nums(\"abcdefg\", \"3\") ➞ \"-1\"\n",
    "#### add_str_nums(\"1\", \"\") ➞ \"1\"\n",
    "#### add_str_nums(\"1874682736267235927359283579235789257\", \"32652983572985729\") ➞ \"1874682736267235927391936562808774986\""
   ]
  },
  {
   "cell_type": "code",
   "execution_count": 54,
   "id": "965784e9",
   "metadata": {},
   "outputs": [],
   "source": [
    "def add_str_nums(num1,num2):\n",
    "    n1 = num1 if len(num1)>0 else '0'\n",
    "    n2 = num2 if len(num2)>0 else '0'\n",
    "    if n1.isdigit() and n2.isdigit():\n",
    "        return int(n1) + int(n2)\n",
    "    else:\n",
    "        return -1"
   ]
  },
  {
   "cell_type": "code",
   "execution_count": 55,
   "id": "248e9580",
   "metadata": {},
   "outputs": [
    {
     "data": {
      "text/plain": [
       "9"
      ]
     },
     "execution_count": 55,
     "metadata": {},
     "output_type": "execute_result"
    }
   ],
   "source": [
    "add_str_nums(\"4\", \"5\")"
   ]
  },
  {
   "cell_type": "code",
   "execution_count": 56,
   "id": "00d7921f",
   "metadata": {},
   "outputs": [
    {
     "data": {
      "text/plain": [
       "-1"
      ]
     },
     "execution_count": 56,
     "metadata": {},
     "output_type": "execute_result"
    }
   ],
   "source": [
    "add_str_nums(\"abcdefg\", \"3\")"
   ]
  },
  {
   "cell_type": "code",
   "execution_count": 57,
   "id": "a1a994d9",
   "metadata": {},
   "outputs": [
    {
     "data": {
      "text/plain": [
       "1"
      ]
     },
     "execution_count": 57,
     "metadata": {},
     "output_type": "execute_result"
    }
   ],
   "source": [
    "add_str_nums(\"1\", \"\")"
   ]
  },
  {
   "cell_type": "code",
   "execution_count": 58,
   "id": "88bac057",
   "metadata": {},
   "outputs": [
    {
     "data": {
      "text/plain": [
       "1874682736267235927391936562808774986"
      ]
     },
     "execution_count": 58,
     "metadata": {},
     "output_type": "execute_result"
    }
   ],
   "source": [
    "add_str_nums(\"1874682736267235927359283579235789257\", \"32652983572985729\")"
   ]
  },
  {
   "cell_type": "markdown",
   "id": "6008706c",
   "metadata": {},
   "source": [
    "### 5. lPaeesh le pemu mnxit ehess rtnisg! Oh, sorry, that was supposed to say: Please help me unmix these strings!\n",
    "#### Somehow my strings have all become mixed up; every pair of characters has been swapped. Help me undo this so I can understand my strings again.\n",
    "\n",
    "#### Examples\n",
    "#### unmix(\"123456\") ➞ \"214365\"\n",
    "#### unmix(\"hTsii  s aimex dpus rtni.g\") ➞ \"This is a mixed up string.\"\n",
    "#### unmix(\"badce\") ➞ \"abcde\""
   ]
  },
  {
   "cell_type": "code",
   "execution_count": 67,
   "id": "444d8180",
   "metadata": {},
   "outputs": [],
   "source": [
    "def unmix(sentence):\n",
    "    s = ''\n",
    "    for i in range(0,len(sentence)-1,2):\n",
    "        s = s + (sentence[i+1] + sentence[i])\n",
    "    if len(sentence) %2 != 0:\n",
    "        s += sentence[-1]\n",
    "    return s"
   ]
  },
  {
   "cell_type": "code",
   "execution_count": 68,
   "id": "00fa995d",
   "metadata": {},
   "outputs": [
    {
     "data": {
      "text/plain": [
       "'214365'"
      ]
     },
     "execution_count": 68,
     "metadata": {},
     "output_type": "execute_result"
    }
   ],
   "source": [
    "unmix(\"123456\")"
   ]
  },
  {
   "cell_type": "code",
   "execution_count": 69,
   "id": "49841d73",
   "metadata": {},
   "outputs": [
    {
     "data": {
      "text/plain": [
       "'This is a mixed up string.'"
      ]
     },
     "execution_count": 69,
     "metadata": {},
     "output_type": "execute_result"
    }
   ],
   "source": [
    "unmix(\"hTsii  s aimex dpus rtni.g\")"
   ]
  },
  {
   "cell_type": "code",
   "execution_count": 70,
   "id": "8de10746",
   "metadata": {},
   "outputs": [
    {
     "data": {
      "text/plain": [
       "'abcde'"
      ]
     },
     "execution_count": 70,
     "metadata": {},
     "output_type": "execute_result"
    }
   ],
   "source": [
    "unmix(\"badce\")"
   ]
  },
  {
   "cell_type": "code",
   "execution_count": null,
   "id": "1d982760",
   "metadata": {},
   "outputs": [],
   "source": []
  }
 ],
 "metadata": {
  "kernelspec": {
   "display_name": "Python 3 (ipykernel)",
   "language": "python",
   "name": "python3"
  },
  "language_info": {
   "codemirror_mode": {
    "name": "ipython",
    "version": 3
   },
   "file_extension": ".py",
   "mimetype": "text/x-python",
   "name": "python",
   "nbconvert_exporter": "python",
   "pygments_lexer": "ipython3",
   "version": "3.9.7"
  }
 },
 "nbformat": 4,
 "nbformat_minor": 5
}
