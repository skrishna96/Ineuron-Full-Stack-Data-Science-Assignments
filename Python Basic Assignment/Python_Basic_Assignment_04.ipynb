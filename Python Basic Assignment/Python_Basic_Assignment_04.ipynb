{
 "cells": [
  {
   "cell_type": "markdown",
   "id": "4333730f",
   "metadata": {},
   "source": [
    "### 1. What exactly is []?"
   ]
  },
  {
   "cell_type": "markdown",
   "id": "69f83385",
   "metadata": {},
   "source": [
    "<pre>\n",
    "[] - it is any empty list\n",
    "<pre>"
   ]
  },
  {
   "cell_type": "markdown",
   "id": "56816c82",
   "metadata": {},
   "source": [
    "### 2. In a list of values stored in a variable called spam, how would you assign the value 'hello' as the third value? (Assume [2, 4, 6, 8, 10] are in spam.)"
   ]
  },
  {
   "cell_type": "code",
   "execution_count": 3,
   "id": "970ae6b2",
   "metadata": {},
   "outputs": [
    {
     "name": "stdout",
     "output_type": "stream",
     "text": [
      "[2, 4, 'hello', 8, 10]\n"
     ]
    }
   ],
   "source": [
    "#1st method\n",
    "spam = [2,4,6,8,10]\n",
    "spam[2] = 'hello'\n",
    "print(spam)"
   ]
  },
  {
   "cell_type": "code",
   "execution_count": 4,
   "id": "4faa134c",
   "metadata": {},
   "outputs": [
    {
     "name": "stdout",
     "output_type": "stream",
     "text": [
      "[2, 4, 'hello', 6, 8, 10]\n"
     ]
    }
   ],
   "source": [
    "#2nd method\n",
    "spam = [2,4,6,8,10]\n",
    "spam.insert(2,'hello')\n",
    "print(spam)"
   ]
  },
  {
   "cell_type": "markdown",
   "id": "32f44756",
   "metadata": {},
   "source": [
    "### Let's pretend the spam includes the list ['a', 'b', 'c', 'd'] for the next three queries."
   ]
  },
  {
   "cell_type": "markdown",
   "id": "777ae1ee",
   "metadata": {},
   "source": [
    "### 3. What is the value of spam[int(int('3' * 2) / 11)]?"
   ]
  },
  {
   "cell_type": "code",
   "execution_count": 5,
   "id": "b53b5c6a",
   "metadata": {},
   "outputs": [
    {
     "name": "stdout",
     "output_type": "stream",
     "text": [
      "d\n"
     ]
    }
   ],
   "source": [
    "spam = ['a', 'b', 'c', 'd']\n",
    "print(spam[int(int('3' * 2) / 11)])"
   ]
  },
  {
   "cell_type": "markdown",
   "id": "af661c5c",
   "metadata": {},
   "source": [
    "### 4. What is the value of spam[-1]?"
   ]
  },
  {
   "cell_type": "code",
   "execution_count": 8,
   "id": "24aad01c",
   "metadata": {},
   "outputs": [
    {
     "data": {
      "text/plain": [
       "'d'"
      ]
     },
     "execution_count": 8,
     "metadata": {},
     "output_type": "execute_result"
    }
   ],
   "source": [
    "spam = ['a', 'b', 'c', 'd']\n",
    "spam[-1]"
   ]
  },
  {
   "cell_type": "markdown",
   "id": "e34d7e3e",
   "metadata": {},
   "source": [
    "### 5. What is the value of spam[:2]?"
   ]
  },
  {
   "cell_type": "code",
   "execution_count": 9,
   "id": "429eff38",
   "metadata": {},
   "outputs": [
    {
     "data": {
      "text/plain": [
       "['a', 'b']"
      ]
     },
     "execution_count": 9,
     "metadata": {},
     "output_type": "execute_result"
    }
   ],
   "source": [
    "spam = ['a', 'b', 'c', 'd']\n",
    "spam[:2]"
   ]
  },
  {
   "cell_type": "markdown",
   "id": "2de48389",
   "metadata": {},
   "source": [
    "### Let's pretend bacon has the list [3.14, 'cat,' 11, 'cat,' True] for the next three questions."
   ]
  },
  {
   "cell_type": "markdown",
   "id": "cd3713ae",
   "metadata": {},
   "source": [
    " ### 6. What is the value of bacon.index('cat')?"
   ]
  },
  {
   "cell_type": "code",
   "execution_count": 11,
   "id": "103b7647",
   "metadata": {},
   "outputs": [
    {
     "data": {
      "text/plain": [
       "1"
      ]
     },
     "execution_count": 11,
     "metadata": {},
     "output_type": "execute_result"
    }
   ],
   "source": [
    "bacon = [3.14, 'cat', 11, 'cat', True]\n",
    "bacon.index('cat')"
   ]
  },
  {
   "cell_type": "markdown",
   "id": "8d749fcb",
   "metadata": {},
   "source": [
    "### 7. How does bacon.append(99) change the look of the list value in bacon?"
   ]
  },
  {
   "cell_type": "code",
   "execution_count": 13,
   "id": "9fa77792",
   "metadata": {},
   "outputs": [
    {
     "name": "stdout",
     "output_type": "stream",
     "text": [
      "[3.14, 'cat', 11, 'cat', True, 99]\n"
     ]
    }
   ],
   "source": [
    "bacon = [3.14, 'cat', 11, 'cat', True]\n",
    "bacon.append(99)\n",
    "print(bacon)"
   ]
  },
  {
   "cell_type": "markdown",
   "id": "ddf70339",
   "metadata": {},
   "source": [
    "### 8. How does bacon.remove('cat') change the look of the list in bacon?"
   ]
  },
  {
   "cell_type": "code",
   "execution_count": 14,
   "id": "e5d0720e",
   "metadata": {},
   "outputs": [
    {
     "name": "stdout",
     "output_type": "stream",
     "text": [
      "[3.14, 11, 'cat', True]\n"
     ]
    }
   ],
   "source": [
    "bacon = [3.14, 'cat', 11, 'cat', True]\n",
    "bacon.remove('cat')\n",
    "print(bacon)"
   ]
  },
  {
   "cell_type": "markdown",
   "id": "b6ca683d",
   "metadata": {},
   "source": [
    "### 9. What are the list concatenation and list replication operators?"
   ]
  },
  {
   "cell_type": "markdown",
   "id": "b94065ad",
   "metadata": {},
   "source": [
    "<pre>\n",
    "list concatenation: For concatenating two lists we use arithmetic addition(+) operator.\n",
    "<pre>"
   ]
  },
  {
   "cell_type": "code",
   "execution_count": 15,
   "id": "b622c636",
   "metadata": {},
   "outputs": [
    {
     "data": {
      "text/plain": [
       "[1, 2, 3, 4, 5, 6]"
      ]
     },
     "execution_count": 15,
     "metadata": {},
     "output_type": "execute_result"
    }
   ],
   "source": [
    "#Concatenation example\n",
    "l1 = [1,2,3]\n",
    "l2 = [4,5,6]\n",
    "l1 + l2"
   ]
  },
  {
   "cell_type": "markdown",
   "id": "e76e2526",
   "metadata": {},
   "source": [
    "<pre>\n",
    "list replication: for list replication we use arithmetic multiplication(*) operator.\n",
    "</pre>"
   ]
  },
  {
   "cell_type": "code",
   "execution_count": 17,
   "id": "7960aa15",
   "metadata": {},
   "outputs": [
    {
     "data": {
      "text/plain": [
       "[1, 2, 3, 1, 2, 3, 1, 2, 3]"
      ]
     },
     "execution_count": 17,
     "metadata": {},
     "output_type": "execute_result"
    }
   ],
   "source": [
    "# Replication example\n",
    "l1 = [1,2,3]\n",
    "l2 = 3\n",
    "l1 * l2"
   ]
  },
  {
   "cell_type": "markdown",
   "id": "2806624d",
   "metadata": {},
   "source": [
    "### 10. What is difference between the list methods append() and insert()?"
   ]
  },
  {
   "cell_type": "markdown",
   "id": "c6a80836",
   "metadata": {},
   "source": [
    "<pre>\n",
    "append() - Appends a single element to the end of the list.\n",
    "insert () - Inserts a single element at a given position of the list.\n",
    "<pre>"
   ]
  },
  {
   "cell_type": "code",
   "execution_count": 19,
   "id": "31729fe5",
   "metadata": {},
   "outputs": [
    {
     "name": "stdout",
     "output_type": "stream",
     "text": [
      "[1, 2, 3, 4, 5]\n"
     ]
    }
   ],
   "source": [
    "#append example\n",
    "l1 = [1,2,3,4]\n",
    "l1.append(5)\n",
    "print(l1)"
   ]
  },
  {
   "cell_type": "code",
   "execution_count": 21,
   "id": "99e62139",
   "metadata": {},
   "outputs": [
    {
     "name": "stdout",
     "output_type": "stream",
     "text": [
      "[1, 2, 5, 3, 4]\n"
     ]
    }
   ],
   "source": [
    "#insert example\n",
    "l1 = [1,2,3,4]\n",
    "l1.insert(2,5)\n",
    "print(l1)"
   ]
  },
  {
   "cell_type": "markdown",
   "id": "937122f1",
   "metadata": {},
   "source": [
    "### 11. What are the two methods for removing items from a list?"
   ]
  },
  {
   "cell_type": "markdown",
   "id": "03605018",
   "metadata": {},
   "source": [
    "<pre>\n",
    "remove() - used to remove an element from a list\n",
    "<pre>"
   ]
  },
  {
   "cell_type": "code",
   "execution_count": 22,
   "id": "991e5538",
   "metadata": {},
   "outputs": [
    {
     "name": "stdout",
     "output_type": "stream",
     "text": [
      "[12, 56, 78, 90]\n"
     ]
    }
   ],
   "source": [
    "#remove Example\n",
    "l = [12,34,56,78,90]\n",
    "l.remove(34)\n",
    "print(l)"
   ]
  },
  {
   "cell_type": "markdown",
   "id": "f3e0b71d",
   "metadata": {},
   "source": [
    "<pre>\n",
    "pop() - used to remove an element at particular index position. if we don't provide any argument by default it will remove last element\n",
    "<pre>"
   ]
  },
  {
   "cell_type": "code",
   "execution_count": 24,
   "id": "3cbe4f8b",
   "metadata": {},
   "outputs": [
    {
     "name": "stdout",
     "output_type": "stream",
     "text": [
      "[12, 34, 78, 90]\n"
     ]
    }
   ],
   "source": [
    "#pop example\n",
    "l = [12,34,56,78,90]\n",
    "l.pop(2)\n",
    "print(l)"
   ]
  },
  {
   "cell_type": "markdown",
   "id": "b3208d7e",
   "metadata": {},
   "source": [
    "### 13. What's the difference between tuples and lists?"
   ]
  },
  {
   "cell_type": "markdown",
   "id": "9e178e19",
   "metadata": {},
   "source": [
    "<pre>\n",
    "Mutability: lists are mutable and tuples are immutable\n",
    "memory occupancy: lists occupy more memory than tuples.\n",
    "<pre>"
   ]
  },
  {
   "cell_type": "markdown",
   "id": "c7d4cae9",
   "metadata": {},
   "source": [
    "### 14. How do you type a tuple value that only contains the integer 42?"
   ]
  },
  {
   "cell_type": "code",
   "execution_count": 25,
   "id": "217098f8",
   "metadata": {},
   "outputs": [
    {
     "name": "stdout",
     "output_type": "stream",
     "text": [
      "(42,)\n",
      "length:  1\n",
      "<class 'tuple'>\n"
     ]
    }
   ],
   "source": [
    "a = 42,\n",
    "print(a)\n",
    "print(\"length: \",len(a))\n",
    "print(type(a))"
   ]
  },
  {
   "cell_type": "markdown",
   "id": "f62b901a",
   "metadata": {},
   "source": [
    "### 15. How do you get a list value's tuple form? How do you get a tuple value's list form?"
   ]
  },
  {
   "cell_type": "markdown",
   "id": "8222f4cf",
   "metadata": {},
   "source": [
    "<pre>\n",
    "we can convert tuples to lists and viceversa by using list() and tuple() functions.\n",
    "<pre>"
   ]
  },
  {
   "cell_type": "code",
   "execution_count": 27,
   "id": "69c994b1",
   "metadata": {},
   "outputs": [
    {
     "name": "stdout",
     "output_type": "stream",
     "text": [
      "<class 'list'>\n",
      "<class 'tuple'>\n"
     ]
    }
   ],
   "source": [
    "#list to tuple conversion\n",
    "l = [1,2,3]\n",
    "t = tuple(l)\n",
    "print(type(l))\n",
    "print(type(t))"
   ]
  },
  {
   "cell_type": "code",
   "execution_count": 29,
   "id": "55f7e124",
   "metadata": {},
   "outputs": [
    {
     "name": "stdout",
     "output_type": "stream",
     "text": [
      "<class 'list'>\n",
      "<class 'tuple'>\n"
     ]
    }
   ],
   "source": [
    "#tuple to list conversion\n",
    "t = (1,2,3)\n",
    "l = list(t)\n",
    "print(type(l))\n",
    "print(type(t))"
   ]
  },
  {
   "cell_type": "markdown",
   "id": "a15fc111",
   "metadata": {},
   "source": [
    "### 16. Variables that \"contain\" list values are not necessarily lists themselves. Instead, what do they contain?"
   ]
  },
  {
   "cell_type": "markdown",
   "id": "b2b89806",
   "metadata": {},
   "source": [
    "<pre>\n",
    "The variables contain references to the lists\n",
    "<pre>"
   ]
  },
  {
   "cell_type": "markdown",
   "id": "3e006de7",
   "metadata": {},
   "source": [
    "### 17. How do you distinguish between copy.copy() and copy.deepcopy()?"
   ]
  },
  {
   "cell_type": "markdown",
   "id": "5ec93b3c",
   "metadata": {},
   "source": [
    "<pre>\n",
    "copy.copy() : A shallow copy creates a new object which stores the reference of the original elements.\n",
    "<pre>"
   ]
  },
  {
   "cell_type": "code",
   "execution_count": 35,
   "id": "09715887",
   "metadata": {},
   "outputs": [
    {
     "name": "stdout",
     "output_type": "stream",
     "text": [
      "[[1, 2], [3, 4]]\n",
      "[[1, 2], [3, 4]]\n",
      "[[1, 2], [3, 5]]\n",
      "[[1, 2], [3, 5]]\n"
     ]
    }
   ],
   "source": [
    "import copy\n",
    "a = [[1,2],[3,4]]\n",
    "b = copy.copy(a)\n",
    "print(a)\n",
    "print(b)\n",
    "a[1][1]=5\n",
    "print(a)\n",
    "print(b)"
   ]
  },
  {
   "cell_type": "markdown",
   "id": "3aa4f584",
   "metadata": {},
   "source": [
    "<pre>\n",
    "copy.deepcopy() : A deep copy creates a new object and recursively adds the copies of nested objects present in the original elements.\n",
    "<pre> "
   ]
  },
  {
   "cell_type": "code",
   "execution_count": 37,
   "id": "1629ff54",
   "metadata": {},
   "outputs": [
    {
     "name": "stdout",
     "output_type": "stream",
     "text": [
      "[[1, 2], [3, 4]]\n",
      "[[1, 2], [3, 4]]\n",
      "[[1, 2], [3, 5]]\n",
      "[[1, 2], [3, 4]]\n"
     ]
    }
   ],
   "source": [
    "import copy\n",
    "a = [[1,2],[3,4]]\n",
    "b = copy.deepcopy(a)\n",
    "print(a)\n",
    "print(b)\n",
    "a[1][1]=5\n",
    "print(a)\n",
    "print(b)"
   ]
  },
  {
   "cell_type": "markdown",
   "id": "95a5b5a1",
   "metadata": {},
   "source": [
    "### 12. Describe how list values and string values are identical."
   ]
  },
  {
   "cell_type": "markdown",
   "id": "741045f5",
   "metadata": {},
   "source": [
    "<pre>\n",
    "Both list and string are used to store data\n",
    "Both list and string have indexing and slicing\n",
    "Both list and string can be used in loops.\n",
    "<pre>"
   ]
  },
  {
   "cell_type": "code",
   "execution_count": null,
   "id": "bd33abc7",
   "metadata": {},
   "outputs": [],
   "source": []
  }
 ],
 "metadata": {
  "kernelspec": {
   "display_name": "Python 3 (ipykernel)",
   "language": "python",
   "name": "python3"
  },
  "language_info": {
   "codemirror_mode": {
    "name": "ipython",
    "version": 3
   },
   "file_extension": ".py",
   "mimetype": "text/x-python",
   "name": "python",
   "nbconvert_exporter": "python",
   "pygments_lexer": "ipython3",
   "version": "3.10.0"
  }
 },
 "nbformat": 4,
 "nbformat_minor": 5
}
