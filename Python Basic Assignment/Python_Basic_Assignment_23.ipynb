{
 "cells": [
  {
   "cell_type": "markdown",
   "id": "43dfd0b8",
   "metadata": {},
   "source": [
    "### 1. What is the result of the code, and why?\n",
    "#### >>> def func(a, b=6, c=8):\n",
    "#### print(a, b, c)\n",
    "#### >>> func(1, 2)"
   ]
  },
  {
   "cell_type": "markdown",
   "id": "c66d6a76",
   "metadata": {},
   "source": [
    "The output of the above code is __1 2 8__. After calling the __func(1,2)__, It will assign value __'1'__ to variable __'a'__ and default parameter __'b'__ value is replaced from default value __'6'__ to newly passing value __'2'__ and default parameter __'c'__ value will be default value __'8'__."
   ]
  },
  {
   "cell_type": "code",
   "execution_count": 1,
   "id": "caca31b7",
   "metadata": {},
   "outputs": [
    {
     "name": "stdout",
     "output_type": "stream",
     "text": [
      "1 2 8\n"
     ]
    }
   ],
   "source": [
    "def func(a, b=6, c=8):\n",
    "    print(a, b, c)\n",
    "func(1, 2)"
   ]
  },
  {
   "cell_type": "markdown",
   "id": "4b66ff1a",
   "metadata": {},
   "source": [
    "### 2. What is the result of this code, and why?\n",
    "#### >>> def func(a, b, c=5):\n",
    "#### print(a, b, c)\n",
    "#### >>> func(1, c=3, b=2)"
   ]
  },
  {
   "cell_type": "markdown",
   "id": "e1aaff7b",
   "metadata": {},
   "source": [
    "The output of the above code is __1 2 3__. After calling the __func(1, c=3, b=2)__, It will assign value __'1'__ to variable __'a'__ and  variable __'b'__ value will be value __'2'__ and default parameter __'c'__ value will be replaced from default value __'5'__ to newly passing value __'3'__."
   ]
  },
  {
   "cell_type": "code",
   "execution_count": 2,
   "id": "81d87d2d",
   "metadata": {},
   "outputs": [
    {
     "name": "stdout",
     "output_type": "stream",
     "text": [
      "1 2 3\n"
     ]
    }
   ],
   "source": [
    "def func(a, b, c=5):\n",
    "    print(a, b, c)\n",
    "func(1, c=3, b=2)"
   ]
  },
  {
   "cell_type": "markdown",
   "id": "41455e21",
   "metadata": {},
   "source": [
    "### 3. How about this code: what is its result, and why?\n",
    "#### >>> def func(a, *pargs):\n",
    "#### print(a, pargs)\n",
    "#### >>> func(1, 2, 3)"
   ]
  },
  {
   "cell_type": "markdown",
   "id": "82db3dd3",
   "metadata": {},
   "source": [
    "The output of the above code is __1 (2,3)__. After calling the function __func(1, 2, 3)__, It will assign value __'1'__ to variable __'a'__ and __\\*pargs__ in function definitions in python is used to pass a variable number of arguments to a function and this will store the values __(2,3)__ in the form of tuple."
   ]
  },
  {
   "cell_type": "code",
   "execution_count": 3,
   "id": "eb480361",
   "metadata": {},
   "outputs": [
    {
     "name": "stdout",
     "output_type": "stream",
     "text": [
      "1 (2, 3)\n",
      "<class 'tuple'>\n"
     ]
    }
   ],
   "source": [
    "def func(a, *pargs):\n",
    "    print(a, pargs)\n",
    "    print(type(pargs))\n",
    "func(1, 2, 3)"
   ]
  },
  {
   "cell_type": "markdown",
   "id": "1b175b2a",
   "metadata": {},
   "source": [
    "### 4. What does this code print, and why?\n",
    "#### >>> def func(a, **kargs):\n",
    "#### print(a, kargs)\n",
    "#### >>> func(a=1, c=3, b=2)"
   ]
  },
  {
   "cell_type": "markdown",
   "id": "9b3210c5",
   "metadata": {},
   "source": [
    "The output of the above code is __1 {'c': 3, 'b': 2}__. After calling the function __func(a=1, c=3, b=2)__, It will assign value __'1'__ to variable __'a'__ and __**kargs__ in function definitions in python is used to pass a keyworded, variable-length argument list and it will store __b,c__ variable values in the form of dictionary. "
   ]
  },
  {
   "cell_type": "code",
   "execution_count": 4,
   "id": "8b1153a6",
   "metadata": {},
   "outputs": [
    {
     "name": "stdout",
     "output_type": "stream",
     "text": [
      "1 {'c': 3, 'b': 2}\n",
      "<class 'dict'>\n"
     ]
    }
   ],
   "source": [
    "def func(a, **kargs):\n",
    "    print(a, kargs)\n",
    "    print(type(kargs))\n",
    "func(a=1, c=3, b=2)"
   ]
  },
  {
   "cell_type": "markdown",
   "id": "c007e970",
   "metadata": {},
   "source": [
    "### 5. What gets printed by this, and explain?\n",
    "#### >>> def func(a, b, c=8, d=5): print(a, b, c, d)\n",
    "#### >>> func(1, *(5, 6))"
   ]
  },
  {
   "cell_type": "markdown",
   "id": "559f5072",
   "metadata": {},
   "source": [
    "The above code will print __1 5 6 5__. After calling the function __func(1, \\*(5, 6))__, It will assign value __'1'__ to variable __'a'__ and will assign values __'5'__,__'6'__ to __'b'__ and __'c'__ respectively from a non-key worded, variable-length argument list __\\*(5,6)__ and __'d'__ have the default value __'5'__.  "
   ]
  },
  {
   "cell_type": "code",
   "execution_count": 5,
   "id": "d1924717",
   "metadata": {},
   "outputs": [
    {
     "name": "stdout",
     "output_type": "stream",
     "text": [
      "1 5 6 5\n"
     ]
    }
   ],
   "source": [
    "def func(a, b, c=8, d=5):\n",
    "    print(a, b, c, d)\n",
    "func(1, *(5, 6))"
   ]
  },
  {
   "cell_type": "markdown",
   "id": "7ad95ca0",
   "metadata": {},
   "source": [
    "### 6. what is the result of this, and explain?\n",
    "#### >>> def func(a, b, c): a = 2; b[0] = 'x'; c['a'] = 'y'\n",
    "#### >>> l=1; m=[1]; n={'a':0}\n",
    "#### >>> func(l, m, n)\n",
    "#### >>> l, m, n"
   ]
  },
  {
   "cell_type": "markdown",
   "id": "95eb7e6d",
   "metadata": {},
   "source": [
    "The semicolon in python is used to write the multiple statements on the same line.<br>\n",
    "The output of the above code is __(1, ['x'], {'a': 'y'})__.<br>\n",
    "Here l is an integer variable and immutable object and we are calling the variable outside the function. So it will create new object in the memory location and assigning value 1 to the variable l.<br>\n",
    "m and n are mutable objects so b and c variables with replace the existing values in m and n variables with new values respectively."
   ]
  },
  {
   "cell_type": "code",
   "execution_count": 6,
   "id": "cc5815f8",
   "metadata": {},
   "outputs": [
    {
     "data": {
      "text/plain": [
       "(1, ['x'], {'a': 'y'})"
      ]
     },
     "execution_count": 6,
     "metadata": {},
     "output_type": "execute_result"
    }
   ],
   "source": [
    "def func(a, b, c): a = 2; b[0] = 'x'; c['a'] = 'y'\n",
    "l=1; m=[1]; n={'a':0}\n",
    "func(l, m, n)\n",
    "l, m, n"
   ]
  },
  {
   "cell_type": "code",
   "execution_count": null,
   "id": "9bd16eb4",
   "metadata": {},
   "outputs": [],
   "source": []
  }
 ],
 "metadata": {
  "kernelspec": {
   "display_name": "Python 3 (ipykernel)",
   "language": "python",
   "name": "python3"
  },
  "language_info": {
   "codemirror_mode": {
    "name": "ipython",
    "version": 3
   },
   "file_extension": ".py",
   "mimetype": "text/x-python",
   "name": "python",
   "nbconvert_exporter": "python",
   "pygments_lexer": "ipython3",
   "version": "3.9.7"
  }
 },
 "nbformat": 4,
 "nbformat_minor": 5
}
