{
 "cells": [
  {
   "cell_type": "markdown",
   "id": "6f7c75ec",
   "metadata": {},
   "source": [
    "### 1. What are escape characters, and how do you use them?"
   ]
  },
  {
   "cell_type": "markdown",
   "id": "e0fb3f41",
   "metadata": {},
   "source": [
    "<pre>\n",
    "An escape character is a special character used in the form of backslash(\\) followed by a character.\n",
    "These characters are used to represent white spaces like space, tab etc.\n",
    "<pre>"
   ]
  },
  {
   "cell_type": "markdown",
   "id": "79e79aff",
   "metadata": {},
   "source": [
    "### 2. What do the escape characters n and t stand for?"
   ]
  },
  {
   "cell_type": "markdown",
   "id": "be6c6c59",
   "metadata": {},
   "source": [
    "<pre>\n",
    "\\n represents new line\n",
    "\\t represents a tab\n",
    "<pre>"
   ]
  },
  {
   "cell_type": "markdown",
   "id": "f5b1f5e1",
   "metadata": {},
   "source": [
    "### 3. What is the way to include backslash characters in a string?"
   ]
  },
  {
   "cell_type": "markdown",
   "id": "bc51fa42",
   "metadata": {},
   "source": [
    "<pre>\n",
    "we can use double backslash(\\\\) in a string to include backslash(\\).\n",
    "<pre>"
   ]
  },
  {
   "cell_type": "code",
   "execution_count": 1,
   "id": "6a832c0a",
   "metadata": {},
   "outputs": [
    {
     "name": "stdout",
     "output_type": "stream",
     "text": [
      "Hello\\ World\n"
     ]
    }
   ],
   "source": [
    "#Example\n",
    "s = \"Hello\\\\ World\"\n",
    "print(s)"
   ]
  },
  {
   "cell_type": "markdown",
   "id": "ed7cfc37",
   "metadata": {},
   "source": [
    "### 4. The string \"Howl's Moving Castle\" is a correct value. Why isn't the single quote character in the word Howl's not escaped a problem?"
   ]
  },
  {
   "cell_type": "markdown",
   "id": "2b276640",
   "metadata": {},
   "source": [
    "<pre>\n",
    "The string \"Howl's Moving Castle\" is enclosed in double quotes that is why single quote character is not escaped.\n",
    "if we enclose The string \"Howl's Moving Castle\" in single quotes we have to use escape character(\\).\n",
    "<pre>"
   ]
  },
  {
   "cell_type": "code",
   "execution_count": 5,
   "id": "4ed97664",
   "metadata": {},
   "outputs": [
    {
     "name": "stdout",
     "output_type": "stream",
     "text": [
      "Howl's Moving Castle\n"
     ]
    }
   ],
   "source": [
    "# Double Quotes Example\n",
    "s = \"Howl's Moving Castle\"\n",
    "print(s)"
   ]
  },
  {
   "cell_type": "code",
   "execution_count": 6,
   "id": "2c032ff5",
   "metadata": {},
   "outputs": [
    {
     "name": "stdout",
     "output_type": "stream",
     "text": [
      "Howl's Moving Castle\n"
     ]
    }
   ],
   "source": [
    "#Single Quotes Example\n",
    "s = 'Howl\\'s Moving Castle'\n",
    "print(s)"
   ]
  },
  {
   "cell_type": "markdown",
   "id": "5a9c3437",
   "metadata": {},
   "source": [
    "### 5. How do you write a string of newlines if you don't want to use the n character?"
   ]
  },
  {
   "cell_type": "markdown",
   "id": "8cc78ce1",
   "metadata": {},
   "source": [
    "We can use triple quotes to span strings to multiple lines."
   ]
  },
  {
   "cell_type": "code",
   "execution_count": 7,
   "id": "4399eb82",
   "metadata": {},
   "outputs": [
    {
     "name": "stdout",
     "output_type": "stream",
     "text": [
      "hello\n",
      "this is a\n",
      "multiline string\n"
     ]
    }
   ],
   "source": [
    "#Example\n",
    "s = '''hello\n",
    "this is a\n",
    "multiline string'''\n",
    "print(s)"
   ]
  },
  {
   "cell_type": "markdown",
   "id": "41a8d968",
   "metadata": {},
   "source": [
    "### 6. What are the values of the given expressions?\n",
    "### 'Hello, world!'[1]\n",
    "### 'Hello, world!'[0:5]\n",
    "### 'Hello, world!'[:5]\n",
    "### 'Hello, world!'[3:]"
   ]
  },
  {
   "cell_type": "code",
   "execution_count": 8,
   "id": "126faf1a",
   "metadata": {},
   "outputs": [
    {
     "data": {
      "text/plain": [
       "'e'"
      ]
     },
     "execution_count": 8,
     "metadata": {},
     "output_type": "execute_result"
    }
   ],
   "source": [
    "'Hello, world!'[1]"
   ]
  },
  {
   "cell_type": "code",
   "execution_count": 9,
   "id": "fec84537",
   "metadata": {},
   "outputs": [
    {
     "data": {
      "text/plain": [
       "'Hello'"
      ]
     },
     "execution_count": 9,
     "metadata": {},
     "output_type": "execute_result"
    }
   ],
   "source": [
    "'Hello, world!'[0:5]"
   ]
  },
  {
   "cell_type": "code",
   "execution_count": 10,
   "id": "510e53d9",
   "metadata": {},
   "outputs": [
    {
     "data": {
      "text/plain": [
       "'Hello'"
      ]
     },
     "execution_count": 10,
     "metadata": {},
     "output_type": "execute_result"
    }
   ],
   "source": [
    "'Hello, world!'[:5]"
   ]
  },
  {
   "cell_type": "code",
   "execution_count": 11,
   "id": "6220be1e",
   "metadata": {},
   "outputs": [
    {
     "data": {
      "text/plain": [
       "'lo, world!'"
      ]
     },
     "execution_count": 11,
     "metadata": {},
     "output_type": "execute_result"
    }
   ],
   "source": [
    "'Hello, world!'[3:]"
   ]
  },
  {
   "cell_type": "markdown",
   "id": "fbd7092d",
   "metadata": {},
   "source": [
    "### 7. What are the values of the following expressions?\n",
    "### 'Hello'.upper()\n",
    "### 'Hello'.upper().isupper()\n",
    "### 'Hello'.upper().lower()"
   ]
  },
  {
   "cell_type": "code",
   "execution_count": 12,
   "id": "00bd71f3",
   "metadata": {},
   "outputs": [
    {
     "data": {
      "text/plain": [
       "'HELLO'"
      ]
     },
     "execution_count": 12,
     "metadata": {},
     "output_type": "execute_result"
    }
   ],
   "source": [
    "'Hello'.upper()"
   ]
  },
  {
   "cell_type": "code",
   "execution_count": 13,
   "id": "3cc18d9f",
   "metadata": {},
   "outputs": [
    {
     "data": {
      "text/plain": [
       "True"
      ]
     },
     "execution_count": 13,
     "metadata": {},
     "output_type": "execute_result"
    }
   ],
   "source": [
    "'Hello'.upper().isupper()"
   ]
  },
  {
   "cell_type": "code",
   "execution_count": 14,
   "id": "4652be0b",
   "metadata": {},
   "outputs": [
    {
     "data": {
      "text/plain": [
       "'hello'"
      ]
     },
     "execution_count": 14,
     "metadata": {},
     "output_type": "execute_result"
    }
   ],
   "source": [
    "'Hello'.upper().lower()"
   ]
  },
  {
   "cell_type": "markdown",
   "id": "49f87db5",
   "metadata": {},
   "source": [
    "### 8. What are the values of the following expressions?\n",
    "### 'Remember, remember, the fifth of July.'.split()\n",
    "### '-'.join('There can only one.'.split())"
   ]
  },
  {
   "cell_type": "code",
   "execution_count": 15,
   "id": "a780afc0",
   "metadata": {},
   "outputs": [
    {
     "data": {
      "text/plain": [
       "['Remember,', 'remember,', 'the', 'fifth', 'of', 'July.']"
      ]
     },
     "execution_count": 15,
     "metadata": {},
     "output_type": "execute_result"
    }
   ],
   "source": [
    "'Remember, remember, the fifth of July.'.split()"
   ]
  },
  {
   "cell_type": "code",
   "execution_count": 16,
   "id": "93f2ed3b",
   "metadata": {},
   "outputs": [
    {
     "data": {
      "text/plain": [
       "'There-can-only-one.'"
      ]
     },
     "execution_count": 16,
     "metadata": {},
     "output_type": "execute_result"
    }
   ],
   "source": [
    "'-'.join('There can only one.'.split())"
   ]
  },
  {
   "cell_type": "markdown",
   "id": "a2b8ba1e",
   "metadata": {},
   "source": [
    "### 9. What are the methods for right-justifying, left-justifying, and centering a string?"
   ]
  },
  {
   "cell_type": "markdown",
   "id": "4454a692",
   "metadata": {},
   "source": [
    "We can use rjust(), ljust() and center() methods for justifying string right, left and center respectively"
   ]
  },
  {
   "cell_type": "code",
   "execution_count": 19,
   "id": "c1e2f86c",
   "metadata": {},
   "outputs": [
    {
     "data": {
      "text/plain": [
       "'     Hello'"
      ]
     },
     "execution_count": 19,
     "metadata": {},
     "output_type": "execute_result"
    }
   ],
   "source": [
    "s = \"Hello\"\n",
    "s.rjust(10)"
   ]
  },
  {
   "cell_type": "code",
   "execution_count": 20,
   "id": "f1443e3c",
   "metadata": {},
   "outputs": [
    {
     "data": {
      "text/plain": [
       "'Hello     '"
      ]
     },
     "execution_count": 20,
     "metadata": {},
     "output_type": "execute_result"
    }
   ],
   "source": [
    "s = \"Hello\"\n",
    "s.ljust(10)"
   ]
  },
  {
   "cell_type": "code",
   "execution_count": 21,
   "id": "f4e22ab8",
   "metadata": {},
   "outputs": [
    {
     "data": {
      "text/plain": [
       "'  Hello   '"
      ]
     },
     "execution_count": 21,
     "metadata": {},
     "output_type": "execute_result"
    }
   ],
   "source": [
    "s = \"Hello\"\n",
    "s.center(10)"
   ]
  },
  {
   "cell_type": "markdown",
   "id": "550a93b7",
   "metadata": {},
   "source": [
    "### 10. What is the best way to remove whitespace characters from the start or end?"
   ]
  },
  {
   "cell_type": "markdown",
   "id": "3cebf1b0",
   "metadata": {},
   "source": [
    "We can use lstrip() to remove white spaces from the start and rstrip() to remove white spaces from the end and strip() method to remove whitespaces from both the ends.\n"
   ]
  },
  {
   "cell_type": "code",
   "execution_count": 22,
   "id": "7b52425d",
   "metadata": {},
   "outputs": [
    {
     "data": {
      "text/plain": [
       "'hello'"
      ]
     },
     "execution_count": 22,
     "metadata": {},
     "output_type": "execute_result"
    }
   ],
   "source": [
    "'   hello'.lstrip()"
   ]
  },
  {
   "cell_type": "code",
   "execution_count": 23,
   "id": "d5468b0f",
   "metadata": {},
   "outputs": [
    {
     "data": {
      "text/plain": [
       "'hello'"
      ]
     },
     "execution_count": 23,
     "metadata": {},
     "output_type": "execute_result"
    }
   ],
   "source": [
    "'hello   '.rstrip()"
   ]
  },
  {
   "cell_type": "code",
   "execution_count": 24,
   "id": "060ac827",
   "metadata": {},
   "outputs": [
    {
     "data": {
      "text/plain": [
       "'hello'"
      ]
     },
     "execution_count": 24,
     "metadata": {},
     "output_type": "execute_result"
    }
   ],
   "source": [
    "'  hello  '.strip()"
   ]
  },
  {
   "cell_type": "code",
   "execution_count": null,
   "id": "11ea99e2",
   "metadata": {},
   "outputs": [],
   "source": []
  }
 ],
 "metadata": {
  "kernelspec": {
   "display_name": "Python 3 (ipykernel)",
   "language": "python",
   "name": "python3"
  },
  "language_info": {
   "codemirror_mode": {
    "name": "ipython",
    "version": 3
   },
   "file_extension": ".py",
   "mimetype": "text/x-python",
   "name": "python",
   "nbconvert_exporter": "python",
   "pygments_lexer": "ipython3",
   "version": "3.9.7"
  }
 },
 "nbformat": 4,
 "nbformat_minor": 5
}
