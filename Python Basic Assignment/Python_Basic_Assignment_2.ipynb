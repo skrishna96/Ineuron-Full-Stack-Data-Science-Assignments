{
 "cells": [
  {
   "cell_type": "markdown",
   "id": "009c4fae",
   "metadata": {},
   "source": [
    "### 1.What are the two values of the Boolean data type? How do you write them?"
   ]
  },
  {
   "cell_type": "markdown",
   "id": "13c9ffbd",
   "metadata": {},
   "source": [
    "<pre>\n",
    "Boolean data type is one of the built in datatype in python.\n",
    "It represents one of the below two values.\n",
    "1. True\n",
    "2. False\n",
    "Here T and F are capitals.\n",
    "<pre>"
   ]
  },
  {
   "cell_type": "code",
   "execution_count": 2,
   "id": "e371c784",
   "metadata": {},
   "outputs": [
    {
     "name": "stdout",
     "output_type": "stream",
     "text": [
      "True\n",
      "<class 'bool'>\n",
      "False\n",
      "<class 'bool'>\n"
     ]
    }
   ],
   "source": [
    "# Example\n",
    "a = True\n",
    "b = False\n",
    "print(a)\n",
    "print(type(a))\n",
    "print(b)\n",
    "print(type(b))"
   ]
  },
  {
   "cell_type": "markdown",
   "id": "1242e421",
   "metadata": {},
   "source": [
    "### 2. What are the three different types of Boolean operators?"
   ]
  },
  {
   "cell_type": "markdown",
   "id": "01ad4743",
   "metadata": {},
   "source": [
    "<pre>\n",
    "Python has three different boolean operators.\n",
    "1. and\n",
    "2. or\n",
    "3. not\n",
    "<pre>"
   ]
  },
  {
   "cell_type": "code",
   "execution_count": 5,
   "id": "d6b04385",
   "metadata": {},
   "outputs": [
    {
     "name": "stdout",
     "output_type": "stream",
     "text": [
      "False\n"
     ]
    }
   ],
   "source": [
    "# Example for and\n",
    "a = 1\n",
    "b = 2\n",
    "c = 3\n",
    "print(a>b and a>c)"
   ]
  },
  {
   "cell_type": "code",
   "execution_count": 6,
   "id": "bb1f8e97",
   "metadata": {},
   "outputs": [
    {
     "name": "stdout",
     "output_type": "stream",
     "text": [
      "True\n"
     ]
    }
   ],
   "source": [
    "# Example for or\n",
    "a = 1\n",
    "b = 2\n",
    "c = 3\n",
    "print(a<b or a>c)"
   ]
  },
  {
   "cell_type": "code",
   "execution_count": 7,
   "id": "ae67e8ef",
   "metadata": {},
   "outputs": [
    {
     "name": "stdout",
     "output_type": "stream",
     "text": [
      "False\n"
     ]
    }
   ],
   "source": [
    "# Example for not\n",
    "a = True\n",
    "print(not a)"
   ]
  },
  {
   "cell_type": "markdown",
   "id": "a68f7468",
   "metadata": {},
   "source": [
    "### 3. Make a list of each Boolean operator's truth tables \n",
    "### (i.e. every possible combination of Boolean values for the operator and what it evaluate )."
   ]
  },
  {
   "cell_type": "markdown",
   "id": "ea133d94",
   "metadata": {},
   "source": [
    "<pre>\n",
    "Truth table for Boolean operator \"AND\"\n",
    "---------------------\n",
    "|  x  |  y  |x and y|\n",
    "---------------------\n",
    "|True |True |True   |\n",
    "---------------------\n",
    "|True |False|False  |\n",
    "---------------------\n",
    "|False|True |False  |\n",
    "---------------------\n",
    "|False|False|False  |\n",
    "---------------------\n",
    "<pre>"
   ]
  },
  {
   "cell_type": "markdown",
   "id": "dd758702",
   "metadata": {},
   "source": [
    "<pre>\n",
    "Truth table for Boolean operator \"OR\"\n",
    "---------------------\n",
    "|  x  |  y  |x or y |\n",
    "---------------------\n",
    "|True |True |True   |\n",
    "---------------------\n",
    "|True |False|True   |\n",
    "---------------------\n",
    "|False|True |True   |\n",
    "---------------------\n",
    "|False|False|False  |\n",
    "---------------------\n",
    "<pre>"
   ]
  },
  {
   "cell_type": "markdown",
   "id": "d49455a9",
   "metadata": {},
   "source": [
    "<pre>\n",
    "Truth table for Boolean operator \"NOT\"\n",
    "--------------\n",
    "|  x  | not x|\n",
    "--------------\n",
    "|True | False|\n",
    "--------------\n",
    "|False|True  |\n",
    "--------------\n",
    "<pre>"
   ]
  },
  {
   "cell_type": "markdown",
   "id": "07e93b0d",
   "metadata": {},
   "source": [
    "### 4. What are the values of the following expressions?\n",
    "### (5 > 4) and (3 == 5)\n",
    "### not (5 > 4)\n",
    "### (5 > 4) or (3 == 5)\n",
    "### not ((5 > 4) or (3 == 5))\n",
    "### (True and True) and (True == False)\n",
    "### (not False) or (not True)"
   ]
  },
  {
   "cell_type": "code",
   "execution_count": 10,
   "id": "3698a5f5",
   "metadata": {},
   "outputs": [
    {
     "name": "stdout",
     "output_type": "stream",
     "text": [
      "(5 > 4) and (3 == 5) value:  False\n",
      "not (5 > 4) value:  False\n",
      "(5 > 4) or (3 == 5) value:  True\n",
      "not ((5 > 4) or (3 == 5)) value:  False\n",
      "(True and True) and (True == False) value:  False\n",
      "(not False) or (not True) value:  True\n"
     ]
    }
   ],
   "source": [
    "print(\"(5 > 4) and (3 == 5) value: \",(5 > 4) and (3 == 5))\n",
    "print(\"not (5 > 4) value: \",not (5 > 4))\n",
    "print(\"(5 > 4) or (3 == 5) value: \",(5 > 4) or (3 == 5))\n",
    "print(\"not ((5 > 4) or (3 == 5)) value: \",not ((5 > 4) or (3 == 5)))\n",
    "print(\"(True and True) and (True == False) value: \",(True and True) and (True == False))\n",
    "print(\"(not False) or (not True) value: \",(not False) or (not True))"
   ]
  },
  {
   "cell_type": "markdown",
   "id": "3267b1d7",
   "metadata": {},
   "source": [
    "### 5. What are the six comparison operators?"
   ]
  },
  {
   "cell_type": "markdown",
   "id": "d6d979f2",
   "metadata": {},
   "source": [
    "<pre>\n",
    "1. <  - less than operator\n",
    "2. <= - less than or equal to operator\n",
    "3. >  - greater than operator\n",
    "4. >= - greater than or equal to operator\n",
    "5. == - equal to operator\n",
    "6. != - not equal to operator\n",
    "<pre>"
   ]
  },
  {
   "cell_type": "markdown",
   "id": "f4ed6fa6",
   "metadata": {},
   "source": [
    "### 6. How do you tell the difference between the equal to and assignment operators?\n",
    "### Describe a condition and when you would use one."
   ]
  },
  {
   "cell_type": "markdown",
   "id": "184fa86a",
   "metadata": {},
   "source": [
    "<pre>\n",
    "=  - it is an assignment operator and used to assign a value to variable.\n",
    "== - it is a comparision operator and used to compare two values\n",
    "<pre>"
   ]
  },
  {
   "cell_type": "code",
   "execution_count": 12,
   "id": "9b85249a",
   "metadata": {},
   "outputs": [
    {
     "name": "stdout",
     "output_type": "stream",
     "text": [
      "False\n"
     ]
    }
   ],
   "source": [
    "# Example of equal to operator\n",
    "a = 4\n",
    "b = 6\n",
    "print(a == b)"
   ]
  },
  {
   "cell_type": "code",
   "execution_count": 13,
   "id": "03eb1170",
   "metadata": {},
   "outputs": [
    {
     "name": "stdout",
     "output_type": "stream",
     "text": [
      "10\n"
     ]
    }
   ],
   "source": [
    "# Example of assignment operator\n",
    "a = 10\n",
    "print(a)"
   ]
  },
  {
   "cell_type": "markdown",
   "id": "c74dc15d",
   "metadata": {},
   "source": [
    "### 7. Identify the three blocks in this code:"
   ]
  },
  {
   "cell_type": "markdown",
   "id": "1ed72144",
   "metadata": {},
   "source": [
    "<pre>\n",
    "spam = 0\n",
    "if spam == 10:\n",
    "print('eggs')\n",
    "if spam > 5:\n",
    "print('bacon')\n",
    "else:\n",
    "print('ham')\n",
    "print('spam')\n",
    "print('spam')\n",
    "<pre>"
   ]
  },
  {
   "cell_type": "markdown",
   "id": "a5d038b6",
   "metadata": {},
   "source": [
    "#### First Block of code\n",
    "<pre>\n",
    "spam = 0\n",
    "</pre>\n",
    "#### Second block of code\n",
    "<pre>\n",
    "if spam == 10:\n",
    "    print('eggs')\n",
    "</pre>    \n",
    "#### Third block of code \n",
    "<pre>\n",
    "if spam > 5:\n",
    "    print('bacon')\n",
    "else:\n",
    "    print('ham')\n",
    "    print('spam')\n",
    "    print('spam')\n",
    "</pre>"
   ]
  },
  {
   "cell_type": "markdown",
   "id": "3faddf27",
   "metadata": {},
   "source": [
    "### 8. Write code that prints Hello if 1 is stored in spam, prints Howdy if 2 is stored in spam, and prints Greetings! if anything else is stored in spam."
   ]
  },
  {
   "cell_type": "code",
   "execution_count": 14,
   "id": "6c765731",
   "metadata": {},
   "outputs": [
    {
     "name": "stdout",
     "output_type": "stream",
     "text": [
      "Enter value for spam: 2\n",
      "Howdy\n"
     ]
    }
   ],
   "source": [
    "spam = int(input(\"Enter value for spam: \"))\n",
    "if spam == 1:\n",
    "    print(\"Hello\")\n",
    "elif spam == 2:\n",
    "    print(\"Howdy\")\n",
    "else:\n",
    "    print(\"Greetings!\")"
   ]
  },
  {
   "cell_type": "markdown",
   "id": "98d8ae4a",
   "metadata": {},
   "source": [
    "### 9.If your programme is stuck in an endless loop, what keys you’ll press?"
   ]
  },
  {
   "cell_type": "markdown",
   "id": "db62baea",
   "metadata": {},
   "source": [
    "<pre>\n",
    "In Jupyter notebook we shutdown the kernel.\n",
    "In Command prompt we press CTRL + C Command.\n",
    "</pre>"
   ]
  },
  {
   "cell_type": "markdown",
   "id": "e9cf6028",
   "metadata": {},
   "source": [
    "### 10. How can you tell the difference between break and continue?"
   ]
  },
  {
   "cell_type": "markdown",
   "id": "da96ebe4",
   "metadata": {},
   "source": [
    "<pre>\n",
    "break : The break statement is used to terminate the loop.\n",
    "Continue: The continue statement is opposite to break, instead of terminating the loop it will start next iteration.\n",
    "</pre>"
   ]
  },
  {
   "cell_type": "code",
   "execution_count": 17,
   "id": "570a9749",
   "metadata": {},
   "outputs": [
    {
     "name": "stdout",
     "output_type": "stream",
     "text": [
      "1\n",
      "2\n"
     ]
    }
   ],
   "source": [
    "# Example of break\n",
    "a = [1,2,3,4,5]\n",
    "for i in a:\n",
    "    if i == 3:\n",
    "        break\n",
    "    print(i)"
   ]
  },
  {
   "cell_type": "code",
   "execution_count": 19,
   "id": "bc58fb6a",
   "metadata": {},
   "outputs": [
    {
     "name": "stdout",
     "output_type": "stream",
     "text": [
      "1\n",
      "2\n",
      "4\n",
      "5\n"
     ]
    }
   ],
   "source": [
    "# Example of continue\n",
    "a = [1,2,3,4,5]\n",
    "for i in a:\n",
    "    if i == 3:\n",
    "        continue\n",
    "    print(i)"
   ]
  },
  {
   "cell_type": "markdown",
   "id": "6531d8aa",
   "metadata": {},
   "source": [
    "### 11. In a for loop, what is the difference between range(10), range(0, 10), and range(0, 10, 1)?"
   ]
  },
  {
   "cell_type": "markdown",
   "id": "d74e009b",
   "metadata": {},
   "source": [
    "<pre>\n",
    "There is no difference between range(10), range(0, 10), and range(0, 10, 1).\n",
    "1. If we pass single argument to range function, Then interpreter take that value as end value and \n",
    "by default starting value will be 0 and step value will be  1.\n",
    "2. If we pass two arguments to range function, then interpreter take those 2 values as start and end values\n",
    "and by default step value will be 1.\n",
    "3. If we pass three arguments to range function, then interpreter will take those 3 values as \n",
    "start, end and step values.\n",
    "</pre>"
   ]
  },
  {
   "cell_type": "markdown",
   "id": "27577fbc",
   "metadata": {},
   "source": [
    "### 12. Write a short program that prints the numbers 1 to 10 using a for loop. Then write an equivalent program that prints the numbers 1 to 10 using a while loop."
   ]
  },
  {
   "cell_type": "code",
   "execution_count": 21,
   "id": "58647d82",
   "metadata": {},
   "outputs": [
    {
     "name": "stdout",
     "output_type": "stream",
     "text": [
      "1\n",
      "2\n",
      "3\n",
      "4\n",
      "5\n",
      "6\n",
      "7\n",
      "8\n",
      "9\n",
      "10\n"
     ]
    }
   ],
   "source": [
    "# for loop\n",
    "for i in range(1,11):\n",
    "    print(i)"
   ]
  },
  {
   "cell_type": "code",
   "execution_count": 24,
   "id": "5ba7c275",
   "metadata": {},
   "outputs": [
    {
     "name": "stdout",
     "output_type": "stream",
     "text": [
      "1\n",
      "2\n",
      "3\n",
      "4\n",
      "5\n",
      "6\n",
      "7\n",
      "8\n",
      "9\n",
      "10\n"
     ]
    }
   ],
   "source": [
    "# while loop\n",
    "i = 1\n",
    "while i <= 10:\n",
    "    print(i)\n",
    "    i += 1"
   ]
  },
  {
   "cell_type": "markdown",
   "id": "3fc72671",
   "metadata": {},
   "source": [
    "### 13. If you had a function named bacon() inside a module named spam, how would you call it after importing spam?"
   ]
  },
  {
   "cell_type": "markdown",
   "id": "c1e607ad",
   "metadata": {},
   "source": [
    "#### importing a module\n",
    "import spam\n",
    "#### calling a function inside module\n",
    "spam.bacon()"
   ]
  },
  {
   "cell_type": "code",
   "execution_count": null,
   "id": "92f5e830",
   "metadata": {},
   "outputs": [],
   "source": []
  }
 ],
 "metadata": {
  "kernelspec": {
   "display_name": "Python 3 (ipykernel)",
   "language": "python",
   "name": "python3"
  },
  "language_info": {
   "codemirror_mode": {
    "name": "ipython",
    "version": 3
   },
   "file_extension": ".py",
   "mimetype": "text/x-python",
   "name": "python",
   "nbconvert_exporter": "python",
   "pygments_lexer": "ipython3",
   "version": "3.9.7"
  }
 },
 "nbformat": 4,
 "nbformat_minor": 5
}
