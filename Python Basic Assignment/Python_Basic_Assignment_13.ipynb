{
 "cells": [
  {
   "cell_type": "markdown",
   "id": "769a846e",
   "metadata": {},
   "source": [
    "### 1. What advantages do Excel spreadsheets have over CSV spreadsheets?"
   ]
  },
  {
   "cell_type": "markdown",
   "id": "c1d740c5",
   "metadata": {},
   "source": [
    "- An Excel not only stores data but can also do operations on the data by usinf formulas, macros etc but in CSV we cannot do operations on the data.<br>\n",
    "- In data-warehouse, Excel is preferable for detailed standardized schema specification.<br>\n",
    "- Reading large files user is much easier in Excel for the end user.<br>\n",
    "- Excel can connect to external data sources to fetch data. You can use custom add-in in Excel to increase its functionality. Excel allows for Review of Data with detailed tracking and commenting feature."
   ]
  },
  {
   "cell_type": "markdown",
   "id": "d2779ab3",
   "metadata": {},
   "source": [
    "### 2.What do you pass to csv.reader() and csv.writer() to create reader and writer objects?"
   ]
  },
  {
   "cell_type": "markdown",
   "id": "8353d833",
   "metadata": {},
   "source": [
    "We will pass file objects to csv.reader() and csv.writer() to create reader and writer objects"
   ]
  },
  {
   "cell_type": "markdown",
   "id": "33578ac4",
   "metadata": {},
   "source": [
    "### 3. What modes do File objects for reader and writer objects need to be opened in?"
   ]
  },
  {
   "cell_type": "markdown",
   "id": "6f7dbbf8",
   "metadata": {},
   "source": [
    "File objects for csv.reader() method need to be opened in read mode.<br>\n",
    "File objects for csv.writer() method need to be opened in write mode.<br>"
   ]
  },
  {
   "cell_type": "markdown",
   "id": "2c018aec",
   "metadata": {},
   "source": [
    "### 4. What method takes a list argument and writes it to a CSV file?"
   ]
  },
  {
   "cell_type": "markdown",
   "id": "e42f65e0",
   "metadata": {},
   "source": [
    "__writerow()__ and __writerows()__ takes a list argument and writes it to a csv file.<br>\n",
    "__writerow()__ method used to write only single row whereas __writerows()__ method used to write multiple rows at once."
   ]
  },
  {
   "cell_type": "code",
   "execution_count": 3,
   "id": "b3779f00",
   "metadata": {},
   "outputs": [],
   "source": [
    "import csv\n",
    "header = ['name','age','salary']\n",
    "records = [\n",
    "    ['sai',25,1000],\n",
    "    ['krishna',26,1200]\n",
    "]\n",
    "with open('sample.csv','w') as f:\n",
    "    csvwriter = csv.writer(f)\n",
    "    csvwriter.writerow(header)\n",
    "    csvwriter.writerows(records)"
   ]
  },
  {
   "cell_type": "code",
   "execution_count": 4,
   "id": "3e0c56e3",
   "metadata": {},
   "outputs": [
    {
     "name": "stdout",
     "output_type": "stream",
     "text": [
      "['name', 'age', 'salary']\n",
      "[]\n",
      "['sai', '25', '1000']\n",
      "[]\n",
      "['krishna', '26', '1200']\n",
      "[]\n"
     ]
    }
   ],
   "source": [
    "with open('sample.csv','r') as f:\n",
    "    csvreader = csv.reader(f)\n",
    "    for row in csvreader:\n",
    "        print(row)"
   ]
  },
  {
   "cell_type": "markdown",
   "id": "7fde195a",
   "metadata": {},
   "source": [
    "### 5. What do the keyword arguments delimiter and line terminator do?"
   ]
  },
  {
   "cell_type": "markdown",
   "id": "4a782c8b",
   "metadata": {},
   "source": [
    "A delimiter is a unique character or series of characters that indicates the beginning or end of a specific statement, string or function body set.<br>\n",
    "A line terminator is used to indicate the end of a line of text.<br>\n",
    "Example:<br>\n",
    "__sai,25,1000<br>\n",
    "krishna,26,1200__<br>\n",
    "\n",
    "Here __','__ is the delimiter and line terminator indicates the end of a line.<br>"
   ]
  },
  {
   "cell_type": "markdown",
   "id": "15612153",
   "metadata": {},
   "source": [
    "### 6. What function takes a string of JSON data and returns a Python data structure?"
   ]
  },
  {
   "cell_type": "markdown",
   "id": "9ce89b35",
   "metadata": {},
   "source": [
    "__loads()__ method takes a string of JSON data and returns a Python data structure"
   ]
  },
  {
   "cell_type": "code",
   "execution_count": 26,
   "id": "269fe88c",
   "metadata": {},
   "outputs": [
    {
     "name": "stdout",
     "output_type": "stream",
     "text": [
      "{\"name\" : \"sai\", \"age\" : 25, \"salary\" : 1000 }\n",
      "<class 'str'>\n",
      "{'name': 'sai', 'age': 25, 'salary': 1000}\n",
      "<class 'dict'>\n"
     ]
    }
   ],
   "source": [
    "import json\n",
    "details = '{\"name\" : \"sai\", \"age\" : 25, \"salary\" : 1000 }'\n",
    "print(details)\n",
    "print(type(details))\n",
    "details_dict = json.loads(details)\n",
    "print(details_dict)\n",
    "print(type(details_dict))"
   ]
  },
  {
   "cell_type": "markdown",
   "id": "db300ab9",
   "metadata": {},
   "source": [
    "### 7. What function takes a Python data structure and returns a string of JSON data?"
   ]
  },
  {
   "cell_type": "markdown",
   "id": "a07d7a01",
   "metadata": {},
   "source": [
    "__dumps()__ method takes a Python data structure and returns a string of JSON data"
   ]
  },
  {
   "cell_type": "code",
   "execution_count": 28,
   "id": "35ac1e48",
   "metadata": {},
   "outputs": [
    {
     "name": "stdout",
     "output_type": "stream",
     "text": [
      "{'name': 'sai', 'age': 25, 'salary': 1000}\n",
      "<class 'dict'>\n",
      "{\"name\": \"sai\", \"age\": 25, \"salary\": 1000}\n",
      "<class 'str'>\n"
     ]
    }
   ],
   "source": [
    "import json\n",
    "details = {\"name\" : \"sai\", \"age\" : 25, \"salary\" : 1000 }\n",
    "print(details)\n",
    "print(type(details))\n",
    "details_dict = json.dumps(details)\n",
    "print(details_dict)\n",
    "print(type(details_dict))"
   ]
  },
  {
   "cell_type": "code",
   "execution_count": null,
   "id": "18fe7a1c",
   "metadata": {},
   "outputs": [],
   "source": []
  }
 ],
 "metadata": {
  "kernelspec": {
   "display_name": "Python 3 (ipykernel)",
   "language": "python",
   "name": "python3"
  },
  "language_info": {
   "codemirror_mode": {
    "name": "ipython",
    "version": 3
   },
   "file_extension": ".py",
   "mimetype": "text/x-python",
   "name": "python",
   "nbconvert_exporter": "python",
   "pygments_lexer": "ipython3",
   "version": "3.9.7"
  }
 },
 "nbformat": 4,
 "nbformat_minor": 5
}
