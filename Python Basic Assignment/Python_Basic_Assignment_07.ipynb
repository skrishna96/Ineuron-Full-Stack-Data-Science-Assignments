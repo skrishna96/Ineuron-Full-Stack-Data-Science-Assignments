{
 "cells": [
  {
   "cell_type": "markdown",
   "id": "dce4fcda",
   "metadata": {},
   "source": [
    "### 1. What is the name of the feature responsible for generating Regex objects?"
   ]
  },
  {
   "cell_type": "markdown",
   "id": "c7cdf5a0",
   "metadata": {},
   "source": [
    "__re.compile()__ method is responsible for generating Regex objects"
   ]
  },
  {
   "cell_type": "markdown",
   "id": "fa86e397",
   "metadata": {},
   "source": [
    "### 2. Why do raw strings often appear in Regex objects?"
   ]
  },
  {
   "cell_type": "markdown",
   "id": "f0bd362f",
   "metadata": {},
   "source": [
    "raw string are used so that __backslash(\\)__ character do not need to be escaped"
   ]
  },
  {
   "cell_type": "code",
   "execution_count": 2,
   "id": "885d0efa",
   "metadata": {},
   "outputs": [
    {
     "name": "stdout",
     "output_type": "stream",
     "text": [
      "\tTab\n"
     ]
    }
   ],
   "source": [
    "#Example\n",
    "print('\\tTab')"
   ]
  },
  {
   "cell_type": "code",
   "execution_count": 4,
   "id": "11a195a1",
   "metadata": {},
   "outputs": [
    {
     "name": "stdout",
     "output_type": "stream",
     "text": [
      "\\tTab\n"
     ]
    }
   ],
   "source": [
    "#Example with raw string\n",
    "print(r'\\tTab')"
   ]
  },
  {
   "cell_type": "markdown",
   "id": "41a20907",
   "metadata": {},
   "source": [
    "### 3. What is the return value of the search() method?"
   ]
  },
  {
   "cell_type": "markdown",
   "id": "ded77588",
   "metadata": {},
   "source": [
    "__re.search()__ method returns only the first match to the pattern from target String.<br>\n",
    "If no match found then it will return __None__ ."
   ]
  },
  {
   "cell_type": "code",
   "execution_count": 8,
   "id": "6065c4d4",
   "metadata": {},
   "outputs": [
    {
     "name": "stdout",
     "output_type": "stream",
     "text": [
      "<re.Match object; span=(0, 5), match='Hello'>\n"
     ]
    }
   ],
   "source": [
    "#Example 1\n",
    "import re\n",
    "s = \"Hello World hello\"\n",
    "pattern = re.compile(r'hello',re.I)\n",
    "match = pattern.search(s)\n",
    "print(match)"
   ]
  },
  {
   "cell_type": "code",
   "execution_count": 9,
   "id": "35bac75d",
   "metadata": {},
   "outputs": [
    {
     "name": "stdout",
     "output_type": "stream",
     "text": [
      "None\n"
     ]
    }
   ],
   "source": [
    "#Example 1\n",
    "import re\n",
    "s = \"Hello World hello\"\n",
    "pattern = re.compile(r'welcome',re.I)\n",
    "match = pattern.search(s)\n",
    "print(match)"
   ]
  },
  {
   "cell_type": "markdown",
   "id": "b793f578",
   "metadata": {},
   "source": [
    "### 4. From a Match item, how do you get the actual strings that match the pattern?"
   ]
  },
  {
   "cell_type": "markdown",
   "id": "2871d5a7",
   "metadata": {},
   "source": [
    "__re.group()__ method returns the actual strings that match the pattern"
   ]
  },
  {
   "cell_type": "code",
   "execution_count": 10,
   "id": "afdd556d",
   "metadata": {},
   "outputs": [
    {
     "name": "stdout",
     "output_type": "stream",
     "text": [
      "Hello\n"
     ]
    }
   ],
   "source": [
    "import re\n",
    "s = \"Hello World hello\"\n",
    "pattern = re.compile(r'hello',re.I)\n",
    "match = pattern.search(s)\n",
    "print(match.group())"
   ]
  },
  {
   "cell_type": "markdown",
   "id": "00a8fd1e",
   "metadata": {},
   "source": [
    "### 5. In the regex which created from the r'(\\d\\d\\d)-(\\d\\d\\d-\\d\\d\\d\\d)', what does group zero cover? Group 2? Group 1?"
   ]
  },
  {
   "cell_type": "markdown",
   "id": "c0717b6c",
   "metadata": {},
   "source": [
    "In the regex which created from the __r'(\\d\\d\\d)-(\\d\\d\\d-\\d\\d\\d\\d)'__ , group zero covers entire matched pattern.<br>\n",
    "Group 1 covers first tuple __(\\d\\d\\d)__ and Group 2 covers second tuple __(\\d\\d\\d-\\d\\d\\d\\d)__ ."
   ]
  },
  {
   "cell_type": "code",
   "execution_count": 13,
   "id": "18c49ee5",
   "metadata": {},
   "outputs": [
    {
     "name": "stdout",
     "output_type": "stream",
     "text": [
      "123-456-7890\n",
      "123\n",
      "456-7890\n"
     ]
    }
   ],
   "source": [
    "mobile_num = '123-456-7890'\n",
    "pattern = re.compile(r'(\\d\\d\\d)-(\\d\\d\\d-\\d\\d\\d\\d)')\n",
    "match = pattern.search(mobile_num)\n",
    "print(match.group(0))\n",
    "print(match.group(1))\n",
    "print(match.group(2))"
   ]
  },
  {
   "cell_type": "markdown",
   "id": "6485ba37",
   "metadata": {},
   "source": [
    "### 6. In standard expression syntax, parentheses and intervals have distinct meanings. How can you tell a regex that you want it to fit real parentheses and periods?"
   ]
  },
  {
   "cell_type": "markdown",
   "id": "15a3f433",
   "metadata": {},
   "source": [
    "__paranthesis__ and __periods(.)__ can be handled with the __backslash(\\)__ in __re.compile()__ method"
   ]
  },
  {
   "cell_type": "code",
   "execution_count": 16,
   "id": "8664dea6",
   "metadata": {},
   "outputs": [
    {
     "name": "stdout",
     "output_type": "stream",
     "text": [
      "(123).456.7890\n"
     ]
    }
   ],
   "source": [
    "mobile_num = '(123).456.7890'\n",
    "pattern = re.compile(r'(\\(\\d\\d\\d\\))\\.(\\d\\d\\d\\.\\d\\d\\d\\d)')\n",
    "match = pattern.search(mobile_num)\n",
    "print(match.group(0))"
   ]
  },
  {
   "cell_type": "markdown",
   "id": "60e74f63",
   "metadata": {},
   "source": [
    "### 7. The findall() method returns a string list or a list of string tuples. What causes it to return one of the two options?"
   ]
  },
  {
   "cell_type": "markdown",
   "id": "80fdbf38",
   "metadata": {},
   "source": [
    "if the RegEx has no groups then it will return list of strings that matched the pattern. <br>\n",
    "if the RegEx has groups then it will return list of tuple of strings that matched the pattern. <br>"
   ]
  },
  {
   "cell_type": "code",
   "execution_count": 19,
   "id": "99732eb5",
   "metadata": {},
   "outputs": [
    {
     "name": "stdout",
     "output_type": "stream",
     "text": [
      "[('123', '456-7890')]\n",
      "['123-456-7890']\n"
     ]
    }
   ],
   "source": [
    "#Example with groups\n",
    "mobile_num = '123-456-7890'\n",
    "pattern = re.compile(r'(\\d\\d\\d)-(\\d\\d\\d-\\d\\d\\d\\d)')\n",
    "match = pattern.findall(mobile_num)\n",
    "print(match)\n",
    "#Example without groups\n",
    "mobile_num = '123-456-7890'\n",
    "pattern = re.compile(r'\\d\\d\\d-\\d\\d\\d-\\d\\d\\d\\d')\n",
    "match = pattern.findall(mobile_num)\n",
    "print(match)"
   ]
  },
  {
   "cell_type": "markdown",
   "id": "42bdf40b",
   "metadata": {},
   "source": [
    "### 8. In standard expressions, what does the | character mean?"
   ]
  },
  {
   "cell_type": "markdown",
   "id": "1235e05e",
   "metadata": {},
   "source": [
    "In Standard expressions __pipe(|)__ symbol means __OR__ operation"
   ]
  },
  {
   "cell_type": "code",
   "execution_count": 24,
   "id": "b1df0c68",
   "metadata": {},
   "outputs": [
    {
     "name": "stdout",
     "output_type": "stream",
     "text": [
      "<re.Match object; span=(1, 8), match='Mr john'>\n",
      "<re.Match object; span=(9, 16), match='Ms rose'>\n"
     ]
    }
   ],
   "source": [
    "names = '''\n",
    "Mr john\n",
    "Ms rose'''\n",
    "pattern = re.compile(r'(Mr|Ms)\\s[a-z]\\w+')\n",
    "matches = pattern.finditer(names)\n",
    "for match in matches:\n",
    "    print(match)"
   ]
  },
  {
   "cell_type": "markdown",
   "id": "20446c23",
   "metadata": {},
   "source": [
    "### 9. In regular expressions, what does the character stand for?"
   ]
  },
  {
   "cell_type": "markdown",
   "id": "6d18aa66",
   "metadata": {},
   "source": [
    "In regular expressions, __?__ character represent the zero or more matches"
   ]
  },
  {
   "cell_type": "code",
   "execution_count": 28,
   "id": "ed8a0950",
   "metadata": {},
   "outputs": [
    {
     "name": "stdout",
     "output_type": "stream",
     "text": [
      "<re.Match object; span=(1, 3), match='Mr'>\n",
      "<re.Match object; span=(9, 11), match='Mr'>\n",
      "<re.Match object; span=(18, 19), match='M'>\n"
     ]
    }
   ],
   "source": [
    "names = '''\n",
    "Mr john\n",
    "Mr peter\n",
    "Ms rose'''\n",
    "pattern = re.compile(r'Mr?')\n",
    "matches = pattern.finditer(names)\n",
    "for match in matches:\n",
    "    print(match)"
   ]
  },
  {
   "cell_type": "markdown",
   "id": "47898bbc",
   "metadata": {},
   "source": [
    "### 10.In regular expressions, what is the difference between the + and * characters?"
   ]
  },
  {
   "cell_type": "markdown",
   "id": "e1292725",
   "metadata": {},
   "source": [
    "In Regular expressions __+__ represents one or more matches and __*__ represents zero or more matches."
   ]
  },
  {
   "cell_type": "code",
   "execution_count": 34,
   "id": "6515fe39",
   "metadata": {},
   "outputs": [
    {
     "name": "stdout",
     "output_type": "stream",
     "text": [
      "['Mr', 'Mr', 'M']\n"
     ]
    }
   ],
   "source": [
    "#Example 1\n",
    "names = '''\n",
    "Mr john\n",
    "Mr peter\n",
    "Ms rose'''\n",
    "pattern = re.compile(r'Mr*')\n",
    "matches = pattern.findall(names)\n",
    "print(matches)"
   ]
  },
  {
   "cell_type": "code",
   "execution_count": 35,
   "id": "42144d69",
   "metadata": {},
   "outputs": [
    {
     "name": "stdout",
     "output_type": "stream",
     "text": [
      "['Mr', 'Mr']\n"
     ]
    }
   ],
   "source": [
    "#Example 2\n",
    "names = '''\n",
    "Mr john\n",
    "Mr peter\n",
    "Ms rose'''\n",
    "pattern = re.compile(r'Mr+')\n",
    "matches = pattern.findall(names)\n",
    "print(matches)"
   ]
  },
  {
   "cell_type": "markdown",
   "id": "ef931fef",
   "metadata": {},
   "source": [
    "### 11. What is the difference between {4} and {4,5} in regular expression?"
   ]
  },
  {
   "cell_type": "markdown",
   "id": "6ba0f2cb",
   "metadata": {},
   "source": [
    "__{4}__ means it will match exatly the 4 instances of preceeding group and __{4,5}__ means it will match between 4 and 5 instances of preceeding group"
   ]
  },
  {
   "cell_type": "code",
   "execution_count": 44,
   "id": "9781403f",
   "metadata": {},
   "outputs": [
    {
     "name": "stdout",
     "output_type": "stream",
     "text": [
      "['1234-567-890']\n",
      "['2345-67-890']\n"
     ]
    }
   ],
   "source": [
    "mobile_num1 = '1234-567-890'\n",
    "mobile_num2 = '12345-67-890'\n",
    "pattern = re.compile(r'\\d{4}-\\d{2,3}-\\d{2,3}')\n",
    "match = pattern.findall(mobile_num1)\n",
    "print(match)\n",
    "pattern1 = re.compile(r'\\d{4}-\\d{2,3}-\\d{2,3}')\n",
    "match1 = pattern.findall(mobile_num2)\n",
    "print(match1)"
   ]
  },
  {
   "cell_type": "code",
   "execution_count": 45,
   "id": "9b4ac33f",
   "metadata": {},
   "outputs": [
    {
     "name": "stdout",
     "output_type": "stream",
     "text": [
      "['1234-567-890']\n",
      "['12345-67-890']\n"
     ]
    }
   ],
   "source": [
    "mobile_num1 = '1234-567-890'\n",
    "mobile_num2 = '12345-67-890'\n",
    "pattern = re.compile(r'\\d{4,5}-\\d{2,3}-\\d{2,3}')\n",
    "match = pattern.findall(mobile_num1)\n",
    "print(match)\n",
    "pattern1 = re.compile(r'\\d{4,5}-\\d{2,3}-\\d{2,3}')\n",
    "match1 = pattern.findall(mobile_num2)\n",
    "print(match1)"
   ]
  },
  {
   "cell_type": "markdown",
   "id": "52facbdd",
   "metadata": {},
   "source": [
    "### 12. What do you mean by the \\d, \\w, and \\s shorthand character classes signify in regular expressions?"
   ]
  },
  {
   "cell_type": "markdown",
   "id": "a7c200eb",
   "metadata": {},
   "source": [
    "\\d - matches digit (0-9)<br>\n",
    "\\w - matches Word Character (a-z, A-Z, 0-9, _)<br>\n",
    "\\s - matches special character (space, tab, newline)<br>"
   ]
  },
  {
   "cell_type": "markdown",
   "id": "5881d507",
   "metadata": {},
   "source": [
    "### 13. What do means by \\D, \\W, and \\S shorthand character classes signify in regular expressions?"
   ]
  },
  {
   "cell_type": "markdown",
   "id": "15e5e4d8",
   "metadata": {},
   "source": [
    "\\D - matches non-digit character which is equivalent to [^0-9]<br>\n",
    "\\W - matches no word character[^a-zA-Z0-9_]<br>\n",
    "\\S - matches non special character"
   ]
  },
  {
   "cell_type": "markdown",
   "id": "abbe9c76",
   "metadata": {},
   "source": [
    "### 14. What is the difference between .\\*? and .\\*?"
   ]
  },
  {
   "cell_type": "markdown",
   "id": "e14678bb",
   "metadata": {},
   "source": [
    "__.\\*?__ returns 0 or 1 matches whereas __.*__ returns 1 or more matches"
   ]
  },
  {
   "cell_type": "code",
   "execution_count": 54,
   "id": "90ab6cbd",
   "metadata": {},
   "outputs": [
    {
     "name": "stdout",
     "output_type": "stream",
     "text": [
      "['', '', 'h', '', 'e', '', 'l', '', 'l', '', 'o', '', ' ', '', 'w', '', 'o', '', 'r', '', 'l', '', 'd', '', '', 'w', '', 'e', '', 'l', '', 'c', '', 'o', '', 'm', '', 'e', '', ' ', '', 't', '', 'e', '', 'a', '', 'm', '']\n"
     ]
    }
   ],
   "source": [
    "s = '''\n",
    "hello world\n",
    "welcome team'''\n",
    "pattern = re.compile(r'.*?')\n",
    "match = pattern.findall(s)\n",
    "print(match)"
   ]
  },
  {
   "cell_type": "code",
   "execution_count": 55,
   "id": "8dac4d9d",
   "metadata": {},
   "outputs": [
    {
     "name": "stdout",
     "output_type": "stream",
     "text": [
      "['', 'hello world', '', 'welcome team', '']\n"
     ]
    }
   ],
   "source": [
    "s = '''\n",
    "hello world\n",
    "welcome team'''\n",
    "pattern = re.compile(r'.*')\n",
    "match = pattern.findall(s)\n",
    "print(match)"
   ]
  },
  {
   "cell_type": "markdown",
   "id": "4940a1e8",
   "metadata": {},
   "source": [
    "### 15. What is the syntax for matching both numbers and lowercase letters with a character class?"
   ]
  },
  {
   "cell_type": "markdown",
   "id": "a41f9574",
   "metadata": {},
   "source": [
    "The syntax for matching both numbers and lowercase letters with a character class is __[a-z0-9]__ ."
   ]
  },
  {
   "cell_type": "code",
   "execution_count": 57,
   "id": "6afd6838",
   "metadata": {},
   "outputs": [
    {
     "name": "stdout",
     "output_type": "stream",
     "text": [
      "['h', 'e', 'l', 'l', 'o', '1', '2', '3']\n"
     ]
    }
   ],
   "source": [
    "s = 'hello 123 ABC'\n",
    "pattern = re.compile(r'[a-z0-9]')\n",
    "match = pattern.findall(s)\n",
    "print(match)"
   ]
  },
  {
   "cell_type": "markdown",
   "id": "342172f1",
   "metadata": {},
   "source": [
    "### 16. What is the procedure for making a normal expression in regax case insensitive?"
   ]
  },
  {
   "cell_type": "markdown",
   "id": "31574e4b",
   "metadata": {},
   "source": [
    "We can use either __re.I__ or __re.IGNORECASE__ for making a normal expression in regax case insensitive"
   ]
  },
  {
   "cell_type": "code",
   "execution_count": 59,
   "id": "35c1e4c9",
   "metadata": {},
   "outputs": [
    {
     "name": "stdout",
     "output_type": "stream",
     "text": [
      "['Hello']\n"
     ]
    }
   ],
   "source": [
    "s = 'Hello'\n",
    "pattern = re.compile(r'hello',re.I)\n",
    "match = pattern.findall(s)\n",
    "print(match)"
   ]
  },
  {
   "cell_type": "code",
   "execution_count": 60,
   "id": "40c47c61",
   "metadata": {},
   "outputs": [
    {
     "name": "stdout",
     "output_type": "stream",
     "text": [
      "['Hello']\n"
     ]
    }
   ],
   "source": [
    "s = 'Hello'\n",
    "pattern = re.compile(r'hello',re.IGNORECASE)\n",
    "match = pattern.findall(s)\n",
    "print(match)"
   ]
  },
  {
   "cell_type": "markdown",
   "id": "e1744379",
   "metadata": {},
   "source": [
    "### 17. What does the . character normally match? What does it match if re.DOTALL is passed as 2nd argument in re.compile()?"
   ]
  },
  {
   "cell_type": "markdown",
   "id": "5c83d748",
   "metadata": {},
   "source": [
    "Generally . character matches all characters except new line character an if __re.DOTALL__ is passed as 2nd argument in __re.compile()__ method it will match all characters including new line character"
   ]
  },
  {
   "cell_type": "code",
   "execution_count": 61,
   "id": "c4b02916",
   "metadata": {},
   "outputs": [
    {
     "name": "stdout",
     "output_type": "stream",
     "text": [
      "['h', 'e', 'l', 'l', 'o', 'w', 'e', 'l', 'c', 'o', 'm', 'e']\n"
     ]
    }
   ],
   "source": [
    "s = '''\n",
    "hello\n",
    "welcome'''\n",
    "pattern = re.compile(r'.',re.I)\n",
    "match = pattern.findall(s)\n",
    "print(match)"
   ]
  },
  {
   "cell_type": "code",
   "execution_count": 62,
   "id": "e2175ba0",
   "metadata": {},
   "outputs": [
    {
     "name": "stdout",
     "output_type": "stream",
     "text": [
      "['\\n', 'h', 'e', 'l', 'l', 'o', '\\n', 'w', 'e', 'l', 'c', 'o', 'm', 'e']\n"
     ]
    }
   ],
   "source": [
    "s = '''\n",
    "hello\n",
    "welcome'''\n",
    "pattern = re.compile(r'.',re.DOTALL)\n",
    "match = pattern.findall(s)\n",
    "print(match)"
   ]
  },
  {
   "cell_type": "markdown",
   "id": "3ae19a5d",
   "metadata": {},
   "source": [
    "### 18. If numReg = re.compile(r'\\d+'), what will numRegex.sub('X', '11 drummers, 10 pipers, five rings, 4 hen') return?"
   ]
  },
  {
   "cell_type": "code",
   "execution_count": 65,
   "id": "0692738d",
   "metadata": {},
   "outputs": [
    {
     "name": "stdout",
     "output_type": "stream",
     "text": [
      "X drummers, X pipers, five rings, X hen\n"
     ]
    }
   ],
   "source": [
    "numRegex = re.compile(r'\\d+')\n",
    "match = numRegex.sub('X', '11 drummers, 10 pipers, five rings, 4 hen')\n",
    "print(match)"
   ]
  },
  {
   "cell_type": "markdown",
   "id": "1040cd48",
   "metadata": {},
   "source": [
    "### 19. What does passing re.VERBOSE as the 2nd argument to re.compile() allow to do?"
   ]
  },
  {
   "cell_type": "markdown",
   "id": "c6029701",
   "metadata": {},
   "source": [
    "__re.VERBOSE__ flag allows the user to write regular expressions that can look nice and more readable"
   ]
  },
  {
   "cell_type": "code",
   "execution_count": 67,
   "id": "1a40786d",
   "metadata": {},
   "outputs": [
    {
     "name": "stdout",
     "output_type": "stream",
     "text": [
      "['123-456-7890']\n"
     ]
    }
   ],
   "source": [
    "phone_num = '123-456-7890'\n",
    "pattern = re.compile('''\n",
    "\\d{3} #first 3 characters\n",
    "-\n",
    "\\d{3} #middle 3 characters\n",
    "-\n",
    "\\d{4} #Last 4 characters\n",
    "''',re.IGNORECASE | re.VERBOSE)\n",
    "match = pattern.findall(phone_num)\n",
    "print(match)"
   ]
  },
  {
   "cell_type": "markdown",
   "id": "9ffd50b7",
   "metadata": {},
   "source": [
    "### 20. How would you write a regex that match a number with comma for every three digits? It must match the given following:\n",
    "#### '42'\n",
    "#### '1,234'\n",
    "#### '6,368,745'\n",
    "#### but not the following:\n",
    "#### '12,34,567' (which has only two digits between the commas)\n",
    "#### '1234' (which lacks commas)"
   ]
  },
  {
   "cell_type": "code",
   "execution_count": 71,
   "id": "0a435b05",
   "metadata": {},
   "outputs": [
    {
     "name": "stdout",
     "output_type": "stream",
     "text": [
      "42 : <re.Match object; span=(0, 2), match='42'>\n",
      "1,234 : <re.Match object; span=(0, 5), match='1,234'>\n",
      "6,368,745 : <re.Match object; span=(0, 9), match='6,368,745'>\n",
      "12,34,567 : None\n",
      "1234 : None\n"
     ]
    }
   ],
   "source": [
    "pattern = re.compile(r'^\\d{1,3}(,\\d{3})*$')\n",
    "match = re.compile(pattern)\n",
    "lst = ['42','1,234','6,368,745','12,34,567','1234']\n",
    "for element in lst:\n",
    "    print(element,':', match.search(element))"
   ]
  },
  {
   "cell_type": "markdown",
   "id": "07df7803",
   "metadata": {},
   "source": [
    "### 21. How would you write a regex that matches the full name of someone whose last name is Watanabe? You can assume that the first name that comes before it will always be one word that begins with a capital letter. The regex must match the following:\n",
    "#### 'Haruto Watanabe'\n",
    "#### 'Alice Watanabe'\n",
    "#### 'RoboCop Watanabe'\n",
    "#### but not the following:\n",
    "#### 'haruto Watanabe' (where the first name is not capitalized)\n",
    "#### 'Mr. Watanabe' (where the preceding word has a nonletter character)\n",
    "#### 'Watanabe' (which has no first name)\n",
    "#### 'Haruto watanabe' (where Watanabe is not capitalized)"
   ]
  },
  {
   "cell_type": "code",
   "execution_count": 72,
   "id": "c45a1593",
   "metadata": {},
   "outputs": [
    {
     "name": "stdout",
     "output_type": "stream",
     "text": [
      "Haruto Watanabe : <re.Match object; span=(0, 15), match='Haruto Watanabe'>\n",
      "Alice Watanabe : <re.Match object; span=(0, 14), match='Alice Watanabe'>\n",
      "RoboCop Watanabe : <re.Match object; span=(4, 16), match='Cop Watanabe'>\n",
      "haruto Watanabe : None\n",
      "Mr. Watanabe : None\n",
      "Watanabe : None\n",
      "Haruto watanabe : None\n"
     ]
    }
   ],
   "source": [
    "pattern = r'[A-Z]{1}[a-z]*\\sWatanabe'\n",
    "match = re.compile(pattern)\n",
    "lst = ['Haruto Watanabe','Alice Watanabe','RoboCop Watanabe','haruto Watanabe','Mr. Watanabe','Watanabe','Haruto watanabe']\n",
    "for element in lst:\n",
    "    print(element,':',match.search(element))"
   ]
  },
  {
   "cell_type": "markdown",
   "id": "e0b553be",
   "metadata": {},
   "source": [
    "### 22. How would you write a regex that matches a sentence where the first word is either Alice, Bob, or Carol; the second word is either eats, pets, or throws; the third word is apples, cats, or baseballs; and the sentence ends with a period? This regex should be case-insensitive. It must match the following:\n",
    "#### 'Alice eats apples.'\n",
    "#### 'Bob pets cats.'\n",
    "#### 'Carol throws baseballs.'\n",
    "#### 'Alice throws Apples.'\n",
    "#### 'BOB EATS CATS.'\n",
    "#### but not the following:\n",
    "#### 'RoboCop eats apples.'\n",
    "#### 'ALICE THROWS FOOTBALLS.'\n",
    "#### 'Carol eats 7 cats.'"
   ]
  },
  {
   "cell_type": "code",
   "execution_count": 76,
   "id": "bd51671e",
   "metadata": {},
   "outputs": [
    {
     "name": "stdout",
     "output_type": "stream",
     "text": [
      "Alice eats apples. : <re.Match object; span=(0, 18), match='Alice eats apples.'>\n",
      "Bob pets cats. : <re.Match object; span=(0, 14), match='Bob pets cats.'>\n",
      "Carol throws baseballs. : <re.Match object; span=(0, 23), match='Carol throws baseballs.'>\n",
      "Alice throws Apples. : <re.Match object; span=(0, 20), match='Alice throws Apples.'>\n",
      "BOB EATS CATS. : <re.Match object; span=(0, 14), match='BOB EATS CATS.'>\n",
      "RoboCop eats apples. : None\n",
      "ALICE THROWS FOOTBALLS. : None\n",
      "Carol eats 7 cats. : None\n"
     ]
    }
   ],
   "source": [
    "pattern = r'(Alice|Bob|Carol)\\s(eats|pets|throws)\\s(apples|cats|baseballs)\\.'\n",
    "match = re.compile(pattern,re.IGNORECASE)\n",
    "lst = ['Alice eats apples.','Bob pets cats.','Carol throws baseballs.','Alice throws Apples.','BOB EATS CATS.','RoboCop eats apples.'\n",
    ",'ALICE THROWS FOOTBALLS.','Carol eats 7 cats.']\n",
    "for element in lst:\n",
    "    print(element,':',match.search(element))"
   ]
  },
  {
   "cell_type": "code",
   "execution_count": null,
   "id": "46d8d218",
   "metadata": {},
   "outputs": [],
   "source": []
  }
 ],
 "metadata": {
  "kernelspec": {
   "display_name": "Python 3 (ipykernel)",
   "language": "python",
   "name": "python3"
  },
  "language_info": {
   "codemirror_mode": {
    "name": "ipython",
    "version": 3
   },
   "file_extension": ".py",
   "mimetype": "text/x-python",
   "name": "python",
   "nbconvert_exporter": "python",
   "pygments_lexer": "ipython3",
   "version": "3.10.0"
  }
 },
 "nbformat": 4,
 "nbformat_minor": 5
}
