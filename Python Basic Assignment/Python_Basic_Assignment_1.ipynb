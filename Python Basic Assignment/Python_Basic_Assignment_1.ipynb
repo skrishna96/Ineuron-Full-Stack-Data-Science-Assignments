{
 "cells": [
  {
   "cell_type": "markdown",
   "id": "f9dd7977",
   "metadata": {},
   "source": [
    "### 1. In the below elements which of them are values or an expression? eg:- values can be integer or string and expressions will be mathematical operators.\n",
    "### * \n",
    "### 'hello'\n",
    "### -87.8\n",
    "### - \n",
    "### / \n",
    "### +\t\n",
    "### 6 \n"
   ]
  },
  {
   "cell_type": "markdown",
   "id": "a1f785fa",
   "metadata": {
    "raw_mimetype": "text/html"
   },
   "source": [
    "<pre>\n",
    "Ans:\n",
    "\n",
    "1. *        -->   Multiplication Operator\n",
    "2. 'hello'  -->   String Value\n",
    "3. -87.8    -->   Float Value\n",
    "4. -        -->   Subtraction Operator\n",
    "5. /        -->   Division Operator\n",
    "6. +        -->   Addition Operator\n",
    "7. 6        -->   Integer Value\n",
    "<pre>"
   ]
  },
  {
   "cell_type": "markdown",
   "id": "eec3f5c6",
   "metadata": {},
   "source": [
    "### 2. What is the difference between string and variable?"
   ]
  },
  {
   "cell_type": "markdown",
   "id": "09610559",
   "metadata": {
    "raw_mimetype": "text/html"
   },
   "source": [
    "<pre>\n",
    "String: A string is a value enclosed in quotes.\n",
    "Variable: A variable is a name that can store data.\n",
    "E.g: \n",
    "    x = 'hello'\n",
    "Here x is variable and 'hello' is string.\n",
    "<pre>"
   ]
  },
  {
   "cell_type": "markdown",
   "id": "15cfd80c",
   "metadata": {},
   "source": [
    "### 3. Describe three different data types."
   ]
  },
  {
   "cell_type": "markdown",
   "id": "2e5a8d90",
   "metadata": {},
   "source": [
    "<pre>\n",
    "variables store values and every value has a datatype.\n",
    "str: used for storing string values.\n",
    "    E.g: x = 'hello'\n",
    "    here x is storing string value.\n",
    "int: used for storing integer values.\n",
    "    E.g: a = 10\n",
    "    here a is storing integer value 10\n",
    "float: used for storing decimal values.\n",
    "    E.g: b = 12.34\n",
    "    here b is storing floating point value.\n",
    "<pre>    "
   ]
  },
  {
   "cell_type": "markdown",
   "id": "e677781c",
   "metadata": {},
   "source": [
    "### 4. What is an expression made up of? What do all expressions do?"
   ]
  },
  {
   "cell_type": "markdown",
   "id": "ad906dcb",
   "metadata": {},
   "source": [
    "<pre>\n",
    "An expression is a combination of operators and operands that is interpreted to produce some other value.\n",
    "E.g: x = 2 + 3\n",
    "    here + is operator and 2,3 are operands\n",
    "Types of operators:\n",
    "    1: Arithmetic: +,-,*,/\n",
    "    2: Logical: and,or,not\n",
    "    3: Comparision: ++,>,<,<=,>=\n",
    "    4: Identity: is, is not\n",
    "<pre>    "
   ]
  },
  {
   "cell_type": "markdown",
   "id": "e03463b4",
   "metadata": {},
   "source": [
    "### 5. This assignment statements, like spam = 10. What is the difference between an expression and a statement?"
   ]
  },
  {
   "cell_type": "markdown",
   "id": "62210a3b",
   "metadata": {},
   "source": [
    "<pre>\n",
    "Statement: A statement is a complete line of code that performs some action.\n",
    "    E.g: spam =10\n",
    "        here spam =10 is an assignment statement which assign value 10 to variable spam.\n",
    "Expression: An expression is a combination of operators and operands that is interpreted to produce some other value.\n",
    "E.g: x = 2 + 3 * 4\n",
    "    here +,* are operators and 2,3,4 are operands\n",
    "<pre>    "
   ]
  },
  {
   "cell_type": "markdown",
   "id": "e875afdb",
   "metadata": {},
   "source": [
    "### 6. After running the following code, what does the variable bacon contain?\n",
    "### bacon = 22\n",
    "### bacon + 1"
   ]
  },
  {
   "cell_type": "code",
   "execution_count": 1,
   "id": "6bf672bb",
   "metadata": {},
   "outputs": [],
   "source": [
    "bacon = 22"
   ]
  },
  {
   "cell_type": "code",
   "execution_count": 2,
   "id": "fe36af94",
   "metadata": {},
   "outputs": [
    {
     "data": {
      "text/plain": [
       "23"
      ]
     },
     "execution_count": 2,
     "metadata": {},
     "output_type": "execute_result"
    }
   ],
   "source": [
    "bacon + 1"
   ]
  },
  {
   "cell_type": "code",
   "execution_count": 3,
   "id": "1762f9f9",
   "metadata": {},
   "outputs": [
    {
     "name": "stdout",
     "output_type": "stream",
     "text": [
      "22\n"
     ]
    }
   ],
   "source": [
    "print(bacon)"
   ]
  },
  {
   "cell_type": "markdown",
   "id": "ec9af6d0",
   "metadata": {},
   "source": [
    "<pre>\n",
    "The initial value of bacon is 22.\n",
    "After incrementing, the bacon value will become 23 but we are not storing the incremented value in any variable.\n",
    "So if we print bacon it will return value 22.\n",
    "<pre>"
   ]
  },
  {
   "cell_type": "markdown",
   "id": "f85fb4f2",
   "metadata": {},
   "source": [
    "### 7. What should the values of the following two terms be?\n",
    "### 'spam' + 'spamspam'\n",
    "### 'spam' * 3"
   ]
  },
  {
   "cell_type": "code",
   "execution_count": 4,
   "id": "8e2fce85",
   "metadata": {},
   "outputs": [
    {
     "data": {
      "text/plain": [
       "'spamspamspam'"
      ]
     },
     "execution_count": 4,
     "metadata": {},
     "output_type": "execute_result"
    }
   ],
   "source": [
    "'spam' + 'spamspam'"
   ]
  },
  {
   "cell_type": "code",
   "execution_count": 5,
   "id": "23289d3f",
   "metadata": {},
   "outputs": [
    {
     "data": {
      "text/plain": [
       "'spamspamspam'"
      ]
     },
     "execution_count": 5,
     "metadata": {},
     "output_type": "execute_result"
    }
   ],
   "source": [
    "'spam' * 3"
   ]
  },
  {
   "cell_type": "markdown",
   "id": "c5b0aa5f",
   "metadata": {},
   "source": [
    "<pre>\n",
    "In the first statement we are concatenating two strings.\n",
    "In the second statement we are doing string multiplication and it will print 'spam' string 3 times.\n",
    "both the statements will produce same results\n",
    "<pre>"
   ]
  },
  {
   "cell_type": "markdown",
   "id": "de242df0",
   "metadata": {},
   "source": [
    "### 8. Why is eggs a valid variable name while 100 is invalid?"
   ]
  },
  {
   "cell_type": "markdown",
   "id": "3ef69ae8",
   "metadata": {},
   "source": [
    "<pre>\n",
    "To define a  variable we have to follow set of rules:\n",
    "- name must start with a letter or the underscore character\n",
    "- A variable name cannot start with a number\n",
    "- A variable name can only contain alpha-numeric characters and underscores (A-z, 0-9, and _ )\n",
    "- Variable names are case-sensitive (age, Age and AGE are three different variables)\n",
    "\n",
    "Variable eggs is starting with a letter and it contains only alphabets so it is valid.\n",
    "Variable 100 is starting with a number so it is invalid.\n",
    "<pre>"
   ]
  },
  {
   "cell_type": "markdown",
   "id": "480257a5",
   "metadata": {},
   "source": [
    "### 9. What three functions can be used to get the integer, floating-point number, or string version of a value?"
   ]
  },
  {
   "cell_type": "markdown",
   "id": "c2af1ee7",
   "metadata": {},
   "source": [
    "<pre>\n",
    "Integer -int()\n",
    "Float - float()\n",
    "String - string()\n",
    "These three functions can be used to get the integer, floating-point number, or string version of a value.\n",
    "<pre>"
   ]
  },
  {
   "cell_type": "code",
   "execution_count": 11,
   "id": "5327991b",
   "metadata": {},
   "outputs": [
    {
     "name": "stdout",
     "output_type": "stream",
     "text": [
      "Integer value: 10\n",
      "<class 'int'>\n",
      "Floating value: 10.0\n",
      "<class 'float'>\n",
      "String value: 10\n",
      "<class 'str'>\n"
     ]
    }
   ],
   "source": [
    "#E.g\n",
    "value = 10\n",
    "value_int = int(value)\n",
    "value_float = float(value)\n",
    "value_string = str(value)\n",
    "print(\"Integer value:\",value_int)\n",
    "print(type(value_int))\n",
    "print(\"Floating value:\",value_float)\n",
    "print(type(value_float))\n",
    "print(\"String value:\",value_string)\n",
    "print(type(value_string))"
   ]
  },
  {
   "cell_type": "markdown",
   "id": "399dab96",
   "metadata": {},
   "source": [
    "### 10. Why does this expression cause an error? How can you fix it?\n",
    "### 'I have eaten ' + 99 + ' burritos.'"
   ]
  },
  {
   "cell_type": "code",
   "execution_count": 12,
   "id": "d7faa54b",
   "metadata": {},
   "outputs": [
    {
     "ename": "TypeError",
     "evalue": "can only concatenate str (not \"int\") to str",
     "output_type": "error",
     "traceback": [
      "\u001b[1;31m---------------------------------------------------------------------------\u001b[0m",
      "\u001b[1;31mTypeError\u001b[0m                                 Traceback (most recent call last)",
      "\u001b[1;32m~\\AppData\\Local\\Temp/ipykernel_12412/1774935878.py\u001b[0m in \u001b[0;36m<module>\u001b[1;34m\u001b[0m\n\u001b[1;32m----> 1\u001b[1;33m \u001b[1;34m'I have eaten '\u001b[0m \u001b[1;33m+\u001b[0m \u001b[1;36m99\u001b[0m \u001b[1;33m+\u001b[0m \u001b[1;34m' burritos.'\u001b[0m\u001b[1;33m\u001b[0m\u001b[1;33m\u001b[0m\u001b[0m\n\u001b[0m",
      "\u001b[1;31mTypeError\u001b[0m: can only concatenate str (not \"int\") to str"
     ]
    }
   ],
   "source": [
    "'I have eaten ' + 99 + ' burritos.'"
   ]
  },
  {
   "cell_type": "markdown",
   "id": "26fafcb9",
   "metadata": {},
   "source": [
    "<pre>\n",
    "Here we are trying to concatenate strings with integer so it is returning TypeError.\n",
    "we have to use following methods to fix the issue\n",
    "<pre>"
   ]
  },
  {
   "cell_type": "code",
   "execution_count": 15,
   "id": "d1e94a4e",
   "metadata": {},
   "outputs": [
    {
     "data": {
      "text/plain": [
       "'I have eaten 99 burritos.'"
      ]
     },
     "execution_count": 15,
     "metadata": {},
     "output_type": "execute_result"
    }
   ],
   "source": [
    "# Method 1\n",
    "'I have eaten ' + '99' + ' burritos.'"
   ]
  },
  {
   "cell_type": "code",
   "execution_count": 16,
   "id": "80dcfdde",
   "metadata": {},
   "outputs": [
    {
     "data": {
      "text/plain": [
       "'I have eaten 99 burritos.'"
      ]
     },
     "execution_count": 16,
     "metadata": {},
     "output_type": "execute_result"
    }
   ],
   "source": [
    "#Method 2\n",
    "'I have eaten ' + str(99) + ' burritos.'"
   ]
  },
  {
   "cell_type": "code",
   "execution_count": null,
   "id": "65e011d9",
   "metadata": {},
   "outputs": [],
   "source": []
  }
 ],
 "metadata": {
  "kernelspec": {
   "display_name": "Python 3 (ipykernel)",
   "language": "python",
   "name": "python3"
  },
  "language_info": {
   "codemirror_mode": {
    "name": "ipython",
    "version": 3
   },
   "file_extension": ".py",
   "mimetype": "text/x-python",
   "name": "python",
   "nbconvert_exporter": "python",
   "pygments_lexer": "ipython3",
   "version": "3.9.7"
  }
 },
 "nbformat": 4,
 "nbformat_minor": 5
}
