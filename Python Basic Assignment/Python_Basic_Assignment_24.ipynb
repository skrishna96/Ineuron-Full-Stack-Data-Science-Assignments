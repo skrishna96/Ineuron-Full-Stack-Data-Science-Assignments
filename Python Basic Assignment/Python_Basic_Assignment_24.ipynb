{
 "cells": [
  {
   "cell_type": "markdown",
   "id": "181a9990",
   "metadata": {},
   "source": [
    "### 1. What is the relationship between def statements and lambda expressions ?"
   ]
  },
  {
   "cell_type": "markdown",
   "id": "35c3e725",
   "metadata": {},
   "source": [
    "- __def__ statement is used to break our program into smaller and modular chunks where as __lambda__ expressions can have any number of arguments, but it can have only one expression.\n",
    "- __def__ statement is used to create normal function and __lambda__ expression is used to create anonymous function.\n",
    "- To return an object from the function, return should be explicitly defined in __def__ statements whereas in lambda expression no need of using the return statement.\n",
    "- Execution time is relatively slower for the same operation performed using lambda functions in __def__ statements whereas Execution time of the program is fast for the same operation performed using def statements in __lambda__ function."
   ]
  },
  {
   "cell_type": "markdown",
   "id": "3a67b4fe",
   "metadata": {},
   "source": [
    "### 2. What is the benefit of lambda?"
   ]
  },
  {
   "cell_type": "markdown",
   "id": "767ca9e6",
   "metadata": {},
   "source": [
    "- Lambda functions allow you to create small, single-use functions that can save time and space in your code.\n",
    "- Execution time of the program is fast for the same operation."
   ]
  },
  {
   "cell_type": "markdown",
   "id": "81596d4e",
   "metadata": {},
   "source": [
    "### 3. Compare and contrast map, filter, and reduce."
   ]
  },
  {
   "cell_type": "markdown",
   "id": "f5b17f90",
   "metadata": {},
   "source": [
    "__map()__ applies the function it receives as an argument to each element in a sequence and returns the resulting sequence.<br>\n",
    "__filter()__ takes a function called a predicate that returns “True” if an element passes the condition stated in the predicate, and “False” otherwise. The filter() function’s output consists of the elements of the original sequence that pass the predicate.<br>\n",
    "__reduce()__ applies the function to the elements of the sequence, from left to right, starting with the first two elements in the sequence.We combine the result of applying the function to the sequence’s first two elements with the third element and pass them to another call of the same function. This process repeats until we reach the end of the iterable and the iterable reduces to a single value."
   ]
  },
  {
   "cell_type": "markdown",
   "id": "e2ed7efc",
   "metadata": {},
   "source": [
    "### 4. What are function annotations, and how are they used?"
   ]
  },
  {
   "cell_type": "markdown",
   "id": "fb29cae2",
   "metadata": {},
   "source": [
    "Function annotations are a Python 3 feature that lets you add arbitrary metadata to function arguments and return value.<br>\n",
    "syntax: __def func(arg: arg_type, optarg: arg_type = default) -> return_type:__"
   ]
  },
  {
   "cell_type": "code",
   "execution_count": 2,
   "id": "3fd2e585",
   "metadata": {},
   "outputs": [
    {
     "name": "stdout",
     "output_type": "stream",
     "text": [
      "{'radius': <class 'float'>, 'return': <class 'float'>}\n"
     ]
    },
    {
     "data": {
      "text/plain": [
       "7.728317927830891"
      ]
     },
     "execution_count": 2,
     "metadata": {},
     "output_type": "execute_result"
    }
   ],
   "source": [
    "#Example\n",
    "import math\n",
    "def circumference(radius: float) -> float:\n",
    "    return 2 * math.pi * radius\n",
    "print(circumference.__annotations__)\n",
    "circumference(1.23)"
   ]
  },
  {
   "cell_type": "markdown",
   "id": "68f497ff",
   "metadata": {},
   "source": [
    "### 5. What are recursive functions, and how are they used?"
   ]
  },
  {
   "cell_type": "markdown",
   "id": "ecedff33",
   "metadata": {},
   "source": [
    "- Recursive functions are functions that calls itself and a recursive function always has a condition that stops calling itself.\n",
    "- Sequence creation is simpler through recursion than utilizing any nested iteration.\n",
    "- Recursive functions render the code look simple and effective."
   ]
  },
  {
   "cell_type": "markdown",
   "id": "c63de8f4",
   "metadata": {},
   "source": [
    "### 6. What are some general design guidelines for coding functions?"
   ]
  },
  {
   "cell_type": "markdown",
   "id": "14d7963c",
   "metadata": {},
   "source": [
    "- try to use function name in camelCase and function name should be meaningful.\n",
    "- The first statement of a function can be an optional statement-the documentation string of the function or docstring.\n",
    "- Try to use limited number of global variables inside function."
   ]
  },
  {
   "cell_type": "markdown",
   "id": "1046414e",
   "metadata": {},
   "source": [
    "### 7. Name three or more ways that functions can communicate results to a caller."
   ]
  },
  {
   "cell_type": "markdown",
   "id": "eb768ca8",
   "metadata": {},
   "source": [
    "- print() function\n",
    "- return statement\n",
    "- yield keyword"
   ]
  },
  {
   "cell_type": "code",
   "execution_count": null,
   "id": "1bfa11e3",
   "metadata": {},
   "outputs": [],
   "source": []
  }
 ],
 "metadata": {
  "kernelspec": {
   "display_name": "Python 3 (ipykernel)",
   "language": "python",
   "name": "python3"
  },
  "language_info": {
   "codemirror_mode": {
    "name": "ipython",
    "version": 3
   },
   "file_extension": ".py",
   "mimetype": "text/x-python",
   "name": "python",
   "nbconvert_exporter": "python",
   "pygments_lexer": "ipython3",
   "version": "3.9.7"
  }
 },
 "nbformat": 4,
 "nbformat_minor": 5
}
