{
 "cells": [
  {
   "cell_type": "markdown",
   "id": "abcc22fe",
   "metadata": {},
   "source": [
    "### 1. Add the current date to the text file today.txt as a string."
   ]
  },
  {
   "cell_type": "code",
   "execution_count": 2,
   "id": "a457b793",
   "metadata": {},
   "outputs": [],
   "source": [
    "import datetime\n",
    "with open('today.txt','w') as f:\n",
    "    f.write(str(datetime.datetime.now()))"
   ]
  },
  {
   "cell_type": "code",
   "execution_count": 3,
   "id": "34ac42a7",
   "metadata": {},
   "outputs": [
    {
     "name": "stdout",
     "output_type": "stream",
     "text": [
      "2022-05-03 17:23:25.148936\n"
     ]
    }
   ],
   "source": [
    "!type today.txt"
   ]
  },
  {
   "cell_type": "markdown",
   "id": "dd2b942d",
   "metadata": {},
   "source": [
    "### 2. Read the text file today.txt into the string today_string"
   ]
  },
  {
   "cell_type": "code",
   "execution_count": 4,
   "id": "cccaeb8c",
   "metadata": {},
   "outputs": [
    {
     "name": "stdout",
     "output_type": "stream",
     "text": [
      "2022-05-03 17:23:25.148936\n"
     ]
    }
   ],
   "source": [
    "with open('today.txt') as f:\n",
    "    today_string = f.read()\n",
    "print(today_string)"
   ]
  },
  {
   "cell_type": "markdown",
   "id": "33f21126",
   "metadata": {},
   "source": [
    "### 3. Parse the date from today_string."
   ]
  },
  {
   "cell_type": "code",
   "execution_count": 5,
   "id": "4c401be7",
   "metadata": {},
   "outputs": [
    {
     "name": "stdout",
     "output_type": "stream",
     "text": [
      "2022-05-03\n"
     ]
    }
   ],
   "source": [
    "import datetime\n",
    "parsedate = datetime.datetime.strptime(today_string,'%Y-%m-%d %H:%M:%S.%f')\n",
    "dt = parsedate.date()\n",
    "print(dt)"
   ]
  },
  {
   "cell_type": "markdown",
   "id": "79ca2ee4",
   "metadata": {},
   "source": [
    "### 4. List the files in your current directory"
   ]
  },
  {
   "cell_type": "code",
   "execution_count": 6,
   "id": "d82f2dbd",
   "metadata": {},
   "outputs": [
    {
     "name": "stdout",
     "output_type": "stream",
     "text": [
      "books.csv\n",
      "books.db\n",
      "box tuple.jpg\n",
      "cat.jpg\n",
      "cat1.jpg\n",
      "file1.txt\n",
      "headings.docx\n",
      "hello.docx\n",
      "Python_Basic_Assignment_03.ipynb\n",
      "Python_Basic_Assignment_05.ipynb\n",
      "Python_Basic_Assignment_06.ipynb\n",
      "Python_Basic_Assignment_1.ipynb\n",
      "Python_Basic_Assignment_10.ipynb\n",
      "Python_Basic_Assignment_11.ipynb\n",
      "Python_Basic_Assignment_12.ipynb\n",
      "Python_Basic_Assignment_13.ipynb\n",
      "Python_Basic_Assignment_14.ipynb\n",
      "Python_Basic_Assignment_16.ipynb\n",
      "Python_Basic_Assignment_17.ipynb\n",
      "Python_Basic_Assignment_18.ipynb\n",
      "Python_Basic_Assignment_19.ipynb\n",
      "Python_Basic_Assignment_2.ipynb\n",
      "Python_Basic_Assignment_20.ipynb\n",
      "Python_Basic_Assignment_21.ipynb\n",
      "sample.csv\n",
      "sample.docx\n",
      "sample2.docx\n",
      "SamplePdf.pdf\n",
      "test.txt\n",
      "today.txt\n",
      "zoo.py\n",
      "Python_Basic_Assignment_03-checkpoint.ipynb\n",
      "Python_Basic_Assignment_05-checkpoint.ipynb\n",
      "Python_Basic_Assignment_06-checkpoint.ipynb\n",
      "Python_Basic_Assignment_1-checkpoint.ipynb\n",
      "Python_Basic_Assignment_10-checkpoint.ipynb\n",
      "Python_Basic_Assignment_11-checkpoint.ipynb\n",
      "Python_Basic_Assignment_12-checkpoint.ipynb\n",
      "Python_Basic_Assignment_13-checkpoint.ipynb\n",
      "Python_Basic_Assignment_14-checkpoint.ipynb\n",
      "Python_Basic_Assignment_16-checkpoint.ipynb\n",
      "Python_Basic_Assignment_17-checkpoint.ipynb\n",
      "Python_Basic_Assignment_18-checkpoint.ipynb\n",
      "Python_Basic_Assignment_19-checkpoint.ipynb\n",
      "Python_Basic_Assignment_2-checkpoint.ipynb\n",
      "Python_Basic_Assignment_20-checkpoint.ipynb\n",
      "Python_Basic_Assignment_21-checkpoint.ipynb\n",
      "zoo.cpython-39.pyc\n"
     ]
    }
   ],
   "source": [
    "import os\n",
    "for root, subdir, files in os.walk(os.getcwd()):\n",
    "    for file in files:\n",
    "        print(file)"
   ]
  },
  {
   "cell_type": "markdown",
   "id": "8164c1a6",
   "metadata": {},
   "source": [
    "### 5. Create a list of all of the files in your parent directory (minimum five files should be available)."
   ]
  },
  {
   "cell_type": "code",
   "execution_count": 7,
   "id": "2e21febd",
   "metadata": {},
   "outputs": [
    {
     "data": {
      "text/plain": [
       "['.ipynb_checkpoints',\n",
       " 'books.csv',\n",
       " 'books.db',\n",
       " 'box tuple.jpg',\n",
       " 'cat.jpg',\n",
       " 'cat1.jpg',\n",
       " 'file1.txt',\n",
       " 'headings.docx',\n",
       " 'hello.docx',\n",
       " 'Python_Basic_Assignment_03.ipynb',\n",
       " 'Python_Basic_Assignment_05.ipynb',\n",
       " 'Python_Basic_Assignment_06.ipynb',\n",
       " 'Python_Basic_Assignment_1.ipynb',\n",
       " 'Python_Basic_Assignment_10.ipynb',\n",
       " 'Python_Basic_Assignment_11.ipynb',\n",
       " 'Python_Basic_Assignment_12.ipynb',\n",
       " 'Python_Basic_Assignment_13.ipynb',\n",
       " 'Python_Basic_Assignment_14.ipynb',\n",
       " 'Python_Basic_Assignment_16.ipynb',\n",
       " 'Python_Basic_Assignment_17.ipynb',\n",
       " 'Python_Basic_Assignment_18.ipynb',\n",
       " 'Python_Basic_Assignment_19.ipynb',\n",
       " 'Python_Basic_Assignment_2.ipynb',\n",
       " 'Python_Basic_Assignment_20.ipynb',\n",
       " 'Python_Basic_Assignment_21.ipynb',\n",
       " 'sample.csv',\n",
       " 'sample.docx',\n",
       " 'sample2.docx',\n",
       " 'SamplePdf.pdf',\n",
       " 'test.txt',\n",
       " 'today.txt',\n",
       " 'zoo.py',\n",
       " '__pycache__']"
      ]
     },
     "execution_count": 7,
     "metadata": {},
     "output_type": "execute_result"
    }
   ],
   "source": [
    "import os\n",
    "os.listdir()"
   ]
  },
  {
   "cell_type": "markdown",
   "id": "a7113dd3",
   "metadata": {},
   "source": [
    "### 6. Use multiprocessing to create three separate processes. Make each one wait a random number of seconds between one and five, print the current time, and then exit."
   ]
  },
  {
   "cell_type": "code",
   "execution_count": 1,
   "id": "147d7794",
   "metadata": {},
   "outputs": [],
   "source": [
    "import multiprocessing\n",
    "import datetime\n",
    "import random\n",
    "import time\n",
    "\n",
    "def firstProcess():\n",
    "    print('First process started at ',datetime.datetime.now())\n",
    "    time.sleep(random.randint(1,5))\n",
    "    print('First process complted at ',datetime.datetime.now())\n",
    "\n",
    "def secondProcess():\n",
    "    print('Second process started at ',datetime.datetime.now())\n",
    "    time.sleep(random.randint(1,5))\n",
    "    print('Second process complted at ',datetime.datetime.now())\n",
    "\n",
    "def thirdProcess():\n",
    "    print('Third process started at ',datetime.datetime.now())\n",
    "    time.sleep(random.randint(1,5))\n",
    "    print('Third process complted at ',datetime.datetime.now())\n",
    "    \n",
    "\n",
    "if __name__ == '__main__':\n",
    "    p1 = multiprocessing.Process(target=firstProcess)\n",
    "    p2 = multiprocessing.Process(target=secondProcess)\n",
    "    p3 = multiprocessing.Process(target=thirdProcess)\n",
    "    \n",
    "    p1.start()\n",
    "    p2.start()\n",
    "    p3.start()\n",
    "    \n",
    "    p1.join()\n",
    "    p2.join()\n",
    "    p3.join()"
   ]
  },
  {
   "cell_type": "markdown",
   "id": "84d855cf",
   "metadata": {},
   "source": [
    "### 7. Create a date object of your day of birth."
   ]
  },
  {
   "cell_type": "code",
   "execution_count": 9,
   "id": "0bd5c00b",
   "metadata": {},
   "outputs": [
    {
     "name": "stdout",
     "output_type": "stream",
     "text": [
      "1995-08-24 00:00:00\n",
      "<class 'datetime.datetime'>\n"
     ]
    }
   ],
   "source": [
    "import datetime\n",
    "dob = datetime.datetime.strptime('24/08/1995','%d/%m/%Y')\n",
    "print(dob)\n",
    "print(type(dob))"
   ]
  },
  {
   "cell_type": "markdown",
   "id": "e21e2c65",
   "metadata": {},
   "source": [
    "### 8. What day of the week was your day of birth?"
   ]
  },
  {
   "cell_type": "code",
   "execution_count": 12,
   "id": "80dbb6e4",
   "metadata": {},
   "outputs": [
    {
     "name": "stdout",
     "output_type": "stream",
     "text": [
      "Thursday\n"
     ]
    }
   ],
   "source": [
    "import datetime\n",
    "import calendar\n",
    "dob = datetime.datetime.strptime('24/08/1995','%d/%m/%Y')\n",
    "print(calendar.day_name[dob.weekday()])"
   ]
  },
  {
   "cell_type": "markdown",
   "id": "bf98eac3",
   "metadata": {},
   "source": [
    "### 9. When will you be (or when were you) 10,000 days old?"
   ]
  },
  {
   "cell_type": "code",
   "execution_count": 22,
   "id": "98c92384",
   "metadata": {},
   "outputs": [
    {
     "name": "stdout",
     "output_type": "stream",
     "text": [
      "2023-01-09 00:00:00\n"
     ]
    }
   ],
   "source": [
    "import datetime\n",
    "dob = datetime.datetime.strptime('24/08/1995','%d/%m/%Y')\n",
    "dob_plus_10000 = dob + datetime.timedelta(days=10000)\n",
    "print(dob_plus_10000)"
   ]
  },
  {
   "cell_type": "code",
   "execution_count": null,
   "id": "df02fa30",
   "metadata": {},
   "outputs": [],
   "source": []
  }
 ],
 "metadata": {
  "kernelspec": {
   "display_name": "Python 3 (ipykernel)",
   "language": "python",
   "name": "python3"
  },
  "language_info": {
   "codemirror_mode": {
    "name": "ipython",
    "version": 3
   },
   "file_extension": ".py",
   "mimetype": "text/x-python",
   "name": "python",
   "nbconvert_exporter": "python",
   "pygments_lexer": "ipython3",
   "version": "3.9.7"
  }
 },
 "nbformat": 4,
 "nbformat_minor": 5
}
