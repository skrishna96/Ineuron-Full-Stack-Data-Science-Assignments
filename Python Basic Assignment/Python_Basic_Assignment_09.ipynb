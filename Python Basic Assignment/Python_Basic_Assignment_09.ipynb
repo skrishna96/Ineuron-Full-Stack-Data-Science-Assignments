{
 "cells": [
  {
   "cell_type": "markdown",
   "id": "a209bd9c",
   "metadata": {},
   "source": [
    "### 1. To what does a relative path refer?"
   ]
  },
  {
   "cell_type": "markdown",
   "id": "6b89507a",
   "metadata": {},
   "source": [
    "Relative path means the path of a certain file relative to the current working directory.<br>\n",
    "For example, if the current working directory is __C:\\users\\sai__, the __file.txt__ file’s relative path would be __\\ineuron\\file.txt__ which is shorter and easier to use than the absolute path __C:\\users\\sai\\ineuron\\file.txt.__"
   ]
  },
  {
   "cell_type": "markdown",
   "id": "d646ca7f",
   "metadata": {},
   "source": [
    "### 2. What does an absolute path start with your operating system?"
   ]
  },
  {
   "cell_type": "markdown",
   "id": "5b703570",
   "metadata": {},
   "source": [
    "absolute path start with __c:__"
   ]
  },
  {
   "cell_type": "markdown",
   "id": "2ffc4223",
   "metadata": {},
   "source": [
    "### 3. What do the functions os.getcwd() and os.chdir() do?"
   ]
  },
  {
   "cell_type": "markdown",
   "id": "34472b85",
   "metadata": {},
   "source": [
    "__os.getcwd()__ is used to get the current working directory of the file.<br>\n",
    "__os.chdir()__ is used to change the current working directory."
   ]
  },
  {
   "cell_type": "markdown",
   "id": "1c09fa9a",
   "metadata": {},
   "source": [
    "## 4. What are the . and .. folders?"
   ]
  },
  {
   "cell_type": "markdown",
   "id": "74df0ca0",
   "metadata": {},
   "source": [
    "__single dot(.)__ represent the current directory and __double dot(..)__ represent the parent directory of current directory."
   ]
  },
  {
   "cell_type": "markdown",
   "id": "5f5c2c8f",
   "metadata": {},
   "source": [
    "## 5. In C:\\bacon\\eggs\\spam.txt, which part is the dir name, and which part is the base name?"
   ]
  },
  {
   "cell_type": "markdown",
   "id": "a4180a41",
   "metadata": {},
   "source": [
    "In __C:\\bacon\\eggs\\spam.txt__, __C:\\bacon\\eggs__ is the directory name and __spam.txt__ is the base name."
   ]
  },
  {
   "cell_type": "markdown",
   "id": "e99834fe",
   "metadata": {},
   "source": [
    "### 6. What are the three “mode” arguments that can be passed to the open() function?"
   ]
  },
  {
   "cell_type": "markdown",
   "id": "0b41164e",
   "metadata": {},
   "source": [
    "__Read mode(r)__ : this is the default mode in open() method. This mode is used when we want to open a file for reading.<br>\n",
    "__Write mode(w)__ : This mode is used to write data into a file. If the file does not exist then it will create a file and if the file already exist and contain any data it will overwrite the file.<br>\n",
    "__append mode(a)__ : It will append the data at the end to the existing file. If the file does not exist then it will create new file for writing.<br>"
   ]
  },
  {
   "cell_type": "markdown",
   "id": "7adbd88e",
   "metadata": {},
   "source": [
    "## 7. What happens if an existing file is opened in write mode?"
   ]
  },
  {
   "cell_type": "markdown",
   "id": "9a0ebe48",
   "metadata": {},
   "source": [
    "It will overwrite the data in the existing file."
   ]
  },
  {
   "cell_type": "markdown",
   "id": "fc4dc8a3",
   "metadata": {},
   "source": [
    "### 8. How do you tell the difference between read() and readlines()?"
   ]
  },
  {
   "cell_type": "markdown",
   "id": "3bfc97de",
   "metadata": {},
   "source": [
    "__Read()__ method reads the whole data in the file and print the data.<br>\n",
    "__readlines()__ method also reads the whole data and returns list of lines from file.<br>"
   ]
  },
  {
   "cell_type": "markdown",
   "id": "92118f02",
   "metadata": {},
   "source": [
    "### 9. What data structure does a shelf value resemble?"
   ]
  },
  {
   "cell_type": "markdown",
   "id": "ab1d99cd",
   "metadata": {},
   "source": [
    "shelf value resemble dictionary data structure. It has keys and values."
   ]
  },
  {
   "cell_type": "code",
   "execution_count": null,
   "id": "e032a4b8",
   "metadata": {},
   "outputs": [],
   "source": []
  }
 ],
 "metadata": {
  "kernelspec": {
   "display_name": "Python 3 (ipykernel)",
   "language": "python",
   "name": "python3"
  },
  "language_info": {
   "codemirror_mode": {
    "name": "ipython",
    "version": 3
   },
   "file_extension": ".py",
   "mimetype": "text/x-python",
   "name": "python",
   "nbconvert_exporter": "python",
   "pygments_lexer": "ipython3",
   "version": "3.10.0"
  }
 },
 "nbformat": 4,
 "nbformat_minor": 5
}
