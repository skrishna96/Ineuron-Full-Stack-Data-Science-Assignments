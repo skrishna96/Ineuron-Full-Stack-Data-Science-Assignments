{
 "cells": [
  {
   "cell_type": "markdown",
   "id": "e3fe58d3",
   "metadata": {},
   "source": [
    "### 1. What is the result of the code, and explain?\n",
    "#### >>> X = 'iNeuron'\n",
    "#### >>> def func():\n",
    "#### print(X)\n",
    "#### >>> func()"
   ]
  },
  {
   "cell_type": "markdown",
   "id": "2d016638",
   "metadata": {},
   "source": [
    "The result of the above code is __iNeuron__. After calling the function __func()__ first it will check for the variable __X__ in the local scope, but variable __X__ is not present in the local scope. so it will take value from the global variable __X__."
   ]
  },
  {
   "cell_type": "code",
   "execution_count": 1,
   "id": "cc00b0c3",
   "metadata": {},
   "outputs": [
    {
     "name": "stdout",
     "output_type": "stream",
     "text": [
      "iNeuron\n"
     ]
    }
   ],
   "source": [
    "X = 'iNeuron'\n",
    "def func():\n",
    "    print(X)\n",
    "func()"
   ]
  },
  {
   "cell_type": "markdown",
   "id": "9cf642e0",
   "metadata": {},
   "source": [
    "### 2. What is the result of the code, and explain?\n",
    "#### >>> X = 'iNeuron'\n",
    "#### >>> def func():\n",
    "#### X = 'NI!'\n",
    "#### >>> func()\n",
    "#### >>> print(X)"
   ]
  },
  {
   "cell_type": "markdown",
   "id": "48c9d0a8",
   "metadata": {},
   "source": [
    "The result of the above code is __iNeuron__. The function __func()__ does not return any value because it don't have any return or print statements. __print(X)__ will return global variable value __iNeuron__. Variable __X__ with value __'NI!'__ is a local variable and can be accessed only inside the function"
   ]
  },
  {
   "cell_type": "code",
   "execution_count": 2,
   "id": "cfb0a85e",
   "metadata": {},
   "outputs": [
    {
     "name": "stdout",
     "output_type": "stream",
     "text": [
      "iNeuron\n"
     ]
    }
   ],
   "source": [
    "X = 'iNeuron'\n",
    "def func():\n",
    "    X = 'NI!'\n",
    "func()\n",
    "print(X)"
   ]
  },
  {
   "cell_type": "markdown",
   "id": "11a346c6",
   "metadata": {},
   "source": [
    "### 3. What does this code print, and why?\n",
    "#### X = 'iNeuron'\n",
    "#### def func():\n",
    "#### X = 'NI'\n",
    "#### print(X)\n",
    "#### func()\n",
    "#### print(X)"
   ]
  },
  {
   "cell_type": "markdown",
   "id": "d08c6aeb",
   "metadata": {},
   "source": [
    "The above code will print __'NI'__ and __'iNeuron'__. After calling the function __func()__, First it will assign value __'NI'__ to variable __X__ and __print(X)__ statement which is inside the function will print local variable __X__ value __'NI'__. Outside __print(X)__ function will print global variable __X__ value __iNeuron__."
   ]
  },
  {
   "cell_type": "code",
   "execution_count": 3,
   "id": "eaf1490d",
   "metadata": {},
   "outputs": [
    {
     "name": "stdout",
     "output_type": "stream",
     "text": [
      "NI\n",
      "iNeuron\n"
     ]
    }
   ],
   "source": [
    "X = 'iNeuron'\n",
    "def func():\n",
    "    X = 'NI'\n",
    "    print(X)\n",
    "func()\n",
    "print(X)"
   ]
  },
  {
   "cell_type": "markdown",
   "id": "c0708c61",
   "metadata": {},
   "source": [
    "### 4. What output does this code produce? Why?\n",
    "#### X = 'iNeuron'\n",
    "#### def func():\n",
    "#### global X\n",
    "#### X = 'NI'\n",
    "#### func()\n",
    "#### print(X)"
   ]
  },
  {
   "cell_type": "markdown",
   "id": "58416d3a",
   "metadata": {},
   "source": [
    "The above code will print __'NI'__. first we are defining global variable __X__ with the value __iNeuron__. After that we are defining a function named __func()__ and we are calling global variable __X__ inside function __func()__ with the global keyword and assigning value __'NI'__ to variable __X__ and we are calling the function. __print(X)__ will print the value __NI__ because it is a global variable and can be accessed outside the function."
   ]
  },
  {
   "cell_type": "code",
   "execution_count": 4,
   "id": "ab8448a4",
   "metadata": {},
   "outputs": [
    {
     "name": "stdout",
     "output_type": "stream",
     "text": [
      "NI\n"
     ]
    }
   ],
   "source": [
    "X = 'iNeuron'\n",
    "def func():\n",
    "    global X\n",
    "    X = 'NI'\n",
    "func()\n",
    "print(X)"
   ]
  },
  {
   "cell_type": "markdown",
   "id": "824cd1f6",
   "metadata": {},
   "source": [
    "### 5. What about this code—what’s the output, and why?\n",
    "#### X = 'iNeuron'\n",
    "#### def func():\n",
    "#### X = 'NI'\n",
    "#### def nested():\n",
    "#### print(X)\n",
    "#### nested()\n",
    "#### func()\n",
    "#### X"
   ]
  },
  {
   "cell_type": "markdown",
   "id": "3a7eb920",
   "metadata": {},
   "source": [
    "The output of the above code is __'NI'__ and __'iNeuron'__. First it will assign value __iNeuron__ to the global variable __X__.\n",
    "After that we are defining a function __func()__ and assigning value __'NI'__ to local variable __X__ and we are creating one more inner function __nested()__. We are printing value of variable __X__ which is not present inside function __nested()__ and it will print __'NI'__ which is a global variable to the __nested()__ function. After that we are calling __nested()__ and __func()__ functions. The last line __X__ print the begining global variable __X__ value __iNeuron__."
   ]
  },
  {
   "cell_type": "code",
   "execution_count": 5,
   "id": "9554a672",
   "metadata": {},
   "outputs": [
    {
     "name": "stdout",
     "output_type": "stream",
     "text": [
      "NI\n"
     ]
    },
    {
     "data": {
      "text/plain": [
       "'iNeuron'"
      ]
     },
     "execution_count": 5,
     "metadata": {},
     "output_type": "execute_result"
    }
   ],
   "source": [
    "X = 'iNeuron'\n",
    "def func():\n",
    "    X = 'NI'\n",
    "    def nested():\n",
    "        print(X)\n",
    "    nested()\n",
    "func()\n",
    "X"
   ]
  },
  {
   "cell_type": "markdown",
   "id": "742683f1",
   "metadata": {},
   "source": [
    "### 6. How about this code: what is its output in Python 3, and explain?\n",
    "#### def func():\n",
    "#### X = 'NI'\n",
    "#### def nested():\n",
    "#### nonlocal X\n",
    "#### X = 'Spam'\n",
    "#### nested()\n",
    "#### print(X)\n",
    "#### func()"
   ]
  },
  {
   "cell_type": "markdown",
   "id": "2bfbd155",
   "metadata": {},
   "source": [
    "The output of the above code is __Spam__. The __nonlocal__ keyword is used mostly in nested functions where the variable should not belong to the inner function. The variable __X__ which is inside the __nested()__ function can be accessed outside, So __print(X)__ will print the value __'Spam'__."
   ]
  },
  {
   "cell_type": "code",
   "execution_count": 9,
   "id": "5bde0372",
   "metadata": {},
   "outputs": [
    {
     "name": "stdout",
     "output_type": "stream",
     "text": [
      "Spam\n"
     ]
    }
   ],
   "source": [
    "def func():\n",
    "    X = 'NI'\n",
    "    def nested():\n",
    "        nonlocal X\n",
    "        X = 'Spam'\n",
    "    nested()\n",
    "    print(X)\n",
    "func()"
   ]
  },
  {
   "cell_type": "code",
   "execution_count": null,
   "id": "aa659dc0",
   "metadata": {},
   "outputs": [],
   "source": []
  }
 ],
 "metadata": {
  "kernelspec": {
   "display_name": "Python 3 (ipykernel)",
   "language": "python",
   "name": "python3"
  },
  "language_info": {
   "codemirror_mode": {
    "name": "ipython",
    "version": 3
   },
   "file_extension": ".py",
   "mimetype": "text/x-python",
   "name": "python",
   "nbconvert_exporter": "python",
   "pygments_lexer": "ipython3",
   "version": "3.9.7"
  }
 },
 "nbformat": 4,
 "nbformat_minor": 5
}
