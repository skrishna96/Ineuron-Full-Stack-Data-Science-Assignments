{
 "cells": [
  {
   "cell_type": "markdown",
   "id": "d151426a",
   "metadata": {},
   "source": [
    "### 1. How do you distinguish between shutil.copy() and shutil.copytree()?"
   ]
  },
  {
   "cell_type": "markdown",
   "id": "6cb755da",
   "metadata": {},
   "source": [
    "__shutil.copy()__ method in Python is used to copy the content of the source file to the destination file or directory. It also preserves the file’s permission mode but other metadata of the file like the file’s creation and modification times is not preserved.The source must represent a file but the destination can be a file or a directory. If the destination is a directory then the file will be copied into the destination using the base filename from the source. Also, the destination must be writable. If the destination is a file and already exists then it will be replaced with the source file otherwise a new file will be created.\n",
    "\n",
    "__shutil.copytree()__ method recursively copies an entire directory tree rooted at source (src) to the destination directory. The destination directory, named by (dst) must not already exist. It will be created during copying. Permissions and times of directories are copied with copystat() and individual files are copied using shutil.copy2()."
   ]
  },
  {
   "cell_type": "markdown",
   "id": "19744381",
   "metadata": {},
   "source": [
    "### 2. What function is used to rename files??"
   ]
  },
  {
   "cell_type": "markdown",
   "id": "0e34b089",
   "metadata": {},
   "source": [
    "We can use __rename()__ method in __os__ module to rename the files. This method will take 2 arguments.<br>\n",
    "- first argument is the source file name which should must already exist.<br>\n",
    "- second argument is the new name of the file or directory you want to change.<br>\n",
    "\n",
    "We can also use __shutil.move(source,destination)__ method to rename the file. It will move the file or folder at the path source to the path destination and will return a string of the absolute path of the new location.<br>"
   ]
  },
  {
   "cell_type": "markdown",
   "id": "c7fd1dfe",
   "metadata": {},
   "source": [
    "### 3. What is the difference between the delete functions in the send2trash and shutil modules?"
   ]
  },
  {
   "cell_type": "markdown",
   "id": "de62de43",
   "metadata": {},
   "source": [
    "__shutil.rmtree()__ is used to delete an entire directory tree, path must point to a directory. This function will delete the files permenantly.<br>\n",
    "\n",
    "By using __send2trash.send2trash()__, we can send files to the Trash or Recycle Bin instead of permanently deleting them."
   ]
  },
  {
   "cell_type": "markdown",
   "id": "9ffb89c3",
   "metadata": {},
   "source": [
    "### 4.ZipFile objects have a close() method just like File objects’ close() method. What ZipFile method is equivalent to File objects’ open() method?"
   ]
  },
  {
   "cell_type": "markdown",
   "id": "bf41a180",
   "metadata": {},
   "source": [
    "__zipfile.ZipFile()__ method is equivalent to file objects open() method."
   ]
  },
  {
   "cell_type": "markdown",
   "id": "c129a0fc",
   "metadata": {},
   "source": [
    "### 5. Create a programme that searches a folder tree for files with a certain file extension (such as .pdf or .jpg). Copy these files from whatever location they are in to a new folder."
   ]
  },
  {
   "cell_type": "code",
   "execution_count": 18,
   "id": "127ac90c",
   "metadata": {},
   "outputs": [
    {
     "name": "stdout",
     "output_type": "stream",
     "text": [
      "Before moving files in destination: \n",
      "('F:\\\\ineuron\\\\python\\\\course\\\\destination', ['.ipynb_checkpoints'], ['dest1.txt'])\n",
      "('F:\\\\ineuron\\\\python\\\\course\\\\destination\\\\.ipynb_checkpoints', [], [])\n",
      "After moving files in destination: \n",
      "('F:\\\\ineuron\\\\python\\\\course\\\\destination', ['.ipynb_checkpoints'], ['dest1.txt', 'download.jpg', 'sample.pdf'])\n",
      "('F:\\\\ineuron\\\\python\\\\course\\\\destination\\\\.ipynb_checkpoints', [], [])\n"
     ]
    }
   ],
   "source": [
    "import os\n",
    "import shutil\n",
    "source = 'F:\\ineuron\\python\\course\\source'\n",
    "destination = 'F:\\ineuron\\python\\course\\destination'\n",
    "print(\"Before moving files in destination: \")\n",
    "for root in os.walk(destination):\n",
    "        print(root)\n",
    "for root,dirs,files in os.walk(source):\n",
    "    for filename in files:\n",
    "        if filename.endswith('.jpg') or filename.endswith('.pdf'):\n",
    "            srcfile = root+os.path.sep+filename\n",
    "            shutil.copy(srcfile,destination)\n",
    "print(\"After moving files in destination: \")\n",
    "for root in os.walk(destination):\n",
    "        print(root)"
   ]
  },
  {
   "cell_type": "code",
   "execution_count": null,
   "id": "be0142f2",
   "metadata": {},
   "outputs": [],
   "source": []
  }
 ],
 "metadata": {
  "kernelspec": {
   "display_name": "Python 3 (ipykernel)",
   "language": "python",
   "name": "python3"
  },
  "language_info": {
   "codemirror_mode": {
    "name": "ipython",
    "version": 3
   },
   "file_extension": ".py",
   "mimetype": "text/x-python",
   "name": "python",
   "nbconvert_exporter": "python",
   "pygments_lexer": "ipython3",
   "version": "3.9.7"
  }
 },
 "nbformat": 4,
 "nbformat_minor": 5
}
