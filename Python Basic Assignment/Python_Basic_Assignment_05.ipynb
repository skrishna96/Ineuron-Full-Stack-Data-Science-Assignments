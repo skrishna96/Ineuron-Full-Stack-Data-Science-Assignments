{
 "cells": [
  {
   "cell_type": "markdown",
   "id": "9d37c6a6",
   "metadata": {},
   "source": [
    "### 1. What does an empty dictionary's code look like?"
   ]
  },
  {
   "cell_type": "markdown",
   "id": "883c3466",
   "metadata": {},
   "source": [
    "<pre>\n",
    "We can create empty dictionary in two ways.\n",
    "1. We can assign no elements in curly brackets.\n",
    "    d = {}\n",
    "2. We can create empty dictionary by using built in method dict().\n",
    "    d1 = dict()\n",
    "<pre>"
   ]
  },
  {
   "cell_type": "code",
   "execution_count": 1,
   "id": "7d179dbf",
   "metadata": {},
   "outputs": [
    {
     "data": {
      "text/plain": [
       "dict"
      ]
     },
     "execution_count": 1,
     "metadata": {},
     "output_type": "execute_result"
    }
   ],
   "source": [
    "# Example 1\n",
    "d = {}\n",
    "type(d)"
   ]
  },
  {
   "cell_type": "code",
   "execution_count": 2,
   "id": "7af6d5c5",
   "metadata": {},
   "outputs": [
    {
     "data": {
      "text/plain": [
       "dict"
      ]
     },
     "execution_count": 2,
     "metadata": {},
     "output_type": "execute_result"
    }
   ],
   "source": [
    "#Example 2\n",
    "d1 = dict()\n",
    "type(d1)"
   ]
  },
  {
   "cell_type": "markdown",
   "id": "574d1ca4",
   "metadata": {},
   "source": [
    "### 2. What is the value of a dictionary value with the key 'foo' and the value 42?"
   ]
  },
  {
   "cell_type": "code",
   "execution_count": 3,
   "id": "a8a82fb7",
   "metadata": {},
   "outputs": [
    {
     "name": "stdout",
     "output_type": "stream",
     "text": [
      "{'foo': 42}\n"
     ]
    }
   ],
   "source": [
    "d = {'foo':42}\n",
    "print(d)"
   ]
  },
  {
   "cell_type": "markdown",
   "id": "bce985b8",
   "metadata": {},
   "source": [
    "### 3. What is the most significant distinction between a dictionary and a list?"
   ]
  },
  {
   "cell_type": "markdown",
   "id": "e985f650",
   "metadata": {},
   "source": [
    "<pre>\n",
    "1. list elements are enclosed in square([]) brackets and dictionary elements are enclosed in curly({}) brackets.\n",
    "2. list contains ordered elements and dictionary elements may not maintain order.\n",
    "3. list elements are accessed by using indexes and dictionary elements are accessed by using key-vale pairs.\n",
    "<pre>"
   ]
  },
  {
   "cell_type": "markdown",
   "id": "2545568c",
   "metadata": {},
   "source": [
    "### 4. What happens if you try to access spam['foo'] if spam is {'bar': 100}?"
   ]
  },
  {
   "cell_type": "markdown",
   "id": "45a23731",
   "metadata": {},
   "source": [
    "<pre>\n",
    "The python interpreter will raise KeyError.\n",
    "<pre>"
   ]
  },
  {
   "cell_type": "code",
   "execution_count": 4,
   "id": "4b5cf4f6",
   "metadata": {},
   "outputs": [
    {
     "ename": "KeyError",
     "evalue": "'foo'",
     "output_type": "error",
     "traceback": [
      "\u001b[1;31m---------------------------------------------------------------------------\u001b[0m",
      "\u001b[1;31mKeyError\u001b[0m                                  Traceback (most recent call last)",
      "\u001b[1;32m~\\AppData\\Local\\Temp/ipykernel_15168/508896574.py\u001b[0m in \u001b[0;36m<module>\u001b[1;34m\u001b[0m\n\u001b[0;32m      1\u001b[0m \u001b[0md\u001b[0m \u001b[1;33m=\u001b[0m \u001b[1;33m{\u001b[0m\u001b[1;34m'bar'\u001b[0m\u001b[1;33m:\u001b[0m\u001b[1;36m100\u001b[0m\u001b[1;33m}\u001b[0m\u001b[1;33m\u001b[0m\u001b[1;33m\u001b[0m\u001b[0m\n\u001b[1;32m----> 2\u001b[1;33m \u001b[0md\u001b[0m\u001b[1;33m[\u001b[0m\u001b[1;34m'foo'\u001b[0m\u001b[1;33m]\u001b[0m\u001b[1;33m\u001b[0m\u001b[1;33m\u001b[0m\u001b[0m\n\u001b[0m",
      "\u001b[1;31mKeyError\u001b[0m: 'foo'"
     ]
    }
   ],
   "source": [
    "d = {'bar':100}\n",
    "d['foo']"
   ]
  },
  {
   "cell_type": "markdown",
   "id": "ea246831",
   "metadata": {},
   "source": [
    "### 5. If a dictionary is stored in spam, what is the difference between the expressions 'cat' in spam and 'cat' in spam.keys()?"
   ]
  },
  {
   "cell_type": "markdown",
   "id": "097fd753",
   "metadata": {},
   "source": [
    "<pre>\n",
    "Both the expressions are same. Both will check the existence of key 'cat' in spam dictionary\n",
    "<pre>"
   ]
  },
  {
   "cell_type": "markdown",
   "id": "5de31b99",
   "metadata": {},
   "source": [
    "### 6. If a dictionary is stored in spam, what is the difference between the expressions 'cat' in spam and 'cat' in spam.values()?"
   ]
  },
  {
   "cell_type": "markdown",
   "id": "64146d59",
   "metadata": {},
   "source": [
    "<pre>\n",
    "'cat' in spam checks whether the 'cat' key is available in spam dictionary or not.\n",
    "'cat' in spam.values() checks whether the value 'cat' is stored in any one of the keys in spam dictionary or not.\n",
    "<pre>"
   ]
  },
  {
   "cell_type": "markdown",
   "id": "29a83de7",
   "metadata": {},
   "source": [
    "### 7. What is a shortcut for the following code?\n",
    "### if 'color' not in spam:\n",
    "### spam['color'] = 'black'"
   ]
  },
  {
   "cell_type": "code",
   "execution_count": 6,
   "id": "09c5abbf",
   "metadata": {},
   "outputs": [
    {
     "data": {
      "text/plain": [
       "'black'"
      ]
     },
     "execution_count": 6,
     "metadata": {},
     "output_type": "execute_result"
    }
   ],
   "source": [
    "spam={}\n",
    "spam.setdefault('color','black')"
   ]
  },
  {
   "cell_type": "markdown",
   "id": "7c276832",
   "metadata": {},
   "source": [
    "### 8. How do you \"pretty print\" dictionary values using which module and function?"
   ]
  },
  {
   "cell_type": "code",
   "execution_count": 7,
   "id": "192eea7d",
   "metadata": {},
   "outputs": [
    {
     "name": "stdout",
     "output_type": "stream",
     "text": [
      "[{'age': 25, 'country': 'india', 'name': 'sai'},\n",
      " {'age': 24, 'country': 'india', 'name': 'krishna'}]\n"
     ]
    }
   ],
   "source": [
    "#By using pprint method in pprint module\n",
    "import pprint\n",
    "d = [\n",
    "    {'name':'sai','age':25,'country':'india'},\n",
    "    {'name':'krishna','age':24,'country':'india'}\n",
    "]\n",
    "pprint.pprint(d)"
   ]
  },
  {
   "cell_type": "code",
   "execution_count": 14,
   "id": "2b63ed06",
   "metadata": {},
   "outputs": [
    {
     "name": "stdout",
     "output_type": "stream",
     "text": [
      "[\n",
      "    {\n",
      "        \"name\": \"sai\",\n",
      "        \"age\": 25,\n",
      "        \"country\": \"india\"\n",
      "    },\n",
      "    {\n",
      "        \"name\": \"krishna\",\n",
      "        \"age\": 24,\n",
      "        \"country\": \"india\"\n",
      "    }\n",
      "]\n"
     ]
    }
   ],
   "source": [
    "# By using dumps method in json module\n",
    "import json\n",
    "d = [\n",
    "    {'name':'sai','age':25,'country':'india'},\n",
    "    {'name':'krishna','age':24,'country':'india'}\n",
    "]\n",
    "print(json.dumps(d,indent=4))"
   ]
  },
  {
   "cell_type": "code",
   "execution_count": null,
   "id": "eea8d043",
   "metadata": {},
   "outputs": [],
   "source": []
  }
 ],
 "metadata": {
  "kernelspec": {
   "display_name": "Python 3 (ipykernel)",
   "language": "python",
   "name": "python3"
  },
  "language_info": {
   "codemirror_mode": {
    "name": "ipython",
    "version": 3
   },
   "file_extension": ".py",
   "mimetype": "text/x-python",
   "name": "python",
   "nbconvert_exporter": "python",
   "pygments_lexer": "ipython3",
   "version": "3.9.7"
  }
 },
 "nbformat": 4,
 "nbformat_minor": 5
}
