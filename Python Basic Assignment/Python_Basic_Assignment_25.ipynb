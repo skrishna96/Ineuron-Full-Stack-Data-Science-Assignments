{
 "cells": [
  {
   "cell_type": "markdown",
   "id": "2d63fd7f",
   "metadata": {},
   "source": [
    "### 1) . What is the difference between enclosing a list comprehension in square brackets and parentheses?"
   ]
  },
  {
   "cell_type": "markdown",
   "id": "e68f3c88",
   "metadata": {},
   "source": [
    "If we enclose list comprehension in square brackets it will return a list and if we enclose list comprehension in paranthesis it will return a generator object."
   ]
  },
  {
   "cell_type": "code",
   "execution_count": 5,
   "id": "a4e04b95",
   "metadata": {},
   "outputs": [
    {
     "name": "stdout",
     "output_type": "stream",
     "text": [
      "[0, 1, 2, 3, 4]\n",
      "<class 'list'>\n",
      "120\n",
      "<generator object <genexpr> at 0x000001E85CA18CF0>\n",
      "<class 'generator'>\n",
      "112\n"
     ]
    }
   ],
   "source": [
    "#Example\n",
    "import sys\n",
    "lst = [i for i in range(5)]\n",
    "print(lst)\n",
    "print(type(lst))\n",
    "print(sys.getsizeof(lst))\n",
    "\n",
    "gen = (i for i in range(5))\n",
    "print(gen)\n",
    "print(type(gen))\n",
    "print(sys.getsizeof(gen))"
   ]
  },
  {
   "cell_type": "markdown",
   "id": "682b12be",
   "metadata": {},
   "source": [
    "### 2) What is the relationship between generators and iterators?"
   ]
  },
  {
   "cell_type": "markdown",
   "id": "f0e21e7d",
   "metadata": {},
   "source": [
    "- Iterators are the objects that use the next() method to get the next value of the sequence. A generator is a function that produces or yields a sequence of values using a yield statement.\n",
    "- Every iterator is not a generator and Every generator is an iterator.\n",
    "- Iterators are less memory efficient and Generators in Python are more memory efficient.\n",
    "- Class is used to implement an iterator and Function is used to implement a generator."
   ]
  },
  {
   "cell_type": "markdown",
   "id": "7e2b213c",
   "metadata": {},
   "source": [
    "### 3) What are the signs that a function is a generator function?"
   ]
  },
  {
   "cell_type": "markdown",
   "id": "4a52191c",
   "metadata": {},
   "source": [
    "If a function contains at least one __yield__ statement, it becomes a generator function."
   ]
  },
  {
   "cell_type": "markdown",
   "id": "10577aa9",
   "metadata": {},
   "source": [
    "### 4) What is the purpose of a yield statement?"
   ]
  },
  {
   "cell_type": "markdown",
   "id": "f582b200",
   "metadata": {},
   "source": [
    "The __yield__ is a keyword used in Python to return some value from the function without finishing the states of a local variable. It means it stores all the states of the variable inside a function and later starts executing of the function from the last yield statement."
   ]
  },
  {
   "cell_type": "markdown",
   "id": "2bf0a511",
   "metadata": {},
   "source": [
    "### 5) What is the relationship between map calls and list comprehensions? Make a comparison and contrast between the two."
   ]
  },
  {
   "cell_type": "markdown",
   "id": "8acff25a",
   "metadata": {},
   "source": [
    "- List comprehension code is more concise and easier to read as compared to the map function.\n",
    "- List comprehension is faster than map when we need to evaluate expressions that are too long or complicated to express.\n",
    "- List comprehension generates list object and map generates only map object which need to be converted into required datatype."
   ]
  },
  {
   "cell_type": "code",
   "execution_count": null,
   "id": "dfa50583",
   "metadata": {},
   "outputs": [],
   "source": []
  }
 ],
 "metadata": {
  "kernelspec": {
   "display_name": "Python 3 (ipykernel)",
   "language": "python",
   "name": "python3"
  },
  "language_info": {
   "codemirror_mode": {
    "name": "ipython",
    "version": 3
   },
   "file_extension": ".py",
   "mimetype": "text/x-python",
   "name": "python",
   "nbconvert_exporter": "python",
   "pygments_lexer": "ipython3",
   "version": "3.9.7"
  }
 },
 "nbformat": 4,
 "nbformat_minor": 5
}
