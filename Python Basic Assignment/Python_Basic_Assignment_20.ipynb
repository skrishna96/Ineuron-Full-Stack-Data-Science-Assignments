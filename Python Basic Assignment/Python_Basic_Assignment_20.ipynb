{
 "cells": [
  {
   "cell_type": "markdown",
   "id": "005c7fd7",
   "metadata": {},
   "source": [
    "### 1. Set the variable test1 to the string 'This is a test of the emergency text system,' and save test1 to a file named test.txt."
   ]
  },
  {
   "cell_type": "code",
   "execution_count": 1,
   "id": "6deab7a2",
   "metadata": {},
   "outputs": [],
   "source": [
    "test1 = 'This is a test of the emergency text system'\n",
    "with open('test.txt','w') as f:\n",
    "    f.write(test1)"
   ]
  },
  {
   "cell_type": "code",
   "execution_count": 3,
   "id": "607009d7",
   "metadata": {},
   "outputs": [
    {
     "name": "stdout",
     "output_type": "stream",
     "text": [
      "This is a test of the emergency text system\n"
     ]
    }
   ],
   "source": [
    "#Reading contents in test.txt file\n",
    "with open('test.txt') as f:\n",
    "    print(f.read())"
   ]
  },
  {
   "cell_type": "markdown",
   "id": "45b87733",
   "metadata": {},
   "source": [
    "### 2. Read the contents of the file test.txt into the variable test2. Is there a difference between test 1 and test 2?"
   ]
  },
  {
   "cell_type": "code",
   "execution_count": 5,
   "id": "249fef37",
   "metadata": {},
   "outputs": [
    {
     "name": "stdout",
     "output_type": "stream",
     "text": [
      "This is a test of the emergency text system\n",
      "This is a test of the emergency text system\n",
      "True\n"
     ]
    }
   ],
   "source": [
    "with open('test.txt') as f:\n",
    "    test2 = f.read()\n",
    "print(test2)\n",
    "print(test1)\n",
    "print(test1 == test2) #There is no diffrence between test1 and test2 variables"
   ]
  },
  {
   "cell_type": "markdown",
   "id": "69940070",
   "metadata": {},
   "source": [
    "### 3. Create a CSV file called books.csv by using these lines:\n",
    "#### title,author,year\n",
    "#### The Weirdstone of Brisingamen,Alan Garner,1960\n",
    "#### Perdido Street Station,China Miéville,2000\n",
    "#### Thud!,Terry Pratchett,2005\n",
    "#### The Spellman Files,Lisa Lutz,2007\n",
    "#### Small Gods,Terry Pratchett,1992"
   ]
  },
  {
   "cell_type": "code",
   "execution_count": 8,
   "id": "51c099f7",
   "metadata": {},
   "outputs": [],
   "source": [
    "book_details = '''title,author,year\n",
    "The Weirdstone of Brisingamen,Alan Garner,1960\n",
    "Perdido Street Station,China Miéville,2000\n",
    "Thud!,Terry Pratchett,2005\n",
    "The Spellman Files,Lisa Lutz,2007\n",
    "Small Gods,Terry Pratchett,1992\n",
    "'''\n",
    "with open('books.csv','w') as f:\n",
    "    f.write(book_details)"
   ]
  },
  {
   "cell_type": "code",
   "execution_count": 9,
   "id": "37c7b1ab",
   "metadata": {},
   "outputs": [
    {
     "name": "stdout",
     "output_type": "stream",
     "text": [
      "title,author,year\n",
      "The Weirdstone of Brisingamen,Alan Garner,1960\n",
      "Perdido Street Station,China Miéville,2000\n",
      "Thud!,Terry Pratchett,2005\n",
      "The Spellman Files,Lisa Lutz,2007\n",
      "Small Gods,Terry Pratchett,1992\n"
     ]
    }
   ],
   "source": [
    "!type books.csv"
   ]
  },
  {
   "cell_type": "markdown",
   "id": "e8b921ae",
   "metadata": {},
   "source": [
    "### 4. Use the sqlite3 module to create a SQLite database called books.db, and a table called books with these fields: title (text), author (text), and year (integer)."
   ]
  },
  {
   "cell_type": "code",
   "execution_count": 12,
   "id": "4b124f88",
   "metadata": {},
   "outputs": [],
   "source": [
    "import sqlite3\n",
    "con = sqlite3.connect('books.db')\n",
    "c = con.cursor()\n",
    "c.execute('CREATE TABLE IF NOT EXISTS books (title text, author text, year integer)')\n",
    "con.commit()\n",
    "c.close()\n",
    "con.close()"
   ]
  },
  {
   "cell_type": "code",
   "execution_count": 14,
   "id": "42644536",
   "metadata": {},
   "outputs": [
    {
     "name": "stdout",
     "output_type": "stream",
     "text": [
      "(0, 'title', 'text', 0, None, 0)\n",
      "(1, 'author', 'text', 0, None, 0)\n",
      "(2, 'year', 'integer', 0, None, 0)\n"
     ]
    }
   ],
   "source": [
    "# To view table structure\n",
    "import sqlite3\n",
    "con = sqlite3.connect('books.db')\n",
    "c = con.cursor()\n",
    "for row in c.execute(\"PRAGMA table_info('books')\").fetchall():\n",
    "    print(row)\n",
    "con.commit()\n",
    "c.close()\n",
    "con.close()"
   ]
  },
  {
   "cell_type": "markdown",
   "id": "9c2c396d",
   "metadata": {},
   "source": [
    "### 5. Read books.csv and insert its data into the book table."
   ]
  },
  {
   "cell_type": "code",
   "execution_count": 20,
   "id": "32b64e1a",
   "metadata": {},
   "outputs": [],
   "source": [
    "import sqlite3\n",
    "import csv\n",
    "con = sqlite3.connect('books.db')\n",
    "c= con.cursor()\n",
    "file = open('books.csv')\n",
    "contents = csv.reader(file)\n",
    "insert_records = \"INSERT INTO books (title, author, year) VALUES(?, ?, ?)\"\n",
    "c.executemany(insert_records,contents)\n",
    "con.commit()\n",
    "c.close()\n",
    "con.close()"
   ]
  },
  {
   "cell_type": "markdown",
   "id": "529459fe",
   "metadata": {},
   "source": [
    "### 6. Select and print the title column from the book table in alphabetical order."
   ]
  },
  {
   "cell_type": "code",
   "execution_count": 23,
   "id": "ee34fc38",
   "metadata": {},
   "outputs": [
    {
     "name": "stdout",
     "output_type": "stream",
     "text": [
      "Perdido Street Station\n",
      "Small Gods\n",
      "The Spellman Files\n",
      "The Weirdstone of Brisingamen\n",
      "Thud!\n",
      "title\n"
     ]
    }
   ],
   "source": [
    "import sqlite3\n",
    "import csv\n",
    "con = sqlite3.connect('books.db')\n",
    "c= con.cursor()\n",
    "query = c.execute(\"SELECT title FROM books order by title ASC\")\n",
    "for row in query:\n",
    "    print(row[0])\n",
    "c.close()\n",
    "con.close()"
   ]
  },
  {
   "cell_type": "markdown",
   "id": "02fbab29",
   "metadata": {},
   "source": [
    "### 7. From the book table, select and print all columns in the order of publication."
   ]
  },
  {
   "cell_type": "code",
   "execution_count": 24,
   "id": "e1fb00e9",
   "metadata": {},
   "outputs": [
    {
     "name": "stdout",
     "output_type": "stream",
     "text": [
      "('The Weirdstone of Brisingamen', 'Alan Garner', 1960)\n",
      "('Small Gods', 'Terry Pratchett', 1992)\n",
      "('Perdido Street Station', 'China Miéville', 2000)\n",
      "('Thud!', 'Terry Pratchett', 2005)\n",
      "('The Spellman Files', 'Lisa Lutz', 2007)\n",
      "('title', 'author', 'year')\n"
     ]
    }
   ],
   "source": [
    "import sqlite3\n",
    "import csv\n",
    "con = sqlite3.connect('books.db')\n",
    "c= con.cursor()\n",
    "query = c.execute(\"SELECT * FROM books order by year\")\n",
    "for row in query:\n",
    "    print(row)\n",
    "c.close()\n",
    "con.close()"
   ]
  },
  {
   "cell_type": "markdown",
   "id": "7fc659bb",
   "metadata": {},
   "source": [
    "### 8. Use the sqlalchemy module to connect to the sqlite3 database books.db that you just made in exercise 6."
   ]
  },
  {
   "cell_type": "code",
   "execution_count": 27,
   "id": "b46e77a3",
   "metadata": {},
   "outputs": [
    {
     "name": "stdout",
     "output_type": "stream",
     "text": [
      "Engine(sqlite:///books.db)\n"
     ]
    }
   ],
   "source": [
    "from sqlalchemy import create_engine\n",
    "connection = create_engine('sqlite:///books.db')\n",
    "print(connection)"
   ]
  },
  {
   "cell_type": "markdown",
   "id": "1586736c",
   "metadata": {},
   "source": [
    "### 9. Install the Redis server and the Python redis library (pip install redis) on your computer. Create a Redis hash called test with the fields count (1) and name ('Fester Bestertester'). Print all the fields for test."
   ]
  },
  {
   "cell_type": "code",
   "execution_count": 28,
   "id": "26b00da0",
   "metadata": {},
   "outputs": [
    {
     "name": "stdout",
     "output_type": "stream",
     "text": [
      "Collecting redis\n",
      "  Downloading redis-4.2.2-py3-none-any.whl (226 kB)\n",
      "Collecting async-timeout>=4.0.2\n",
      "  Downloading async_timeout-4.0.2-py3-none-any.whl (5.8 kB)\n",
      "Collecting deprecated>=1.2.3\n",
      "  Downloading Deprecated-1.2.13-py2.py3-none-any.whl (9.6 kB)\n",
      "Requirement already satisfied: packaging>=20.4 in c:\\users\\admin\\anaconda3\\lib\\site-packages (from redis) (21.0)\n",
      "Requirement already satisfied: wrapt<2,>=1.10 in c:\\users\\admin\\anaconda3\\lib\\site-packages (from deprecated>=1.2.3->redis) (1.12.1)\n",
      "Requirement already satisfied: pyparsing>=2.0.2 in c:\\users\\admin\\anaconda3\\lib\\site-packages (from packaging>=20.4->redis) (3.0.4)\n",
      "Installing collected packages: deprecated, async-timeout, redis\n",
      "Successfully installed async-timeout-4.0.2 deprecated-1.2.13 redis-4.2.2\n"
     ]
    }
   ],
   "source": [
    "!pip install redis"
   ]
  },
  {
   "cell_type": "code",
   "execution_count": 32,
   "id": "8be14b52",
   "metadata": {},
   "outputs": [
    {
     "data": {
      "text/plain": [
       "{b'count': b'1', b'name': b'Fester Bestertester'}"
      ]
     },
     "execution_count": 32,
     "metadata": {},
     "output_type": "execute_result"
    }
   ],
   "source": [
    "import redis\n",
    "clientConn = redis.StrictRedis()\n",
    "clientConn.hset('test','count',1)\n",
    "clientConn.hset('test','name','Fester Bestertester')\n",
    "clientConn.hgetall('test')"
   ]
  },
  {
   "cell_type": "markdown",
   "id": "52b37bb9",
   "metadata": {},
   "source": [
    "### 10. Increment the count field of test and print it."
   ]
  },
  {
   "cell_type": "code",
   "execution_count": 33,
   "id": "aaa6db77",
   "metadata": {},
   "outputs": [
    {
     "data": {
      "text/plain": [
       "b'2'"
      ]
     },
     "execution_count": 33,
     "metadata": {},
     "output_type": "execute_result"
    }
   ],
   "source": [
    "clientConn.hincrby('test','count',1)\n",
    "clientConn.hget('test','count')"
   ]
  },
  {
   "cell_type": "code",
   "execution_count": null,
   "id": "af61efab",
   "metadata": {},
   "outputs": [],
   "source": []
  }
 ],
 "metadata": {
  "kernelspec": {
   "display_name": "Python 3 (ipykernel)",
   "language": "python",
   "name": "python3"
  },
  "language_info": {
   "codemirror_mode": {
    "name": "ipython",
    "version": 3
   },
   "file_extension": ".py",
   "mimetype": "text/x-python",
   "name": "python",
   "nbconvert_exporter": "python",
   "pygments_lexer": "ipython3",
   "version": "3.9.7"
  }
 },
 "nbformat": 4,
 "nbformat_minor": 5
}
