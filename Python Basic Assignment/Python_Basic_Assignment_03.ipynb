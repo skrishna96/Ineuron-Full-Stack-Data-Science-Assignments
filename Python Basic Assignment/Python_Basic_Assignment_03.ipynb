{
 "cells": [
  {
   "cell_type": "markdown",
   "id": "284f9bf0",
   "metadata": {},
   "source": [
    "### 1. Why are functions advantageous to have in your programs?"
   ]
  },
  {
   "cell_type": "markdown",
   "id": "4ab978c8",
   "metadata": {},
   "source": [
    "<pre>\n",
    "1. We can reuse the same code various times.\n",
    "2. Divide the large programs into smaller groups make them easy to read and understand.\n",
    "<pre>"
   ]
  },
  {
   "cell_type": "markdown",
   "id": "8b5856c4",
   "metadata": {},
   "source": [
    "### 2. When does the code in a function run: when it's specified or when it's called?"
   ]
  },
  {
   "cell_type": "markdown",
   "id": "e5e0a438",
   "metadata": {},
   "source": [
    "<pre>\n",
    "A function is a set of code that performs a specific task and it will run when it's called\n",
    "<pre>"
   ]
  },
  {
   "cell_type": "markdown",
   "id": "71b80592",
   "metadata": {},
   "source": [
    "### 3. What statement creates a function?"
   ]
  },
  {
   "cell_type": "markdown",
   "id": "49c57e59",
   "metadata": {},
   "source": [
    "<pre>\n",
    "def keyword is used to create a function\n",
    "#Syntax\n",
    "def function_name(parameters):\n",
    "    \"Document String\"\n",
    "    Local Variable declaration\n",
    "    Executable statements\n",
    "    return statement\n",
    "<pre>"
   ]
  },
  {
   "cell_type": "markdown",
   "id": "f7dd458f",
   "metadata": {},
   "source": [
    "### 4. What is the difference between a function and a function call?"
   ]
  },
  {
   "cell_type": "markdown",
   "id": "92246a50",
   "metadata": {},
   "source": [
    "<pre>\n",
    "A function is a set of code that performs a specific task and using that function to perform the task at specific time is called function call.\n",
    "<pre>"
   ]
  },
  {
   "cell_type": "markdown",
   "id": "dbf440e6",
   "metadata": {},
   "source": [
    "### 5. How many global scopes are there in a Python program? How many local scopes?"
   ]
  },
  {
   "cell_type": "markdown",
   "id": "b1f2c548",
   "metadata": {},
   "source": [
    "<pre>\n",
    "Global Scope: A variable created in the main body of the python code is a global variable and There is only one global variable per program.\n",
    "Local Scope: A variable created inside a function belongs to the local scope of that function and there can be as many local variables we need.\n",
    "<pre>"
   ]
  },
  {
   "cell_type": "markdown",
   "id": "5a74a27b",
   "metadata": {},
   "source": [
    "### 6. What happens to variables in a local scope when the function call returns?"
   ]
  },
  {
   "cell_type": "markdown",
   "id": "809fed0a",
   "metadata": {},
   "source": [
    "<pre>\n",
    "When the function starts execution it will store all local variables in memory and delete all the variables when the function ends\n",
    "<pre>"
   ]
  },
  {
   "cell_type": "markdown",
   "id": "3093ae89",
   "metadata": {},
   "source": [
    "### 7. What is the concept of a return value? Is it possible to have a return value in an expression?"
   ]
  },
  {
   "cell_type": "markdown",
   "id": "eb64e367",
   "metadata": {},
   "source": [
    "<pre>\n",
    "The return is a built-in python keyword used to end the execution of function call and return the value to the end user.\n",
    "Yes it is possible to have a return value in an expression.\n",
    "<pre>"
   ]
  },
  {
   "cell_type": "markdown",
   "id": "c2457b7c",
   "metadata": {},
   "source": [
    "### 8. If a function does not have a return statement, what is the return value of a call to that function?"
   ]
  },
  {
   "cell_type": "markdown",
   "id": "7629b8e4",
   "metadata": {},
   "source": [
    "<pre>\n",
    "If the function does not have a return statement then it will return None and type of that function is NoneType\n",
    "<pre>"
   ]
  },
  {
   "cell_type": "code",
   "execution_count": 3,
   "id": "46a7eaac",
   "metadata": {},
   "outputs": [
    {
     "data": {
      "text/plain": [
       "NoneType"
      ]
     },
     "execution_count": 3,
     "metadata": {},
     "output_type": "execute_result"
    }
   ],
   "source": [
    "#Example\n",
    "def hello():\n",
    "    pass\n",
    "type(hello())"
   ]
  },
  {
   "cell_type": "markdown",
   "id": "77135850",
   "metadata": {},
   "source": [
    "### 9. How do you make a function variable refer to the global variable?"
   ]
  },
  {
   "cell_type": "markdown",
   "id": "565ea2f6",
   "metadata": {},
   "source": [
    "<pre>\n",
    "If we want to make a function variable refer to global variable we use \"global\" keyword to declare which variables are  global.\n",
    "<pre>"
   ]
  },
  {
   "cell_type": "markdown",
   "id": "74d98bd6",
   "metadata": {},
   "source": [
    "### 10. What is the data type of None?"
   ]
  },
  {
   "cell_type": "markdown",
   "id": "08b25b7c",
   "metadata": {},
   "source": [
    "<pre>\n",
    "data type of None is NoneType\n",
    "<pre>"
   ]
  },
  {
   "cell_type": "code",
   "execution_count": 4,
   "id": "d89a5de7",
   "metadata": {},
   "outputs": [
    {
     "data": {
      "text/plain": [
       "NoneType"
      ]
     },
     "execution_count": 4,
     "metadata": {},
     "output_type": "execute_result"
    }
   ],
   "source": [
    "type(None)"
   ]
  },
  {
   "cell_type": "markdown",
   "id": "399b4da0",
   "metadata": {},
   "source": [
    "### 11. What does the sentence import areallyourpetsnamederic do?"
   ]
  },
  {
   "cell_type": "markdown",
   "id": "bc95d385",
   "metadata": {},
   "source": [
    "<pre>\n",
    "It will import the areallyourpetsnamederic module.\n",
    "<pre>"
   ]
  },
  {
   "cell_type": "markdown",
   "id": "861afc02",
   "metadata": {},
   "source": [
    "### 12. If you had a bacon() feature in a spam module, what would you call it after importing spam?"
   ]
  },
  {
   "cell_type": "markdown",
   "id": "d7b46a52",
   "metadata": {},
   "source": [
    "<pre>\n",
    "import spam\n",
    "spam.bacon()\n",
    "<pre>"
   ]
  },
  {
   "cell_type": "markdown",
   "id": "6f2ccfb9",
   "metadata": {},
   "source": [
    "### 13. What can you do to save a programme from crashing if it encounters an error?"
   ]
  },
  {
   "cell_type": "markdown",
   "id": "38e3f0e4",
   "metadata": {},
   "source": [
    "<pre>\n",
    "We can use exception handling to save a program from crashing.\n",
    "We can place the code in try block and handle all the errors in except block.\n",
    "<pre>"
   ]
  },
  {
   "cell_type": "markdown",
   "id": "b8fdd218",
   "metadata": {},
   "source": [
    "### 14. What is the purpose of the try clause? What is the purpose of the except clause?"
   ]
  },
  {
   "cell_type": "markdown",
   "id": "8b03cb57",
   "metadata": {},
   "source": [
    "<pre>\n",
    "The try block is a block of statements we are trying to execute and except block is used to handle errors occured in try block. \n",
    "<pre>"
   ]
  },
  {
   "cell_type": "code",
   "execution_count": null,
   "id": "9f35f427",
   "metadata": {},
   "outputs": [],
   "source": []
  }
 ],
 "metadata": {
  "kernelspec": {
   "display_name": "Python 3 (ipykernel)",
   "language": "python",
   "name": "python3"
  },
  "language_info": {
   "codemirror_mode": {
    "name": "ipython",
    "version": 3
   },
   "file_extension": ".py",
   "mimetype": "text/x-python",
   "name": "python",
   "nbconvert_exporter": "python",
   "pygments_lexer": "ipython3",
   "version": "3.9.7"
  }
 },
 "nbformat": 4,
 "nbformat_minor": 5
}
