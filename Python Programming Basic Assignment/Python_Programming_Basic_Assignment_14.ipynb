{
 "cells": [
  {
   "cell_type": "markdown",
   "id": "5e35a33b",
   "metadata": {},
   "source": [
    "### Question 1:\n",
    "### Define a class with a generator which can iterate the numbers, which are divisible by 7, between a given range 0 and n."
   ]
  },
  {
   "cell_type": "code",
   "execution_count": 3,
   "id": "76f9d4a1",
   "metadata": {},
   "outputs": [
    {
     "name": "stdout",
     "output_type": "stream",
     "text": [
      "0 7 14 21 28 35 42 49 56 63 70 77 84 91 98 "
     ]
    }
   ],
   "source": [
    "def sevenDivisibles(num):\n",
    "    for i in range(num):\n",
    "        if i % 7 == 0:\n",
    "            yield i\n",
    "output = sevenDivisibles(100)\n",
    "for j in output:\n",
    "    print(j,end=\" \")"
   ]
  },
  {
   "cell_type": "markdown",
   "id": "3fb00956",
   "metadata": {},
   "source": [
    "### Question 2:\n",
    "### Write a program to compute the frequency of the words from the input. The output should output after sorting the key alphanumerically. \n",
    "#### Suppose the following input is supplied to the program:\n",
    "#### New to Python or choosing between Python 2 and Python 3? Read Python 2 or Python 3.\n",
    "### Then, the output should be:\n",
    "#### 2:2 3.:1 3?:1 New:1 Python:5 Read:1 and:1 between:1 choosing:1 or:2 to:1"
   ]
  },
  {
   "cell_type": "code",
   "execution_count": 16,
   "id": "329a71a5",
   "metadata": {},
   "outputs": [
    {
     "name": "stdout",
     "output_type": "stream",
     "text": [
      "Enter input: New to Python or choosing between Python 2 and Python 3? Read Python 2 or Python 3.\n",
      "2:2 3.:1 3?:1 New:1 Python:5 Read:1 and:1 between:1 choosing:1 or:2 to:1 "
     ]
    }
   ],
   "source": [
    "words = input(\"Enter input: \").split(\" \")\n",
    "d = {}\n",
    "for i in words:\n",
    "    if i not in d.keys():\n",
    "        d[i] = 1\n",
    "    else:\n",
    "        d[i] += 1\n",
    "for key,value in sorted(d.items()):\n",
    "    print(f\"{key}:{value}\",end=\" \")"
   ]
  },
  {
   "cell_type": "markdown",
   "id": "6144c1f1",
   "metadata": {},
   "source": [
    "### Question 3:\n",
    "### Define a class Person and its two child classes: Male and Female. All classes have a method \"getGender\" which can print \"Male\" for Male class and \"Female\" for Female class."
   ]
  },
  {
   "cell_type": "code",
   "execution_count": 18,
   "id": "e276ec05",
   "metadata": {},
   "outputs": [
    {
     "name": "stdout",
     "output_type": "stream",
     "text": [
      "Male\n",
      "Female\n"
     ]
    }
   ],
   "source": [
    "class Person:\n",
    "    def getGender():\n",
    "        pass\n",
    "class Male(Person):\n",
    "    def getGender():\n",
    "        print(\"Male\")\n",
    "class Female(Person):\n",
    "    def getGender():\n",
    "        print(\"Female\")\n",
    "Male.getGender()\n",
    "Female.getGender()"
   ]
  },
  {
   "cell_type": "markdown",
   "id": "de42cfdb",
   "metadata": {},
   "source": [
    "### Question 4:\n",
    "### Please write a program to generate all sentences where subject is in [\"I\", \"You\"] and verb is in [\"Play\", \"Love\"] and the object is in [\"Hockey\",\"Football\"]."
   ]
  },
  {
   "cell_type": "code",
   "execution_count": 19,
   "id": "df447e64",
   "metadata": {},
   "outputs": [
    {
     "name": "stdout",
     "output_type": "stream",
     "text": [
      "I Play Hockey\n",
      "I Play Football\n",
      "I Love Hockey\n",
      "I Love Football\n",
      "You Play Hockey\n",
      "You Play Football\n",
      "You Love Hockey\n",
      "You Love Football\n"
     ]
    }
   ],
   "source": [
    "def generateSentence():\n",
    "    subject = [\"I\", \"You\"]\n",
    "    verb = [\"Play\", \"Love\"]\n",
    "    object = [\"Hockey\",\"Football\"]\n",
    "    for s in subject:\n",
    "        for v in verb:\n",
    "            for o in object:\n",
    "                print(f\"{s} {v} {o}\")\n",
    "generateSentence()"
   ]
  },
  {
   "cell_type": "markdown",
   "id": "a523a3f2",
   "metadata": {},
   "source": [
    "### Question 5:\n",
    "### Please write a program to compress and decompress the string \"hello world!hello world!hello world!hello world!\"."
   ]
  },
  {
   "cell_type": "code",
   "execution_count": 23,
   "id": "a697f45f",
   "metadata": {},
   "outputs": [
    {
     "name": "stdout",
     "output_type": "stream",
     "text": [
      "Actual String: hello world!hello world!hello world!hello world!\n",
      "Compressed String: b'x\\x9c\\xcbH\\xcd\\xc9\\xc9W(\\xcf/\\xcaIQ\\xcc \\x82\\r\\x00\\xbd[\\x11\\xf5'\n",
      "Decompressed String: b'hello world!hello world!hello world!hello world!'\n"
     ]
    }
   ],
   "source": [
    "import zlib\n",
    "string = \"hello world!hello world!hello world!hello world!\"\n",
    "y = bytes(string, 'utf-8')\n",
    "compress_string = zlib.compress(y)\n",
    "decompress_string = zlib.decompress(compress_string)\n",
    "print(f\"Actual String: {string}\")\n",
    "print(f\"Compressed String: {compress_string}\")\n",
    "print(f\"Decompressed String: {decompress_string}\")"
   ]
  },
  {
   "cell_type": "markdown",
   "id": "03b70c98",
   "metadata": {},
   "source": [
    "### Question 6:\n",
    "### Please write a binary search function which searches an item in a sorted list. The function should return the index of element to be searched in the list."
   ]
  },
  {
   "cell_type": "code",
   "execution_count": 27,
   "id": "1f0d0cd4",
   "metadata": {},
   "outputs": [
    {
     "name": "stdout",
     "output_type": "stream",
     "text": [
      "Enter list: [1,2,3,4,5,6,7,8,9]\n",
      "Enter element to search: 7\n",
      "Element is present at position 6\n"
     ]
    }
   ],
   "source": [
    "def binarySearch(lst,ele):\n",
    "    low = 0\n",
    "    high = len(lst) - 1\n",
    "    mid = 0\n",
    "    while low <= high:\n",
    "        mid = (high + low) // 2\n",
    "        if lst[mid] < ele:\n",
    "            low = mid + 1\n",
    "        elif lst[mid] > ele:\n",
    "            high = mid - 1\n",
    "        else:\n",
    "            return mid\n",
    "    return -1\n",
    "lst = eval(input(\"Enter list: \"))\n",
    "ele = int(input(\"Enter element to search: \"))\n",
    "output = binarySearch(lst,ele)\n",
    "if output != -1:\n",
    "    print(f\"Element is present at position {output}\")\n",
    "else:\n",
    "    print(\"Element is not present in array\")"
   ]
  },
  {
   "cell_type": "code",
   "execution_count": null,
   "id": "6fd4f6aa",
   "metadata": {},
   "outputs": [],
   "source": []
  }
 ],
 "metadata": {
  "kernelspec": {
   "display_name": "Python 3 (ipykernel)",
   "language": "python",
   "name": "python3"
  },
  "language_info": {
   "codemirror_mode": {
    "name": "ipython",
    "version": 3
   },
   "file_extension": ".py",
   "mimetype": "text/x-python",
   "name": "python",
   "nbconvert_exporter": "python",
   "pygments_lexer": "ipython3",
   "version": "3.9.7"
  }
 },
 "nbformat": 4,
 "nbformat_minor": 5
}
