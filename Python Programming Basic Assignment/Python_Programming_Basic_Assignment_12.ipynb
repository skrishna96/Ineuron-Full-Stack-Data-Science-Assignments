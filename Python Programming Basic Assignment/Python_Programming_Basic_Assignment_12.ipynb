{
 "cells": [
  {
   "cell_type": "markdown",
   "id": "13cf9729",
   "metadata": {},
   "source": [
    "### 1.\tWrite a Python program to Extract Unique values dictionary values?"
   ]
  },
  {
   "cell_type": "code",
   "execution_count": 2,
   "id": "d9e82d0c",
   "metadata": {},
   "outputs": [
    {
     "name": "stdout",
     "output_type": "stream",
     "text": [
      "Dictionary values: dict_values(['DS', 'ML', 'AI', 'ML', 'DS', 'AI'])\n",
      "Unique dictionary values: ['ML', 'AI', 'DS']\n"
     ]
    }
   ],
   "source": [
    "d = { 1 : \"DS\", 2 : \"ML\", 3 : \"AI\", 4 : \"ML\", 5 : \"DS\", 6 : \"AI\"}\n",
    "print(f\"Dictionary values: {d.values()}\")\n",
    "print(f\"Unique dictionary values: {list(set(d.values()))}\")"
   ]
  },
  {
   "cell_type": "markdown",
   "id": "e0cf9a27",
   "metadata": {},
   "source": [
    "### 2.\tWrite a Python program to find the sum of all items in a dictionary?"
   ]
  },
  {
   "cell_type": "code",
   "execution_count": 3,
   "id": "e54e0bc2",
   "metadata": {},
   "outputs": [
    {
     "name": "stdout",
     "output_type": "stream",
     "text": [
      "Sum of all items in a dictionary: 25\n"
     ]
    }
   ],
   "source": [
    "d = { \"item1\": 3, \"item2\" : 7, \"item3\" : 6, \"item4\" : 9}\n",
    "print(f\"Sum of all items in a dictionary: {sum(d.values())}\")"
   ]
  },
  {
   "cell_type": "markdown",
   "id": "b14e6298",
   "metadata": {},
   "source": [
    "### 3.\tWrite a Python program to Merging two Dictionaries?"
   ]
  },
  {
   "cell_type": "code",
   "execution_count": 4,
   "id": "2191092e",
   "metadata": {},
   "outputs": [
    {
     "name": "stdout",
     "output_type": "stream",
     "text": [
      "First dictionary: {'a': 1, 'b': 2}\n",
      "Second dictionary: {'c': 3, 'd': 4}\n",
      "Merge Dictionary: {'a': 1, 'b': 2, 'c': 3, 'd': 4}\n"
     ]
    }
   ],
   "source": [
    "d1 = {'a' : 1, 'b' : 2}\n",
    "d2 = {'c' : 3, 'd' : 4}\n",
    "print(f\"First dictionary: {d1}\")\n",
    "print(f\"Second dictionary: {d2}\")\n",
    "d3 = d1 | d2\n",
    "print(f\"Merge Dictionary: {d3}\")"
   ]
  },
  {
   "cell_type": "markdown",
   "id": "228f2219",
   "metadata": {},
   "source": [
    "### 4.\tWrite a Python program to convert key-values list to flat dictionary?"
   ]
  },
  {
   "cell_type": "code",
   "execution_count": 10,
   "id": "357665ec",
   "metadata": {},
   "outputs": [
    {
     "name": "stdout",
     "output_type": "stream",
     "text": [
      "Actual Dictionary: {'key': ['key1', 'key2', 'key3', 'key4'], 'value': ['value1', 'value2', 'value3', 'value4']}\n",
      "New Dictionary: {'key1': 'value1', 'key2': 'value2', 'key3': 'value3', 'key4': 'value4'}\n"
     ]
    }
   ],
   "source": [
    "d = { \"key\" : [\"key1\" , \"key2\", \"key3\", \"key4\"],\n",
    "    \"value\" : [\"value1\", \"value2\", \"value3\", \"value4\"]}\n",
    "new_dict = dict(zip(d[\"key\"] , d[\"value\"]))\n",
    "print(f\"Actual Dictionary: {d}\")\n",
    "print(f\"New Dictionary: {new_dict}\")"
   ]
  },
  {
   "cell_type": "markdown",
   "id": "52cf99cc",
   "metadata": {},
   "source": [
    "### 5.\tWrite a Python program to insertion at the beginning in OrderedDict?"
   ]
  },
  {
   "cell_type": "code",
   "execution_count": 13,
   "id": "079f72fb",
   "metadata": {},
   "outputs": [
    {
     "name": "stdout",
     "output_type": "stream",
     "text": [
      "OrderedDict([('a', 1), ('b', 2), ('c', 3)])\n",
      "OrderedDict([('a', 1), ('b', 2), ('c', 3), ('d', 4)])\n",
      "OrderedDict([('d', 4), ('a', 1), ('b', 2), ('c', 3)])\n"
     ]
    }
   ],
   "source": [
    "from collections import OrderedDict\n",
    "d = OrderedDict({'a' : 1, 'b' : 2, 'c' : 3})\n",
    "print(d)\n",
    "d1 = {'d' : 4}\n",
    "d.update(d1)\n",
    "print(d)\n",
    "d.move_to_end('d', last=False)\n",
    "print(d)"
   ]
  },
  {
   "cell_type": "markdown",
   "id": "28020369",
   "metadata": {},
   "source": [
    "### 6.\tWrite a Python program to check order of character in string using OrderedDict()?"
   ]
  },
  {
   "cell_type": "code",
   "execution_count": 14,
   "id": "eb8cc463",
   "metadata": {},
   "outputs": [],
   "source": [
    "from collections import OrderedDict\n",
    "def checkOrder(string, pattern):\n",
    "    d = OrderedDict.fromkeys(string)\n",
    "    count = 0\n",
    "    for key, value in d.items():\n",
    "        if key == pattern[count]:\n",
    "            count = count + 1\n",
    "        if count == len(pattern):\n",
    "            return True\n",
    "    return False"
   ]
  },
  {
   "cell_type": "code",
   "execution_count": 17,
   "id": "453eb183",
   "metadata": {},
   "outputs": [
    {
     "data": {
      "text/plain": [
       "True"
      ]
     },
     "execution_count": 17,
     "metadata": {},
     "output_type": "execute_result"
    }
   ],
   "source": [
    "checkOrder(\"DataScience\", 'DS')"
   ]
  },
  {
   "cell_type": "code",
   "execution_count": 18,
   "id": "7974cf76",
   "metadata": {},
   "outputs": [
    {
     "data": {
      "text/plain": [
       "False"
      ]
     },
     "execution_count": 18,
     "metadata": {},
     "output_type": "execute_result"
    }
   ],
   "source": [
    "checkOrder(\"DataScience\", 'SD')"
   ]
  },
  {
   "cell_type": "markdown",
   "id": "514c891e",
   "metadata": {},
   "source": [
    "### 7.\tWrite a Python program to sort Python Dictionaries by Key or Value?"
   ]
  },
  {
   "cell_type": "code",
   "execution_count": 21,
   "id": "6c92d13f",
   "metadata": {},
   "outputs": [],
   "source": [
    "def sortDict(d,sort):\n",
    "    if sort == \"key\":\n",
    "        print(f\"Sorted based on key : {dict(sorted(d.items(), key=lambda x:x[0], reverse=False))}\")\n",
    "    elif sort == \"value\":\n",
    "        print(f\"Sorted based on Value : {dict(sorted(d.items(), key=lambda x:x[1], reverse=False))}\")"
   ]
  },
  {
   "cell_type": "code",
   "execution_count": 22,
   "id": "925cbc5a",
   "metadata": {},
   "outputs": [
    {
     "name": "stdout",
     "output_type": "stream",
     "text": [
      "Actual Dictionary: {'a': 1, 'c': 2, 'b': 3, 'e': 4, 'd': 5}\n",
      "Sorted based on key : {'a': 1, 'b': 3, 'c': 2, 'd': 5, 'e': 4}\n"
     ]
    }
   ],
   "source": [
    "d = {'a' : 1, 'c' : 2, 'b' : 3, 'e' : 4, 'd' : 5}\n",
    "print(f\"Actual Dictionary: {d}\")\n",
    "sortDict(d,\"key\")"
   ]
  },
  {
   "cell_type": "code",
   "execution_count": 24,
   "id": "57d5e4f6",
   "metadata": {},
   "outputs": [
    {
     "name": "stdout",
     "output_type": "stream",
     "text": [
      "Actual Dictionary: {'a': 1, 'c': 3, 'b': 4, 'e': 2, 'd': 5}\n",
      "Sorted based on Value : {'a': 1, 'e': 2, 'c': 3, 'b': 4, 'd': 5}\n"
     ]
    }
   ],
   "source": [
    "d = {'a' : 1, 'c' : 3, 'b' : 4, 'e' : 2, 'd' : 5}\n",
    "print(f\"Actual Dictionary: {d}\")\n",
    "sortDict(d,\"value\")"
   ]
  },
  {
   "cell_type": "code",
   "execution_count": null,
   "id": "fea08814",
   "metadata": {},
   "outputs": [],
   "source": []
  }
 ],
 "metadata": {
  "kernelspec": {
   "display_name": "Python 3 (ipykernel)",
   "language": "python",
   "name": "python3"
  },
  "language_info": {
   "codemirror_mode": {
    "name": "ipython",
    "version": 3
   },
   "file_extension": ".py",
   "mimetype": "text/x-python",
   "name": "python",
   "nbconvert_exporter": "python",
   "pygments_lexer": "ipython3",
   "version": "3.9.7"
  }
 },
 "nbformat": 4,
 "nbformat_minor": 5
}
