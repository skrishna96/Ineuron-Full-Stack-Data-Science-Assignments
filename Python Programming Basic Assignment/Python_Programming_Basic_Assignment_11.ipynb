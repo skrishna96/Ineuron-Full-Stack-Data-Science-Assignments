{
 "cells": [
  {
   "cell_type": "markdown",
   "id": "722d15cb",
   "metadata": {},
   "source": [
    "### 1.\tWrite a Python program to find words which are greater than given length k?"
   ]
  },
  {
   "cell_type": "code",
   "execution_count": 3,
   "id": "2af63751",
   "metadata": {},
   "outputs": [
    {
     "name": "stdout",
     "output_type": "stream",
     "text": [
      "Please Enter a line: welcome to the ineuron ott platform\n",
      "Please enter the length: 4\n",
      "Words greater than the length 4 are: \n",
      "welcome\n",
      "ineuron\n",
      "platform\n"
     ]
    }
   ],
   "source": [
    "line = input(\"Please Enter a line: \")\n",
    "length = int(input(\"Please enter the length: \"))\n",
    "print(f\"Words greater than the length {length} are: \")\n",
    "for word in line.split(' '):\n",
    "    if len(word) > length:\n",
    "        print(word)"
   ]
  },
  {
   "cell_type": "markdown",
   "id": "6381f0ba",
   "metadata": {},
   "source": [
    "### 2.\tWrite a Python program for removing i-th character from a string?"
   ]
  },
  {
   "cell_type": "code",
   "execution_count": 11,
   "id": "8d5beff2",
   "metadata": {},
   "outputs": [
    {
     "name": "stdout",
     "output_type": "stream",
     "text": [
      "Please enter a string: ineuron\n",
      "Please enter index position number which you want to remove: 3\n",
      "New string after removing character: ineron\n"
     ]
    }
   ],
   "source": [
    "word = input(\"Please enter a string: \")\n",
    "num = int(input(\"Please enter index position number which you want to remove: \"))\n",
    "new_word = ''\n",
    "for i in range(len(word)):\n",
    "    if i != num:\n",
    "        new_word += word[i]\n",
    "print(f\"New string after removing character: {new_word}\")"
   ]
  },
  {
   "cell_type": "markdown",
   "id": "3af9d586",
   "metadata": {},
   "source": [
    "### 3.\tWrite a Python program to split and join a string?"
   ]
  },
  {
   "cell_type": "code",
   "execution_count": 14,
   "id": "9943add3",
   "metadata": {},
   "outputs": [
    {
     "name": "stdout",
     "output_type": "stream",
     "text": [
      "Enter a string: ineuron\n",
      "Split string: ['i', 'n', 'e', 'u', 'r', 'o', 'n']\n",
      "Join string: ineuron\n"
     ]
    }
   ],
   "source": [
    "word = input(\"Enter a string: \")\n",
    "split_string = [letter for letter in word]\n",
    "join_string = ''.join(split_string)\n",
    "print(f'Split string: {split_string}')\n",
    "print(f'Join string: {join_string}')"
   ]
  },
  {
   "cell_type": "markdown",
   "id": "6e2d1246",
   "metadata": {},
   "source": [
    "### 4.\tWrite a Python to check if a given string is binary string or not?"
   ]
  },
  {
   "cell_type": "code",
   "execution_count": 18,
   "id": "ae8bde75",
   "metadata": {},
   "outputs": [],
   "source": [
    "def checkBinary(word):\n",
    "    for i in word:\n",
    "        if  i in ['0','1']:\n",
    "            count=1\n",
    "            continue\n",
    "        else:\n",
    "            count = 0\n",
    "            break\n",
    "    if count==1:\n",
    "        print(f\"The given string {word} is a binary string\")\n",
    "    else:\n",
    "        print(f\"The given string {word} is not a binary string\")"
   ]
  },
  {
   "cell_type": "code",
   "execution_count": 19,
   "id": "49a69c76",
   "metadata": {},
   "outputs": [
    {
     "name": "stdout",
     "output_type": "stream",
     "text": [
      "The given string 0110101 is a binary string\n"
     ]
    }
   ],
   "source": [
    "checkBinary('0110101')"
   ]
  },
  {
   "cell_type": "code",
   "execution_count": 20,
   "id": "5b773c02",
   "metadata": {},
   "outputs": [
    {
     "name": "stdout",
     "output_type": "stream",
     "text": [
      "The given string 011ab01 is not a binary string\n"
     ]
    }
   ],
   "source": [
    "checkBinary('011ab01')"
   ]
  },
  {
   "cell_type": "markdown",
   "id": "a68cac33",
   "metadata": {},
   "source": [
    "### 5.\tWrite a Python program to find uncommon words from two Strings?"
   ]
  },
  {
   "cell_type": "code",
   "execution_count": 24,
   "id": "017884cf",
   "metadata": {},
   "outputs": [
    {
     "name": "stdout",
     "output_type": "stream",
     "text": [
      "Enter first string: welcome to ineuron1\n",
      "Enetr second string: welcome to ineuron2\n",
      "Uncommon words from two strings are: \n",
      "ineuron1\n",
      "ineuron2\n"
     ]
    }
   ],
   "source": [
    "str1 = input(\"Enter first string: \").split()\n",
    "str2 = input(\"Enetr second string: \").split()\n",
    "d = {}\n",
    "for word in str1:\n",
    "    d[word] = d.get(word,0) + 1\n",
    "for word in str2:\n",
    "    d[word] = d.get(word,0) + 1\n",
    "print(\"Uncommon words from two strings are: \")\n",
    "for i in d:\n",
    "    if d[i] == 1:\n",
    "        print(i)"
   ]
  },
  {
   "cell_type": "markdown",
   "id": "40c122bc",
   "metadata": {},
   "source": [
    "### 6.\tWrite a Python to find all duplicate characters in string?"
   ]
  },
  {
   "cell_type": "code",
   "execution_count": 27,
   "id": "8d081bda",
   "metadata": {},
   "outputs": [
    {
     "name": "stdout",
     "output_type": "stream",
     "text": [
      "Enter a string: data science\n",
      "Duplicate charcaters in string are: \n",
      "a c e "
     ]
    }
   ],
   "source": [
    "word = input(\"Enter a string: \")\n",
    "d = {}\n",
    "for character in word:\n",
    "    d[character] = d.get(character,0) + 1\n",
    "print(\"Duplicate charcaters in string are: \")\n",
    "for i in d:\n",
    "    if d[i]>1:\n",
    "        print(i,end=\" \")"
   ]
  },
  {
   "cell_type": "markdown",
   "id": "fc63a3e0",
   "metadata": {},
   "source": [
    "### 7.\tWrite a Python Program to check if a string contains any special character?"
   ]
  },
  {
   "cell_type": "code",
   "execution_count": 32,
   "id": "84194cd0",
   "metadata": {},
   "outputs": [
    {
     "name": "stdout",
     "output_type": "stream",
     "text": [
      "Enter a string: $@ikri$hn@\n",
      "There are 4 special characters and distinct special characters are ['$', '@']\n"
     ]
    }
   ],
   "source": [
    "str1 = input(\"Enter a string: \")\n",
    "special_characters = '[@_!#$%^&*()<>?/\\|}{~:]'\n",
    "count = 0\n",
    "lst = []\n",
    "for i in str1:\n",
    "    if i in special_characters:\n",
    "        count += 1\n",
    "        if i not in lst:\n",
    "            lst.append(i)\n",
    "print(f\"There are {count} special characters and distinct special characters are {lst}\")"
   ]
  },
  {
   "cell_type": "code",
   "execution_count": null,
   "id": "56ab9b79",
   "metadata": {},
   "outputs": [],
   "source": []
  }
 ],
 "metadata": {
  "kernelspec": {
   "display_name": "Python 3 (ipykernel)",
   "language": "python",
   "name": "python3"
  },
  "language_info": {
   "codemirror_mode": {
    "name": "ipython",
    "version": 3
   },
   "file_extension": ".py",
   "mimetype": "text/x-python",
   "name": "python",
   "nbconvert_exporter": "python",
   "pygments_lexer": "ipython3",
   "version": "3.9.7"
  }
 },
 "nbformat": 4,
 "nbformat_minor": 5
}
