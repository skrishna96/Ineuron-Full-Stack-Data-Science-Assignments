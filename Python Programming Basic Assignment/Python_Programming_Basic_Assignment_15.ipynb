{
 "cells": [
  {
   "cell_type": "markdown",
   "id": "625f9f2c",
   "metadata": {},
   "source": [
    "### Question 1:\n",
    "### Please write a program using generator to print the numbers which can be divisible by 5 and 7 between 0 and n in comma separated form while n is input by console.\n",
    "### Example:\n",
    "### If the following n is given as input to the program:\n",
    "#### 100\n",
    "### Then, the output of the program should be:\n",
    "#### 0,35,70"
   ]
  },
  {
   "cell_type": "code",
   "execution_count": 5,
   "id": "04a4a7a7",
   "metadata": {},
   "outputs": [
    {
     "name": "stdout",
     "output_type": "stream",
     "text": [
      "Enter number: 100\n",
      "0,35,70\n"
     ]
    }
   ],
   "source": [
    "def multiples(n):\n",
    "    for num in range(n):\n",
    "        if num % 5 == 0 and num % 7 == 0:\n",
    "            yield num\n",
    "n = int(input(\"Enter number: \"))\n",
    "output = multiples(n)\n",
    "lst = []\n",
    "for i in output:\n",
    "    lst.append(str(i))\n",
    "print(','.join(lst))"
   ]
  },
  {
   "cell_type": "markdown",
   "id": "4d50bef8",
   "metadata": {},
   "source": [
    "### Question 2:\n",
    "### Please write a program using generator to print the even numbers between 0 and n in comma separated form while n is input by console.\n",
    "### Example:\n",
    "### If the following n is given as input to the program:\n",
    "#### 10\n",
    "### Then, the output of the program should be:\n",
    "#### 0,2,4,6,8,10"
   ]
  },
  {
   "cell_type": "code",
   "execution_count": 7,
   "id": "b0cb6d21",
   "metadata": {},
   "outputs": [
    {
     "name": "stdout",
     "output_type": "stream",
     "text": [
      "Enter number: 10\n",
      "0,2,4,6,8,10\n"
     ]
    }
   ],
   "source": [
    "def evenNumbers(n):\n",
    "    for num in range(n+1):\n",
    "        if num % 2 == 0:\n",
    "            yield num\n",
    "n = int(input(\"Enter number: \"))\n",
    "output = evenNumbers(n)\n",
    "lst = []\n",
    "for i in output:\n",
    "    lst.append(str(i))\n",
    "print(\",\".join(lst))"
   ]
  },
  {
   "cell_type": "markdown",
   "id": "c1500a03",
   "metadata": {},
   "source": [
    "### Question 3:\n",
    "### The Fibonacci Sequence is computed based on the following formula:\n",
    "#### f(n)=0 if n=0\n",
    "#### f(n)=1 if n=1\n",
    "#### f(n)=f(n-1)+f(n-2) if n>1\n",
    "### Please write a program using list comprehension to print the Fibonacci Sequence in comma separated form with a given n input by console.\n",
    "#### Example:\n",
    "#### If the following n is given as input to the program:\n",
    "#### 7\n",
    "#### Then, the output of the program should be:\n",
    "#### 0,1,1,2,3,5,8,13"
   ]
  },
  {
   "cell_type": "code",
   "execution_count": 4,
   "id": "db4e0cfa",
   "metadata": {},
   "outputs": [
    {
     "name": "stdout",
     "output_type": "stream",
     "text": [
      "Enter number: 7\n",
      "0,1,1,2,3,5,8,13\n"
     ]
    }
   ],
   "source": [
    "def fibonacci(num):\n",
    "    if num == 0:\n",
    "        return 0\n",
    "    elif num == 1:\n",
    "        return 1\n",
    "    else:\n",
    "        return fibonacci(num-1) + fibonacci(num-2)\n",
    "num = int(input(\"Enter number: \"))\n",
    "lst = [str(fibonacci(i)) for i in range(num+1)]\n",
    "print(\",\".join(lst))"
   ]
  },
  {
   "cell_type": "markdown",
   "id": "a3b428cb",
   "metadata": {},
   "source": [
    "### Question 4:\n",
    "### Assuming that we have some email addresses in the \"username@companyname.com\" format, please write program to print the user name of a given email address. Both user names and company names are composed of letters only.\n",
    "### Example:\n",
    "### If the following email address is given as input to the program:\n",
    "### john@google.com\n",
    "### Then, the output of the program should be:\n",
    "### john"
   ]
  },
  {
   "cell_type": "code",
   "execution_count": 2,
   "id": "f7fc5a14",
   "metadata": {},
   "outputs": [
    {
     "name": "stdout",
     "output_type": "stream",
     "text": [
      "Enter email address: john@google.com\n",
      "john\n"
     ]
    }
   ],
   "source": [
    "email_name = input(\"Enter email address: \").split(\"@\")[0]\n",
    "print(email_name)"
   ]
  },
  {
   "cell_type": "markdown",
   "id": "5a0a04e4",
   "metadata": {},
   "source": [
    "### 5.Define a class named Shape and its subclass Square. The Square class has an init function which takes a length as argument. Both classes have a area function which can print the area of the shape where Shape's area is 0 by default."
   ]
  },
  {
   "cell_type": "code",
   "execution_count": 6,
   "id": "18eb7259",
   "metadata": {},
   "outputs": [
    {
     "name": "stdout",
     "output_type": "stream",
     "text": [
      "0\n"
     ]
    },
    {
     "data": {
      "text/plain": [
       "25"
      ]
     },
     "execution_count": 6,
     "metadata": {},
     "output_type": "execute_result"
    }
   ],
   "source": [
    "class Shape:\n",
    "    def area(self):\n",
    "        return 0\n",
    "class Square(Shape):\n",
    "    def __init__(self,length):\n",
    "        self.length = length\n",
    "    def area(self):\n",
    "        return self.length * self.length\n",
    "s = Shape()\n",
    "print(s.area())\n",
    "sq = Square(5)\n",
    "sq.area()"
   ]
  },
  {
   "cell_type": "code",
   "execution_count": null,
   "id": "1845d148",
   "metadata": {},
   "outputs": [],
   "source": []
  }
 ],
 "metadata": {
  "kernelspec": {
   "display_name": "Python 3 (ipykernel)",
   "language": "python",
   "name": "python3"
  },
  "language_info": {
   "codemirror_mode": {
    "name": "ipython",
    "version": 3
   },
   "file_extension": ".py",
   "mimetype": "text/x-python",
   "name": "python",
   "nbconvert_exporter": "python",
   "pygments_lexer": "ipython3",
   "version": "3.9.7"
  }
 },
 "nbformat": 4,
 "nbformat_minor": 5
}
