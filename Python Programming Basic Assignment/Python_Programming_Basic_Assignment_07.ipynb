{
 "cells": [
  {
   "cell_type": "markdown",
   "id": "ce52e538",
   "metadata": {},
   "source": [
    "### 1.\tWrite a Python Program to find sum of array?"
   ]
  },
  {
   "cell_type": "code",
   "execution_count": 2,
   "id": "40e9d8b4",
   "metadata": {},
   "outputs": [
    {
     "name": "stdout",
     "output_type": "stream",
     "text": [
      "The sum of elements in array is 15\n"
     ]
    }
   ],
   "source": [
    "arr = [1,2,3,4,5]\n",
    "print(f\"The sum of elements in array is {sum(arr)}\")"
   ]
  },
  {
   "cell_type": "markdown",
   "id": "3eaee10f",
   "metadata": {},
   "source": [
    "### 2.\tWrite a Python Program to find largest element in an array?"
   ]
  },
  {
   "cell_type": "code",
   "execution_count": 3,
   "id": "8d67a183",
   "metadata": {},
   "outputs": [
    {
     "name": "stdout",
     "output_type": "stream",
     "text": [
      "The largest elements in array is 5\n"
     ]
    }
   ],
   "source": [
    "arr = [1,2,3,4,5]\n",
    "print(f\"The largest elements in array is {max(arr)}\")"
   ]
  },
  {
   "cell_type": "markdown",
   "id": "ddcbbb29",
   "metadata": {},
   "source": [
    "### 3.\tWrite a Python Program for array rotation?"
   ]
  },
  {
   "cell_type": "code",
   "execution_count": 4,
   "id": "4ab6df55",
   "metadata": {},
   "outputs": [
    {
     "name": "stdout",
     "output_type": "stream",
     "text": [
      "The reverse of array is [5, 4, 3, 2, 1]\n"
     ]
    }
   ],
   "source": [
    "arr = [1,2,3,4,5]\n",
    "print(f\"The reverse of array is {arr[::-1]}\")"
   ]
  },
  {
   "cell_type": "markdown",
   "id": "e049e39e",
   "metadata": {},
   "source": [
    "### 4.\tWrite a Python Program to Split the array and add the first part to the end?"
   ]
  },
  {
   "cell_type": "code",
   "execution_count": 5,
   "id": "54d0abdc",
   "metadata": {},
   "outputs": [
    {
     "data": {
      "text/plain": [
       "[4, 5, 1, 2, 3]"
      ]
     },
     "execution_count": 5,
     "metadata": {},
     "output_type": "execute_result"
    }
   ],
   "source": [
    "arr = [1,2,3,4,5]\n",
    "def split(arr,k):\n",
    "    return arr[k:] + arr[:k]\n",
    "split(arr,3)"
   ]
  },
  {
   "cell_type": "markdown",
   "id": "e53c2d71",
   "metadata": {},
   "source": [
    "### 5.\tWrite a Python Program to check if given array is Monotonic?"
   ]
  },
  {
   "cell_type": "code",
   "execution_count": 2,
   "id": "b738bac7",
   "metadata": {},
   "outputs": [
    {
     "name": "stdout",
     "output_type": "stream",
     "text": [
      "The given array [1, 2, 3, 4, 5] is monotonic\n"
     ]
    }
   ],
   "source": [
    "def isMonotonic(arr):\n",
    "    if all(arr[i] >= arr[i+1] for i in range(len(arr)-1)) or all(arr[i] <= arr[i+1] for i in range(len(arr)-1)):\n",
    "        print(f\"The given array {arr} is monotonic\")\n",
    "    else:\n",
    "        print(f\"The given array {arr} is not monotonic\")\n",
    "arr = [1,2,3,4,5]\n",
    "isMonotonic(arr)"
   ]
  },
  {
   "cell_type": "code",
   "execution_count": 3,
   "id": "9bc64f13",
   "metadata": {},
   "outputs": [
    {
     "name": "stdout",
     "output_type": "stream",
     "text": [
      "The given array [5, 4, 3, 2, 1] is monotonic\n"
     ]
    }
   ],
   "source": [
    "arr = [5,4,3,2,1]\n",
    "isMonotonic(arr)"
   ]
  },
  {
   "cell_type": "code",
   "execution_count": 4,
   "id": "724a2366",
   "metadata": {},
   "outputs": [
    {
     "name": "stdout",
     "output_type": "stream",
     "text": [
      "The given array [5, 4, 3, 1, 2] is not monotonic\n"
     ]
    }
   ],
   "source": [
    "arr = [5,4,3,1,2]\n",
    "isMonotonic(arr)"
   ]
  },
  {
   "cell_type": "code",
   "execution_count": null,
   "id": "1a07b865",
   "metadata": {},
   "outputs": [],
   "source": []
  }
 ],
 "metadata": {
  "kernelspec": {
   "display_name": "Python 3 (ipykernel)",
   "language": "python",
   "name": "python3"
  },
  "language_info": {
   "codemirror_mode": {
    "name": "ipython",
    "version": 3
   },
   "file_extension": ".py",
   "mimetype": "text/x-python",
   "name": "python",
   "nbconvert_exporter": "python",
   "pygments_lexer": "ipython3",
   "version": "3.9.7"
  }
 },
 "nbformat": 4,
 "nbformat_minor": 5
}
