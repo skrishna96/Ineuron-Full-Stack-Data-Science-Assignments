{
 "cells": [
  {
   "cell_type": "markdown",
   "id": "d1340356",
   "metadata": {},
   "source": [
    "### 1.\tWrite a Python program to print \"Hello Python\"?"
   ]
  },
  {
   "cell_type": "code",
   "execution_count": 3,
   "id": "8cb36ce8",
   "metadata": {},
   "outputs": [
    {
     "name": "stdout",
     "output_type": "stream",
     "text": [
      "Please enter your input:Hello Python\n",
      "Hello Python\n"
     ]
    }
   ],
   "source": [
    "input_val = input(\"Please enter your input:\")\n",
    "print(input_val)"
   ]
  },
  {
   "cell_type": "markdown",
   "id": "b7d19372",
   "metadata": {},
   "source": [
    "### 2.\tWrite a Python program to do arithmetical operations addition and division.?"
   ]
  },
  {
   "cell_type": "code",
   "execution_count": 8,
   "id": "f38506a0",
   "metadata": {},
   "outputs": [
    {
     "name": "stdout",
     "output_type": "stream",
     "text": [
      "Please enter your first number: 4\n",
      "Please enter your second number: 5\n",
      "Addition of 4 and 5 is 9\n",
      "Division of 4 and 5 is 0.8\n"
     ]
    }
   ],
   "source": [
    "num1 = int(input(\"Please enter your first number: \"))\n",
    "num2 = int(input(\"Please enter your second number: \"))\n",
    "print(f\"Addition of {num1} and {num2} is {num1+num2}\")\n",
    "print(f\"Division of {num1} and {num2} is {num1/num2}\")"
   ]
  },
  {
   "cell_type": "markdown",
   "id": "7be26141",
   "metadata": {},
   "source": [
    "### 3.\tWrite a Python program to find the area of a triangle?"
   ]
  },
  {
   "cell_type": "code",
   "execution_count": 10,
   "id": "ab0063aa",
   "metadata": {},
   "outputs": [
    {
     "name": "stdout",
     "output_type": "stream",
     "text": [
      "Enter triange base value: 3\n",
      "Enter triangle height value: 4\n",
      "Area of triangle is 6.0\n"
     ]
    }
   ],
   "source": [
    "base = float(input(\"Enter triange base value: \"))\n",
    "height = float(input(\"Enter triangle height value: \"))\n",
    "area = (1/2)*(base * height)\n",
    "print(f\"Area of triangle is {area}\")"
   ]
  },
  {
   "cell_type": "markdown",
   "id": "dd379d1e",
   "metadata": {},
   "source": [
    "### 4.\tWrite a Python program to swap two variables?"
   ]
  },
  {
   "cell_type": "code",
   "execution_count": 11,
   "id": "ecb77fb2",
   "metadata": {},
   "outputs": [
    {
     "name": "stdout",
     "output_type": "stream",
     "text": [
      "Enter first variable: 2\n",
      "Enter second variable: 3\n",
      "Before swapping first variable value is 2 and second variable value is 3\n",
      "After swapping first variable value is 3 and second variable value is 2\n"
     ]
    }
   ],
   "source": [
    "var1 = int(input(\"Enter first variable: \"))\n",
    "var2 = int(input(\"Enter second variable: \"))\n",
    "print(f\"Before swapping first variable value is {var1} and second variable value is {var2}\")\n",
    "var1,var2 = var2, var1\n",
    "print(f\"After swapping first variable value is {var1} and second variable value is {var2}\")"
   ]
  },
  {
   "cell_type": "markdown",
   "id": "93b04cea",
   "metadata": {},
   "source": [
    "### 5.\tWrite a Python program to generate a random number?"
   ]
  },
  {
   "cell_type": "code",
   "execution_count": 20,
   "id": "dd3dc9eb",
   "metadata": {},
   "outputs": [
    {
     "name": "stdout",
     "output_type": "stream",
     "text": [
      "Enter starting value: 20\n",
      "Enter ending value: 30\n",
      "Randomly generated value is 30\n"
     ]
    }
   ],
   "source": [
    "import random\n",
    "start_val = int(input(\"Enter starting value: \"))\n",
    "end_val = int(input(\"Enter ending value: \"))\n",
    "print(f\"Randomly generated value is {random.randint(start_val,end_val)}\")"
   ]
  },
  {
   "cell_type": "code",
   "execution_count": null,
   "id": "74d7cd36",
   "metadata": {},
   "outputs": [],
   "source": []
  }
 ],
 "metadata": {
  "kernelspec": {
   "display_name": "Python 3 (ipykernel)",
   "language": "python",
   "name": "python3"
  },
  "language_info": {
   "codemirror_mode": {
    "name": "ipython",
    "version": 3
   },
   "file_extension": ".py",
   "mimetype": "text/x-python",
   "name": "python",
   "nbconvert_exporter": "python",
   "pygments_lexer": "ipython3",
   "version": "3.9.7"
  }
 },
 "nbformat": 4,
 "nbformat_minor": 5
}
