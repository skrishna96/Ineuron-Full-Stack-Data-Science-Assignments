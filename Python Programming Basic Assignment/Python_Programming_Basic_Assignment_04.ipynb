{
 "cells": [
  {
   "cell_type": "markdown",
   "id": "6bad24eb",
   "metadata": {},
   "source": [
    "### 1.\tWrite a Python Program to Find the Factorial of a Number?"
   ]
  },
  {
   "cell_type": "code",
   "execution_count": 9,
   "id": "2186cb99",
   "metadata": {},
   "outputs": [
    {
     "name": "stdout",
     "output_type": "stream",
     "text": [
      "Enter a number: 4\n",
      "The factorial of 4 is 24\n"
     ]
    }
   ],
   "source": [
    "def factorial(n):\n",
    "    c = 1\n",
    "    for i in range(1,n+1):\n",
    "        c = c*i\n",
    "    return c\n",
    "n = int(input(\"Enter a number: \"))\n",
    "val = factorial(n)\n",
    "print(f'The factorial of {n} is {val}')"
   ]
  },
  {
   "cell_type": "markdown",
   "id": "bdb37105",
   "metadata": {},
   "source": [
    "### 2.\tWrite a Python Program to Display the multiplication Table?"
   ]
  },
  {
   "cell_type": "code",
   "execution_count": 13,
   "id": "f20c39f0",
   "metadata": {},
   "outputs": [
    {
     "name": "stdout",
     "output_type": "stream",
     "text": [
      "Enter the number: 4\n",
      "4 X 1 = 4\n",
      "4 X 2 = 8\n",
      "4 X 3 = 12\n",
      "4 X 4 = 16\n",
      "4 X 5 = 20\n",
      "4 X 6 = 24\n",
      "4 X 7 = 28\n",
      "4 X 8 = 32\n",
      "4 X 9 = 36\n",
      "4 X 10 = 40\n"
     ]
    }
   ],
   "source": [
    "def multiplicationtable(number):\n",
    "    for i in range(1,11):\n",
    "        print(f'{number} X {i} = {number*i}')\n",
    "number = int(input(\"Enter the number: \"))\n",
    "multiplicationtable(number)"
   ]
  },
  {
   "cell_type": "markdown",
   "id": "8dd3c10c",
   "metadata": {},
   "source": [
    "### 3.\tWrite a Python Program to Print the Fibonacci sequence?"
   ]
  },
  {
   "cell_type": "code",
   "execution_count": 34,
   "id": "6b1b52e7",
   "metadata": {},
   "outputs": [
    {
     "name": "stdout",
     "output_type": "stream",
     "text": [
      "Please enter how many number of terms you want: 6\n",
      "The Fibonacci series upto 6 terms is\n",
      "0 1 1 2 3 5 "
     ]
    }
   ],
   "source": [
    "number_of_terms = int(input(\"Please enter how many number of terms you want: \"))\n",
    "first_num = 0\n",
    "second_num = 1\n",
    "count = 0\n",
    "if number_of_terms <= 0:\n",
    "    print(\"Please enter a valid positive integer\")\n",
    "elif number_of_terms == 1:\n",
    "    print(f\"The Fibonacci series upto {number_of_terms} terms is {first_num}\")\n",
    "else:\n",
    "    print(f\"The Fibonacci series upto {number_of_terms} terms is\")\n",
    "    for i in range(number_of_terms):\n",
    "        print(first_num,end=\" \")\n",
    "        third_num = first_num + second_num\n",
    "        first_num = second_num\n",
    "        second_num = third_num"
   ]
  },
  {
   "cell_type": "markdown",
   "id": "ac10aa80",
   "metadata": {},
   "source": [
    "### 4.\tWrite a Python Program to Check Armstrong Number?"
   ]
  },
  {
   "cell_type": "code",
   "execution_count": 39,
   "id": "dd7abee4",
   "metadata": {},
   "outputs": [],
   "source": [
    "def armstrongnumber(number):\n",
    "    s = 0\n",
    "    temp = number\n",
    "    while temp > 0:\n",
    "        d = temp % 10\n",
    "        s = s + pow(d,3)\n",
    "        temp = temp // 10\n",
    "    if number == s:\n",
    "        print(f\"{number} is armstrong number\")\n",
    "    else:\n",
    "        print(f\"{number} is not armstrong number\")\n",
    "        "
   ]
  },
  {
   "cell_type": "code",
   "execution_count": 40,
   "id": "55c1fbe2",
   "metadata": {},
   "outputs": [
    {
     "name": "stdout",
     "output_type": "stream",
     "text": [
      "Please enter a number: 10\n",
      "10 is not armstrong number\n"
     ]
    }
   ],
   "source": [
    "number = int(input(\"Please enter a number: \"))\n",
    "armstrongnumber(number)"
   ]
  },
  {
   "cell_type": "code",
   "execution_count": 41,
   "id": "1d0cf900",
   "metadata": {},
   "outputs": [
    {
     "name": "stdout",
     "output_type": "stream",
     "text": [
      "Please enter a number: 153\n",
      "153 is armstrong number\n"
     ]
    }
   ],
   "source": [
    "number = int(input(\"Please enter a number: \"))\n",
    "armstrongnumber(number)"
   ]
  },
  {
   "cell_type": "markdown",
   "id": "46dd718e",
   "metadata": {},
   "source": [
    "### 5.\tWrite a Python Program to Find Armstrong Number in an Interval?"
   ]
  },
  {
   "cell_type": "code",
   "execution_count": 49,
   "id": "321c5473",
   "metadata": {},
   "outputs": [
    {
     "name": "stdout",
     "output_type": "stream",
     "text": [
      "Please enter starting interval: 10\n",
      "Please enter ending interval: 1000\n",
      "The armstrong numbers between 10 and 1000 are\n",
      "153 370 371 407 "
     ]
    }
   ],
   "source": [
    "def armstrongnumber(number):\n",
    "    s = 0\n",
    "    temp = number\n",
    "    while temp > 0:\n",
    "        d = temp % 10\n",
    "        s = s + pow(d,3)\n",
    "        temp = temp // 10\n",
    "    if number == s:\n",
    "        print(number, end= \" \")\n",
    "starting_interval = int(input(\"Please enter starting interval: \"))\n",
    "ending_interval = int(input(\"Please enter ending interval: \"))\n",
    "if starting_interval > ending_interval:\n",
    "    print(\"starting interval cannot be greater than ending interval\")\n",
    "else:\n",
    "    print(f\"The armstrong numbers between {starting_interval} and {ending_interval} are\")\n",
    "    for i in range(starting_interval, ending_interval+1):\n",
    "        armstrongnumber(i)"
   ]
  },
  {
   "cell_type": "markdown",
   "id": "e76ff3c8",
   "metadata": {},
   "source": [
    "### 6.\tWrite a Python Program to Find the Sum of Natural Numbers?"
   ]
  },
  {
   "cell_type": "code",
   "execution_count": 55,
   "id": "7f0a3218",
   "metadata": {},
   "outputs": [
    {
     "name": "stdout",
     "output_type": "stream",
     "text": [
      "Please enter a number: 5\n",
      "sum of 5 natural numbers is 15.0\n"
     ]
    }
   ],
   "source": [
    "def sumofnaturalnumbers(number):\n",
    "    s = (number * (number + 1))/2\n",
    "    print(f\"sum of {number} natural numbers is {s}\")\n",
    "number = int(input(\"Please enter a number: \"))\n",
    "sumofnaturalnumbers(number)"
   ]
  },
  {
   "cell_type": "code",
   "execution_count": null,
   "id": "7415ac4a",
   "metadata": {},
   "outputs": [],
   "source": []
  }
 ],
 "metadata": {
  "kernelspec": {
   "display_name": "Python 3 (ipykernel)",
   "language": "python",
   "name": "python3"
  },
  "language_info": {
   "codemirror_mode": {
    "name": "ipython",
    "version": 3
   },
   "file_extension": ".py",
   "mimetype": "text/x-python",
   "name": "python",
   "nbconvert_exporter": "python",
   "pygments_lexer": "ipython3",
   "version": "3.9.7"
  }
 },
 "nbformat": 4,
 "nbformat_minor": 5
}
