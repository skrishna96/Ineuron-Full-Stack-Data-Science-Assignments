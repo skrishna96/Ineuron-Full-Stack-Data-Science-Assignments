{
 "cells": [
  {
   "cell_type": "markdown",
   "id": "a4e77e71",
   "metadata": {},
   "source": [
    "### 1.\tWrite a Python program to find sum of elements in list?"
   ]
  },
  {
   "cell_type": "code",
   "execution_count": 3,
   "id": "afcf7a31",
   "metadata": {},
   "outputs": [
    {
     "name": "stdout",
     "output_type": "stream",
     "text": [
      "Enter elements with the space: 7 3 4 2 6\n",
      "The sum of elements in a list is 22\n"
     ]
    }
   ],
   "source": [
    "lst = input(\"Enter elements with the space: \").split()\n",
    "sum = 0\n",
    "for i in lst:\n",
    "    sum += int(i)\n",
    "print(f\"The sum of elements in a list is {sum}\")"
   ]
  },
  {
   "cell_type": "markdown",
   "id": "2f14eca0",
   "metadata": {},
   "source": [
    "### 2.\tWrite a Python program to  Multiply all numbers in the list?"
   ]
  },
  {
   "cell_type": "code",
   "execution_count": 6,
   "id": "1dfd19cf",
   "metadata": {},
   "outputs": [
    {
     "name": "stdout",
     "output_type": "stream",
     "text": [
      "Enter elements with the space: 9 3 7 4\n",
      "The multiplication of elements in a list is 756\n"
     ]
    }
   ],
   "source": [
    "lst = input(\"Enter elements with the space: \").split()\n",
    "mul = 1\n",
    "for i in lst:\n",
    "    mul *= int(i)\n",
    "print(f\"The multiplication of elements in a list is {mul}\")"
   ]
  },
  {
   "cell_type": "markdown",
   "id": "0563e128",
   "metadata": {},
   "source": [
    "### 3.\tWrite a Python program to find smallest number in a list?"
   ]
  },
  {
   "cell_type": "code",
   "execution_count": 13,
   "id": "2a04f2f1",
   "metadata": {},
   "outputs": [
    {
     "name": "stdout",
     "output_type": "stream",
     "text": [
      "Enter elements with the space: 9 4 7 2 3 5\n",
      "[9, 4, 7, 2, 3, 5]\n",
      "The smallest number in list is 2\n"
     ]
    }
   ],
   "source": [
    "lst = input(\"Enter elements with the space: \").split()\n",
    "for i in range(len(lst)):\n",
    "    lst[i] = int(lst[i])\n",
    "print(lst)\n",
    "print(f\"The smallest number in list is {sorted(lst)[0]}\")"
   ]
  },
  {
   "cell_type": "markdown",
   "id": "829331f5",
   "metadata": {},
   "source": [
    "### 4.\tWrite a Python program to find largest number in a list?"
   ]
  },
  {
   "cell_type": "code",
   "execution_count": 14,
   "id": "d58b7684",
   "metadata": {},
   "outputs": [
    {
     "name": "stdout",
     "output_type": "stream",
     "text": [
      "Enter elements with the space: 4 7 3 9 6 2 1\n",
      "[4, 7, 3, 9, 6, 2, 1]\n",
      "The largest number in list is 9\n"
     ]
    }
   ],
   "source": [
    "lst = input(\"Enter elements with the space: \").split()\n",
    "for i in range(len(lst)):\n",
    "    lst[i] = int(lst[i])\n",
    "print(lst)\n",
    "print(f\"The largest number in list is {sorted(lst)[-1]}\")"
   ]
  },
  {
   "cell_type": "markdown",
   "id": "9838367c",
   "metadata": {},
   "source": [
    "### 5.\tWrite a Python program to find second largest number in a list?"
   ]
  },
  {
   "cell_type": "code",
   "execution_count": 15,
   "id": "a79541dd",
   "metadata": {},
   "outputs": [
    {
     "name": "stdout",
     "output_type": "stream",
     "text": [
      "Enter elements with the space: 3 8 4 6 7 9 1\n",
      "[3, 8, 4, 6, 7, 9, 1]\n",
      "The second largest number in list is 8\n"
     ]
    }
   ],
   "source": [
    "lst = input(\"Enter elements with the space: \").split()\n",
    "for i in range(len(lst)):\n",
    "    lst[i] = int(lst[i])\n",
    "print(lst)\n",
    "print(f\"The second largest number in list is {sorted(lst)[-2]}\")"
   ]
  },
  {
   "cell_type": "markdown",
   "id": "39c08263",
   "metadata": {},
   "source": [
    "### 6.\tWrite a Python program to find N largest elements from a list?"
   ]
  },
  {
   "cell_type": "code",
   "execution_count": 2,
   "id": "1891efe3",
   "metadata": {},
   "outputs": [
    {
     "name": "stdout",
     "output_type": "stream",
     "text": [
      "Enter elements with the space: 5 1 4 9 2 7 6 9\n",
      "[5, 1, 4, 9, 2, 7, 6, 9]\n",
      "Enter how many number of largest elements you want: 4\n",
      "The 4 largest elements in list is [6, 7, 9, 9]\n"
     ]
    }
   ],
   "source": [
    "lst = input(\"Enter elements with the space: \").split()\n",
    "for i in range(len(lst)):\n",
    "    lst[i] = int(lst[i])\n",
    "print(lst)\n",
    "n = int(input(\"Enter how many number of largest elements you want: \"))\n",
    "print(f\"The {n} largest elements in list is {sorted(lst)[-n:]}\")"
   ]
  },
  {
   "cell_type": "markdown",
   "id": "e0199584",
   "metadata": {},
   "source": [
    "### 7.\tWrite a Python program to print even numbers in a list?"
   ]
  },
  {
   "cell_type": "code",
   "execution_count": 3,
   "id": "6805952b",
   "metadata": {},
   "outputs": [
    {
     "name": "stdout",
     "output_type": "stream",
     "text": [
      "Enter elements with the space in between: 1 2 3 4 5 6 7 8 9\n",
      "[1, 2, 3, 4, 5, 6, 7, 8, 9]\n",
      "Even numbers in a list are [2, 4, 6, 8]\n"
     ]
    }
   ],
   "source": [
    "lst = input(\"Enter elements with the space in between: \").split()\n",
    "for i in range(len(lst)):\n",
    "    lst[i] = int(lst[i])\n",
    "print(lst)\n",
    "even_lst = [num for num in lst if num % 2 == 0]\n",
    "print(f\"Even numbers in a list are {even_lst}\")"
   ]
  },
  {
   "cell_type": "markdown",
   "id": "68bb01b3",
   "metadata": {},
   "source": [
    "### 8.\tWrite a Python program to print odd numbers in a List?"
   ]
  },
  {
   "cell_type": "code",
   "execution_count": 4,
   "id": "0f567bcf",
   "metadata": {},
   "outputs": [
    {
     "name": "stdout",
     "output_type": "stream",
     "text": [
      "Enter elements with the space in between: 1 2 3 4 5 6 7 8 9\n",
      "[1, 2, 3, 4, 5, 6, 7, 8, 9]\n",
      "Odd numbers in a list are [1, 3, 5, 7, 9]\n"
     ]
    }
   ],
   "source": [
    "lst = input(\"Enter elements with the space in between: \").split()\n",
    "for i in range(len(lst)):\n",
    "    lst[i] = int(lst[i])\n",
    "print(lst)\n",
    "odd_lst = [num for num in lst if num % 2 != 0]\n",
    "print(f\"Odd numbers in a list are {odd_lst}\")"
   ]
  },
  {
   "cell_type": "markdown",
   "id": "96b7629e",
   "metadata": {},
   "source": [
    "### 9.\tWrite a Python program to Remove empty List from List?"
   ]
  },
  {
   "cell_type": "code",
   "execution_count": 8,
   "id": "57881cbc",
   "metadata": {},
   "outputs": [
    {
     "name": "stdout",
     "output_type": "stream",
     "text": [
      "Enter elements in a list: [1,2,[],3,4,[],5,6]\n",
      "Actual list: [1, 2, [], 3, 4, [], 5, 6]\n",
      "List after removing empty lists from list: [1, 2, 3, 4, 5, 6]\n"
     ]
    }
   ],
   "source": [
    "lst = eval(input(\"Enter elements in a list: \"))\n",
    "print(f\"Actual list: {lst}\")\n",
    "for i in lst:\n",
    "    if i == []:\n",
    "        lst.remove([])\n",
    "print(f\"List after removing empty lists from list: {lst}\")"
   ]
  },
  {
   "cell_type": "markdown",
   "id": "dfb5d02e",
   "metadata": {},
   "source": [
    "### 10.\tWrite a Python program to Cloning or Copying a list?"
   ]
  },
  {
   "cell_type": "code",
   "execution_count": 9,
   "id": "134c1696",
   "metadata": {},
   "outputs": [
    {
     "name": "stdout",
     "output_type": "stream",
     "text": [
      "Enter elements in a list: [1,2,3,4,5,6]\n",
      "Actual list: [1, 2, 3, 4, 5, 6]\n",
      "Copy list: [1, 2, 3, 4, 5, 6]\n"
     ]
    }
   ],
   "source": [
    "lst = eval(input(\"Enter elements in a list: \"))\n",
    "print(f\"Actual list: {lst}\")\n",
    "copy_list = lst.copy()\n",
    "print(f\"Copy list: {copy_list}\")"
   ]
  },
  {
   "cell_type": "markdown",
   "id": "ed4ea918",
   "metadata": {},
   "source": [
    "### 11.\tWrite a Python program to Count occurrences of an element in a list?"
   ]
  },
  {
   "cell_type": "code",
   "execution_count": 11,
   "id": "9cdfd3c5",
   "metadata": {},
   "outputs": [
    {
     "name": "stdout",
     "output_type": "stream",
     "text": [
      "Enter elements in a list: [1,2,3,4,1,2,4,6,7,1,2,4]\n",
      "Enter element to search: 2\n",
      "The element 2 occured 3 times in [1, 2, 3, 4, 1, 2, 4, 6, 7, 1, 2, 4]\n"
     ]
    }
   ],
   "source": [
    "lst = eval(input(\"Enter elements in a list: \"))\n",
    "ele = int(input(\"Enter element to search: \"))\n",
    "c = 0\n",
    "for i in lst:\n",
    "    if ele == i:\n",
    "        c += 1\n",
    "print(f\"The element {ele} occured {c} times in {lst}\")"
   ]
  },
  {
   "cell_type": "code",
   "execution_count": null,
   "id": "cdb9a071",
   "metadata": {},
   "outputs": [],
   "source": []
  }
 ],
 "metadata": {
  "kernelspec": {
   "display_name": "Python 3 (ipykernel)",
   "language": "python",
   "name": "python3"
  },
  "language_info": {
   "codemirror_mode": {
    "name": "ipython",
    "version": 3
   },
   "file_extension": ".py",
   "mimetype": "text/x-python",
   "name": "python",
   "nbconvert_exporter": "python",
   "pygments_lexer": "ipython3",
   "version": "3.9.7"
  }
 },
 "nbformat": 4,
 "nbformat_minor": 5
}
