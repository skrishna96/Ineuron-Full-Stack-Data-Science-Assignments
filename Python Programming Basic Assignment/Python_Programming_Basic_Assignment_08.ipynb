{
 "cells": [
  {
   "cell_type": "markdown",
   "id": "3b5710fc",
   "metadata": {},
   "source": [
    "### 1.\tWrite a Python Program to Add Two Matrices?"
   ]
  },
  {
   "cell_type": "code",
   "execution_count": 21,
   "id": "edb1beb2",
   "metadata": {},
   "outputs": [
    {
     "name": "stdout",
     "output_type": "stream",
     "text": [
      "[[2, 4, 10], [8, 10, 13], [14, 13, 18]]\n"
     ]
    }
   ],
   "source": [
    "import numpy as np\n",
    "a = np.array([[1,2,3],[4,5,6],[7,8,9]])\n",
    "b = np.array([[1,2,7],[4,5,7],[7,5,9]])\n",
    "output = []\n",
    "if a.shape == b.shape:\n",
    "    for i in range(len(a)):\n",
    "        output.append([])\n",
    "        for j in range(len(a[0])):\n",
    "            output[i].append(a[i][j] + b[i][j])\n",
    "else:\n",
    "    print(\"Number of rows/columns are not matching between two matrices\")\n",
    "print(output)"
   ]
  },
  {
   "cell_type": "markdown",
   "id": "9468d44f",
   "metadata": {},
   "source": [
    "### 2.\tWrite a Python Program to Multiply Two Matrices?"
   ]
  },
  {
   "cell_type": "code",
   "execution_count": 34,
   "id": "86ad6613",
   "metadata": {},
   "outputs": [
    {
     "name": "stdout",
     "output_type": "stream",
     "text": [
      "[[22, 28], [49, 64], [76, 100]]\n"
     ]
    }
   ],
   "source": [
    "import numpy as np\n",
    "a = np.array([[1,2,3],[4,5,6],[7,8,9]])\n",
    "b = np.array([[1,2],[3,4],[5,6]])\n",
    "output = []\n",
    "for element in range(len(a[0])):\n",
    "    output.append([0 for element in range(len(b[0]))])\n",
    "for i in range(len(a)):\n",
    "    for j in range(len(b[0])):\n",
    "        for k in range(len(b)):\n",
    "            output[i][j] += a[i][k] * b[k][j]\n",
    "print(output)    "
   ]
  },
  {
   "cell_type": "markdown",
   "id": "94ffeddf",
   "metadata": {},
   "source": [
    "### 3.\tWrite a Python Program to Transpose a Matrix?"
   ]
  },
  {
   "cell_type": "code",
   "execution_count": 37,
   "id": "acbcaca5",
   "metadata": {},
   "outputs": [
    {
     "name": "stdout",
     "output_type": "stream",
     "text": [
      "[[1, 3, 5], [2, 4, 6]]\n"
     ]
    }
   ],
   "source": [
    "import numpy as np\n",
    "a = np.array([[1,2],[3,4],[5,6]])\n",
    "output = []\n",
    "for element in range(len(a[0])):\n",
    "    output.append([0 for element in range(len(a))])\n",
    "for i in range(len(a)):\n",
    "    for j in range(len(a[0])):\n",
    "        output[j][i] = a[i][j]\n",
    "print(output)"
   ]
  },
  {
   "cell_type": "markdown",
   "id": "6c5013af",
   "metadata": {},
   "source": [
    "### 4.\tWrite a Python Program to Sort Words in Alphabetic Order?"
   ]
  },
  {
   "cell_type": "code",
   "execution_count": 49,
   "id": "44de2171",
   "metadata": {},
   "outputs": [
    {
     "name": "stdout",
     "output_type": "stream",
     "text": [
      "Enter a sentence: welcome to ineuron\n",
      "ineuron to welcome\n"
     ]
    }
   ],
   "source": [
    "sentence = input(\"Enter a sentence: \")\n",
    "words = sentence.split(' ')\n",
    "print(' '.join(sorted(words)))"
   ]
  },
  {
   "cell_type": "markdown",
   "id": "1d50e43d",
   "metadata": {},
   "source": [
    "### 5.\tWrite a Python Program to Remove Punctuation From a String?"
   ]
  },
  {
   "cell_type": "code",
   "execution_count": 51,
   "id": "1dcb6bee",
   "metadata": {},
   "outputs": [
    {
     "name": "stdout",
     "output_type": "stream",
     "text": [
      "Please enter a string: s$@ai! Kris$hna@\n",
      "sai Krishna\n"
     ]
    }
   ],
   "source": [
    "punctuation = '''!()-[]{};:'\"\\,<>./?@#$%^&*_~'''\n",
    "output = ''\n",
    "string = input(\"Please enter a string: \")\n",
    "for i in string:\n",
    "    if i not in punctuation:\n",
    "        output += i\n",
    "print(output)"
   ]
  },
  {
   "cell_type": "code",
   "execution_count": null,
   "id": "5bfab6b0",
   "metadata": {},
   "outputs": [],
   "source": []
  }
 ],
 "metadata": {
  "kernelspec": {
   "display_name": "Python 3 (ipykernel)",
   "language": "python",
   "name": "python3"
  },
  "language_info": {
   "codemirror_mode": {
    "name": "ipython",
    "version": 3
   },
   "file_extension": ".py",
   "mimetype": "text/x-python",
   "name": "python",
   "nbconvert_exporter": "python",
   "pygments_lexer": "ipython3",
   "version": "3.9.7"
  }
 },
 "nbformat": 4,
 "nbformat_minor": 5
}
