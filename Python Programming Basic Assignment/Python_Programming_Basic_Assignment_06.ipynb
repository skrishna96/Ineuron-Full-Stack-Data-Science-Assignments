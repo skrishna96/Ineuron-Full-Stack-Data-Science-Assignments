{
 "cells": [
  {
   "cell_type": "markdown",
   "id": "4d51c0d9",
   "metadata": {},
   "source": [
    "### 1.\tWrite a Python Program to Display Fibonacci Sequence Using Recursion?"
   ]
  },
  {
   "cell_type": "code",
   "execution_count": 4,
   "id": "20adef20",
   "metadata": {},
   "outputs": [
    {
     "name": "stdout",
     "output_type": "stream",
     "text": [
      "Enter number of terms: 6\n",
      "0 1 1 2 3 5 "
     ]
    }
   ],
   "source": [
    "def fibonacci(n):\n",
    "    if n <= 1:\n",
    "        return n\n",
    "    else:\n",
    "        return fibonacci(n-1) + fibonacci(n-2)\n",
    "n = int(input(\"Enter number of terms: \"))\n",
    "for i in range(n):\n",
    "    print(fibonacci(i),end = \" \")"
   ]
  },
  {
   "cell_type": "markdown",
   "id": "221156ec",
   "metadata": {},
   "source": [
    "### 2.\tWrite a Python Program to Find Factorial of Number Using Recursion?"
   ]
  },
  {
   "cell_type": "code",
   "execution_count": 9,
   "id": "e5e7f7ba",
   "metadata": {},
   "outputs": [
    {
     "name": "stdout",
     "output_type": "stream",
     "text": [
      "Enter a number: 6\n",
      "The factorial of 6 is 720\n"
     ]
    }
   ],
   "source": [
    "def factorial(n):\n",
    "    if n == 0 or n == 1:\n",
    "        return 1\n",
    "    else:\n",
    "        return n * factorial(n-1)\n",
    "num = int(input(\"Enter a number: \"))  \n",
    "if num < 0:  \n",
    "   print(\"Sorry, factorial does not exist for negative numbers\")  \n",
    "else:  \n",
    "   print(f\"The factorial of {num} is {factorial(num)}\")  "
   ]
  },
  {
   "cell_type": "markdown",
   "id": "473194b6",
   "metadata": {},
   "source": [
    "### 3.\tWrite a Python Program to calculate your Body Mass Index?"
   ]
  },
  {
   "cell_type": "code",
   "execution_count": 11,
   "id": "cdda949a",
   "metadata": {},
   "outputs": [
    {
     "name": "stdout",
     "output_type": "stream",
     "text": [
      "Enter your height in m: 1.78\n",
      "Enter your weight in kg: 78\n",
      "your bmi is 24.61810377477591 and your weight status is normal\n"
     ]
    }
   ],
   "source": [
    "def bmiCalculator(height,weight):\n",
    "    bmi = weight / pow(height, 2)\n",
    "    if bmi < 18.5: \n",
    "        weight_status = 'underweight'\n",
    "    elif bmi >= 18.5 and bmi <= 24.9:\n",
    "        weight_status = 'normal'\n",
    "    elif bmi >= 25.0 and bmi <= 29.9:\n",
    "        weight_status = 'overweight'\n",
    "    else:\n",
    "        weight_status = 'obese'\n",
    "    print(f\"your bmi is {bmi} and your weight status is {weight_status}\")\n",
    "height = float(input(\"Enter your height in m: \"))\n",
    "weight = float(input(\"Enter your weight in kg: \"))\n",
    "bmiCalculator(height,weight)"
   ]
  },
  {
   "cell_type": "markdown",
   "id": "df479d22",
   "metadata": {},
   "source": [
    "### 4.\tWrite a Python Program to calculate the natural logarithm of any number?"
   ]
  },
  {
   "cell_type": "code",
   "execution_count": 14,
   "id": "dec44a2f",
   "metadata": {},
   "outputs": [
    {
     "name": "stdout",
     "output_type": "stream",
     "text": [
      "Enter a number: 12\n",
      "The natural logarithm of 12 is 2.4849066497880004\n"
     ]
    }
   ],
   "source": [
    "import numpy\n",
    "num = int(input(\"Enter a number: \"))\n",
    "print(f\"The natural logarithm of {num} is {numpy.log(num)}\")"
   ]
  },
  {
   "cell_type": "markdown",
   "id": "ded937c1",
   "metadata": {},
   "source": [
    "### 5.\tWrite a Python Program for cube sum of first n natural numbers?"
   ]
  },
  {
   "cell_type": "code",
   "execution_count": 16,
   "id": "7f75029e",
   "metadata": {},
   "outputs": [
    {
     "name": "stdout",
     "output_type": "stream",
     "text": [
      "Enter number of natural numbers: 5\n",
      "The cube sum of first 5 natural numbers is 225.0\n"
     ]
    }
   ],
   "source": [
    "num = int(input(\"Enter number of natural numbers: \"))\n",
    "cube_of_numbers = pow(((num * (num + 1)) / 2),2)\n",
    "print(f\"The cube sum of first {num} natural numbers is {cube_of_numbers}\")"
   ]
  },
  {
   "cell_type": "code",
   "execution_count": null,
   "id": "377ac2df",
   "metadata": {},
   "outputs": [],
   "source": []
  }
 ],
 "metadata": {
  "kernelspec": {
   "display_name": "Python 3 (ipykernel)",
   "language": "python",
   "name": "python3"
  },
  "language_info": {
   "codemirror_mode": {
    "name": "ipython",
    "version": 3
   },
   "file_extension": ".py",
   "mimetype": "text/x-python",
   "name": "python",
   "nbconvert_exporter": "python",
   "pygments_lexer": "ipython3",
   "version": "3.9.7"
  }
 },
 "nbformat": 4,
 "nbformat_minor": 5
}
