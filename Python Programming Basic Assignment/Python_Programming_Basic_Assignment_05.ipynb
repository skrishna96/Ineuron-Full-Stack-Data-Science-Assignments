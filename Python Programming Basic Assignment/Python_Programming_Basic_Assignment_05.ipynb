{
 "cells": [
  {
   "cell_type": "markdown",
   "id": "e2503098",
   "metadata": {},
   "source": [
    "### 1.\tWrite a Python Program to Find LCM?"
   ]
  },
  {
   "cell_type": "code",
   "execution_count": 1,
   "id": "6f3401d3",
   "metadata": {},
   "outputs": [],
   "source": [
    "def LCMCalculator(a,b):\n",
    "    if a > b:\n",
    "        largest = a\n",
    "    else:\n",
    "        largest = b\n",
    "    while True:\n",
    "        if largest % a == 0 and largest % b == 0:\n",
    "            print(f\"LCM of {a} and {b} is {largest}\")\n",
    "            break\n",
    "        largest += 1"
   ]
  },
  {
   "cell_type": "code",
   "execution_count": 3,
   "id": "47957465",
   "metadata": {},
   "outputs": [
    {
     "name": "stdout",
     "output_type": "stream",
     "text": [
      "LCM of 7 and 9 is 63\n"
     ]
    }
   ],
   "source": [
    "LCMCalculator(7,9)"
   ]
  },
  {
   "cell_type": "markdown",
   "id": "5be1e510",
   "metadata": {},
   "source": [
    "### 2.\tWrite a Python Program to Find HCF?"
   ]
  },
  {
   "cell_type": "code",
   "execution_count": 23,
   "id": "4305cf61",
   "metadata": {},
   "outputs": [],
   "source": [
    "def HCFCalculator(a,b):\n",
    "    if a > b:\n",
    "        smallest = b\n",
    "    else:\n",
    "        smallest = a\n",
    "    for i in range(1,smallest+1):\n",
    "        if a % i == 0 and b % i == 0:\n",
    "            hcf = i\n",
    "    print(f\"HCF of {a} and {b} is {hcf}\")"
   ]
  },
  {
   "cell_type": "code",
   "execution_count": 25,
   "id": "5832a732",
   "metadata": {},
   "outputs": [
    {
     "name": "stdout",
     "output_type": "stream",
     "text": [
      "HCF of 15 and 75 is 15\n"
     ]
    }
   ],
   "source": [
    "HCFCalculator(15,75)"
   ]
  },
  {
   "cell_type": "markdown",
   "id": "86cf44f5",
   "metadata": {},
   "source": [
    "### 3.\tWrite a Python Program to Convert Decimal to Binary, Octal and Hexadecimal?"
   ]
  },
  {
   "cell_type": "code",
   "execution_count": 26,
   "id": "083d5096",
   "metadata": {},
   "outputs": [
    {
     "name": "stdout",
     "output_type": "stream",
     "text": [
      "Please enter a valid number: 123\n",
      "The binary number for 123 is 0b1111011\n",
      "The octal number for 123 is 0o173\n",
      "The hexadecimal number for 123 is 0o173\n"
     ]
    }
   ],
   "source": [
    "def DecToOther(num):\n",
    "    print(f\"The binary number for {num} is {bin(num)}\")\n",
    "    print(f\"The octal number for {num} is {oct(num)}\")\n",
    "    print(f\"The hexadecimal number for {num} is {oct(num)}\")\n",
    "\n",
    "num = int(input(\"Please enter a valid number: \"))\n",
    "DecToOther(num)"
   ]
  },
  {
   "cell_type": "markdown",
   "id": "a6ac3c50",
   "metadata": {},
   "source": [
    "### 4.\tWrite a Python Program To Find ASCII value of a character?"
   ]
  },
  {
   "cell_type": "code",
   "execution_count": 30,
   "id": "29747058",
   "metadata": {},
   "outputs": [
    {
     "name": "stdout",
     "output_type": "stream",
     "text": [
      "Please enter a character: $\n",
      "ASCII value for $ is 36\n"
     ]
    }
   ],
   "source": [
    "def asciiConverter(character):\n",
    "    if len(character)>1:\n",
    "        print(\"Please enter only single character\")\n",
    "    else:\n",
    "        print(f\"ASCII value for {character} is {ord(character)}\")\n",
    "character = input(\"Please enter a character: \")\n",
    "asciiConverter(character)"
   ]
  },
  {
   "cell_type": "markdown",
   "id": "f78cd3c2",
   "metadata": {},
   "source": [
    "### 5.\tWrite a Python Program to Make a Simple Calculator with 4 basic mathematical operations?"
   ]
  },
  {
   "cell_type": "code",
   "execution_count": 1,
   "id": "329bdeee",
   "metadata": {},
   "outputs": [
    {
     "name": "stdout",
     "output_type": "stream",
     "text": [
      "please enter first number: 23\n",
      "please enter second number: 56\n",
      "1.addition\n",
      "2.subtraction\n",
      "3.multiplication\n",
      "4.division\n",
      "5.exit\n",
      "Please enter your choice: 2\n",
      "The subtracion of 23 and 56 is -33\n",
      "1.addition\n",
      "2.subtraction\n",
      "3.multiplication\n",
      "4.division\n",
      "5.exit\n",
      "Please enter your choice: 5\n",
      "Exiting the program\n"
     ]
    }
   ],
   "source": [
    "def calculator(first_num,second_num):\n",
    "    while True:\n",
    "        print(\"1.addition\\n2.subtraction\\n3.multiplication\\n4.division\\n5.exit\")\n",
    "        choice = int(input(\"Please enter your choice: \"))\n",
    "        if choice == 1:\n",
    "            print(f\"The addition of {first_num} and {second_num} is {first_num + second_num}\")\n",
    "        elif choice == 2:\n",
    "            print(f\"The subtracion of {first_num} and {second_num} is {first_num - second_num}\")\n",
    "        elif choice == 3:\n",
    "            print(f\"The multiplication of {first_num} and {second_num} is {first_num * second_num}\")\n",
    "        elif choice == 4:\n",
    "            print(f\"The division of {first_num} and {second_num} is {first_num / second_num}\")\n",
    "        elif choice == 5:\n",
    "            print(\"Exiting the program\")\n",
    "            break\n",
    "        else:\n",
    "            print(\"please enter valid choice\")\n",
    "first_num = int(input(\"please enter first number: \"))\n",
    "second_num = int(input(\"please enter second number: \"))\n",
    "calculator(first_num,second_num)"
   ]
  },
  {
   "cell_type": "code",
   "execution_count": null,
   "id": "b1d1cc0b",
   "metadata": {},
   "outputs": [],
   "source": []
  }
 ],
 "metadata": {
  "kernelspec": {
   "display_name": "Python 3 (ipykernel)",
   "language": "python",
   "name": "python3"
  },
  "language_info": {
   "codemirror_mode": {
    "name": "ipython",
    "version": 3
   },
   "file_extension": ".py",
   "mimetype": "text/x-python",
   "name": "python",
   "nbconvert_exporter": "python",
   "pygments_lexer": "ipython3",
   "version": "3.10.0"
  }
 },
 "nbformat": 4,
 "nbformat_minor": 5
}
