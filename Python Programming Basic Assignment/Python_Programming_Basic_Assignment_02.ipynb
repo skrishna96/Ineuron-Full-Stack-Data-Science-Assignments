{
 "cells": [
  {
   "cell_type": "markdown",
   "id": "b090629e",
   "metadata": {},
   "source": [
    "### 1.\tWrite a Python program to convert kilometers to miles?"
   ]
  },
  {
   "cell_type": "code",
   "execution_count": 4,
   "id": "c6f52f54",
   "metadata": {},
   "outputs": [
    {
     "name": "stdout",
     "output_type": "stream",
     "text": [
      "Enter value for kilometers: 7.2\n",
      "7.2 kilometers is equal to 4.47 miles.\n"
     ]
    }
   ],
   "source": [
    "kilometers = float(input(\"Enter value for kilometers: \"))\n",
    "miles = kilometers * 0.621371\n",
    "print(f\"{kilometers} kilometers is equal to {round(miles,2)} miles.\")"
   ]
  },
  {
   "cell_type": "markdown",
   "id": "d105f46c",
   "metadata": {},
   "source": [
    "### 2.\tWrite a Python program to convert Celsius to Fahrenheit?"
   ]
  },
  {
   "cell_type": "code",
   "execution_count": 3,
   "id": "d7ec3a21",
   "metadata": {},
   "outputs": [
    {
     "name": "stdout",
     "output_type": "stream",
     "text": [
      "Enter value for celsius: 6\n",
      "6.0 celsius is equal to 42.8 fahrenheit\n"
     ]
    }
   ],
   "source": [
    "celsius = float(input(\"Enter value for celsius: \"))\n",
    "fahrenheit= (celsius * 9/5) + 32\n",
    "print(f'{celsius} celsius is equal to {fahrenheit} fahrenheit')"
   ]
  },
  {
   "cell_type": "markdown",
   "id": "8a727aa2",
   "metadata": {},
   "source": [
    "### 3.\tWrite a Python program to display calendar?"
   ]
  },
  {
   "cell_type": "code",
   "execution_count": 5,
   "id": "264a3a12",
   "metadata": {},
   "outputs": [
    {
     "name": "stdout",
     "output_type": "stream",
     "text": [
      "Enter year: 2022\n",
      "Enter month number: 1\n",
      "    January 2022\n",
      "Mo Tu We Th Fr Sa Su\n",
      "                1  2\n",
      " 3  4  5  6  7  8  9\n",
      "10 11 12 13 14 15 16\n",
      "17 18 19 20 21 22 23\n",
      "24 25 26 27 28 29 30\n",
      "31\n",
      "\n"
     ]
    }
   ],
   "source": [
    "import calendar\n",
    "year = int(input(\"Enter year: \"))\n",
    "month = int(input(\"Enter month number: \"))\n",
    "print(calendar.month(year,month))"
   ]
  },
  {
   "cell_type": "markdown",
   "id": "b88fbf32",
   "metadata": {},
   "source": [
    "### 4.\tWrite a Python program to solve quadratic equation?"
   ]
  },
  {
   "cell_type": "code",
   "execution_count": 7,
   "id": "ba284d54",
   "metadata": {},
   "outputs": [
    {
     "name": "stdout",
     "output_type": "stream",
     "text": [
      "Enter value for a: 1\n",
      "Enter value for b: 2\n",
      "Enter value for c: 3\n",
      "The values for the quadratic equation are (-1+1.4142135623730951j) and (-1-1.4142135623730951j)\n"
     ]
    }
   ],
   "source": [
    "# Quadratic equation looks like ax^2+bx+c=0\n",
    "# where a,b,c are coefficient and real numbers\n",
    "# if a is equal to 0 then it is not a valid quadratic equation.\n",
    "import cmath\n",
    "a = int(input(\"Enter value for a: \"))\n",
    "b = int(input(\"Enter value for b: \"))\n",
    "c = int(input(\"Enter value for c: \"))\n",
    "\n",
    "disc = (b * b) - (4 * a * c)\n",
    "if a == 0:\n",
    "    print(\"a should not be equal to zero\")\n",
    "else:\n",
    "    value1 = (-b + cmath.sqrt(disc))/(2 * a)\n",
    "    value2 = (-b - cmath.sqrt(disc))/(2 * a)\n",
    "    print(f\"The values for the quadratic equation are {value1} and {value2}\")"
   ]
  },
  {
   "cell_type": "markdown",
   "id": "0a4c202d",
   "metadata": {},
   "source": [
    "### 5.\tWrite a Python program to swap two variables without temp variable?"
   ]
  },
  {
   "cell_type": "code",
   "execution_count": 8,
   "id": "2938585c",
   "metadata": {},
   "outputs": [
    {
     "name": "stdout",
     "output_type": "stream",
     "text": [
      "Enter first number: 1\n",
      "Enter second number: 2\n",
      "Before swapping first value: 1\n",
      "Before swapping second value: 2\n",
      "After swapping first value: 2\n",
      "After swapping second value: 1\n"
     ]
    }
   ],
   "source": [
    "first_val = int(input(\"Enter first number: \"))\n",
    "second_val = int(input(\"Enter second number: \"))\n",
    "print(f\"Before swapping first value: {first_val}\")\n",
    "print(f\"Before swapping second value: {second_val}\")\n",
    "first_val, second_val = second_val,first_val\n",
    "print(f\"After swapping first value: {first_val}\")\n",
    "print(f\"After swapping second value: {second_val}\")"
   ]
  },
  {
   "cell_type": "code",
   "execution_count": null,
   "id": "0e7ee802",
   "metadata": {},
   "outputs": [],
   "source": []
  }
 ],
 "metadata": {
  "kernelspec": {
   "display_name": "Python 3 (ipykernel)",
   "language": "python",
   "name": "python3"
  },
  "language_info": {
   "codemirror_mode": {
    "name": "ipython",
    "version": 3
   },
   "file_extension": ".py",
   "mimetype": "text/x-python",
   "name": "python",
   "nbconvert_exporter": "python",
   "pygments_lexer": "ipython3",
   "version": "3.9.7"
  }
 },
 "nbformat": 4,
 "nbformat_minor": 5
}
