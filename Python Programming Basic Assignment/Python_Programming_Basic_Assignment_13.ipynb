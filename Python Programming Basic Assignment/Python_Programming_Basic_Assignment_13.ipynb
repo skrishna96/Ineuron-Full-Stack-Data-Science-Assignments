{
 "cells": [
  {
   "cell_type": "markdown",
   "id": "dd15a619",
   "metadata": {},
   "source": [
    "### Question 1:\n",
    "### Write a program that calculates and prints the value according to the given formula:\n",
    "### Q = Square root of [(2 * C * D)/H]\n",
    "### Following are the fixed values of C and H:\n",
    "### C is 50. H is 30.\n",
    "### D is the variable whose values should be input to your program in a comma-separated sequence.\n",
    "### Example\n",
    "### Let us assume the following comma separated input sequence is given to the program:\n",
    "### 100,150,180\n",
    "### The output of the program should be:\n",
    "### 18,22,24"
   ]
  },
  {
   "cell_type": "code",
   "execution_count": 15,
   "id": "7cb4e4f4",
   "metadata": {},
   "outputs": [
    {
     "name": "stdout",
     "output_type": "stream",
     "text": [
      "Enter input: 100,150,180\n",
      "18,22,24\n"
     ]
    }
   ],
   "source": [
    "import math\n",
    "def squareRoot():\n",
    "    D = input(\"Enter input: \").split(\",\")\n",
    "    C = 50\n",
    "    H = 30\n",
    "    lst = []\n",
    "    for i in D:\n",
    "        Q = str(int(math.sqrt((2 * C * int(i)) / H)))\n",
    "        lst.append(Q)\n",
    "    print(','.join(lst))\n",
    "squareRoot()"
   ]
  },
  {
   "cell_type": "markdown",
   "id": "1b1476c6",
   "metadata": {},
   "source": [
    "### Question 2:\n",
    "### Write a program which takes 2 digits, X,Y as input and generates a 2-dimensional array. The element value in the i-th row and j-th column of the array should be i*j.\n",
    "### Note: i=0,1.., X-1; j=0,1,¡¬Y-1.\n",
    "### Example\n",
    "### Suppose the following inputs are given to the program:\n",
    "### 3,5\n",
    "### Then, the output of the program should be:\n",
    "### [[0, 0, 0, 0, 0], [0, 1, 2, 3, 4], [0, 2, 4, 6, 8]] "
   ]
  },
  {
   "cell_type": "code",
   "execution_count": 21,
   "id": "1b8795a2",
   "metadata": {},
   "outputs": [
    {
     "name": "stdout",
     "output_type": "stream",
     "text": [
      "Enter input: 3,5\n",
      "[[0, 0, 0, 0, 0], [0, 1, 2, 3, 4], [0, 2, 4, 6, 8]]\n"
     ]
    }
   ],
   "source": [
    "n = input(\"Enter input: \").split(\",\")\n",
    "matrix = []\n",
    "for i in range(int(n[0])):\n",
    "    matrix.insert(i,[])\n",
    "    for j in range(int(n[1])):\n",
    "        matrix[i].append(i * j)\n",
    "print(matrix)"
   ]
  },
  {
   "cell_type": "markdown",
   "id": "514e9d33",
   "metadata": {},
   "source": [
    "### Question 3:\n",
    "### Write a program that accepts a comma separated sequence of words as input and prints the words in a comma-separated sequence after sorting them alphabetically.\n",
    "### Suppose the following input is supplied to the program:\n",
    "### without,hello,bag,world\n",
    "### Then, the output should be:\n",
    "### bag,hello,without,world"
   ]
  },
  {
   "cell_type": "code",
   "execution_count": 24,
   "id": "0d01feea",
   "metadata": {},
   "outputs": [
    {
     "name": "stdout",
     "output_type": "stream",
     "text": [
      "Enter words: without,hello,bag,world\n",
      "bag,hello,without,world\n"
     ]
    }
   ],
   "source": [
    "words = input(\"Enter words: \").split(\",\")\n",
    "print(\",\".join(sorted(words)))"
   ]
  },
  {
   "cell_type": "markdown",
   "id": "9278b4ee",
   "metadata": {},
   "source": [
    "### Question 4:\n",
    "### Write a program that accepts a sequence of whitespace separated words as input and prints the words after removing all duplicate words and sorting them alphanumerically.\n",
    "### Suppose the following input is supplied to the program:\n",
    "### hello world and practice makes perfect and hello world again\n",
    "### Then, the output should be:\n",
    "### again and hello makes perfect practice world"
   ]
  },
  {
   "cell_type": "code",
   "execution_count": 26,
   "id": "30f2ff0d",
   "metadata": {},
   "outputs": [
    {
     "name": "stdout",
     "output_type": "stream",
     "text": [
      "Enter input: hello world and practice makes perfect and hello world again\n",
      "again and hello makes perfect practice world\n"
     ]
    }
   ],
   "source": [
    "sentence = input(\"Enter input: \").split(\" \")\n",
    "print(\" \".join(sorted(set(sentence))))"
   ]
  },
  {
   "cell_type": "markdown",
   "id": "4382b9e4",
   "metadata": {},
   "source": [
    "### Question 5:\n",
    "### Write a program that accepts a sentence and calculate the number of letters and digits.\n",
    "### Suppose the following input is supplied to the program:\n",
    "### hello world! 123\n",
    "### Then, the output should be:\n",
    "### LETTERS 10\n",
    "### DIGITS 3"
   ]
  },
  {
   "cell_type": "code",
   "execution_count": 30,
   "id": "a0e1d761",
   "metadata": {},
   "outputs": [
    {
     "name": "stdout",
     "output_type": "stream",
     "text": [
      "Enter words: hello world! 123\n",
      "LETTERS 10\n",
      "DIGITS 3\n"
     ]
    }
   ],
   "source": [
    "letters_list = 'ABCDEFGHIJKLMNOPQRSTUVWXYZabcdefghijklmnopqrstuvwxyz'\n",
    "digits_list = '0123456789'\n",
    "letters = 0\n",
    "digits = 0\n",
    "words = input(\"Enter words: \")\n",
    "for i in words:\n",
    "    if i in letters_list:\n",
    "        letters += 1\n",
    "    elif i in digits_list:\n",
    "        digits += 1\n",
    "print(f'LETTERS {letters}')\n",
    "print(f'DIGITS {digits}')"
   ]
  },
  {
   "cell_type": "markdown",
   "id": "458d77ec",
   "metadata": {},
   "source": [
    "### Question 6:\n",
    "### A website requires the users to input username and password to register. Write a program to check the validity of password input by users.\n",
    "### Following are the criteria for checking the password:\n",
    "#### 1. At least 1 letter between [a-z]\n",
    "#### 2. At least 1 number between [0-9]\n",
    "#### 1. At least 1 letter between [A-Z]\n",
    "#### 3. At least 1 character from [$#@]\n",
    "\n",
    "#### 4. Minimum length of transaction password: 6\n",
    "#### 5. Maximum length of transaction password: 12\n",
    "### Your program should accept a sequence of comma separated passwords and will check them according to the above criteria. Passwords that match the criteria are to be printed, each separated by a comma.\n",
    "### Example\n",
    "### If the following passwords are given as input to the program:\n",
    "#### ABd1234@1,a F1#,2w3E*,2We3345\n",
    "#### Then, the output of the program should be:\n",
    "#### ABd1234@1"
   ]
  },
  {
   "cell_type": "code",
   "execution_count": 31,
   "id": "2b8b8f29",
   "metadata": {},
   "outputs": [
    {
     "name": "stdout",
     "output_type": "stream",
     "text": [
      "Enter password: ABd1234@1,a F1#,2w3E*,2We3345\n",
      "ABd1234@1\n"
     ]
    }
   ],
   "source": [
    "cap_letters_list = 'ABCDEFGHIJKLMNOPQRSTUVWXYZ'\n",
    "small_letters_list = 'abcdefghijklmnopqrstuvwxyz'\n",
    "numbers_list = '0123456789'\n",
    "special_char_list = '$#@'\n",
    "password_list = input(\"Enter password: \").split(\",\")\n",
    "for password in password_list:\n",
    "    capitals = small = numbers = spchar = 0\n",
    "    if len(password) >= 6 and len(password) <= 12:\n",
    "        for character in password:\n",
    "            if character in cap_letters_list:\n",
    "                capitals += 1\n",
    "            elif character in small_letters_list:\n",
    "                small += 1\n",
    "            elif character in numbers_list:\n",
    "                numbers += 1\n",
    "            elif character in special_char_list:\n",
    "                spchar += 1\n",
    "        if capitals >= 1 and small >= 1 and numbers >= 1  and spchar >= 1:\n",
    "            print(password)"
   ]
  },
  {
   "cell_type": "code",
   "execution_count": null,
   "id": "300efd47",
   "metadata": {},
   "outputs": [],
   "source": []
  }
 ],
 "metadata": {
  "kernelspec": {
   "display_name": "Python 3 (ipykernel)",
   "language": "python",
   "name": "python3"
  },
  "language_info": {
   "codemirror_mode": {
    "name": "ipython",
    "version": 3
   },
   "file_extension": ".py",
   "mimetype": "text/x-python",
   "name": "python",
   "nbconvert_exporter": "python",
   "pygments_lexer": "ipython3",
   "version": "3.9.7"
  }
 },
 "nbformat": 4,
 "nbformat_minor": 5
}
