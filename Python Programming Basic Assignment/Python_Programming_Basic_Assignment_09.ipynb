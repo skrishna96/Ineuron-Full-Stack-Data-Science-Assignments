{
 "cells": [
  {
   "cell_type": "markdown",
   "id": "38e6ec86",
   "metadata": {},
   "source": [
    "### 1.\tWrite a Python program to check if the given number is a Disarium Number?"
   ]
  },
  {
   "cell_type": "code",
   "execution_count": 6,
   "id": "e150ff06",
   "metadata": {},
   "outputs": [
    {
     "name": "stdout",
     "output_type": "stream",
     "text": [
      "Enter a number: 89\n",
      "89 is a disarium number\n"
     ]
    }
   ],
   "source": [
    "def isDisarium(num):\n",
    "    temp = num\n",
    "    numLength = len(str(num))\n",
    "    sum = rem = 0\n",
    "    while temp > 0:\n",
    "        rem = temp % 10\n",
    "        sum += pow(rem, numLength)\n",
    "        temp = temp // 10\n",
    "        numLength = numLength - 1\n",
    "    if num == sum:\n",
    "        print(f\"{num} is a disarium number\")\n",
    "    else:\n",
    "        print(f\"{num} is not a disarium number\")\n",
    "\n",
    "num = int(input(\"Enter a number: \"))\n",
    "isDisarium(num)"
   ]
  },
  {
   "cell_type": "code",
   "execution_count": 7,
   "id": "72415610",
   "metadata": {},
   "outputs": [
    {
     "name": "stdout",
     "output_type": "stream",
     "text": [
      "Enter a number: 11\n",
      "11 is not a disarium number\n"
     ]
    }
   ],
   "source": [
    "num = int(input(\"Enter a number: \"))\n",
    "isDisarium(num)"
   ]
  },
  {
   "cell_type": "markdown",
   "id": "9ca3ae4c",
   "metadata": {},
   "source": [
    "### 2.\tWrite a Python program to print all disarium numbers between 1 to 100?"
   ]
  },
  {
   "cell_type": "code",
   "execution_count": 12,
   "id": "630f6c99",
   "metadata": {},
   "outputs": [
    {
     "name": "stdout",
     "output_type": "stream",
     "text": [
      "1 2 3 4 5 6 7 8 9 89 "
     ]
    }
   ],
   "source": [
    "def isDisarium(num):\n",
    "    temp = num\n",
    "    numLength = len(str(num))\n",
    "    sum = rem = 0\n",
    "    while temp > 0:\n",
    "        rem = temp % 10\n",
    "        sum += pow(rem, numLength)\n",
    "        temp = temp // 10\n",
    "        numLength = numLength - 1\n",
    "    return sum\n",
    "for i in range(1,101):\n",
    "    result = isDisarium(i)\n",
    "    if result == i:\n",
    "        print(result, end = \" \")"
   ]
  },
  {
   "cell_type": "markdown",
   "id": "ee5652c3",
   "metadata": {},
   "source": [
    "### 3.\tWrite a Python program to check if the given number is Happy Number?"
   ]
  },
  {
   "cell_type": "code",
   "execution_count": 7,
   "id": "e63ec5f8",
   "metadata": {},
   "outputs": [
    {
     "name": "stdout",
     "output_type": "stream",
     "text": [
      "Enter a number: 82\n",
      "82 is a happy number\n"
     ]
    }
   ],
   "source": [
    "def isHappy(num):\n",
    "    sum = rem = 0\n",
    "    while num > 0:\n",
    "        rem = num % 10\n",
    "        sum += pow(rem, 2)\n",
    "        num = num // 10\n",
    "    return sum\n",
    "\n",
    "num = int(input(\"Enter a number: \"))\n",
    "result = num\n",
    "while (result != 1 and result != 4):\n",
    "    result = isHappy(result)\n",
    "if result == 1:\n",
    "    print(f\"{num} is a happy number\")\n",
    "elif result == 4:\n",
    "    print(f\"{num} is not a happy number\")"
   ]
  },
  {
   "cell_type": "markdown",
   "id": "5ec75aea",
   "metadata": {},
   "source": [
    "### 4.\tWrite a Python program to print all happy numbers between 1 and 100?"
   ]
  },
  {
   "cell_type": "code",
   "execution_count": 13,
   "id": "df16dbc0",
   "metadata": {},
   "outputs": [
    {
     "name": "stdout",
     "output_type": "stream",
     "text": [
      "1 7 10 13 19 23 28 31 32 44 49 68 70 79 82 86 91 94 97 100 "
     ]
    }
   ],
   "source": [
    "def isHappy(num):\n",
    "    sum = rem = 0\n",
    "    while num > 0:\n",
    "        rem = num % 10\n",
    "        sum += pow(rem, 2)\n",
    "        num = num // 10\n",
    "    return sum\n",
    "\n",
    "for i in range(1,101):\n",
    "    result = i\n",
    "    while (result != 1 and result != 4):\n",
    "        result = isHappy(result)\n",
    "    if result == 1:\n",
    "        print(i,end = \" \")"
   ]
  },
  {
   "cell_type": "markdown",
   "id": "ef58d0a8",
   "metadata": {},
   "source": [
    "### 5.\tWrite a Python program to determine whether the given number is a Harshad Number?"
   ]
  },
  {
   "cell_type": "code",
   "execution_count": 17,
   "id": "8b97b289",
   "metadata": {},
   "outputs": [
    {
     "name": "stdout",
     "output_type": "stream",
     "text": [
      "Enter a number: 156\n",
      "156 is a harshad number\n"
     ]
    }
   ],
   "source": [
    "# If a number is divisible by the sum of its digits, then it will be known as a Harshad Number.\n",
    "# The number 156 is divisible by the sum (12) of its digits (1, 5, 6 ).\n",
    "def isHarshad(num):\n",
    "    temp = num\n",
    "    sum = rem = 0\n",
    "    while temp > 0:\n",
    "        rem = temp % 10\n",
    "        sum = sum + rem\n",
    "        temp = temp // 10\n",
    "    if num % sum == 0:\n",
    "        print(f\"{num} is a harshad number\")\n",
    "    else:\n",
    "        print(f\"{num} is not a harshad number\")\n",
    "num = int(input(\"Enter a number: \"))\n",
    "isHarshad(num)"
   ]
  },
  {
   "cell_type": "code",
   "execution_count": 18,
   "id": "557f5f84",
   "metadata": {},
   "outputs": [
    {
     "name": "stdout",
     "output_type": "stream",
     "text": [
      "Enter a number: 121\n",
      "121 is not a harshad number\n"
     ]
    }
   ],
   "source": [
    "num = int(input(\"Enter a number: \"))\n",
    "isHarshad(num)"
   ]
  },
  {
   "cell_type": "markdown",
   "id": "619783fc",
   "metadata": {},
   "source": [
    "### 6.\tWrite a Python program to print all pronic numbers between 1 and 100?"
   ]
  },
  {
   "cell_type": "code",
   "execution_count": 25,
   "id": "64d06f86",
   "metadata": {},
   "outputs": [
    {
     "name": "stdout",
     "output_type": "stream",
     "text": [
      "2 6 12 20 30 42 56 72 90 "
     ]
    }
   ],
   "source": [
    "# The pronic number is a product of two consecutive integers of the form: n(n+1).\n",
    "def isPronic():\n",
    "    for num in range(1,101):\n",
    "        if num * (num + 1) < 100:\n",
    "            print(num * (num + 1),end=\" \")\n",
    "isPronic()"
   ]
  },
  {
   "cell_type": "code",
   "execution_count": null,
   "id": "a08eaaa2",
   "metadata": {},
   "outputs": [],
   "source": []
  }
 ],
 "metadata": {
  "kernelspec": {
   "display_name": "Python 3 (ipykernel)",
   "language": "python",
   "name": "python3"
  },
  "language_info": {
   "codemirror_mode": {
    "name": "ipython",
    "version": 3
   },
   "file_extension": ".py",
   "mimetype": "text/x-python",
   "name": "python",
   "nbconvert_exporter": "python",
   "pygments_lexer": "ipython3",
   "version": "3.9.7"
  }
 },
 "nbformat": 4,
 "nbformat_minor": 5
}
